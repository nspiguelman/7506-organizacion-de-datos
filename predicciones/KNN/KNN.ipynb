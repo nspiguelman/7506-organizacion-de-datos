{
 "cells": [
  {
   "cell_type": "markdown",
   "metadata": {},
   "source": [
    "## KNN"
   ]
  },
  {
   "cell_type": "code",
   "execution_count": 1,
   "metadata": {},
   "outputs": [],
   "source": [
    "import numpy as np\n",
    "import matplotlib.pyplot as plt\n",
    "import pandas as pd"
   ]
  },
  {
   "cell_type": "markdown",
   "metadata": {},
   "source": [
    "### Importamos los datos originales y agregamos el label"
   ]
  },
  {
   "cell_type": "code",
   "execution_count": 2,
   "metadata": {},
   "outputs": [],
   "source": [
    "df_train_values = pd.read_csv('./../datasets/train_values.csv')\n",
    "df_train_labels = pd.read_csv('./../datasets/train_labels.csv')"
   ]
  },
  {
   "cell_type": "markdown",
   "metadata": {},
   "source": [
    "### Pre-prosesamiento de datos"
   ]
  },
  {
   "cell_type": "code",
   "execution_count": 3,
   "metadata": {},
   "outputs": [
    {
     "name": "stdout",
     "output_type": "stream",
     "text": [
      "<class 'pandas.core.frame.DataFrame'>\n",
      "RangeIndex: 260601 entries, 0 to 260600\n",
      "Data columns (total 39 columns):\n",
      " #   Column                                  Non-Null Count   Dtype \n",
      "---  ------                                  --------------   ----- \n",
      " 0   building_id                             260601 non-null  int64 \n",
      " 1   geo_level_1_id                          260601 non-null  int64 \n",
      " 2   geo_level_2_id                          260601 non-null  int64 \n",
      " 3   geo_level_3_id                          260601 non-null  int64 \n",
      " 4   count_floors_pre_eq                     260601 non-null  int64 \n",
      " 5   age                                     260601 non-null  int64 \n",
      " 6   area_percentage                         260601 non-null  int64 \n",
      " 7   height_percentage                       260601 non-null  int64 \n",
      " 8   land_surface_condition                  260601 non-null  object\n",
      " 9   foundation_type                         260601 non-null  object\n",
      " 10  roof_type                               260601 non-null  object\n",
      " 11  ground_floor_type                       260601 non-null  object\n",
      " 12  other_floor_type                        260601 non-null  object\n",
      " 13  position                                260601 non-null  object\n",
      " 14  plan_configuration                      260601 non-null  object\n",
      " 15  has_superstructure_adobe_mud            260601 non-null  int64 \n",
      " 16  has_superstructure_mud_mortar_stone     260601 non-null  int64 \n",
      " 17  has_superstructure_stone_flag           260601 non-null  int64 \n",
      " 18  has_superstructure_cement_mortar_stone  260601 non-null  int64 \n",
      " 19  has_superstructure_mud_mortar_brick     260601 non-null  int64 \n",
      " 20  has_superstructure_cement_mortar_brick  260601 non-null  int64 \n",
      " 21  has_superstructure_timber               260601 non-null  int64 \n",
      " 22  has_superstructure_bamboo               260601 non-null  int64 \n",
      " 23  has_superstructure_rc_non_engineered    260601 non-null  int64 \n",
      " 24  has_superstructure_rc_engineered        260601 non-null  int64 \n",
      " 25  has_superstructure_other                260601 non-null  int64 \n",
      " 26  legal_ownership_status                  260601 non-null  object\n",
      " 27  count_families                          260601 non-null  int64 \n",
      " 28  has_secondary_use                       260601 non-null  int64 \n",
      " 29  has_secondary_use_agriculture           260601 non-null  int64 \n",
      " 30  has_secondary_use_hotel                 260601 non-null  int64 \n",
      " 31  has_secondary_use_rental                260601 non-null  int64 \n",
      " 32  has_secondary_use_institution           260601 non-null  int64 \n",
      " 33  has_secondary_use_school                260601 non-null  int64 \n",
      " 34  has_secondary_use_industry              260601 non-null  int64 \n",
      " 35  has_secondary_use_health_post           260601 non-null  int64 \n",
      " 36  has_secondary_use_gov_office            260601 non-null  int64 \n",
      " 37  has_secondary_use_use_police            260601 non-null  int64 \n",
      " 38  has_secondary_use_other                 260601 non-null  int64 \n",
      "dtypes: int64(31), object(8)\n",
      "memory usage: 77.5+ MB\n"
     ]
    }
   ],
   "source": [
    "df_train_values.info()"
   ]
  },
  {
   "cell_type": "code",
   "execution_count": 4,
   "metadata": {},
   "outputs": [],
   "source": [
    "#Selección de features\n",
    "KNN_train = df_train_values.iloc[:,:4]"
   ]
  },
  {
   "cell_type": "code",
   "execution_count": 5,
   "metadata": {},
   "outputs": [
    {
     "name": "stdout",
     "output_type": "stream",
     "text": [
      "<class 'pandas.core.frame.DataFrame'>\n",
      "RangeIndex: 260601 entries, 0 to 260600\n",
      "Data columns (total 4 columns):\n",
      " #   Column          Non-Null Count   Dtype\n",
      "---  ------          --------------   -----\n",
      " 0   building_id     260601 non-null  int64\n",
      " 1   geo_level_1_id  260601 non-null  int64\n",
      " 2   geo_level_2_id  260601 non-null  int64\n",
      " 3   geo_level_3_id  260601 non-null  int64\n",
      "dtypes: int64(4)\n",
      "memory usage: 8.0 MB\n"
     ]
    }
   ],
   "source": [
    "KNN_train.info()"
   ]
  },
  {
   "cell_type": "code",
   "execution_count": 6,
   "metadata": {},
   "outputs": [],
   "source": [
    "# Agregamos labels\n",
    "KNN_train = KNN_train.merge(df_train_labels)\n",
    "\n",
    "# Quitamos el feature 'building_id'\n",
    "KNN_train = KNN_train.iloc[:,1:]"
   ]
  },
  {
   "cell_type": "code",
   "execution_count": 7,
   "metadata": {},
   "outputs": [
    {
     "name": "stdout",
     "output_type": "stream",
     "text": [
      "<class 'pandas.core.frame.DataFrame'>\n",
      "Int64Index: 260601 entries, 0 to 260600\n",
      "Data columns (total 4 columns):\n",
      " #   Column          Non-Null Count   Dtype\n",
      "---  ------          --------------   -----\n",
      " 0   geo_level_1_id  260601 non-null  int64\n",
      " 1   geo_level_2_id  260601 non-null  int64\n",
      " 2   geo_level_3_id  260601 non-null  int64\n",
      " 3   damage_grade    260601 non-null  int64\n",
      "dtypes: int64(4)\n",
      "memory usage: 9.9 MB\n"
     ]
    }
   ],
   "source": [
    "KNN_train.info()"
   ]
  },
  {
   "cell_type": "code",
   "execution_count": 8,
   "metadata": {},
   "outputs": [],
   "source": [
    "X = KNN_train.iloc[:, :-1].values\n",
    "y = KNN_train.iloc[:, -1].values"
   ]
  },
  {
   "cell_type": "markdown",
   "metadata": {},
   "source": [
    "#### Train Test Split"
   ]
  },
  {
   "cell_type": "code",
   "execution_count": 9,
   "metadata": {},
   "outputs": [],
   "source": [
    "from sklearn.model_selection import train_test_split\n",
    "X_train, X_test, y_train, y_test = train_test_split(X, y, test_size=0.20)"
   ]
  },
  {
   "cell_type": "markdown",
   "metadata": {},
   "source": [
    "#### Feature Scaling"
   ]
  },
  {
   "cell_type": "code",
   "execution_count": 10,
   "metadata": {},
   "outputs": [],
   "source": [
    "from sklearn.preprocessing import StandardScaler\n",
    "scaler = StandardScaler()\n",
    "scaler.fit(X_train)\n",
    "\n",
    "X_train = scaler.transform(X_train)\n",
    "X_test = scaler.transform(X_test)"
   ]
  },
  {
   "cell_type": "markdown",
   "metadata": {},
   "source": [
    "#### Training and Predictions"
   ]
  },
  {
   "cell_type": "code",
   "execution_count": 11,
   "metadata": {},
   "outputs": [
    {
     "data": {
      "text/plain": [
       "KNeighborsClassifier()"
      ]
     },
     "execution_count": 11,
     "metadata": {},
     "output_type": "execute_result"
    }
   ],
   "source": [
    "from sklearn.neighbors import KNeighborsClassifier\n",
    "classifier = KNeighborsClassifier(n_neighbors=5)\n",
    "classifier.fit(X_train, y_train)"
   ]
  },
  {
   "cell_type": "code",
   "execution_count": 12,
   "metadata": {},
   "outputs": [],
   "source": [
    "y_pred = classifier.predict(X_test)"
   ]
  },
  {
   "cell_type": "markdown",
   "metadata": {},
   "source": [
    "#### Evaluating the Algorithm\n",
    "\n",
    "For evaluating an algorithm, confusion matrix, precision, recall and f1 score are the most commonly used metrics. The confusion_matrix and classification_report methods of the sklearn.metrics can be used to calculate these metrics. Take a look at the following script:"
   ]
  },
  {
   "cell_type": "code",
   "execution_count": 13,
   "metadata": {},
   "outputs": [
    {
     "name": "stdout",
     "output_type": "stream",
     "text": [
      "[[ 2095  2605   340]\n",
      " [ 1922 23371  4372]\n",
      " [  428  6679 10309]]\n",
      "              precision    recall  f1-score   support\n",
      "\n",
      "           1       0.47      0.42      0.44      5040\n",
      "           2       0.72      0.79      0.75     29665\n",
      "           3       0.69      0.59      0.64     17416\n",
      "\n",
      "    accuracy                           0.69     52121\n",
      "   macro avg       0.62      0.60      0.61     52121\n",
      "weighted avg       0.68      0.69      0.68     52121\n",
      "\n",
      "0.6863836073751463\n"
     ]
    }
   ],
   "source": [
    "from sklearn.metrics import classification_report, confusion_matrix, f1_score\n",
    "print(confusion_matrix(y_test, y_pred))\n",
    "print(classification_report(y_test, y_pred))\n",
    "print(f1_score(y_test, y_pred, average='micro'))"
   ]
  },
  {
   "cell_type": "code",
   "execution_count": null,
   "metadata": {},
   "outputs": [],
   "source": []
  },
  {
   "cell_type": "markdown",
   "metadata": {},
   "source": [
    "#### Comparing Error Rate with the K Value\n",
    "\n",
    "In the training and prediction section we said that there is no way to know beforehand which value of K that yields the best results in the first go. We randomly chose 5 as the K value and it just happen to result in 100% accuracy.\n",
    "\n",
    "One way to help you find the best value of K is to plot the graph of K value and the corresponding error rate for the dataset.\n",
    "\n",
    "In this section, we will plot the mean error for the predicted values of test set for all the K values between 1 and 40.\n",
    "\n",
    "To do so, let's first calculate the mean of error for all the predicted values where K ranges from 1 and 40. Execute the following script:"
   ]
  },
  {
   "cell_type": "code",
   "execution_count": 14,
   "metadata": {},
   "outputs": [],
   "source": [
    "error = []\n",
    "\n",
    "# Calculating error for K values between 1 and 40\n",
    "for i in range(1, 40):\n",
    "    knn = KNeighborsClassifier(n_neighbors=i)\n",
    "    knn.fit(X_train, y_train)\n",
    "    pred_i = knn.predict(X_test)\n",
    "    error.append(np.mean(pred_i != y_test))"
   ]
  },
  {
   "cell_type": "markdown",
   "metadata": {},
   "source": [
    "The next step is to plot the error values against K values. Execute the following script to create the plot:"
   ]
  },
  {
   "cell_type": "code",
   "execution_count": 15,
   "metadata": {},
   "outputs": [
    {
     "data": {
      "text/plain": [
       "Text(0, 0.5, 'Mean Error')"
      ]
     },
     "execution_count": 15,
     "metadata": {},
     "output_type": "execute_result"
    },
    {
     "data": {
      "image/png": "[encoded data removed]",
      "text/plain": [
       "<Figure size 864x432 with 1 Axes>"
      ]
     },
     "metadata": {
      "needs_background": "light"
     },
     "output_type": "display_data"
    }
   ],
   "source": [
    "plt.figure(figsize=(12, 6))\n",
    "plt.plot(range(1, 40), error, color='red', linestyle='dashed', marker='o',\n",
    "         markerfacecolor='blue', markersize=10)\n",
    "plt.title('Error Rate K Value')\n",
    "plt.xlabel('K Value')\n",
    "plt.ylabel('Mean Error')\n"
   ]
  },
  {
   "cell_type": "markdown",
   "metadata": {},
   "source": [
    "#### Training and Predictions con K=18"
   ]
  },
  {
   "cell_type": "code",
   "execution_count": 16,
   "metadata": {},
   "outputs": [
    {
     "data": {
      "text/plain": [
       "KNeighborsClassifier(n_neighbors=18)"
      ]
     },
     "execution_count": 16,
     "metadata": {},
     "output_type": "execute_result"
    }
   ],
   "source": [
    "classifier = KNeighborsClassifier(n_neighbors=18)\n",
    "classifier.fit(X_train, y_train)"
   ]
  },
  {
   "cell_type": "code",
   "execution_count": 17,
   "metadata": {},
   "outputs": [],
   "source": [
    "y_pred = classifier.predict(X_test)"
   ]
  },
  {
   "cell_type": "markdown",
   "metadata": {},
   "source": [
    "#### Evaluating the Algorithm"
   ]
  },
  {
   "cell_type": "code",
   "execution_count": 18,
   "metadata": {},
   "outputs": [
    {
     "name": "stdout",
     "output_type": "stream",
     "text": [
      "[[ 1788  2896   356]\n",
      " [ 1174 25017  3474]\n",
      " [  257  7022 10137]]\n",
      "              precision    recall  f1-score   support\n",
      "\n",
      "           1       0.56      0.35      0.43      5040\n",
      "           2       0.72      0.84      0.77     29665\n",
      "           3       0.73      0.58      0.65     17416\n",
      "\n",
      "    accuracy                           0.71     52121\n",
      "   macro avg       0.67      0.59      0.62     52121\n",
      "weighted avg       0.70      0.71      0.70     52121\n",
      "\n",
      "0.7087738147771532\n"
     ]
    }
   ],
   "source": [
    "from sklearn.metrics import classification_report, confusion_matrix, f1_score\n",
    "print(confusion_matrix(y_test, y_pred))\n",
    "print(classification_report(y_test, y_pred))\n",
    "print(f1_score(y_test, y_pred, average='micro'))"
   ]
  },
  {
   "cell_type": "markdown",
   "metadata": {},
   "source": [
    "### Competencia: Predict and Submit"
   ]
  },
  {
   "cell_type": "code",
   "execution_count": 19,
   "metadata": {},
   "outputs": [],
   "source": [
    "test_values = pd.read_csv('./../datasets/test_values.csv')"
   ]
  },
  {
   "cell_type": "markdown",
   "metadata": {},
   "source": [
    "#### Pre_procesamiento del set de test (competencia)"
   ]
  },
  {
   "cell_type": "code",
   "execution_count": 20,
   "metadata": {},
   "outputs": [],
   "source": [
    "#Selección de features\n",
    "test_values = test_values.iloc[:,:4]\n",
    "# Quitamos el feature 'building_id'\n",
    "test_values = test_values.iloc[:,1:]"
   ]
  },
  {
   "cell_type": "code",
   "execution_count": 21,
   "metadata": {},
   "outputs": [
    {
     "name": "stdout",
     "output_type": "stream",
     "text": [
      "<class 'pandas.core.frame.DataFrame'>\n",
      "RangeIndex: 86868 entries, 0 to 86867\n",
      "Data columns (total 3 columns):\n",
      " #   Column          Non-Null Count  Dtype\n",
      "---  ------          --------------  -----\n",
      " 0   geo_level_1_id  86868 non-null  int64\n",
      " 1   geo_level_2_id  86868 non-null  int64\n",
      " 2   geo_level_3_id  86868 non-null  int64\n",
      "dtypes: int64(3)\n",
      "memory usage: 2.0 MB\n"
     ]
    }
   ],
   "source": [
    "test_values.info()"
   ]
  },
  {
   "cell_type": "code",
   "execution_count": 22,
   "metadata": {},
   "outputs": [],
   "source": [
    "y_pred = classifier.predict(test_values)"
   ]
  },
  {
   "cell_type": "code",
   "execution_count": 23,
   "metadata": {},
   "outputs": [],
   "source": [
    "submission_format = pd.read_csv('./../datasets/submission_format.csv', index_col='building_id')"
   ]
  },
  {
   "cell_type": "code",
   "execution_count": 24,
   "metadata": {},
   "outputs": [],
   "source": [
    "our_submission = pd.DataFrame(data=y_pred,\n",
    "                             columns=submission_format.columns,\n",
    "                             index=submission_format.index)"
   ]
  },
  {
   "cell_type": "code",
   "execution_count": 25,
   "metadata": {},
   "outputs": [
    {
     "data": {
      "text/html": [
       "<div>\n",
       "<style scoped>\n",
       "    .dataframe tbody tr th:only-of-type {\n",
       "        vertical-align: middle;\n",
       "    }\n",
       "\n",
       "    .dataframe tbody tr th {\n",
       "        vertical-align: top;\n",
       "    }\n",
       "\n",
       "    .dataframe thead th {\n",
       "        text-align: right;\n",
       "    }\n",
       "</style>\n",
       "<table border=\"1\" class=\"dataframe\">\n",
       "  <thead>\n",
       "    <tr style=\"text-align: right;\">\n",
       "      <th></th>\n",
       "      <th>damage_grade</th>\n",
       "    </tr>\n",
       "    <tr>\n",
       "      <th>building_id</th>\n",
       "      <th></th>\n",
       "    </tr>\n",
       "  </thead>\n",
       "  <tbody>\n",
       "    <tr>\n",
       "      <th>300051</th>\n",
       "      <td>1</td>\n",
       "    </tr>\n",
       "    <tr>\n",
       "      <th>99355</th>\n",
       "      <td>1</td>\n",
       "    </tr>\n",
       "  </tbody>\n",
       "</table>\n",
       "</div>"
      ],
      "text/plain": [
       "             damage_grade\n",
       "building_id              \n",
       "300051                  1\n",
       "99355                   1"
      ]
     },
     "execution_count": 25,
     "metadata": {},
     "output_type": "execute_result"
    }
   ],
   "source": [
    "our_submission.head(2)"
   ]
  },
  {
   "cell_type": "code",
   "execution_count": 26,
   "metadata": {},
   "outputs": [],
   "source": [
    "our_submission.to_csv('submission.csv')"
   ]
  },
  {
   "cell_type": "code",
   "execution_count": 27,
   "metadata": {},
   "outputs": [
    {
     "name": "stdout",
     "output_type": "stream",
     "text": [
      "building_id,damage_grade\n",
      "300051,1\n",
      "99355,1\n",
      "890251,2\n",
      "745817,2\n",
      "421793,1\n",
      "871976,2\n",
      "691228,2\n",
      "896100,2\n",
      "343471,2\n"
     ]
    }
   ],
   "source": [
    "!head submission.csv"
   ]
  },
  {
   "cell_type": "markdown",
   "metadata": {},
   "source": [
    "#### Resultado Submit muy bajo (overfiting)"
   ]
  },
  {
   "cell_type": "markdown",
   "metadata": {},
   "source": [
    "### Prueba diferentes features"
   ]
  },
  {
   "cell_type": "markdown",
   "metadata": {},
   "source": [
    "#### KNN - FE1"
   ]
  },
  {
   "cell_type": "code",
   "execution_count": 28,
   "metadata": {},
   "outputs": [
    {
     "name": "stdout",
     "output_type": "stream",
     "text": [
      "<class 'pandas.core.frame.DataFrame'>\n",
      "RangeIndex: 260601 entries, 0 to 260600\n",
      "Data columns (total 69 columns):\n",
      " #   Column                                  Non-Null Count   Dtype\n",
      "---  ------                                  --------------   -----\n",
      " 0   building_id                             260601 non-null  int64\n",
      " 1   geo_level_1_id                          260601 non-null  int64\n",
      " 2   geo_level_2_id                          260601 non-null  int64\n",
      " 3   geo_level_3_id                          260601 non-null  int64\n",
      " 4   count_floors_pre_eq                     260601 non-null  int64\n",
      " 5   age                                     260601 non-null  int64\n",
      " 6   area_percentage                         260601 non-null  int64\n",
      " 7   height_percentage                       260601 non-null  int64\n",
      " 8   has_superstructure_adobe_mud            260601 non-null  int64\n",
      " 9   has_superstructure_mud_mortar_stone     260601 non-null  int64\n",
      " 10  has_superstructure_stone_flag           260601 non-null  int64\n",
      " 11  has_superstructure_cement_mortar_stone  260601 non-null  int64\n",
      " 12  has_superstructure_mud_mortar_brick     260601 non-null  int64\n",
      " 13  has_superstructure_cement_mortar_brick  260601 non-null  int64\n",
      " 14  has_superstructure_timber               260601 non-null  int64\n",
      " 15  has_superstructure_bamboo               260601 non-null  int64\n",
      " 16  has_superstructure_rc_non_engineered    260601 non-null  int64\n",
      " 17  has_superstructure_rc_engineered        260601 non-null  int64\n",
      " 18  has_superstructure_other                260601 non-null  int64\n",
      " 19  count_families                          260601 non-null  int64\n",
      " 20  has_secondary_use                       260601 non-null  int64\n",
      " 21  has_secondary_use_agriculture           260601 non-null  int64\n",
      " 22  has_secondary_use_hotel                 260601 non-null  int64\n",
      " 23  has_secondary_use_rental                260601 non-null  int64\n",
      " 24  has_secondary_use_institution           260601 non-null  int64\n",
      " 25  has_secondary_use_school                260601 non-null  int64\n",
      " 26  has_secondary_use_industry              260601 non-null  int64\n",
      " 27  has_secondary_use_health_post           260601 non-null  int64\n",
      " 28  has_secondary_use_gov_office            260601 non-null  int64\n",
      " 29  has_secondary_use_use_police            260601 non-null  int64\n",
      " 30  has_secondary_use_other                 260601 non-null  int64\n",
      " 31  land_surface_condition_n                260601 non-null  uint8\n",
      " 32  land_surface_condition_o                260601 non-null  uint8\n",
      " 33  land_surface_condition_t                260601 non-null  uint8\n",
      " 34  foundation_type_h                       260601 non-null  uint8\n",
      " 35  foundation_type_i                       260601 non-null  uint8\n",
      " 36  foundation_type_r                       260601 non-null  uint8\n",
      " 37  foundation_type_u                       260601 non-null  uint8\n",
      " 38  foundation_type_w                       260601 non-null  uint8\n",
      " 39  roof_type_n                             260601 non-null  uint8\n",
      " 40  roof_type_q                             260601 non-null  uint8\n",
      " 41  roof_type_x                             260601 non-null  uint8\n",
      " 42  ground_floor_type_f                     260601 non-null  uint8\n",
      " 43  ground_floor_type_m                     260601 non-null  uint8\n",
      " 44  ground_floor_type_v                     260601 non-null  uint8\n",
      " 45  ground_floor_type_x                     260601 non-null  uint8\n",
      " 46  ground_floor_type_z                     260601 non-null  uint8\n",
      " 47  other_floor_type_j                      260601 non-null  uint8\n",
      " 48  other_floor_type_q                      260601 non-null  uint8\n",
      " 49  other_floor_type_s                      260601 non-null  uint8\n",
      " 50  other_floor_type_x                      260601 non-null  uint8\n",
      " 51  position_j                              260601 non-null  uint8\n",
      " 52  position_o                              260601 non-null  uint8\n",
      " 53  position_s                              260601 non-null  uint8\n",
      " 54  position_t                              260601 non-null  uint8\n",
      " 55  plan_configuration_a                    260601 non-null  uint8\n",
      " 56  plan_configuration_c                    260601 non-null  uint8\n",
      " 57  plan_configuration_d                    260601 non-null  uint8\n",
      " 58  plan_configuration_f                    260601 non-null  uint8\n",
      " 59  plan_configuration_m                    260601 non-null  uint8\n",
      " 60  plan_configuration_n                    260601 non-null  uint8\n",
      " 61  plan_configuration_o                    260601 non-null  uint8\n",
      " 62  plan_configuration_q                    260601 non-null  uint8\n",
      " 63  plan_configuration_s                    260601 non-null  uint8\n",
      " 64  plan_configuration_u                    260601 non-null  uint8\n",
      " 65  legal_ownership_status_a                260601 non-null  uint8\n",
      " 66  legal_ownership_status_r                260601 non-null  uint8\n",
      " 67  legal_ownership_status_v                260601 non-null  uint8\n",
      " 68  legal_ownership_status_w                260601 non-null  uint8\n",
      "dtypes: int64(31), uint8(38)\n",
      "memory usage: 71.1 MB\n"
     ]
    }
   ],
   "source": [
    "#Realizamos One-Hot Encoding de los datos de tipo category y object\n",
    "KNN_train = pd.get_dummies(df_train_values)\n",
    "KNN_train.info()"
   ]
  },
  {
   "cell_type": "code",
   "execution_count": 29,
   "metadata": {},
   "outputs": [],
   "source": [
    "#Seleccionamos los features\n",
    "selected_features = ['building_id',\n",
    "                      'geo_level_1_id',\n",
    "                       'geo_level_2_id',\n",
    "#                       'geo_level_3_id',\n",
    "                       'age',\n",
    "                       'area_percentage',\n",
    "                       'height_percentage',\n",
    "                       'has_superstructure_cement_mortar_stone']\n",
    "    #                   'foundation_type_r']\n",
    "#                       'ground_floor_type_v',\n",
    " #                      'count_floors_pre_eq',\n",
    "  #                     'has_superstructure_mud_mortar_brick',\n",
    "   #                    'roof_type_x',\n",
    "    #                   'count_families',\n",
    "     #                  'foundation_type_i',\n",
    "      #                 'has_superstructure_timber'   ]\n",
    "\n",
    "\n",
    "\n",
    "KNN_train_subset = KNN_train[selected_features]"
   ]
  },
  {
   "cell_type": "code",
   "execution_count": 30,
   "metadata": {},
   "outputs": [
    {
     "name": "stdout",
     "output_type": "stream",
     "text": [
      "<class 'pandas.core.frame.DataFrame'>\n",
      "RangeIndex: 260601 entries, 0 to 260600\n",
      "Data columns (total 7 columns):\n",
      " #   Column                                  Non-Null Count   Dtype\n",
      "---  ------                                  --------------   -----\n",
      " 0   building_id                             260601 non-null  int64\n",
      " 1   geo_level_1_id                          260601 non-null  int64\n",
      " 2   geo_level_2_id                          260601 non-null  int64\n",
      " 3   age                                     260601 non-null  int64\n",
      " 4   area_percentage                         260601 non-null  int64\n",
      " 5   height_percentage                       260601 non-null  int64\n",
      " 6   has_superstructure_cement_mortar_stone  260601 non-null  int64\n",
      "dtypes: int64(7)\n",
      "memory usage: 13.9 MB\n"
     ]
    }
   ],
   "source": [
    "KNN_train_subset.info()"
   ]
  },
  {
   "cell_type": "code",
   "execution_count": 31,
   "metadata": {},
   "outputs": [],
   "source": [
    "# Agregamos labels\n",
    "KNN_train_subset = KNN_train_subset.merge(df_train_labels)\n",
    "\n",
    "# Quitamos el feature 'building_id'\n",
    "KNN_train_subset = KNN_train_subset.iloc[:,1:]"
   ]
  },
  {
   "cell_type": "code",
   "execution_count": 32,
   "metadata": {},
   "outputs": [
    {
     "name": "stdout",
     "output_type": "stream",
     "text": [
      "<class 'pandas.core.frame.DataFrame'>\n",
      "Int64Index: 260601 entries, 0 to 260600\n",
      "Data columns (total 7 columns):\n",
      " #   Column                                  Non-Null Count   Dtype\n",
      "---  ------                                  --------------   -----\n",
      " 0   geo_level_1_id                          260601 non-null  int64\n",
      " 1   geo_level_2_id                          260601 non-null  int64\n",
      " 2   age                                     260601 non-null  int64\n",
      " 3   area_percentage                         260601 non-null  int64\n",
      " 4   height_percentage                       260601 non-null  int64\n",
      " 5   has_superstructure_cement_mortar_stone  260601 non-null  int64\n",
      " 6   damage_grade                            260601 non-null  int64\n",
      "dtypes: int64(7)\n",
      "memory usage: 15.9 MB\n"
     ]
    }
   ],
   "source": [
    "KNN_train_subset.info()"
   ]
  },
  {
   "cell_type": "code",
   "execution_count": 33,
   "metadata": {},
   "outputs": [],
   "source": [
    "X = KNN_train_subset.iloc[:, :-1].values\n",
    "y = KNN_train_subset.iloc[:, -1].values"
   ]
  },
  {
   "cell_type": "markdown",
   "metadata": {},
   "source": [
    "#### Train Test Split"
   ]
  },
  {
   "cell_type": "code",
   "execution_count": 34,
   "metadata": {},
   "outputs": [],
   "source": [
    "from sklearn.model_selection import train_test_split\n",
    "X_train, X_test, y_train, y_test = train_test_split(X, y, test_size=0.20)"
   ]
  },
  {
   "cell_type": "markdown",
   "metadata": {},
   "source": [
    "#### Feature Scaling"
   ]
  },
  {
   "cell_type": "code",
   "execution_count": 35,
   "metadata": {},
   "outputs": [],
   "source": [
    "from sklearn.preprocessing import StandardScaler\n",
    "scaler = StandardScaler()\n",
    "scaler.fit(X_train)\n",
    "\n",
    "X_train = scaler.transform(X_train)\n",
    "X_test = scaler.transform(X_test)"
   ]
  },
  {
   "cell_type": "markdown",
   "metadata": {},
   "source": [
    "#### Training and Predictions"
   ]
  },
  {
   "cell_type": "code",
   "execution_count": 36,
   "metadata": {},
   "outputs": [
    {
     "data": {
      "text/plain": [
       "KNeighborsClassifier()"
      ]
     },
     "execution_count": 36,
     "metadata": {},
     "output_type": "execute_result"
    }
   ],
   "source": [
    "from sklearn.neighbors import KNeighborsClassifier\n",
    "classifier = KNeighborsClassifier(n_neighbors=5)\n",
    "classifier.fit(X_train, y_train)"
   ]
  },
  {
   "cell_type": "code",
   "execution_count": 37,
   "metadata": {},
   "outputs": [],
   "source": [
    "y_pred = classifier.predict(X_test)"
   ]
  },
  {
   "cell_type": "markdown",
   "metadata": {},
   "source": [
    "#### Evaluating the Algorithm\n",
    "\n",
    "For evaluating an algorithm, confusion matrix, precision, recall and f1 score are the most commonly used metrics. The confusion_matrix and classification_report methods of the sklearn.metrics can be used to calculate these metrics. Take a look at the following script:"
   ]
  },
  {
   "cell_type": "code",
   "execution_count": 38,
   "metadata": {},
   "outputs": [
    {
     "name": "stdout",
     "output_type": "stream",
     "text": [
      "[[ 1930  2799   302]\n",
      " [ 2104 22027  5417]\n",
      " [  470  7586  9486]]\n",
      "              precision    recall  f1-score   support\n",
      "\n",
      "           1       0.43      0.38      0.40      5031\n",
      "           2       0.68      0.75      0.71     29548\n",
      "           3       0.62      0.54      0.58     17542\n",
      "\n",
      "    accuracy                           0.64     52121\n",
      "   macro avg       0.58      0.56      0.57     52121\n",
      "weighted avg       0.64      0.64      0.64     52121\n",
      "\n",
      "0.641641564820322\n"
     ]
    }
   ],
   "source": [
    "from sklearn.metrics import classification_report, confusion_matrix, f1_score\n",
    "print(confusion_matrix(y_test, y_pred))\n",
    "print(classification_report(y_test, y_pred))\n",
    "print(f1_score(y_test, y_pred, average='micro'))"
   ]
  },
  {
   "cell_type": "markdown",
   "metadata": {},
   "source": [
    "#### Comparing Error Rate with the K Value\n",
    "\n",
    "In the training and prediction section we said that there is no way to know beforehand which value of K that yields the best results in the first go. We randomly chose 5 as the K value and it just happen to result in 100% accuracy.\n",
    "\n",
    "One way to help you find the best value of K is to plot the graph of K value and the corresponding error rate for the dataset.\n",
    "\n",
    "In this section, we will plot the mean error for the predicted values of test set for all the K values between 1 and 40.\n",
    "\n",
    "To do so, let's first calculate the mean of error for all the predicted values where K ranges from 1 and 40. Execute the following script:"
   ]
  },
  {
   "cell_type": "code",
   "execution_count": 39,
   "metadata": {},
   "outputs": [],
   "source": [
    "error = []\n",
    "\n",
    "# Calculating error for K values between 1 and 40\n",
    "for i in range(1, 40):\n",
    "    knn = KNeighborsClassifier(n_neighbors=i)\n",
    "    knn.fit(X_train, y_train)\n",
    "    pred_i = knn.predict(X_test)\n",
    "    error.append(np.mean(pred_i != y_test))"
   ]
  },
  {
   "cell_type": "markdown",
   "metadata": {},
   "source": [
    "The next step is to plot the error values against K values. Execute the following script to create the plot:"
   ]
  },
  {
   "cell_type": "code",
   "execution_count": 40,
   "metadata": {},
   "outputs": [
    {
     "data": {
      "text/plain": [
       "Text(0, 0.5, 'Mean Error')"
      ]
     },
     "execution_count": 40,
     "metadata": {},
     "output_type": "execute_result"
    },
    {
     "data": {
      "image/png": "[encoded data removed]",
      "text/plain": [
       "<Figure size 864x432 with 1 Axes>"
      ]
     },
     "metadata": {
      "needs_background": "light"
     },
     "output_type": "display_data"
    }
   ],
   "source": [
    "plt.figure(figsize=(12, 6))\n",
    "plt.plot(range(1, 40), error, color='red', linestyle='dashed', marker='o',\n",
    "         markerfacecolor='blue', markersize=10)\n",
    "plt.title('Error Rate K Value')\n",
    "plt.xlabel('K Value')\n",
    "plt.ylabel('Mean Error')\n"
   ]
  },
  {
   "cell_type": "markdown",
   "metadata": {},
   "source": [
    "#### Training and Predictions con K=12"
   ]
  },
  {
   "cell_type": "code",
   "execution_count": 41,
   "metadata": {},
   "outputs": [
    {
     "data": {
      "text/plain": [
       "KNeighborsClassifier(n_neighbors=12)"
      ]
     },
     "execution_count": 41,
     "metadata": {},
     "output_type": "execute_result"
    }
   ],
   "source": [
    "classifier = KNeighborsClassifier(n_neighbors=12)\n",
    "classifier.fit(X_train, y_train)"
   ]
  },
  {
   "cell_type": "code",
   "execution_count": 42,
   "metadata": {},
   "outputs": [],
   "source": [
    "y_pred = classifier.predict(X_test)"
   ]
  },
  {
   "cell_type": "markdown",
   "metadata": {},
   "source": [
    "#### Evaluating the Algorithm"
   ]
  },
  {
   "cell_type": "code",
   "execution_count": 43,
   "metadata": {},
   "outputs": [
    {
     "name": "stdout",
     "output_type": "stream",
     "text": [
      "[[ 1622  3112   297]\n",
      " [ 1423 23896  4229]\n",
      " [  257  8677  8608]]\n",
      "              precision    recall  f1-score   support\n",
      "\n",
      "           1       0.49      0.32      0.39      5031\n",
      "           2       0.67      0.81      0.73     29548\n",
      "           3       0.66      0.49      0.56     17542\n",
      "\n",
      "    accuracy                           0.65     52121\n",
      "   macro avg       0.61      0.54      0.56     52121\n",
      "weighted avg       0.65      0.65      0.64     52121\n",
      "\n",
      "0.6547456879184973\n"
     ]
    }
   ],
   "source": [
    "from sklearn.metrics import classification_report, confusion_matrix, f1_score\n",
    "print(confusion_matrix(y_test, y_pred))\n",
    "print(classification_report(y_test, y_pred))\n",
    "print(f1_score(y_test, y_pred, average='micro'))"
   ]
  },
  {
   "cell_type": "markdown",
   "metadata": {},
   "source": [
    "#### KNN - FE2"
   ]
  },
  {
   "cell_type": "code",
   "execution_count": 44,
   "metadata": {},
   "outputs": [
    {
     "name": "stdout",
     "output_type": "stream",
     "text": [
      "<class 'pandas.core.frame.DataFrame'>\n",
      "RangeIndex: 260601 entries, 0 to 260600\n",
      "Data columns (total 69 columns):\n",
      " #   Column                                  Non-Null Count   Dtype\n",
      "---  ------                                  --------------   -----\n",
      " 0   building_id                             260601 non-null  int64\n",
      " 1   geo_level_1_id                          260601 non-null  int64\n",
      " 2   geo_level_2_id                          260601 non-null  int64\n",
      " 3   geo_level_3_id                          260601 non-null  int64\n",
      " 4   count_floors_pre_eq                     260601 non-null  int64\n",
      " 5   age                                     260601 non-null  int64\n",
      " 6   area_percentage                         260601 non-null  int64\n",
      " 7   height_percentage                       260601 non-null  int64\n",
      " 8   has_superstructure_adobe_mud            260601 non-null  int64\n",
      " 9   has_superstructure_mud_mortar_stone     260601 non-null  int64\n",
      " 10  has_superstructure_stone_flag           260601 non-null  int64\n",
      " 11  has_superstructure_cement_mortar_stone  260601 non-null  int64\n",
      " 12  has_superstructure_mud_mortar_brick     260601 non-null  int64\n",
      " 13  has_superstructure_cement_mortar_brick  260601 non-null  int64\n",
      " 14  has_superstructure_timber               260601 non-null  int64\n",
      " 15  has_superstructure_bamboo               260601 non-null  int64\n",
      " 16  has_superstructure_rc_non_engineered    260601 non-null  int64\n",
      " 17  has_superstructure_rc_engineered        260601 non-null  int64\n",
      " 18  has_superstructure_other                260601 non-null  int64\n",
      " 19  count_families                          260601 non-null  int64\n",
      " 20  has_secondary_use                       260601 non-null  int64\n",
      " 21  has_secondary_use_agriculture           260601 non-null  int64\n",
      " 22  has_secondary_use_hotel                 260601 non-null  int64\n",
      " 23  has_secondary_use_rental                260601 non-null  int64\n",
      " 24  has_secondary_use_institution           260601 non-null  int64\n",
      " 25  has_secondary_use_school                260601 non-null  int64\n",
      " 26  has_secondary_use_industry              260601 non-null  int64\n",
      " 27  has_secondary_use_health_post           260601 non-null  int64\n",
      " 28  has_secondary_use_gov_office            260601 non-null  int64\n",
      " 29  has_secondary_use_use_police            260601 non-null  int64\n",
      " 30  has_secondary_use_other                 260601 non-null  int64\n",
      " 31  land_surface_condition_n                260601 non-null  uint8\n",
      " 32  land_surface_condition_o                260601 non-null  uint8\n",
      " 33  land_surface_condition_t                260601 non-null  uint8\n",
      " 34  foundation_type_h                       260601 non-null  uint8\n",
      " 35  foundation_type_i                       260601 non-null  uint8\n",
      " 36  foundation_type_r                       260601 non-null  uint8\n",
      " 37  foundation_type_u                       260601 non-null  uint8\n",
      " 38  foundation_type_w                       260601 non-null  uint8\n",
      " 39  roof_type_n                             260601 non-null  uint8\n",
      " 40  roof_type_q                             260601 non-null  uint8\n",
      " 41  roof_type_x                             260601 non-null  uint8\n",
      " 42  ground_floor_type_f                     260601 non-null  uint8\n",
      " 43  ground_floor_type_m                     260601 non-null  uint8\n",
      " 44  ground_floor_type_v                     260601 non-null  uint8\n",
      " 45  ground_floor_type_x                     260601 non-null  uint8\n",
      " 46  ground_floor_type_z                     260601 non-null  uint8\n",
      " 47  other_floor_type_j                      260601 non-null  uint8\n",
      " 48  other_floor_type_q                      260601 non-null  uint8\n",
      " 49  other_floor_type_s                      260601 non-null  uint8\n",
      " 50  other_floor_type_x                      260601 non-null  uint8\n",
      " 51  position_j                              260601 non-null  uint8\n",
      " 52  position_o                              260601 non-null  uint8\n",
      " 53  position_s                              260601 non-null  uint8\n",
      " 54  position_t                              260601 non-null  uint8\n",
      " 55  plan_configuration_a                    260601 non-null  uint8\n",
      " 56  plan_configuration_c                    260601 non-null  uint8\n",
      " 57  plan_configuration_d                    260601 non-null  uint8\n",
      " 58  plan_configuration_f                    260601 non-null  uint8\n",
      " 59  plan_configuration_m                    260601 non-null  uint8\n",
      " 60  plan_configuration_n                    260601 non-null  uint8\n",
      " 61  plan_configuration_o                    260601 non-null  uint8\n",
      " 62  plan_configuration_q                    260601 non-null  uint8\n",
      " 63  plan_configuration_s                    260601 non-null  uint8\n",
      " 64  plan_configuration_u                    260601 non-null  uint8\n",
      " 65  legal_ownership_status_a                260601 non-null  uint8\n",
      " 66  legal_ownership_status_r                260601 non-null  uint8\n",
      " 67  legal_ownership_status_v                260601 non-null  uint8\n",
      " 68  legal_ownership_status_w                260601 non-null  uint8\n",
      "dtypes: int64(31), uint8(38)\n",
      "memory usage: 71.1 MB\n"
     ]
    }
   ],
   "source": [
    "#Realizamos One-Hot Encoding de los datos de tipo category y object\n",
    "KNN_train = pd.get_dummies(df_train_values)\n",
    "KNN_train.info()"
   ]
  },
  {
   "cell_type": "code",
   "execution_count": 45,
   "metadata": {},
   "outputs": [],
   "source": [
    "#Seleccionamos los features\n",
    "selected_features = ['building_id',\n",
    "                      'geo_level_1_id',\n",
    "#                       'geo_level_2_id',\n",
    "#                       'geo_level_3_id',\n",
    "                       'age',\n",
    "                       'area_percentage',\n",
    "                       'height_percentage',\n",
    "                       'has_superstructure_cement_mortar_stone',\n",
    "                       'foundation_type_r',\n",
    "                       'ground_floor_type_v',\n",
    "                       'count_floors_pre_eq',\n",
    "                       'has_superstructure_mud_mortar_brick',\n",
    "                       'roof_type_x']\n",
    "    #                   'count_families',\n",
    "     #                  'foundation_type_i',\n",
    "      #                 'has_superstructure_timber'   ]\n",
    "\n",
    "\n",
    "\n",
    "KNN_train_subset = KNN_train[selected_features]"
   ]
  },
  {
   "cell_type": "code",
   "execution_count": 46,
   "metadata": {},
   "outputs": [
    {
     "name": "stdout",
     "output_type": "stream",
     "text": [
      "<class 'pandas.core.frame.DataFrame'>\n",
      "RangeIndex: 260601 entries, 0 to 260600\n",
      "Data columns (total 11 columns):\n",
      " #   Column                                  Non-Null Count   Dtype\n",
      "---  ------                                  --------------   -----\n",
      " 0   building_id                             260601 non-null  int64\n",
      " 1   geo_level_1_id                          260601 non-null  int64\n",
      " 2   age                                     260601 non-null  int64\n",
      " 3   area_percentage                         260601 non-null  int64\n",
      " 4   height_percentage                       260601 non-null  int64\n",
      " 5   has_superstructure_cement_mortar_stone  260601 non-null  int64\n",
      " 6   foundation_type_r                       260601 non-null  uint8\n",
      " 7   ground_floor_type_v                     260601 non-null  uint8\n",
      " 8   count_floors_pre_eq                     260601 non-null  int64\n",
      " 9   has_superstructure_mud_mortar_brick     260601 non-null  int64\n",
      " 10  roof_type_x                             260601 non-null  uint8\n",
      "dtypes: int64(8), uint8(3)\n",
      "memory usage: 16.7 MB\n"
     ]
    }
   ],
   "source": [
    "KNN_train_subset.info()"
   ]
  },
  {
   "cell_type": "code",
   "execution_count": 47,
   "metadata": {},
   "outputs": [],
   "source": [
    "# Agregamos labels\n",
    "KNN_train_subset = KNN_train_subset.merge(df_train_labels)\n",
    "\n",
    "# Quitamos el feature 'building_id'\n",
    "KNN_train_subset = KNN_train_subset.iloc[:,1:]"
   ]
  },
  {
   "cell_type": "code",
   "execution_count": 48,
   "metadata": {},
   "outputs": [
    {
     "name": "stdout",
     "output_type": "stream",
     "text": [
      "<class 'pandas.core.frame.DataFrame'>\n",
      "Int64Index: 260601 entries, 0 to 260600\n",
      "Data columns (total 11 columns):\n",
      " #   Column                                  Non-Null Count   Dtype\n",
      "---  ------                                  --------------   -----\n",
      " 0   geo_level_1_id                          260601 non-null  int64\n",
      " 1   age                                     260601 non-null  int64\n",
      " 2   area_percentage                         260601 non-null  int64\n",
      " 3   height_percentage                       260601 non-null  int64\n",
      " 4   has_superstructure_cement_mortar_stone  260601 non-null  int64\n",
      " 5   foundation_type_r                       260601 non-null  uint8\n",
      " 6   ground_floor_type_v                     260601 non-null  uint8\n",
      " 7   count_floors_pre_eq                     260601 non-null  int64\n",
      " 8   has_superstructure_mud_mortar_brick     260601 non-null  int64\n",
      " 9   roof_type_x                             260601 non-null  uint8\n",
      " 10  damage_grade                            260601 non-null  int64\n",
      "dtypes: int64(8), uint8(3)\n",
      "memory usage: 18.6 MB\n"
     ]
    }
   ],
   "source": [
    "KNN_train_subset.info()"
   ]
  },
  {
   "cell_type": "code",
   "execution_count": 49,
   "metadata": {},
   "outputs": [],
   "source": [
    "X = KNN_train_subset.iloc[:, :-1].values\n",
    "y = KNN_train_subset.iloc[:, -1].values"
   ]
  },
  {
   "cell_type": "markdown",
   "metadata": {},
   "source": [
    "#### Train Test Split"
   ]
  },
  {
   "cell_type": "code",
   "execution_count": 50,
   "metadata": {},
   "outputs": [],
   "source": [
    "from sklearn.model_selection import train_test_split\n",
    "X_train, X_test, y_train, y_test = train_test_split(X, y, test_size=0.20)"
   ]
  },
  {
   "cell_type": "markdown",
   "metadata": {},
   "source": [
    "#### Feature Scaling"
   ]
  },
  {
   "cell_type": "code",
   "execution_count": 51,
   "metadata": {},
   "outputs": [],
   "source": [
    "from sklearn.preprocessing import StandardScaler\n",
    "scaler = StandardScaler()\n",
    "scaler.fit(X_train)\n",
    "\n",
    "X_train = scaler.transform(X_train)\n",
    "X_test = scaler.transform(X_test)"
   ]
  },
  {
   "cell_type": "markdown",
   "metadata": {},
   "source": [
    "#### Training and Predictions"
   ]
  },
  {
   "cell_type": "code",
   "execution_count": 52,
   "metadata": {},
   "outputs": [
    {
     "data": {
      "text/plain": [
       "KNeighborsClassifier()"
      ]
     },
     "execution_count": 52,
     "metadata": {},
     "output_type": "execute_result"
    }
   ],
   "source": [
    "from sklearn.neighbors import KNeighborsClassifier\n",
    "classifier = KNeighborsClassifier(n_neighbors=5)\n",
    "classifier.fit(X_train, y_train)"
   ]
  },
  {
   "cell_type": "code",
   "execution_count": 53,
   "metadata": {},
   "outputs": [],
   "source": [
    "y_pred = classifier.predict(X_test)"
   ]
  },
  {
   "cell_type": "markdown",
   "metadata": {},
   "source": [
    "#### Evaluating the Algorithm\n",
    "\n",
    "For evaluating an algorithm, confusion matrix, precision, recall and f1 score are the most commonly used metrics. The confusion_matrix and classification_report methods of the sklearn.metrics can be used to calculate these metrics. Take a look at the following script:"
   ]
  },
  {
   "cell_type": "code",
   "execution_count": 54,
   "metadata": {},
   "outputs": [
    {
     "name": "stdout",
     "output_type": "stream",
     "text": [
      "[[ 1923  2839   182]\n",
      " [ 2063 21943  5673]\n",
      " [  275  8291  8932]]\n",
      "              precision    recall  f1-score   support\n",
      "\n",
      "           1       0.45      0.39      0.42      4944\n",
      "           2       0.66      0.74      0.70     29679\n",
      "           3       0.60      0.51      0.55     17498\n",
      "\n",
      "    accuracy                           0.63     52121\n",
      "   macro avg       0.57      0.55      0.56     52121\n",
      "weighted avg       0.62      0.63      0.62     52121\n",
      "\n",
      "0.6292665144567449\n"
     ]
    }
   ],
   "source": [
    "from sklearn.metrics import classification_report, confusion_matrix, f1_score\n",
    "print(confusion_matrix(y_test, y_pred))\n",
    "print(classification_report(y_test, y_pred))\n",
    "print(f1_score(y_test, y_pred, average='micro'))"
   ]
  },
  {
   "cell_type": "markdown",
   "metadata": {},
   "source": [
    "#### Comparing Error Rate with the K Value\n",
    "\n",
    "In the training and prediction section we said that there is no way to know beforehand which value of K that yields the best results in the first go. We randomly chose 5 as the K value and it just happen to result in 100% accuracy.\n",
    "\n",
    "One way to help you find the best value of K is to plot the graph of K value and the corresponding error rate for the dataset.\n",
    "\n",
    "In this section, we will plot the mean error for the predicted values of test set for all the K values between 1 and 40.\n",
    "\n",
    "To do so, let's first calculate the mean of error for all the predicted values where K ranges from 1 and 40. Execute the following script:"
   ]
  },
  {
   "cell_type": "code",
   "execution_count": 55,
   "metadata": {},
   "outputs": [],
   "source": [
    "error = []\n",
    "\n",
    "# Calculating error for K values between 1 and 40\n",
    "for i in range(1, 40):\n",
    "    knn = KNeighborsClassifier(n_neighbors=i)\n",
    "    knn.fit(X_train, y_train)\n",
    "    pred_i = knn.predict(X_test)\n",
    "    error.append(np.mean(pred_i != y_test))"
   ]
  },
  {
   "cell_type": "markdown",
   "metadata": {},
   "source": [
    "The next step is to plot the error values against K values. Execute the following script to create the plot:"
   ]
  },
  {
   "cell_type": "code",
   "execution_count": 56,
   "metadata": {},
   "outputs": [
    {
     "data": {
      "text/plain": [
       "Text(0, 0.5, 'Mean Error')"
      ]
     },
     "execution_count": 56,
     "metadata": {},
     "output_type": "execute_result"
    },
    {
     "data": {
      "image/png": "[encoded data removed]",
      "text/plain": [
       "<Figure size 864x432 with 1 Axes>"
      ]
     },
     "metadata": {
      "needs_background": "light"
     },
     "output_type": "display_data"
    }
   ],
   "source": [
    "plt.figure(figsize=(12, 6))\n",
    "plt.plot(range(1, 40), error, color='red', linestyle='dashed', marker='o',\n",
    "         markerfacecolor='blue', markersize=10)\n",
    "plt.title('Error Rate K Value')\n",
    "plt.xlabel('K Value')\n",
    "plt.ylabel('Mean Error')\n"
   ]
  },
  {
   "cell_type": "markdown",
   "metadata": {},
   "source": [
    "#### Training and Predictions con K=28"
   ]
  },
  {
   "cell_type": "code",
   "execution_count": 57,
   "metadata": {},
   "outputs": [
    {
     "data": {
      "text/plain": [
       "KNeighborsClassifier(n_neighbors=28)"
      ]
     },
     "execution_count": 57,
     "metadata": {},
     "output_type": "execute_result"
    }
   ],
   "source": [
    "classifier = KNeighborsClassifier(n_neighbors=28)\n",
    "classifier.fit(X_train, y_train)"
   ]
  },
  {
   "cell_type": "code",
   "execution_count": 58,
   "metadata": {},
   "outputs": [],
   "source": [
    "y_pred = classifier.predict(X_test)"
   ]
  },
  {
   "cell_type": "markdown",
   "metadata": {},
   "source": [
    "#### Evaluating the Algorithm"
   ]
  },
  {
   "cell_type": "code",
   "execution_count": 59,
   "metadata": {},
   "outputs": [
    {
     "name": "stdout",
     "output_type": "stream",
     "text": [
      "[[ 1696  3129   119]\n",
      " [ 1288 24337  4054]\n",
      " [  108  9352  8038]]\n",
      "              precision    recall  f1-score   support\n",
      "\n",
      "           1       0.55      0.34      0.42      4944\n",
      "           2       0.66      0.82      0.73     29679\n",
      "           3       0.66      0.46      0.54     17498\n",
      "\n",
      "    accuracy                           0.65     52121\n",
      "   macro avg       0.62      0.54      0.57     52121\n",
      "weighted avg       0.65      0.65      0.64     52121\n",
      "\n",
      "0.6536904510657893\n"
     ]
    }
   ],
   "source": [
    "from sklearn.metrics import classification_report, confusion_matrix, f1_score\n",
    "print(confusion_matrix(y_test, y_pred))\n",
    "print(classification_report(y_test, y_pred))\n",
    "print(f1_score(y_test, y_pred, average='micro'))"
   ]
  },
  {
   "cell_type": "markdown",
   "metadata": {},
   "source": [
    "#### KNN - FE3"
   ]
  },
  {
   "cell_type": "code",
   "execution_count": 60,
   "metadata": {},
   "outputs": [
    {
     "name": "stdout",
     "output_type": "stream",
     "text": [
      "<class 'pandas.core.frame.DataFrame'>\n",
      "RangeIndex: 260601 entries, 0 to 260600\n",
      "Data columns (total 69 columns):\n",
      " #   Column                                  Non-Null Count   Dtype\n",
      "---  ------                                  --------------   -----\n",
      " 0   building_id                             260601 non-null  int64\n",
      " 1   geo_level_1_id                          260601 non-null  int64\n",
      " 2   geo_level_2_id                          260601 non-null  int64\n",
      " 3   geo_level_3_id                          260601 non-null  int64\n",
      " 4   count_floors_pre_eq                     260601 non-null  int64\n",
      " 5   age                                     260601 non-null  int64\n",
      " 6   area_percentage                         260601 non-null  int64\n",
      " 7   height_percentage                       260601 non-null  int64\n",
      " 8   has_superstructure_adobe_mud            260601 non-null  int64\n",
      " 9   has_superstructure_mud_mortar_stone     260601 non-null  int64\n",
      " 10  has_superstructure_stone_flag           260601 non-null  int64\n",
      " 11  has_superstructure_cement_mortar_stone  260601 non-null  int64\n",
      " 12  has_superstructure_mud_mortar_brick     260601 non-null  int64\n",
      " 13  has_superstructure_cement_mortar_brick  260601 non-null  int64\n",
      " 14  has_superstructure_timber               260601 non-null  int64\n",
      " 15  has_superstructure_bamboo               260601 non-null  int64\n",
      " 16  has_superstructure_rc_non_engineered    260601 non-null  int64\n",
      " 17  has_superstructure_rc_engineered        260601 non-null  int64\n",
      " 18  has_superstructure_other                260601 non-null  int64\n",
      " 19  count_families                          260601 non-null  int64\n",
      " 20  has_secondary_use                       260601 non-null  int64\n",
      " 21  has_secondary_use_agriculture           260601 non-null  int64\n",
      " 22  has_secondary_use_hotel                 260601 non-null  int64\n",
      " 23  has_secondary_use_rental                260601 non-null  int64\n",
      " 24  has_secondary_use_institution           260601 non-null  int64\n",
      " 25  has_secondary_use_school                260601 non-null  int64\n",
      " 26  has_secondary_use_industry              260601 non-null  int64\n",
      " 27  has_secondary_use_health_post           260601 non-null  int64\n",
      " 28  has_secondary_use_gov_office            260601 non-null  int64\n",
      " 29  has_secondary_use_use_police            260601 non-null  int64\n",
      " 30  has_secondary_use_other                 260601 non-null  int64\n",
      " 31  land_surface_condition_n                260601 non-null  uint8\n",
      " 32  land_surface_condition_o                260601 non-null  uint8\n",
      " 33  land_surface_condition_t                260601 non-null  uint8\n",
      " 34  foundation_type_h                       260601 non-null  uint8\n",
      " 35  foundation_type_i                       260601 non-null  uint8\n",
      " 36  foundation_type_r                       260601 non-null  uint8\n",
      " 37  foundation_type_u                       260601 non-null  uint8\n",
      " 38  foundation_type_w                       260601 non-null  uint8\n",
      " 39  roof_type_n                             260601 non-null  uint8\n",
      " 40  roof_type_q                             260601 non-null  uint8\n",
      " 41  roof_type_x                             260601 non-null  uint8\n",
      " 42  ground_floor_type_f                     260601 non-null  uint8\n",
      " 43  ground_floor_type_m                     260601 non-null  uint8\n",
      " 44  ground_floor_type_v                     260601 non-null  uint8\n",
      " 45  ground_floor_type_x                     260601 non-null  uint8\n",
      " 46  ground_floor_type_z                     260601 non-null  uint8\n",
      " 47  other_floor_type_j                      260601 non-null  uint8\n",
      " 48  other_floor_type_q                      260601 non-null  uint8\n",
      " 49  other_floor_type_s                      260601 non-null  uint8\n",
      " 50  other_floor_type_x                      260601 non-null  uint8\n",
      " 51  position_j                              260601 non-null  uint8\n",
      " 52  position_o                              260601 non-null  uint8\n",
      " 53  position_s                              260601 non-null  uint8\n",
      " 54  position_t                              260601 non-null  uint8\n",
      " 55  plan_configuration_a                    260601 non-null  uint8\n",
      " 56  plan_configuration_c                    260601 non-null  uint8\n",
      " 57  plan_configuration_d                    260601 non-null  uint8\n",
      " 58  plan_configuration_f                    260601 non-null  uint8\n",
      " 59  plan_configuration_m                    260601 non-null  uint8\n",
      " 60  plan_configuration_n                    260601 non-null  uint8\n",
      " 61  plan_configuration_o                    260601 non-null  uint8\n",
      " 62  plan_configuration_q                    260601 non-null  uint8\n",
      " 63  plan_configuration_s                    260601 non-null  uint8\n",
      " 64  plan_configuration_u                    260601 non-null  uint8\n",
      " 65  legal_ownership_status_a                260601 non-null  uint8\n",
      " 66  legal_ownership_status_r                260601 non-null  uint8\n",
      " 67  legal_ownership_status_v                260601 non-null  uint8\n",
      " 68  legal_ownership_status_w                260601 non-null  uint8\n",
      "dtypes: int64(31), uint8(38)\n",
      "memory usage: 71.1 MB\n"
     ]
    }
   ],
   "source": [
    "#Realizamos One-Hot Encoding de los datos de tipo category y object\n",
    "KNN_train = pd.get_dummies(df_train_values)\n",
    "KNN_train.info()"
   ]
  },
  {
   "cell_type": "code",
   "execution_count": 61,
   "metadata": {},
   "outputs": [],
   "source": [
    "#Seleccionamos los features\n",
    "selected_features = ['building_id',\n",
    "                      'geo_level_1_id',\n",
    "#                       'geo_level_2_id',\n",
    "#                       'geo_level_3_id',\n",
    "                       'age',\n",
    "                       'area_percentage',\n",
    "                       'height_percentage']\n",
    "#                       'has_superstructure_cement_mortar_stone',\n",
    " #                      'foundation_type_r',\n",
    "  #                     'ground_floor_type_v',\n",
    "   #                    'count_floors_pre_eq',\n",
    "    #                   'has_superstructure_mud_mortar_brick',\n",
    "     #                  'roof_type_x']\n",
    "    #                   'count_families',\n",
    "     #                  'foundation_type_i',\n",
    "      #                 'has_superstructure_timber'   ]\n",
    "\n",
    "\n",
    "\n",
    "KNN_train_subset = KNN_train[selected_features]"
   ]
  },
  {
   "cell_type": "code",
   "execution_count": 62,
   "metadata": {},
   "outputs": [
    {
     "name": "stdout",
     "output_type": "stream",
     "text": [
      "<class 'pandas.core.frame.DataFrame'>\n",
      "RangeIndex: 260601 entries, 0 to 260600\n",
      "Data columns (total 5 columns):\n",
      " #   Column             Non-Null Count   Dtype\n",
      "---  ------             --------------   -----\n",
      " 0   building_id        260601 non-null  int64\n",
      " 1   geo_level_1_id     260601 non-null  int64\n",
      " 2   age                260601 non-null  int64\n",
      " 3   area_percentage    260601 non-null  int64\n",
      " 4   height_percentage  260601 non-null  int64\n",
      "dtypes: int64(5)\n",
      "memory usage: 9.9 MB\n"
     ]
    }
   ],
   "source": [
    "KNN_train_subset.info()"
   ]
  },
  {
   "cell_type": "code",
   "execution_count": 63,
   "metadata": {},
   "outputs": [],
   "source": [
    "# Agregamos labels\n",
    "KNN_train_subset = KNN_train_subset.merge(df_train_labels)\n",
    "\n",
    "# Quitamos el feature 'building_id'\n",
    "KNN_train_subset = KNN_train_subset.iloc[:,1:]"
   ]
  },
  {
   "cell_type": "code",
   "execution_count": 64,
   "metadata": {},
   "outputs": [
    {
     "name": "stdout",
     "output_type": "stream",
     "text": [
      "<class 'pandas.core.frame.DataFrame'>\n",
      "Int64Index: 260601 entries, 0 to 260600\n",
      "Data columns (total 5 columns):\n",
      " #   Column             Non-Null Count   Dtype\n",
      "---  ------             --------------   -----\n",
      " 0   geo_level_1_id     260601 non-null  int64\n",
      " 1   age                260601 non-null  int64\n",
      " 2   area_percentage    260601 non-null  int64\n",
      " 3   height_percentage  260601 non-null  int64\n",
      " 4   damage_grade       260601 non-null  int64\n",
      "dtypes: int64(5)\n",
      "memory usage: 11.9 MB\n"
     ]
    }
   ],
   "source": [
    "KNN_train_subset.info()"
   ]
  },
  {
   "cell_type": "code",
   "execution_count": 65,
   "metadata": {},
   "outputs": [],
   "source": [
    "X = KNN_train_subset.iloc[:, :-1].values\n",
    "y = KNN_train_subset.iloc[:, -1].values"
   ]
  },
  {
   "cell_type": "markdown",
   "metadata": {},
   "source": [
    "#### Train Test Split"
   ]
  },
  {
   "cell_type": "code",
   "execution_count": 66,
   "metadata": {},
   "outputs": [],
   "source": [
    "from sklearn.model_selection import train_test_split\n",
    "X_train, X_test, y_train, y_test = train_test_split(X, y, test_size=0.20)"
   ]
  },
  {
   "cell_type": "markdown",
   "metadata": {},
   "source": [
    "#### Feature Scaling"
   ]
  },
  {
   "cell_type": "code",
   "execution_count": 67,
   "metadata": {},
   "outputs": [],
   "source": [
    "from sklearn.preprocessing import StandardScaler\n",
    "scaler = StandardScaler()\n",
    "scaler.fit(X_train)\n",
    "\n",
    "X_train = scaler.transform(X_train)\n",
    "X_test = scaler.transform(X_test)"
   ]
  },
  {
   "cell_type": "markdown",
   "metadata": {},
   "source": [
    "#### Training and Predictions"
   ]
  },
  {
   "cell_type": "code",
   "execution_count": 68,
   "metadata": {},
   "outputs": [
    {
     "data": {
      "text/plain": [
       "KNeighborsClassifier()"
      ]
     },
     "execution_count": 68,
     "metadata": {},
     "output_type": "execute_result"
    }
   ],
   "source": [
    "from sklearn.neighbors import KNeighborsClassifier\n",
    "classifier = KNeighborsClassifier(n_neighbors=5)\n",
    "classifier.fit(X_train, y_train)"
   ]
  },
  {
   "cell_type": "code",
   "execution_count": 69,
   "metadata": {},
   "outputs": [],
   "source": [
    "y_pred = classifier.predict(X_test)"
   ]
  },
  {
   "cell_type": "markdown",
   "metadata": {},
   "source": [
    "#### Evaluating the Algorithm\n",
    "\n",
    "For evaluating an algorithm, confusion matrix, precision, recall and f1 score are the most commonly used metrics. The confusion_matrix and classification_report methods of the sklearn.metrics can be used to calculate these metrics. Take a look at the following script:"
   ]
  },
  {
   "cell_type": "code",
   "execution_count": 70,
   "metadata": {},
   "outputs": [
    {
     "name": "stdout",
     "output_type": "stream",
     "text": [
      "[[ 1666  3066   282]\n",
      " [ 2151 21468  6040]\n",
      " [  404  8421  8623]]\n",
      "              precision    recall  f1-score   support\n",
      "\n",
      "           1       0.39      0.33      0.36      5014\n",
      "           2       0.65      0.72      0.69     29659\n",
      "           3       0.58      0.49      0.53     17448\n",
      "\n",
      "    accuracy                           0.61     52121\n",
      "   macro avg       0.54      0.52      0.53     52121\n",
      "weighted avg       0.60      0.61      0.60     52121\n",
      "\n",
      "0.6092937587536693\n"
     ]
    }
   ],
   "source": [
    "from sklearn.metrics import classification_report, confusion_matrix, f1_score\n",
    "print(confusion_matrix(y_test, y_pred))\n",
    "print(classification_report(y_test, y_pred))\n",
    "print(f1_score(y_test, y_pred, average='micro'))"
   ]
  },
  {
   "cell_type": "markdown",
   "metadata": {},
   "source": [
    "#### Comparing Error Rate with the K Value\n",
    "\n",
    "In the training and prediction section we said that there is no way to know beforehand which value of K that yields the best results in the first go. We randomly chose 5 as the K value and it just happen to result in 100% accuracy.\n",
    "\n",
    "One way to help you find the best value of K is to plot the graph of K value and the corresponding error rate for the dataset.\n",
    "\n",
    "In this section, we will plot the mean error for the predicted values of test set for all the K values between 1 and 40.\n",
    "\n",
    "To do so, let's first calculate the mean of error for all the predicted values where K ranges from 1 and 40. Execute the following script:"
   ]
  },
  {
   "cell_type": "code",
   "execution_count": 71,
   "metadata": {},
   "outputs": [],
   "source": [
    "error = []\n",
    "\n",
    "# Calculating error for K values between 1 and 40\n",
    "for i in range(1, 40):\n",
    "    knn = KNeighborsClassifier(n_neighbors=i)\n",
    "    knn.fit(X_train, y_train)\n",
    "    pred_i = knn.predict(X_test)\n",
    "    error.append(np.mean(pred_i != y_test))"
   ]
  },
  {
   "cell_type": "markdown",
   "metadata": {},
   "source": [
    "The next step is to plot the error values against K values. Execute the following script to create the plot:"
   ]
  },
  {
   "cell_type": "code",
   "execution_count": 72,
   "metadata": {},
   "outputs": [
    {
     "data": {
      "text/plain": [
       "Text(0, 0.5, 'Mean Error')"
      ]
     },
     "execution_count": 72,
     "metadata": {},
     "output_type": "execute_result"
    },
    {
     "data": {
      "image/png": "[encoded data removed]",
      "text/plain": [
       "<Figure size 864x432 with 1 Axes>"
      ]
     },
     "metadata": {
      "needs_background": "light"
     },
     "output_type": "display_data"
    }
   ],
   "source": [
    "plt.figure(figsize=(12, 6))\n",
    "plt.plot(range(1, 40), error, color='red', linestyle='dashed', marker='o',\n",
    "         markerfacecolor='blue', markersize=10)\n",
    "plt.title('Error Rate K Value')\n",
    "plt.xlabel('K Value')\n",
    "plt.ylabel('Mean Error')\n"
   ]
  },
  {
   "cell_type": "markdown",
   "metadata": {},
   "source": [
    "#### Training and Predictions con K=28"
   ]
  },
  {
   "cell_type": "code",
   "execution_count": 73,
   "metadata": {},
   "outputs": [
    {
     "data": {
      "text/plain": [
       "KNeighborsClassifier(n_neighbors=28)"
      ]
     },
     "execution_count": 73,
     "metadata": {},
     "output_type": "execute_result"
    }
   ],
   "source": [
    "classifier = KNeighborsClassifier(n_neighbors=28)\n",
    "classifier.fit(X_train, y_train)"
   ]
  },
  {
   "cell_type": "code",
   "execution_count": 74,
   "metadata": {},
   "outputs": [],
   "source": [
    "y_pred = classifier.predict(X_test)"
   ]
  },
  {
   "cell_type": "markdown",
   "metadata": {},
   "source": [
    "#### Evaluating the Algorithm"
   ]
  },
  {
   "cell_type": "code",
   "execution_count": 75,
   "metadata": {},
   "outputs": [
    {
     "name": "stdout",
     "output_type": "stream",
     "text": [
      "[[ 1174  3665   175]\n",
      " [  890 24627  4142]\n",
      " [  142  9565  7741]]\n",
      "              precision    recall  f1-score   support\n",
      "\n",
      "           1       0.53      0.23      0.33      5014\n",
      "           2       0.65      0.83      0.73     29659\n",
      "           3       0.64      0.44      0.52     17448\n",
      "\n",
      "    accuracy                           0.64     52121\n",
      "   macro avg       0.61      0.50      0.53     52121\n",
      "weighted avg       0.64      0.64      0.62     52121\n",
      "\n",
      "0.6435409911551966\n"
     ]
    }
   ],
   "source": [
    "from sklearn.metrics import classification_report, confusion_matrix, f1_score\n",
    "print(confusion_matrix(y_test, y_pred))\n",
    "print(classification_report(y_test, y_pred))\n",
    "print(f1_score(y_test, y_pred, average='micro'))"
   ]
  },
  {
   "cell_type": "markdown",
   "metadata": {},
   "source": [
    "### Reducción de dimensiones - PCA"
   ]
  },
  {
   "cell_type": "code",
   "execution_count": 4,
   "metadata": {},
   "outputs": [
    {
     "name": "stdout",
     "output_type": "stream",
     "text": [
      "<class 'pandas.core.frame.DataFrame'>\n",
      "RangeIndex: 260601 entries, 0 to 260600\n",
      "Data columns (total 15 columns):\n",
      " #   Column                                  Non-Null Count   Dtype\n",
      "---  ------                                  --------------   -----\n",
      " 0   geo_level_1_id                          260601 non-null  int64\n",
      " 1   geo_level_2_id                          260601 non-null  int64\n",
      " 2   geo_level_3_id                          260601 non-null  int64\n",
      " 3   age                                     260601 non-null  int64\n",
      " 4   area_percentage                         260601 non-null  int64\n",
      " 5   height_percentage                       260601 non-null  int64\n",
      " 6   has_superstructure_cement_mortar_stone  260601 non-null  int64\n",
      " 7   foundation_type_r                       260601 non-null  uint8\n",
      " 8   ground_floor_type_v                     260601 non-null  uint8\n",
      " 9   count_floors_pre_eq                     260601 non-null  int64\n",
      " 10  has_superstructure_mud_mortar_brick     260601 non-null  int64\n",
      " 11  roof_type_x                             260601 non-null  uint8\n",
      " 12  count_families                          260601 non-null  int64\n",
      " 13  foundation_type_i                       260601 non-null  uint8\n",
      " 14  has_superstructure_timber               260601 non-null  int64\n",
      "dtypes: int64(11), uint8(4)\n",
      "memory usage: 22.9 MB\n"
     ]
    }
   ],
   "source": [
    "\n",
    "import pandas as pd\n",
    "import numpy as np\n",
    "import matplotlib.pyplot as plt\n",
    "from sklearn.decomposition import PCA\n",
    "from sklearn.preprocessing import StandardScaler\n",
    "%matplotlib inline\n",
    "\n",
    "KNN_train = pd.get_dummies(df_train_values)\n",
    "\n",
    "#Seleccionamos los features\n",
    "selected_features = [\n",
    "                      'geo_level_1_id',\n",
    "                       'geo_level_2_id',\n",
    "                       'geo_level_3_id',\n",
    "                       'age',\n",
    "                       'area_percentage',\n",
    "                       'height_percentage',\n",
    "                       'has_superstructure_cement_mortar_stone',\n",
    "                       'foundation_type_r',\n",
    "                       'ground_floor_type_v',\n",
    "                       'count_floors_pre_eq',\n",
    "                       'has_superstructure_mud_mortar_brick',\n",
    "                       'roof_type_x',\n",
    "                       'count_families',\n",
    "                       'foundation_type_i',\n",
    "                       'has_superstructure_timber'   ]\n",
    "\n",
    "X = KNN_train[selected_features]\n",
    "X.info()\n"
   ]
  },
  {
   "cell_type": "code",
   "execution_count": 5,
   "metadata": {},
   "outputs": [],
   "source": [
    "\n",
    "\n",
    "#Aplicamos una transformación de los datos para poder aplicar las propiedades de la distribución normal\n",
    "\n",
    "from sklearn.preprocessing import StandardScaler\n",
    "X_std = StandardScaler().fit_transform(X)\n",
    "\n"
   ]
  },
  {
   "cell_type": "code",
   "execution_count": 6,
   "metadata": {},
   "outputs": [
    {
     "name": "stdout",
     "output_type": "stream",
     "text": [
      "NumPy covariance matrix: \n",
      "[[ 1.00000384e+00 -6.14050891e-02  2.71845556e-03 -3.90764996e-03\n",
      "   7.11584233e-02 -6.34742978e-02  2.36563028e-02 -1.88061378e-01\n",
      "   1.10562927e-01 -8.93639223e-02 -2.88537905e-02  4.82724811e-02\n",
      "   3.51084618e-02  3.36227036e-03  1.44985903e-01]\n",
      " [-6.14050891e-02  1.00000384e+00  9.21096664e-04  1.25938889e-02\n",
      "  -4.94434748e-02  3.55165255e-02 -9.12168942e-03  9.79808143e-02\n",
      "  -7.82791858e-02  4.77298776e-02  1.42456919e-02 -6.71521102e-02\n",
      "  -1.24390965e-02 -4.48934636e-02 -2.39269760e-02]\n",
      " [ 2.71845556e-03  9.21096664e-04  1.00000384e+00 -6.38461163e-03\n",
      "  -5.64266425e-03 -2.45068612e-02  5.96634383e-03  1.45593717e-03\n",
      "  -4.32494149e-03 -2.16463991e-02 -2.32785432e-02 -1.46348644e-02\n",
      "  -2.47861992e-03 -1.04942246e-02 -3.91604833e-03]\n",
      " [-3.90764996e-03  1.25938889e-02 -6.38461163e-03  1.00000384e+00\n",
      "  -4.32252785e-03  6.10737836e-02 -1.21279688e-02  7.26399885e-02\n",
      "  -5.23421466e-02  8.66683634e-02  7.95257478e-02 -4.00872716e-02\n",
      "   5.30930109e-03 -4.88601808e-02  5.85544743e-03]\n",
      " [ 7.11584233e-02 -4.94434748e-02 -5.64266425e-03 -4.32252785e-03\n",
      "   1.00000384e+00  1.96646039e-01  7.37011705e-02 -1.98506623e-01\n",
      "   3.28151665e-01  1.01071565e-01  5.33617368e-02  3.57778236e-01\n",
      "   8.86305273e-02  3.01688878e-01 -5.39653235e-02]\n",
      " [-6.34742978e-02  3.55165255e-02 -2.45068612e-02  6.10737836e-02\n",
      "   1.96646039e-01  1.00000384e+00  1.29597453e-02  8.66098531e-03\n",
      "   6.20008607e-02  7.72737350e-01  2.09098571e-01  1.69657829e-01\n",
      "   6.43163282e-02  1.63201289e-01 -5.24026769e-02]\n",
      " [ 2.36563028e-02 -9.12168942e-03  5.96634383e-03 -1.21279688e-02\n",
      "   7.37011705e-02  1.29597453e-02  1.00000384e+00 -1.42311392e-01\n",
      "   1.34846537e-01 -1.13291037e-02 -1.69200054e-03  8.21052530e-02\n",
      "  -6.35600297e-03  6.46827263e-02  1.44300458e-02]\n",
      " [-1.88061378e-01  9.79808143e-02  1.45593717e-03  7.26399885e-02\n",
      "  -1.98506623e-01  8.66098531e-03 -1.42311392e-01  1.00000384e+00\n",
      "  -5.14301759e-01  1.31692431e-01  7.11390067e-02 -4.83568286e-01\n",
      "   3.42811474e-02 -4.73287223e-01 -1.26082411e-01]\n",
      " [ 1.10562927e-01 -7.82791858e-02 -4.32494149e-03 -5.23421466e-02\n",
      "   3.28151665e-01  6.20008607e-02  1.34846537e-01 -5.14301759e-01\n",
      "   1.00000384e+00 -7.02473077e-02 -5.78725899e-03  6.63483015e-01\n",
      "  -2.87766590e-02  5.86808736e-01 -9.65477929e-02]\n",
      " [-8.93639223e-02  4.77298776e-02 -2.16463991e-02  8.66683634e-02\n",
      "   1.01071565e-01  7.72737350e-01 -1.13291037e-02  1.31692431e-01\n",
      "  -7.02473077e-02  1.00000384e+00  2.57279689e-01  3.81672444e-02\n",
      "   8.65863220e-02  4.06341744e-02 -5.66373095e-02]\n",
      " [-2.88537905e-02  1.42456919e-02 -2.32785432e-02  7.95257478e-02\n",
      "   5.33617368e-02  2.09098571e-01 -1.69200054e-03  7.11390067e-02\n",
      "  -5.78725899e-03  2.57279689e-01  1.00000384e+00  1.64715534e-02\n",
      "   3.15567092e-02 -4.39792917e-02 -1.46146115e-03]\n",
      " [ 4.82724811e-02 -6.71521102e-02 -1.46348644e-02 -4.00872716e-02\n",
      "   3.57778236e-01  1.69657829e-01  8.21052530e-02 -4.83568286e-01\n",
      "   6.63483015e-01  3.81672444e-02  1.64715534e-02  1.00000384e+00\n",
      "  -2.45215559e-02  7.18844932e-01 -1.30435737e-01]\n",
      " [ 3.51084618e-02 -1.24390965e-02 -2.47861992e-03  5.30930109e-03\n",
      "   8.86305273e-02  6.43163282e-02 -6.35600297e-03  3.42811474e-02\n",
      "  -2.87766590e-02  8.65863220e-02  3.15567092e-02 -2.45215559e-02\n",
      "   1.00000384e+00 -2.69174497e-02 -1.54427825e-03]\n",
      " [ 3.36227036e-03 -4.48934636e-02 -1.04942246e-02 -4.88601808e-02\n",
      "   3.01688878e-01  1.63201289e-01  6.46827263e-02 -4.73287223e-01\n",
      "   5.86808736e-01  4.06341744e-02 -4.39792917e-02  7.18844932e-01\n",
      "  -2.69174497e-02  1.00000384e+00 -1.09812335e-01]\n",
      " [ 1.44985903e-01 -2.39269760e-02 -3.91604833e-03  5.85544743e-03\n",
      "  -5.39653235e-02 -5.24026769e-02  1.44300458e-02 -1.26082411e-01\n",
      "  -9.65477929e-02 -5.66373095e-02 -1.46146115e-03 -1.30435737e-01\n",
      "  -1.54427825e-03 -1.09812335e-01  1.00000384e+00]]\n"
     ]
    }
   ],
   "source": [
    "# Calculamos la matriz de covarianza\n",
    "\n",
    "print('NumPy covariance matrix: \\n%s' %np.cov(X_std.T))"
   ]
  },
  {
   "cell_type": "code",
   "execution_count": 7,
   "metadata": {},
   "outputs": [
    {
     "name": "stdout",
     "output_type": "stream",
     "text": [
      "Eigenvectors \n",
      "[[-0.07951952 -0.15827053  0.00140971 -0.02060204  0.0850613   0.14948831\n",
      "  -0.57882808 -0.20531666 -0.70079202 -0.09971998  0.06222954 -0.22483996\n",
      "  -0.02098304  0.03621183 -0.06473762]\n",
      " [ 0.07155455  0.08738269 -0.00519896  0.01208066 -0.01266251 -0.03814194\n",
      "   0.21793882  0.01807313 -0.02803296 -0.11563263 -0.29555235 -0.78073304\n",
      "   0.26422266 -0.32577053  0.22503346]\n",
      " [ 0.00966427 -0.03648097  0.00234993  0.00420817  0.00381973  0.00684253\n",
      "   0.03098001 -0.01155795  0.0448601  -0.0636517   0.15424142 -0.03806567\n",
      "   0.82279214  0.47528565 -0.25141803]\n",
      " [ 0.04442105  0.13506138  0.01043671 -0.00397292  0.00217703 -0.02997678\n",
      "  -0.11221153 -0.02432404  0.0634943   0.3063154  -0.24647406 -0.21167952\n",
      "  -0.21493303  0.72099478  0.4428612 ]\n",
      " [-0.30167179  0.12555372 -0.04562648 -0.0364776   0.07336045 -0.13760138\n",
      "  -0.09038964  0.85831944 -0.15186778 -0.07092124  0.25500123 -0.05849452\n",
      "   0.00901282  0.02696454  0.15254628]\n",
      " [-0.13474982  0.5980874   0.70034791  0.01585671 -0.07821455 -0.06834107\n",
      "  -0.09737672 -0.05557265 -0.08736319  0.22845228 -0.0574619   0.03658046\n",
      "   0.07307965 -0.10488485 -0.17097521]\n",
      " [-0.10819459 -0.03911908  0.00167959  0.0069266   0.06663061  0.10661013\n",
      "  -0.13996719 -0.0469918  -0.08582351  0.07537965 -0.2577493   0.46221027\n",
      "   0.42422721 -0.25042762  0.64288794]\n",
      " [ 0.39619891  0.19921641  0.04390717 -0.03627379 -0.14819502  0.80118209\n",
      "   0.20995801  0.18998663 -0.1614413  -0.04344027  0.13622153  0.03564619\n",
      "  -0.03041202  0.04671548  0.0719674 ]\n",
      " [-0.47511976 -0.09323794 -0.03782173 -0.26434211 -0.81279218  0.10077839\n",
      "   0.04850739 -0.0847322   0.00931674 -0.09038821 -0.02531915 -0.02890473\n",
      "  -0.01625281  0.04760587  0.04094977]\n",
      " [-0.03751193  0.62720691 -0.70674419 -0.02718429 -0.04325113 -0.03585984\n",
      "  -0.09676249 -0.10758604 -0.07954387  0.18628159 -0.04882379  0.05236677\n",
      "   0.06656969 -0.08569808 -0.15150546]\n",
      " [-0.00168699  0.3233239   0.04336009 -0.04248594  0.0873983  -0.0156752\n",
      "  -0.16208191 -0.08130344  0.17462956 -0.86423584 -0.15559865  0.09648827\n",
      "  -0.08885428  0.1579606   0.0851003 ]\n",
      " [-0.50066771  0.00698167 -0.0448702   0.78065622  0.10195548  0.30343111\n",
      "   0.12134938 -0.07991211  0.06067508 -0.0274016  -0.01499077 -0.05763296\n",
      "  -0.05116106  0.05155525 -0.0318539 ]\n",
      " [ 0.00534471  0.11592321  0.01917     0.00618749 -0.00845106  0.01460083\n",
      "  -0.22799569 -0.27160077  0.32877737  0.03057699  0.75402562 -0.19699025\n",
      "   0.02331677 -0.12146952  0.35833788]\n",
      " [-0.47643604 -0.00103661  0.00597733 -0.56067725  0.51877547  0.33585729\n",
      "   0.1592339  -0.11895225  0.12959809  0.0779017  -0.0294204  -0.08061618\n",
      "  -0.03549333  0.01600487 -0.073722  ]\n",
      " [ 0.06172633 -0.1137732  -0.01193447  0.01442621 -0.07035372  0.28568908\n",
      "  -0.62652551  0.24294516  0.52197167  0.12839792 -0.27209784 -0.11164024\n",
      "   0.05688447 -0.13407881 -0.21935431]]\n",
      "\n",
      "Eigenvalues \n",
      "[3.01569355 2.0184595  0.21118255 0.26196262 0.38935932 0.4741044\n",
      " 1.22402349 0.75287456 0.83112313 0.86903512 1.02991552 0.95732494\n",
      " 1.0045517  0.98751234 0.97293479]\n"
     ]
    }
   ],
   "source": [
    "\n",
    "\n",
    "#Calculamos los autovalores y autovectores de la matriz y los mostramos\n",
    "\n",
    "cov_mat = np.cov(X_std.T)\n",
    "\n",
    "eig_vals, eig_vecs = np.linalg.eig(cov_mat)\n",
    "\n",
    "print('Eigenvectors \\n%s' %eig_vecs)\n",
    "print('\\nEigenvalues \\n%s' %eig_vals)\n",
    "\n"
   ]
  },
  {
   "cell_type": "code",
   "execution_count": 8,
   "metadata": {},
   "outputs": [
    {
     "name": "stdout",
     "output_type": "stream",
     "text": [
      "Autovalores en orden descendiente:\n",
      "3.0156935536695677\n",
      "2.0184595040787174\n",
      "1.2240234888253834\n",
      "1.0299155243402158\n",
      "1.0045517009618483\n",
      "0.9875123373217625\n",
      "0.9729347916093906\n",
      "0.9573249424898564\n",
      "0.8690351200277142\n",
      "0.831123134585214\n",
      "0.7528745639374084\n",
      "0.4741044004741984\n",
      "0.3893593202978395\n",
      "0.261962622534303\n",
      "0.21118255432473085\n"
     ]
    }
   ],
   "source": [
    "\n",
    "\n",
    "#  Hacemos una lista de parejas (autovector, autovalor) \n",
    "eig_pairs = [(np.abs(eig_vals[i]), eig_vecs[:,i]) for i in range(len(eig_vals))]\n",
    "\n",
    "# Ordenamos estas parejas den orden descendiente con la función sort\n",
    "eig_pairs.sort(key=lambda x: x[0], reverse=True)\n",
    "\n",
    "# Visualizamos la lista de autovalores en orden desdenciente\n",
    "print('Autovalores en orden descendiente:')\n",
    "for i in eig_pairs:\n",
    "    print(i[0])\n",
    "\n"
   ]
  },
  {
   "cell_type": "code",
   "execution_count": 14,
   "metadata": {},
   "outputs": [
    {
     "data": {
      "image/png": "[encoded data removed]",
      "text/plain": [
       "<Figure size 864x576 with 1 Axes>"
      ]
     },
     "metadata": {
      "needs_background": "light"
     },
     "output_type": "display_data"
    }
   ],
   "source": [
    "\n",
    "\n",
    "# A partir de los autovalores, calculamos la varianza explicada\n",
    "tot = sum(eig_vals)\n",
    "var_exp = [(i / tot)*100 for i in sorted(eig_vals, reverse=True)]\n",
    "cum_var_exp = np.cumsum(var_exp)\n",
    "\n",
    "# Representamos en un diagrama de barras la varianza explicada por cada autovalor, y la acumulada\n",
    "with plt.style.context('seaborn-pastel'):\n",
    "    plt.figure(figsize=(12, 8))\n",
    "\n",
    "    plt.bar(range(15), var_exp, alpha=0.5, align='center',\n",
    "            label='Varianza individual explicada', color='g')\n",
    "    plt.step(range(15), cum_var_exp, where='mid', linestyle='--', label='Varianza explicada acumulada')\n",
    "    plt.ylabel('Ratio de Varianza Explicada')\n",
    "    plt.xlabel('Componentes Principales')\n",
    "    plt.legend(loc='best')\n",
    "    plt.tight_layout()\n",
    "\n"
   ]
  },
  {
   "cell_type": "code",
   "execution_count": 20,
   "metadata": {},
   "outputs": [
    {
     "name": "stdout",
     "output_type": "stream",
     "text": [
      "<class 'pandas.core.frame.DataFrame'>\n",
      "RangeIndex: 260601 entries, 0 to 260600\n",
      "Data columns (total 15 columns):\n",
      " #   Column                                  Non-Null Count   Dtype\n",
      "---  ------                                  --------------   -----\n",
      " 0   geo_level_1_id                          260601 non-null  int64\n",
      " 1   geo_level_2_id                          260601 non-null  int64\n",
      " 2   geo_level_3_id                          260601 non-null  int64\n",
      " 3   age                                     260601 non-null  int64\n",
      " 4   area_percentage                         260601 non-null  int64\n",
      " 5   height_percentage                       260601 non-null  int64\n",
      " 6   has_superstructure_cement_mortar_stone  260601 non-null  int64\n",
      " 7   foundation_type_r                       260601 non-null  uint8\n",
      " 8   ground_floor_type_v                     260601 non-null  uint8\n",
      " 9   count_floors_pre_eq                     260601 non-null  int64\n",
      " 10  has_superstructure_mud_mortar_brick     260601 non-null  int64\n",
      " 11  roof_type_x                             260601 non-null  uint8\n",
      " 12  count_families                          260601 non-null  int64\n",
      " 13  foundation_type_i                       260601 non-null  uint8\n",
      " 14  has_superstructure_timber               260601 non-null  int64\n",
      "dtypes: int64(11), uint8(4)\n",
      "memory usage: 22.9 MB\n"
     ]
    }
   ],
   "source": [
    "X.info()"
   ]
  },
  {
   "cell_type": "code",
   "execution_count": 27,
   "metadata": {},
   "outputs": [],
   "source": [
    "#normalizamos los datos\n",
    "scaler=StandardScaler()\n",
    "scaler.fit(X) # calculo la media para poder hacer la transformacion\n",
    "X_scaled=scaler.transform(X)# Ahora si, escalo los datos y los normalizo\n",
    " \n",
    "#Instanciamos objeto PCA y aplicamos\n",
    "pca=PCA(n_components=10) # Otra opción es instanciar pca sólo con dimensiones nuevas hasta obtener un mínimo \"explicado\" ej.: pca=PCA(.85)\n",
    "pca.fit(X_scaled) # obtener los componentes principales\n",
    "X_pca=pca.transform(X_scaled) # convertimos nuestros datos con las nuevas dimensiones de PCA"
   ]
  },
  {
   "cell_type": "code",
   "execution_count": 28,
   "metadata": {},
   "outputs": [],
   "source": [
    "X = X_pca\n",
    "y = df_train_labels.iloc[:, -1].values"
   ]
  },
  {
   "cell_type": "markdown",
   "metadata": {},
   "source": [
    "#### Train Test Split"
   ]
  },
  {
   "cell_type": "code",
   "execution_count": 29,
   "metadata": {},
   "outputs": [],
   "source": [
    "from sklearn.model_selection import train_test_split\n",
    "X_train, X_test, y_train, y_test = train_test_split(X, y, test_size=0.20)"
   ]
  },
  {
   "cell_type": "markdown",
   "metadata": {},
   "source": [
    "#### Feature Scaling"
   ]
  },
  {
   "cell_type": "code",
   "execution_count": 30,
   "metadata": {},
   "outputs": [],
   "source": [
    "from sklearn.preprocessing import StandardScaler\n",
    "scaler = StandardScaler()\n",
    "scaler.fit(X_train)\n",
    "\n",
    "X_train = scaler.transform(X_train)\n",
    "X_test = scaler.transform(X_test)"
   ]
  },
  {
   "cell_type": "markdown",
   "metadata": {},
   "source": [
    "#### Training and Predictions"
   ]
  },
  {
   "cell_type": "code",
   "execution_count": 31,
   "metadata": {},
   "outputs": [
    {
     "data": {
      "text/plain": [
       "KNeighborsClassifier()"
      ]
     },
     "execution_count": 31,
     "metadata": {},
     "output_type": "execute_result"
    }
   ],
   "source": [
    "from sklearn.neighbors import KNeighborsClassifier\n",
    "classifier = KNeighborsClassifier(n_neighbors=5)\n",
    "classifier.fit(X_train, y_train)"
   ]
  },
  {
   "cell_type": "code",
   "execution_count": 32,
   "metadata": {},
   "outputs": [],
   "source": [
    "y_pred = classifier.predict(X_test)"
   ]
  },
  {
   "cell_type": "markdown",
   "metadata": {},
   "source": [
    "#### Evaluating the Algorithm\n",
    "\n",
    "For evaluating an algorithm, confusion matrix, precision, recall and f1 score are the most commonly used metrics. The confusion_matrix and classification_report methods of the sklearn.metrics can be used to calculate these metrics. Take a look at the following script:"
   ]
  },
  {
   "cell_type": "code",
   "execution_count": 33,
   "metadata": {},
   "outputs": [
    {
     "name": "stdout",
     "output_type": "stream",
     "text": [
      "[[ 2314  2463   196]\n",
      " [ 1866 22530  5253]\n",
      " [  306  7211  9982]]\n",
      "              precision    recall  f1-score   support\n",
      "\n",
      "           1       0.52      0.47      0.49      4973\n",
      "           2       0.70      0.76      0.73     29649\n",
      "           3       0.65      0.57      0.61     17499\n",
      "\n",
      "    accuracy                           0.67     52121\n",
      "   macro avg       0.62      0.60      0.61     52121\n",
      "weighted avg       0.66      0.67      0.66     52121\n",
      "\n",
      "0.6681759751347826\n"
     ]
    }
   ],
   "source": [
    "from sklearn.metrics import classification_report, confusion_matrix, f1_score\n",
    "print(confusion_matrix(y_test, y_pred))\n",
    "print(classification_report(y_test, y_pred))\n",
    "print(f1_score(y_test, y_pred, average='micro'))"
   ]
  },
  {
   "cell_type": "markdown",
   "metadata": {},
   "source": [
    "#### Comparing Error Rate with the K Value\n",
    "\n",
    "In the training and prediction section we said that there is no way to know beforehand which value of K that yields the best results in the first go. We randomly chose 5 as the K value and it just happen to result in 100% accuracy.\n",
    "\n",
    "One way to help you find the best value of K is to plot the graph of K value and the corresponding error rate for the dataset.\n",
    "\n",
    "In this section, we will plot the mean error for the predicted values of test set for all the K values between 1 and 40.\n",
    "\n",
    "To do so, let's first calculate the mean of error for all the predicted values where K ranges from 1 and 40. Execute the following script:"
   ]
  },
  {
   "cell_type": "code",
   "execution_count": 34,
   "metadata": {},
   "outputs": [],
   "source": [
    "error = []\n",
    "\n",
    "# Calculating error for K values between 1 and 40\n",
    "for i in range(1, 40):\n",
    "    knn = KNeighborsClassifier(n_neighbors=i)\n",
    "    knn.fit(X_train, y_train)\n",
    "    pred_i = knn.predict(X_test)\n",
    "    error.append(np.mean(pred_i != y_test))"
   ]
  },
  {
   "cell_type": "markdown",
   "metadata": {},
   "source": [
    "The next step is to plot the error values against K values. Execute the following script to create the plot:"
   ]
  },
  {
   "cell_type": "code",
   "execution_count": 72,
   "metadata": {},
   "outputs": [
    {
     "data": {
      "text/plain": [
       "Text(0, 0.5, 'Mean Error')"
      ]
     },
     "execution_count": 72,
     "metadata": {},
     "output_type": "execute_result"
    },
    {
     "data": {
      "image/png": "[encoded data removed]",
      "text/plain": [
       "<Figure size 864x432 with 1 Axes>"
      ]
     },
     "metadata": {
      "needs_background": "light"
     },
     "output_type": "display_data"
    }
   ],
   "source": [
    "plt.figure(figsize=(12, 6))\n",
    "plt.plot(range(1, 40), error, color='red', linestyle='dashed', marker='o',\n",
    "         markerfacecolor='blue', markersize=10)\n",
    "plt.title('Error Rate K Value')\n",
    "plt.xlabel('K Value')\n",
    "plt.ylabel('Mean Error')\n"
   ]
  },
  {
   "cell_type": "markdown",
   "metadata": {},
   "source": [
    "#### Training and Predictions con K=28"
   ]
  },
  {
   "cell_type": "code",
   "execution_count": 40,
   "metadata": {},
   "outputs": [
    {
     "data": {
      "text/plain": [
       "KNeighborsClassifier(n_neighbors=28)"
      ]
     },
     "execution_count": 40,
     "metadata": {},
     "output_type": "execute_result"
    }
   ],
   "source": [
    "classifier = KNeighborsClassifier(n_neighbors=28)\n",
    "classifier.fit(X_train, y_train)"
   ]
  },
  {
   "cell_type": "code",
   "execution_count": 41,
   "metadata": {},
   "outputs": [],
   "source": [
    "y_pred = classifier.predict(X_test)"
   ]
  },
  {
   "cell_type": "markdown",
   "metadata": {},
   "source": [
    "#### Evaluating the Algorithm"
   ]
  },
  {
   "cell_type": "code",
   "execution_count": 42,
   "metadata": {},
   "outputs": [
    {
     "name": "stdout",
     "output_type": "stream",
     "text": [
      "[[ 1876  2893   204]\n",
      " [ 1183 24264  4202]\n",
      " [  119  8783  8597]]\n",
      "              precision    recall  f1-score   support\n",
      "\n",
      "           1       0.59      0.38      0.46      4973\n",
      "           2       0.68      0.82      0.74     29649\n",
      "           3       0.66      0.49      0.56     17499\n",
      "\n",
      "    accuracy                           0.67     52121\n",
      "   macro avg       0.64      0.56      0.59     52121\n",
      "weighted avg       0.66      0.67      0.65     52121\n",
      "\n",
      "0.6664684100458549\n"
     ]
    }
   ],
   "source": [
    "from sklearn.metrics import classification_report, confusion_matrix, f1_score\n",
    "print(confusion_matrix(y_test, y_pred))\n",
    "print(classification_report(y_test, y_pred))\n",
    "print(f1_score(y_test, y_pred, average='micro'))"
   ]
  },
  {
   "cell_type": "markdown",
   "metadata": {},
   "source": [
    "### Competencia: Predict and Submit"
   ]
  },
  {
   "cell_type": "code",
   "execution_count": 43,
   "metadata": {},
   "outputs": [],
   "source": [
    "test_values = pd.read_csv('./../datasets/test_values.csv')"
   ]
  },
  {
   "cell_type": "markdown",
   "metadata": {},
   "source": [
    "#### Pre_procesamiento del set de test (competencia)"
   ]
  },
  {
   "cell_type": "code",
   "execution_count": 44,
   "metadata": {},
   "outputs": [
    {
     "name": "stdout",
     "output_type": "stream",
     "text": [
      "<class 'pandas.core.frame.DataFrame'>\n",
      "RangeIndex: 86868 entries, 0 to 86867\n",
      "Data columns (total 15 columns):\n",
      " #   Column                                  Non-Null Count  Dtype\n",
      "---  ------                                  --------------  -----\n",
      " 0   geo_level_1_id                          86868 non-null  int64\n",
      " 1   geo_level_2_id                          86868 non-null  int64\n",
      " 2   geo_level_3_id                          86868 non-null  int64\n",
      " 3   age                                     86868 non-null  int64\n",
      " 4   area_percentage                         86868 non-null  int64\n",
      " 5   height_percentage                       86868 non-null  int64\n",
      " 6   has_superstructure_cement_mortar_stone  86868 non-null  int64\n",
      " 7   foundation_type_r                       86868 non-null  uint8\n",
      " 8   ground_floor_type_v                     86868 non-null  uint8\n",
      " 9   count_floors_pre_eq                     86868 non-null  int64\n",
      " 10  has_superstructure_mud_mortar_brick     86868 non-null  int64\n",
      " 11  roof_type_x                             86868 non-null  uint8\n",
      " 12  count_families                          86868 non-null  int64\n",
      " 13  foundation_type_i                       86868 non-null  uint8\n",
      " 14  has_superstructure_timber               86868 non-null  int64\n",
      "dtypes: int64(11), uint8(4)\n",
      "memory usage: 7.6 MB\n"
     ]
    }
   ],
   "source": [
    "KNN_test = pd.get_dummies(test_values)\n",
    "\n",
    "#Seleccionamos los features\n",
    "selected_features = [\n",
    "                      'geo_level_1_id',\n",
    "                       'geo_level_2_id',\n",
    "                       'geo_level_3_id',\n",
    "                       'age',\n",
    "                       'area_percentage',\n",
    "                       'height_percentage',\n",
    "                       'has_superstructure_cement_mortar_stone',\n",
    "                       'foundation_type_r',\n",
    "                       'ground_floor_type_v',\n",
    "                       'count_floors_pre_eq',\n",
    "                       'has_superstructure_mud_mortar_brick',\n",
    "                       'roof_type_x',\n",
    "                       'count_families',\n",
    "                       'foundation_type_i',\n",
    "                       'has_superstructure_timber'   ]\n",
    "\n",
    "X = KNN_test[selected_features]\n",
    "X.info()\n"
   ]
  },
  {
   "cell_type": "code",
   "execution_count": 45,
   "metadata": {},
   "outputs": [],
   "source": [
    "#normalizamos los datos\n",
    "scaler=StandardScaler()\n",
    "scaler.fit(X) # calculo la media para poder hacer la transformacion\n",
    "X_scaled=scaler.transform(X)# Ahora si, escalo los datos y los normalizo\n",
    " \n",
    "#Instanciamos objeto PCA y aplicamos\n",
    "pca=PCA(n_components=10) # Otra opción es instanciar pca sólo con dimensiones nuevas hasta obtener un mínimo \"explicado\" ej.: pca=PCA(.85)\n",
    "pca.fit(X_scaled) # obtener los componentes principales\n",
    "X_pca=pca.transform(X_scaled) # convertimos nuestros datos con las nuevas dimensiones de PCA"
   ]
  },
  {
   "cell_type": "markdown",
   "metadata": {},
   "source": [
    "#### Predictions"
   ]
  },
  {
   "cell_type": "code",
   "execution_count": 46,
   "metadata": {},
   "outputs": [],
   "source": [
    "y_pred = classifier.predict(X_pca)"
   ]
  },
  {
   "cell_type": "code",
   "execution_count": 47,
   "metadata": {},
   "outputs": [],
   "source": [
    "submission_format = pd.read_csv('./../datasets/submission_format.csv', index_col='building_id')"
   ]
  },
  {
   "cell_type": "code",
   "execution_count": 48,
   "metadata": {},
   "outputs": [],
   "source": [
    "our_submission2 = pd.DataFrame(data=y_pred,\n",
    "                             columns=submission_format.columns,\n",
    "                             index=submission_format.index)"
   ]
  },
  {
   "cell_type": "code",
   "execution_count": 49,
   "metadata": {},
   "outputs": [
    {
     "data": {
      "text/html": [
       "<div>\n",
       "<style scoped>\n",
       "    .dataframe tbody tr th:only-of-type {\n",
       "        vertical-align: middle;\n",
       "    }\n",
       "\n",
       "    .dataframe tbody tr th {\n",
       "        vertical-align: top;\n",
       "    }\n",
       "\n",
       "    .dataframe thead th {\n",
       "        text-align: right;\n",
       "    }\n",
       "</style>\n",
       "<table border=\"1\" class=\"dataframe\">\n",
       "  <thead>\n",
       "    <tr style=\"text-align: right;\">\n",
       "      <th></th>\n",
       "      <th>damage_grade</th>\n",
       "    </tr>\n",
       "    <tr>\n",
       "      <th>building_id</th>\n",
       "      <th></th>\n",
       "    </tr>\n",
       "  </thead>\n",
       "  <tbody>\n",
       "    <tr>\n",
       "      <th>300051</th>\n",
       "      <td>3</td>\n",
       "    </tr>\n",
       "    <tr>\n",
       "      <th>99355</th>\n",
       "      <td>2</td>\n",
       "    </tr>\n",
       "  </tbody>\n",
       "</table>\n",
       "</div>"
      ],
      "text/plain": [
       "             damage_grade\n",
       "building_id              \n",
       "300051                  3\n",
       "99355                   2"
      ]
     },
     "execution_count": 49,
     "metadata": {},
     "output_type": "execute_result"
    }
   ],
   "source": [
    "our_submission2.head(2)"
   ]
  },
  {
   "cell_type": "code",
   "execution_count": 51,
   "metadata": {},
   "outputs": [],
   "source": [
    "our_submission2.to_csv('submission_KNN_2.csv')"
   ]
  },
  {
   "cell_type": "code",
   "execution_count": 52,
   "metadata": {},
   "outputs": [
    {
     "name": "stdout",
     "output_type": "stream",
     "text": [
      "building_id,damage_grade\n",
      "300051,3\n",
      "99355,2\n",
      "890251,2\n",
      "745817,2\n",
      "421793,3\n",
      "871976,2\n",
      "691228,2\n",
      "896100,2\n",
      "343471,3\n"
     ]
    }
   ],
   "source": [
    "!head submission_KNN_2.csv"
   ]
  },
  {
   "cell_type": "markdown",
   "metadata": {},
   "source": [
    "#### Resultado del Submit 0.5812, bajo con respecto al train_test que fue 0.6664, pero mejoró al seleccionar mejor los features. (Submit anterior 0.4593 y train_test 0.7006)"
   ]
  }
 ],
 "metadata": {
  "kernelspec": {
   "display_name": "Python 3",
   "language": "python",
   "name": "python3"
  },
  "language_info": {
   "codemirror_mode": {
    "name": "ipython",
    "version": 3
   },
   "file_extension": ".py",
   "mimetype": "text/x-python",
   "name": "python",
   "nbconvert_exporter": "python",
   "pygments_lexer": "ipython3",
   "version": "3.8.5"
  }
 },
 "nbformat": 4,
 "nbformat_minor": 4
}
