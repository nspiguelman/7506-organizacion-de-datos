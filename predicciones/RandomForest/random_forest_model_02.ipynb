{
 "cells": [
  {
   "cell_type": "markdown",
   "id": "0105b816-194c-4db3-bfb2-b48e366d8384",
   "metadata": {},
   "source": [
    "## Random Forest"
   ]
  },
  {
   "cell_type": "markdown",
   "id": "f253f513-4fab-4f71-b272-cb9aca66001b",
   "metadata": {},
   "source": [
    "### Importamos las librerías"
   ]
  },
  {
   "cell_type": "code",
   "execution_count": 3,
   "id": "dd849587",
   "metadata": {},
   "outputs": [],
   "source": [
    "from sklearn.ensemble import RandomForestClassifier\n",
    "from sklearn.datasets import make_classification\n",
    "from sklearn.metrics import f1_score\n",
    "from sklearn.model_selection import train_test_split\n",
    "\n",
    "import pandas as pd\n",
    "import numpy as np\n",
    "%matplotlib inline\n",
    "import matplotlib.pyplot as plt\n",
    "from sklearn import tree"
   ]
  },
  {
   "cell_type": "markdown",
   "id": "b9f6ba13-d1e6-4e1d-91a1-9e864a203b11",
   "metadata": {},
   "source": [
    "### importamos los datos"
   ]
  },
  {
   "cell_type": "code",
   "execution_count": 4,
   "id": "217b7d49",
   "metadata": {
    "tags": []
   },
   "outputs": [],
   "source": [
    "df_train_labels = pd.read_csv('./../../datasets/train_labels.csv')\n",
    "df_train_values = pd.read_csv('./../../datasets/train_values_FE.csv')"
   ]
  },
  {
   "cell_type": "markdown",
   "id": "38453dd3",
   "metadata": {},
   "source": [
    "### Filtramos los datos"
   ]
  },
  {
   "cell_type": "code",
   "execution_count": 5,
   "id": "3e32daa8",
   "metadata": {},
   "outputs": [],
   "source": [
    "df_train_labels_filtrados = df_train_labels.drop(['building_id'], axis=1)\n",
    "df_train_values_filtrados = df_train_values.drop(['building_id'], axis=1)"
   ]
  },
  {
   "cell_type": "markdown",
   "id": "d1cbf93d",
   "metadata": {
    "tags": []
   },
   "source": [
    "### Implementación del algoritmo"
   ]
  },
  {
   "cell_type": "code",
   "execution_count": 6,
   "id": "0beb6bda",
   "metadata": {},
   "outputs": [],
   "source": [
    "X_train, X_test, y_train, y_test = train_test_split(df_train_values_filtrados, df_train_labels_filtrados, test_size=0.2, random_state=123)"
   ]
  },
  {
   "cell_type": "code",
   "execution_count": 8,
   "id": "a855f3c7",
   "metadata": {},
   "outputs": [
    {
     "data": {
      "text/plain": [
       "RandomForestClassifier(max_depth=30, random_state=42)"
      ]
     },
     "execution_count": 8,
     "metadata": {},
     "output_type": "execute_result"
    }
   ],
   "source": [
    "clf = RandomForestClassifier(max_depth=30, random_state=42)\n",
    "clf.fit(X_train, y_train.values.ravel())"
   ]
  },
  {
   "cell_type": "code",
   "execution_count": 12,
   "id": "14c37dca-e490-4bc3-83ac-a917d3e744ab",
   "metadata": {
    "tags": []
   },
   "outputs": [],
   "source": [
    "preds = clf.predict(X_test)"
   ]
  },
  {
   "cell_type": "code",
   "execution_count": 13,
   "id": "d2367b1a-a514-409d-87c3-908ef2cb4e58",
   "metadata": {},
   "outputs": [],
   "source": [
    "error = f1_score(y_test, preds, average='micro')"
   ]
  },
  {
   "cell_type": "code",
   "execution_count": 14,
   "id": "79106e6f-2c71-435c-bec1-6f444b153b57",
   "metadata": {},
   "outputs": [
    {
     "data": {
      "text/plain": [
       "0.6931371232324782"
      ]
     },
     "execution_count": 14,
     "metadata": {},
     "output_type": "execute_result"
    }
   ],
   "source": [
    "error"
   ]
  },
  {
   "cell_type": "markdown",
   "id": "cea9e00f",
   "metadata": {},
   "source": [
    "### Error de entrenamiento"
   ]
  },
  {
   "cell_type": "code",
   "execution_count": 15,
   "id": "7c15830b",
   "metadata": {},
   "outputs": [
    {
     "data": {
      "text/plain": [
       "0.8388670376055257"
      ]
     },
     "execution_count": 15,
     "metadata": {},
     "output_type": "execute_result"
    }
   ],
   "source": [
    "clf.score(X_train, y_train)"
   ]
  },
  {
   "cell_type": "markdown",
   "id": "45311fe6",
   "metadata": {},
   "source": [
    "### Error de generalización o testing"
   ]
  },
  {
   "cell_type": "code",
   "execution_count": 16,
   "id": "6b93ba0f",
   "metadata": {
    "tags": []
   },
   "outputs": [
    {
     "data": {
      "text/plain": [
       "0.6931371232324782"
      ]
     },
     "execution_count": 16,
     "metadata": {},
     "output_type": "execute_result"
    }
   ],
   "source": [
    "clf.score(X_test, y_test)"
   ]
  },
  {
   "cell_type": "code",
   "execution_count": null,
   "id": "851227e3",
   "metadata": {},
   "outputs": [],
   "source": [
    "tree0 = clf.estimators_[0]\n",
    "fig, axes = plt.subplots(nrows = 1, ncols = 1, figsize = (25,25), dpi=100)\n",
    "tree.plot_tree(tree0, feature_names = X_train.columns, filled = True)"
   ]
  },
  {
   "cell_type": "markdown",
   "id": "9021d496",
   "metadata": {
    "tags": []
   },
   "source": [
    "### Prueba de los datos de tests"
   ]
  },
  {
   "cell_type": "code",
   "execution_count": 34,
   "id": "285f8d41",
   "metadata": {},
   "outputs": [],
   "source": [
    "df_test_values = pd.read_csv('./../../datasets/test_values_FE.csv')\n",
    "df_test_values_filtrados = df_test_values.drop(['building_id'], axis=1)"
   ]
  },
  {
   "cell_type": "markdown",
   "id": "27a1b0ec",
   "metadata": {},
   "source": [
    "### Predicción"
   ]
  },
  {
   "cell_type": "code",
   "execution_count": 35,
   "id": "f18cd1b0",
   "metadata": {},
   "outputs": [
    {
     "data": {
      "text/plain": [
       "array([3, 2, 2, ..., 2, 2, 2])"
      ]
     },
     "execution_count": 35,
     "metadata": {},
     "output_type": "execute_result"
    }
   ],
   "source": [
    "preds = clf.predict(df_test_values_filtrados)\n",
    "preds"
   ]
  },
  {
   "cell_type": "code",
   "execution_count": 36,
   "id": "f16745b1",
   "metadata": {},
   "outputs": [
    {
     "data": {
      "text/html": [
       "<div>\n",
       "<style scoped>\n",
       "    .dataframe tbody tr th:only-of-type {\n",
       "        vertical-align: middle;\n",
       "    }\n",
       "\n",
       "    .dataframe tbody tr th {\n",
       "        vertical-align: top;\n",
       "    }\n",
       "\n",
       "    .dataframe thead th {\n",
       "        text-align: right;\n",
       "    }\n",
       "</style>\n",
       "<table border=\"1\" class=\"dataframe\">\n",
       "  <thead>\n",
       "    <tr style=\"text-align: right;\">\n",
       "      <th></th>\n",
       "      <th></th>\n",
       "    </tr>\n",
       "    <tr>\n",
       "      <th>building_id</th>\n",
       "      <th>damage_grade</th>\n",
       "    </tr>\n",
       "  </thead>\n",
       "  <tbody>\n",
       "    <tr>\n",
       "      <th>300051</th>\n",
       "      <th>3</th>\n",
       "    </tr>\n",
       "    <tr>\n",
       "      <th>99355</th>\n",
       "      <th>2</th>\n",
       "    </tr>\n",
       "    <tr>\n",
       "      <th>890251</th>\n",
       "      <th>2</th>\n",
       "    </tr>\n",
       "    <tr>\n",
       "      <th>745817</th>\n",
       "      <th>1</th>\n",
       "    </tr>\n",
       "    <tr>\n",
       "      <th>421793</th>\n",
       "      <th>3</th>\n",
       "    </tr>\n",
       "    <tr>\n",
       "      <th>...</th>\n",
       "      <th>...</th>\n",
       "    </tr>\n",
       "    <tr>\n",
       "      <th>310028</th>\n",
       "      <th>2</th>\n",
       "    </tr>\n",
       "    <tr>\n",
       "      <th>663567</th>\n",
       "      <th>2</th>\n",
       "    </tr>\n",
       "    <tr>\n",
       "      <th>1049160</th>\n",
       "      <th>2</th>\n",
       "    </tr>\n",
       "    <tr>\n",
       "      <th>442785</th>\n",
       "      <th>2</th>\n",
       "    </tr>\n",
       "    <tr>\n",
       "      <th>501372</th>\n",
       "      <th>2</th>\n",
       "    </tr>\n",
       "  </tbody>\n",
       "</table>\n",
       "<p>86868 rows × 0 columns</p>\n",
       "</div>"
      ],
      "text/plain": [
       "Empty DataFrame\n",
       "Columns: []\n",
       "Index: [(300051, 3), (99355, 2), (890251, 2), (745817, 1), (421793, 3), (871976, 3), (691228, 1), (896100, 3), (343471, 2), (766647, 2), (800548, 2), (652685, 2), (590834, 3), (612530, 3), (535718, 2), (269418, 2), (281421, 2), (797571, 2), (216579, 2), (81554, 2), (132785, 2), (976125, 3), (851237, 3), (322922, 2), (786774, 2), (922680, 2), (134349, 3), (551456, 2), (194812, 2), (520031, 3), (765502, 3), (517764, 2), (174470, 2), (395012, 2), (159776, 2), (62638, 2), (65760, 3), (761527, 2), (37201, 2), (853163, 2), (562505, 2), (349010, 3), (780817, 2), (179897, 2), (845103, 2), (171560, 3), (586661, 2), (84102, 2), (610806, 3), (269531, 2), (3781, 3), (127674, 2), (820462, 2), (955190, 2), (405557, 2), (143219, 3), (360041, 2), (378036, 2), (613583, 3), (992040, 3), (849585, 2), (491236, 3), (847580, 3), (229211, 3), (173624, 1), (642562, 2), (86467, 2), (684629, 2), (304627, 2), (255913, 3), (861624, 3), (367328, 2), (13216, 3), (838446, 3), (981040, 2), (335849, 2), (823769, 2), (666855, 2), (398783, 2), (829946, 2), (326177, 3), (359387, 3), (924578, 1), (712624, 2), (946541, 2), (373943, 2), (865274, 1), (522404, 2), (841632, 3), (649142, 2), (332157, 1), (722082, 1), (279597, 2), (107512, 2), (26477, 2), (138895, 2), (553866, 2), (157718, 3), (582842, 3), (123399, 2), ...]\n",
       "\n",
       "[86868 rows x 0 columns]"
      ]
     },
     "execution_count": 36,
     "metadata": {},
     "output_type": "execute_result"
    }
   ],
   "source": [
    "my_df = pd.DataFrame(preds)\n",
    "my_df['building_id'] = df_test_values['building_id']\n",
    "my_df = my_df.rename(columns={0: 'damage_grade'})[['building_id', 'damage_grade']]\n",
    "my_df = my_df.set_index(['building_id', 'damage_grade'])\n",
    "my_df"
   ]
  },
  {
   "cell_type": "markdown",
   "id": "c9ebe81b",
   "metadata": {},
   "source": [
    "### Pasaje a CSV"
   ]
  },
  {
   "cell_type": "code",
   "execution_count": 37,
   "id": "72497b9c",
   "metadata": {},
   "outputs": [],
   "source": [
    "my_df.to_csv('./../../datasets/prueba.csv')"
   ]
  }
 ],
 "metadata": {
  "kernelspec": {
   "display_name": "Python 3",
   "language": "python",
   "name": "python3"
  },
  "language_info": {
   "codemirror_mode": {
    "name": "ipython",
    "version": 3
   },
   "file_extension": ".py",
   "mimetype": "text/x-python",
   "name": "python",
   "nbconvert_exporter": "python",
   "pygments_lexer": "ipython3",
   "version": "3.8.10"
  }
 },
 "nbformat": 4,
 "nbformat_minor": 5
}
