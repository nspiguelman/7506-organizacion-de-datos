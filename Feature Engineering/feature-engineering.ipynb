{
 "cells": [
  {
   "cell_type": "markdown",
   "id": "9b651e6d-9b70-478b-8632-24f481118883",
   "metadata": {},
   "source": [
    "## Feature Engineering"
   ]
  },
  {
   "cell_type": "code",
   "execution_count": 2,
   "id": "5797ebcd-8ab2-4265-8191-dd5b3fd85bf2",
   "metadata": {},
   "outputs": [],
   "source": [
    "from sklearn import tree\n",
    "from sklearn.preprocessing import OneHotEncoder\n",
    "from sklearn.ensemble import RandomForestClassifier\n",
    "\n",
    "from sklearn.datasets import make_classification\n",
    "from sklearn.metrics import mean_squared_error\n",
    "from sklearn.metrics import f1_score\n",
    "from sklearn.feature_selection import SelectKBest, chi2\n",
    "from sklearn.model_selection import train_test_split\n",
    "\n",
    "import xgboost as xgb\n",
    "\n",
    "import pandas as pd\n",
    "import numpy as np\n",
    "%matplotlib inline\n",
    "import matplotlib.pyplot as plt\n",
    "import seaborn as sns"
   ]
  },
  {
   "cell_type": "code",
   "execution_count": 3,
   "id": "6428dcfc-8e4f-48f5-9153-25b50c350740",
   "metadata": {},
   "outputs": [],
   "source": [
    "# ROUTES\n",
    "\n",
    "RUTA_PARA_ENTRENAR = './../datasets/train_values.csv'\n",
    "RUTA_PARA_ACTUALIZAR_DS_DE_TRAINING = './../datasets/train_values_FE.csv'\n",
    "\n",
    "RUTA_PARA_TESTEAR = './../x/test_values.csv'\n",
    "RUTA_PARA_ACTUALIZAR_DS_DE_TEST = './../x/test_values_FE.csv'\n",
    "\n",
    "ORIGEN = RUTA_PARA_ENTRENAR\n",
    "ORIGEN_LABEL = './../datasets/train_labels.csv'\n",
    "DESTINO = RUTA_PARA_ACTUALIZAR_DS_DE_TRAINING"
   ]
  },
  {
   "cell_type": "markdown",
   "id": "ff96c343-b8b8-4bc8-a91c-55ba8113c7ed",
   "metadata": {},
   "source": [
    "### Importamos las features originales"
   ]
  },
  {
   "cell_type": "code",
   "execution_count": 4,
   "id": "ac69a91a-1346-4e64-a280-c7f933925dc2",
   "metadata": {},
   "outputs": [],
   "source": [
    "df_train_values = pd.read_csv(ORIGEN)\n",
    "df_train_labels = pd.read_csv(ORIGEN_LABEL)"
   ]
  },
  {
   "cell_type": "code",
   "execution_count": 5,
   "id": "5f72a3fa-0baa-4645-bb3d-af075cfece04",
   "metadata": {},
   "outputs": [],
   "source": [
    "df_a_filtrar = df_train_values"
   ]
  },
  {
   "cell_type": "code",
   "execution_count": 6,
   "id": "93435508-ab7a-4e23-9157-d4ef05b37c46",
   "metadata": {},
   "outputs": [
    {
     "data": {
      "text/html": [
       "<div>\n",
       "<style scoped>\n",
       "    .dataframe tbody tr th:only-of-type {\n",
       "        vertical-align: middle;\n",
       "    }\n",
       "\n",
       "    .dataframe tbody tr th {\n",
       "        vertical-align: top;\n",
       "    }\n",
       "\n",
       "    .dataframe thead th {\n",
       "        text-align: right;\n",
       "    }\n",
       "</style>\n",
       "<table border=\"1\" class=\"dataframe\">\n",
       "  <thead>\n",
       "    <tr style=\"text-align: right;\">\n",
       "      <th></th>\n",
       "      <th>building_id</th>\n",
       "      <th>geo_level_1_id</th>\n",
       "      <th>geo_level_2_id</th>\n",
       "      <th>geo_level_3_id</th>\n",
       "      <th>count_floors_pre_eq</th>\n",
       "      <th>age</th>\n",
       "      <th>area_percentage</th>\n",
       "      <th>height_percentage</th>\n",
       "      <th>land_surface_condition</th>\n",
       "      <th>foundation_type</th>\n",
       "      <th>...</th>\n",
       "      <th>has_secondary_use_agriculture</th>\n",
       "      <th>has_secondary_use_hotel</th>\n",
       "      <th>has_secondary_use_rental</th>\n",
       "      <th>has_secondary_use_institution</th>\n",
       "      <th>has_secondary_use_school</th>\n",
       "      <th>has_secondary_use_industry</th>\n",
       "      <th>has_secondary_use_health_post</th>\n",
       "      <th>has_secondary_use_gov_office</th>\n",
       "      <th>has_secondary_use_use_police</th>\n",
       "      <th>has_secondary_use_other</th>\n",
       "    </tr>\n",
       "  </thead>\n",
       "  <tbody>\n",
       "    <tr>\n",
       "      <th>0</th>\n",
       "      <td>802906</td>\n",
       "      <td>6</td>\n",
       "      <td>487</td>\n",
       "      <td>12198</td>\n",
       "      <td>2</td>\n",
       "      <td>30</td>\n",
       "      <td>6</td>\n",
       "      <td>5</td>\n",
       "      <td>t</td>\n",
       "      <td>r</td>\n",
       "      <td>...</td>\n",
       "      <td>0</td>\n",
       "      <td>0</td>\n",
       "      <td>0</td>\n",
       "      <td>0</td>\n",
       "      <td>0</td>\n",
       "      <td>0</td>\n",
       "      <td>0</td>\n",
       "      <td>0</td>\n",
       "      <td>0</td>\n",
       "      <td>0</td>\n",
       "    </tr>\n",
       "  </tbody>\n",
       "</table>\n",
       "<p>1 rows × 39 columns</p>\n",
       "</div>"
      ],
      "text/plain": [
       "   building_id  geo_level_1_id  geo_level_2_id  geo_level_3_id  \\\n",
       "0       802906               6             487           12198   \n",
       "\n",
       "   count_floors_pre_eq  age  area_percentage  height_percentage  \\\n",
       "0                    2   30                6                  5   \n",
       "\n",
       "  land_surface_condition foundation_type  ... has_secondary_use_agriculture  \\\n",
       "0                      t               r  ...                             0   \n",
       "\n",
       "  has_secondary_use_hotel has_secondary_use_rental  \\\n",
       "0                       0                        0   \n",
       "\n",
       "  has_secondary_use_institution has_secondary_use_school  \\\n",
       "0                             0                        0   \n",
       "\n",
       "   has_secondary_use_industry  has_secondary_use_health_post  \\\n",
       "0                           0                              0   \n",
       "\n",
       "   has_secondary_use_gov_office  has_secondary_use_use_police  \\\n",
       "0                             0                             0   \n",
       "\n",
       "   has_secondary_use_other  \n",
       "0                        0  \n",
       "\n",
       "[1 rows x 39 columns]"
      ]
     },
     "execution_count": 6,
     "metadata": {},
     "output_type": "execute_result"
    }
   ],
   "source": [
    "df_a_filtrar.head(1)"
   ]
  },
  {
   "cell_type": "markdown",
   "id": "ef483920-3113-45f7-acfc-4a7b13ad35ad",
   "metadata": {},
   "source": [
    "### Building_id"
   ]
  },
  {
   "cell_type": "code",
   "execution_count": 7,
   "id": "8f2b9ab8-5961-4b98-b6df-eccf9b085a62",
   "metadata": {},
   "outputs": [],
   "source": [
    "#df_a_filtrar = df_a_filtrar.drop(['building_id'], axis=1)"
   ]
  },
  {
   "cell_type": "markdown",
   "id": "bdcf3ded-90a6-46c1-8ed2-15df0039348c",
   "metadata": {
    "tags": []
   },
   "source": [
    "## Encoding"
   ]
  },
  {
   "cell_type": "code",
   "execution_count": 8,
   "id": "8cffc3b4-cf4b-4ea0-aab9-479bb174cde8",
   "metadata": {},
   "outputs": [],
   "source": [
    "encoder = OneHotEncoder()"
   ]
  },
  {
   "cell_type": "markdown",
   "id": "2a5feb3b-61c6-4480-ba59-384efdefb592",
   "metadata": {},
   "source": [
    "### Geo Level 1 id \n",
    "\n",
    "Como geolevel no tiene una relación de orden entre cada uno de sus elementos, debemos hacer un encoding para poder predecir.geo_level_1_idgeo_level_1_id"
   ]
  },
  {
   "cell_type": "code",
   "execution_count": 9,
   "id": "6d96dd9a-2e0d-4f5c-a0e3-5e1a88813f77",
   "metadata": {},
   "outputs": [],
   "source": [
    "df_a_filtrar['geo_level_1_id'] = pd.Categorical(df_a_filtrar['geo_level_1_id'])\n",
    "df_a_filtrar[['gl0', 'gl1', 'gl2', 'gl3', 'gl4', 'gl5', 'gl6', 'gl7', 'gl8', 'gl9', 'gl10', 'gl11', 'gl12', 'gl13', 'gl14', 'gl15', 'gl16', 'gl17', 'gl18', 'gl19', 'gl20', 'gl21', 'gl22', 'gl23', 'gl24', 'gl25', 'gl26', 'gl27', 'gl28', 'gl29', 'gl30']] = pd.get_dummies(df_a_filtrar['geo_level_1_id'])"
   ]
  },
  {
   "cell_type": "code",
   "execution_count": 10,
   "id": "c7a325b8-7e26-464e-a4cf-44c90d06313e",
   "metadata": {},
   "outputs": [],
   "source": [
    "df_a_filtrar = df_a_filtrar.drop(['geo_level_1_id', 'geo_level_2_id', 'geo_level_3_id'], axis=1)"
   ]
  },
  {
   "cell_type": "markdown",
   "id": "678b7d23-0f01-48c8-80f8-7442bdd52a7a",
   "metadata": {},
   "source": [
    "## count_floors_pre_eq\n",
    "\n",
    "Al tener una relación de orden, no es necesario hacer un encoding de los datos.\n",
    "\n",
    "### corregir si es necesario, sacando los datos que tienen pocas muestras."
   ]
  },
  {
   "cell_type": "code",
   "execution_count": 11,
   "id": "a2263935-c076-4bc0-8abe-ccdb32b6fecc",
   "metadata": {},
   "outputs": [
    {
     "data": {
      "text/plain": [
       "2    156623\n",
       "3     55617\n",
       "1     40441\n",
       "4      5424\n",
       "5      2246\n",
       "6       209\n",
       "7        39\n",
       "8         1\n",
       "9         1\n",
       "Name: count_floors_pre_eq, dtype: int64"
      ]
     },
     "execution_count": 11,
     "metadata": {},
     "output_type": "execute_result"
    }
   ],
   "source": [
    "df_a_filtrar['count_floors_pre_eq'].value_counts()"
   ]
  },
  {
   "cell_type": "markdown",
   "id": "7ae3a539-4baf-47bc-938f-6f50fb6d2342",
   "metadata": {},
   "source": [
    "## Age"
   ]
  },
  {
   "cell_type": "code",
   "execution_count": 12,
   "id": "f12d7cbc-c881-454f-994b-3a6e57410ac2",
   "metadata": {},
   "outputs": [
    {
     "data": {
      "text/plain": [
       "10    38896\n",
       "15    36010\n",
       "5     33697\n",
       "20    32182\n",
       "0     26041\n",
       "25    24366\n",
       "30    18028\n",
       "35    10710\n",
       "40    10559\n",
       "50     7257\n",
       "Name: age, dtype: int64"
      ]
     },
     "execution_count": 12,
     "metadata": {},
     "output_type": "execute_result"
    }
   ],
   "source": [
    "df_a_filtrar['age'].value_counts().head(10)"
   ]
  },
  {
   "cell_type": "markdown",
   "id": "dbfabfbd-2dd1-47df-9023-808f6d351829",
   "metadata": {},
   "source": [
    "## area_percentage"
   ]
  },
  {
   "cell_type": "code",
   "execution_count": 13,
   "id": "6df9b2ff-c7ad-474f-ba9b-45ac99328568",
   "metadata": {},
   "outputs": [
    {
     "data": {
      "text/plain": [
       "6      42013\n",
       "7      36752\n",
       "5      32724\n",
       "8      28445\n",
       "9      22199\n",
       "       ...  \n",
       "82         1\n",
       "80         1\n",
       "78         1\n",
       "75         1\n",
       "100        1\n",
       "Name: area_percentage, Length: 84, dtype: int64"
      ]
     },
     "execution_count": 13,
     "metadata": {},
     "output_type": "execute_result"
    }
   ],
   "source": [
    "df_a_filtrar['area_percentage'].value_counts()"
   ]
  },
  {
   "cell_type": "markdown",
   "id": "3ff36c11-b8e7-4af5-aec7-12642351394e",
   "metadata": {},
   "source": [
    "## Categóricos "
   ]
  },
  {
   "cell_type": "markdown",
   "id": "e0598206-6102-4267-9021-78babbdb5749",
   "metadata": {},
   "source": [
    "### land_surface_condition"
   ]
  },
  {
   "cell_type": "code",
   "execution_count": 14,
   "id": "797a2faa-ac5f-41dd-9cad-0b271f64da73",
   "metadata": {},
   "outputs": [
    {
     "data": {
      "text/plain": [
       "t    216757\n",
       "n     35528\n",
       "o      8316\n",
       "Name: land_surface_condition, dtype: int64"
      ]
     },
     "execution_count": 14,
     "metadata": {},
     "output_type": "execute_result"
    }
   ],
   "source": [
    "df_a_filtrar['land_surface_condition'].value_counts()"
   ]
  },
  {
   "cell_type": "code",
   "execution_count": 15,
   "id": "72ebf663-cd53-4306-afd4-af1802c09b89",
   "metadata": {},
   "outputs": [],
   "source": [
    "df_a_filtrar[['lsc_t', 'lsc_n', 'lsc_o']] = pd.get_dummies(df_a_filtrar['land_surface_condition'])"
   ]
  },
  {
   "cell_type": "code",
   "execution_count": 16,
   "id": "514c00b5-47a7-46b7-a2ce-f31d71a59270",
   "metadata": {},
   "outputs": [],
   "source": [
    "df_a_filtrar = df_a_filtrar.drop(['land_surface_condition'], axis=1)"
   ]
  },
  {
   "cell_type": "markdown",
   "id": "f1ef946c-bd80-4ce0-93fd-58e919612a2a",
   "metadata": {},
   "source": [
    "### foundation_type"
   ]
  },
  {
   "cell_type": "code",
   "execution_count": 17,
   "id": "3a637453-e44e-4f96-8456-59f564ff3dc7",
   "metadata": {},
   "outputs": [
    {
     "data": {
      "text/plain": [
       "r    219196\n",
       "w     15118\n",
       "u     14260\n",
       "i     10579\n",
       "h      1448\n",
       "Name: foundation_type, dtype: int64"
      ]
     },
     "execution_count": 17,
     "metadata": {},
     "output_type": "execute_result"
    }
   ],
   "source": [
    "df_a_filtrar['foundation_type'].value_counts()"
   ]
  },
  {
   "cell_type": "code",
   "execution_count": 18,
   "id": "7678bb18-9c56-42bd-b7db-fb13c900c7cd",
   "metadata": {
    "tags": []
   },
   "outputs": [],
   "source": [
    "df_a_filtrar[['ft_r', 'ft_w', 'ft_u', 'ft_i', 'ft_h']] = pd.get_dummies(df_a_filtrar['foundation_type'])"
   ]
  },
  {
   "cell_type": "code",
   "execution_count": 19,
   "id": "84259786-177a-470e-a2c1-2b77f4977977",
   "metadata": {},
   "outputs": [],
   "source": [
    "df_a_filtrar = df_a_filtrar.drop(['foundation_type'], axis=1)"
   ]
  },
  {
   "cell_type": "markdown",
   "id": "abe0dd45-128f-454b-a091-e2ee3d9c33e9",
   "metadata": {},
   "source": [
    "### roof_type"
   ]
  },
  {
   "cell_type": "code",
   "execution_count": 20,
   "id": "381a1a78-9a3b-4fc2-ad2b-9ff705439b0c",
   "metadata": {},
   "outputs": [
    {
     "data": {
      "text/plain": [
       "n    182842\n",
       "q     61576\n",
       "x     16183\n",
       "Name: roof_type, dtype: int64"
      ]
     },
     "execution_count": 20,
     "metadata": {},
     "output_type": "execute_result"
    }
   ],
   "source": [
    "df_a_filtrar['roof_type'].value_counts()"
   ]
  },
  {
   "cell_type": "code",
   "execution_count": 21,
   "id": "ed9fe053-9891-4441-b77b-5ea0bf629439",
   "metadata": {},
   "outputs": [],
   "source": [
    "df_a_filtrar[['rt_n', 'rt_q', 'rt_x']] = pd.get_dummies(df_a_filtrar['roof_type'])"
   ]
  },
  {
   "cell_type": "code",
   "execution_count": 22,
   "id": "a61fc985-f2b4-4bba-8380-436340cbcbd9",
   "metadata": {},
   "outputs": [],
   "source": [
    "df_a_filtrar = df_a_filtrar.drop(['roof_type'], axis=1)"
   ]
  },
  {
   "cell_type": "markdown",
   "id": "e8de7e2a-b714-4dbb-a7fc-dd940ddd0170",
   "metadata": {},
   "source": [
    "### ground_floor_type"
   ]
  },
  {
   "cell_type": "code",
   "execution_count": 23,
   "id": "1b76982f-0aef-4c2f-ac09-cf72bc0b7f30",
   "metadata": {},
   "outputs": [
    {
     "data": {
      "text/plain": [
       "f    209619\n",
       "x     24877\n",
       "v     24593\n",
       "z      1004\n",
       "m       508\n",
       "Name: ground_floor_type, dtype: int64"
      ]
     },
     "execution_count": 23,
     "metadata": {},
     "output_type": "execute_result"
    }
   ],
   "source": [
    "df_a_filtrar['ground_floor_type'].value_counts()"
   ]
  },
  {
   "cell_type": "code",
   "execution_count": 24,
   "id": "96127777-3cee-4394-b255-8e0e4ec260b1",
   "metadata": {},
   "outputs": [],
   "source": [
    "df_a_filtrar[['gft_f', 'gft_x', 'gft_v', 'gft_z', 'gft_m']] = pd.get_dummies(df_a_filtrar['ground_floor_type'])"
   ]
  },
  {
   "cell_type": "code",
   "execution_count": 25,
   "id": "2bfe65c8-f58f-4d65-a23f-121ffffd8425",
   "metadata": {},
   "outputs": [],
   "source": [
    "df_a_filtrar = df_a_filtrar.drop(['ground_floor_type'], axis=1)"
   ]
  },
  {
   "cell_type": "markdown",
   "id": "bf542b1e-870f-48ed-8d63-bb37223ae5cb",
   "metadata": {},
   "source": [
    "### other_floor_type\n",
    "\n",
    "Quiza conviene combinarlo con floor type"
   ]
  },
  {
   "cell_type": "code",
   "execution_count": 26,
   "id": "45e6560d-7df3-4596-8589-cee9e91eb5df",
   "metadata": {},
   "outputs": [
    {
     "data": {
      "text/plain": [
       "q    165282\n",
       "x     43448\n",
       "j     39843\n",
       "s     12028\n",
       "Name: other_floor_type, dtype: int64"
      ]
     },
     "execution_count": 26,
     "metadata": {},
     "output_type": "execute_result"
    }
   ],
   "source": [
    "df_a_filtrar['other_floor_type'].value_counts()"
   ]
  },
  {
   "cell_type": "code",
   "execution_count": 27,
   "id": "02bb81f8-5074-4f83-87b8-6658ccecfb54",
   "metadata": {},
   "outputs": [],
   "source": [
    "df_a_filtrar[['oft_q', 'oft_x', 'oft_j', 'oft_s']] = pd.get_dummies(df_a_filtrar['other_floor_type'])"
   ]
  },
  {
   "cell_type": "code",
   "execution_count": 28,
   "id": "338f377b-c113-41c8-93d8-a6330838a60c",
   "metadata": {},
   "outputs": [],
   "source": [
    "df_a_filtrar = df_a_filtrar.drop(['other_floor_type'], axis=1)"
   ]
  },
  {
   "cell_type": "markdown",
   "id": "1e79a345-cd5c-44b7-9cd4-627e2eefc94a",
   "metadata": {},
   "source": [
    "### position"
   ]
  },
  {
   "cell_type": "code",
   "execution_count": 29,
   "id": "758c8fa1-c984-4341-8af4-6d33e61dbe7d",
   "metadata": {},
   "outputs": [
    {
     "data": {
      "text/plain": [
       "s    202090\n",
       "t     42896\n",
       "j     13282\n",
       "o      2333\n",
       "Name: position, dtype: int64"
      ]
     },
     "execution_count": 29,
     "metadata": {},
     "output_type": "execute_result"
    }
   ],
   "source": [
    "df_a_filtrar['position'].value_counts()"
   ]
  },
  {
   "cell_type": "code",
   "execution_count": 30,
   "id": "e7912dcf-8373-40ac-813f-8049ebd98cc5",
   "metadata": {},
   "outputs": [],
   "source": [
    "df_a_filtrar[['p_s', 'p_t', 'p_j', 'p_o']] = pd.get_dummies(df_a_filtrar['position'])"
   ]
  },
  {
   "cell_type": "code",
   "execution_count": 31,
   "id": "dfd51574-4fec-471d-8022-6d2bbb6e3f2a",
   "metadata": {},
   "outputs": [],
   "source": [
    "df_a_filtrar = df_a_filtrar.drop(['position'], axis=1)"
   ]
  },
  {
   "cell_type": "markdown",
   "id": "6f2e37a0-56cb-4317-a07c-edd53cdae2c3",
   "metadata": {},
   "source": [
    "### plan_configuration"
   ]
  },
  {
   "cell_type": "code",
   "execution_count": 32,
   "id": "76a20fac-d335-45b8-a874-502b799d172a",
   "metadata": {},
   "outputs": [
    {
     "data": {
      "text/plain": [
       "d    250072\n",
       "q      5692\n",
       "u      3649\n",
       "s       346\n",
       "c       325\n",
       "a       252\n",
       "o       159\n",
       "m        46\n",
       "n        38\n",
       "f        22\n",
       "Name: plan_configuration, dtype: int64"
      ]
     },
     "execution_count": 32,
     "metadata": {},
     "output_type": "execute_result"
    }
   ],
   "source": [
    "df_a_filtrar['plan_configuration'].value_counts()"
   ]
  },
  {
   "cell_type": "code",
   "execution_count": 33,
   "id": "7120928b-3f75-433d-aa53-f8e6159d9947",
   "metadata": {},
   "outputs": [],
   "source": [
    "df_a_filtrar[['pc_d', 'pc_q', 'pq_u', 'pc_s', 'pc_c', 'pc_a', 'pc_o', 'pc_m', 'pc_n', 'pc_f']] = pd.get_dummies(df_a_filtrar['plan_configuration'])"
   ]
  },
  {
   "cell_type": "code",
   "execution_count": 34,
   "id": "c0784a3c-2de2-4dc1-a017-4f658957438c",
   "metadata": {},
   "outputs": [],
   "source": [
    "df_a_filtrar = df_a_filtrar.drop(['plan_configuration'], axis=1)"
   ]
  },
  {
   "cell_type": "markdown",
   "id": "137d5a10-dc83-4881-ba23-c53db39bfb9c",
   "metadata": {},
   "source": [
    "## legal_ownership_status"
   ]
  },
  {
   "cell_type": "code",
   "execution_count": 35,
   "id": "c915b6b5-5776-408e-a8b3-d061488536b1",
   "metadata": {},
   "outputs": [
    {
     "data": {
      "text/plain": [
       "v    250939\n",
       "a      5512\n",
       "w      2677\n",
       "r      1473\n",
       "Name: legal_ownership_status, dtype: int64"
      ]
     },
     "execution_count": 35,
     "metadata": {},
     "output_type": "execute_result"
    }
   ],
   "source": [
    "df_a_filtrar['legal_ownership_status'].value_counts()"
   ]
  },
  {
   "cell_type": "code",
   "execution_count": 36,
   "id": "13e3d2ee-871f-44e5-bcc3-7d7179fc9e9a",
   "metadata": {},
   "outputs": [],
   "source": [
    "df_a_filtrar[['los_v', 'los_a', 'los_w', 'los_r']] = pd.get_dummies(df_a_filtrar['legal_ownership_status'])"
   ]
  },
  {
   "cell_type": "code",
   "execution_count": 37,
   "id": "66051bab-8d1d-451a-86c4-4a675a91004e",
   "metadata": {},
   "outputs": [],
   "source": [
    "df_a_filtrar = df_a_filtrar.drop(['legal_ownership_status'], axis=1)"
   ]
  },
  {
   "cell_type": "markdown",
   "id": "14c931a4-9d27-4041-a015-3d7a451ab22f",
   "metadata": {},
   "source": [
    "## Estado de features"
   ]
  },
  {
   "cell_type": "code",
   "execution_count": 38,
   "id": "4fa602a5-94b6-4e80-b781-2b1d14611fee",
   "metadata": {},
   "outputs": [
    {
     "name": "stdout",
     "output_type": "stream",
     "text": [
      "<class 'pandas.core.frame.DataFrame'>\n",
      "RangeIndex: 260601 entries, 0 to 260600\n",
      "Data columns (total 97 columns):\n",
      " #   Column                                  Non-Null Count   Dtype\n",
      "---  ------                                  --------------   -----\n",
      " 0   building_id                             260601 non-null  int64\n",
      " 1   count_floors_pre_eq                     260601 non-null  int64\n",
      " 2   age                                     260601 non-null  int64\n",
      " 3   area_percentage                         260601 non-null  int64\n",
      " 4   height_percentage                       260601 non-null  int64\n",
      " 5   has_superstructure_adobe_mud            260601 non-null  int64\n",
      " 6   has_superstructure_mud_mortar_stone     260601 non-null  int64\n",
      " 7   has_superstructure_stone_flag           260601 non-null  int64\n",
      " 8   has_superstructure_cement_mortar_stone  260601 non-null  int64\n",
      " 9   has_superstructure_mud_mortar_brick     260601 non-null  int64\n",
      " 10  has_superstructure_cement_mortar_brick  260601 non-null  int64\n",
      " 11  has_superstructure_timber               260601 non-null  int64\n",
      " 12  has_superstructure_bamboo               260601 non-null  int64\n",
      " 13  has_superstructure_rc_non_engineered    260601 non-null  int64\n",
      " 14  has_superstructure_rc_engineered        260601 non-null  int64\n",
      " 15  has_superstructure_other                260601 non-null  int64\n",
      " 16  count_families                          260601 non-null  int64\n",
      " 17  has_secondary_use                       260601 non-null  int64\n",
      " 18  has_secondary_use_agriculture           260601 non-null  int64\n",
      " 19  has_secondary_use_hotel                 260601 non-null  int64\n",
      " 20  has_secondary_use_rental                260601 non-null  int64\n",
      " 21  has_secondary_use_institution           260601 non-null  int64\n",
      " 22  has_secondary_use_school                260601 non-null  int64\n",
      " 23  has_secondary_use_industry              260601 non-null  int64\n",
      " 24  has_secondary_use_health_post           260601 non-null  int64\n",
      " 25  has_secondary_use_gov_office            260601 non-null  int64\n",
      " 26  has_secondary_use_use_police            260601 non-null  int64\n",
      " 27  has_secondary_use_other                 260601 non-null  int64\n",
      " 28  gl0                                     260601 non-null  uint8\n",
      " 29  gl1                                     260601 non-null  uint8\n",
      " 30  gl2                                     260601 non-null  uint8\n",
      " 31  gl3                                     260601 non-null  uint8\n",
      " 32  gl4                                     260601 non-null  uint8\n",
      " 33  gl5                                     260601 non-null  uint8\n",
      " 34  gl6                                     260601 non-null  uint8\n",
      " 35  gl7                                     260601 non-null  uint8\n",
      " 36  gl8                                     260601 non-null  uint8\n",
      " 37  gl9                                     260601 non-null  uint8\n",
      " 38  gl10                                    260601 non-null  uint8\n",
      " 39  gl11                                    260601 non-null  uint8\n",
      " 40  gl12                                    260601 non-null  uint8\n",
      " 41  gl13                                    260601 non-null  uint8\n",
      " 42  gl14                                    260601 non-null  uint8\n",
      " 43  gl15                                    260601 non-null  uint8\n",
      " 44  gl16                                    260601 non-null  uint8\n",
      " 45  gl17                                    260601 non-null  uint8\n",
      " 46  gl18                                    260601 non-null  uint8\n",
      " 47  gl19                                    260601 non-null  uint8\n",
      " 48  gl20                                    260601 non-null  uint8\n",
      " 49  gl21                                    260601 non-null  uint8\n",
      " 50  gl22                                    260601 non-null  uint8\n",
      " 51  gl23                                    260601 non-null  uint8\n",
      " 52  gl24                                    260601 non-null  uint8\n",
      " 53  gl25                                    260601 non-null  uint8\n",
      " 54  gl26                                    260601 non-null  uint8\n",
      " 55  gl27                                    260601 non-null  uint8\n",
      " 56  gl28                                    260601 non-null  uint8\n",
      " 57  gl29                                    260601 non-null  uint8\n",
      " 58  gl30                                    260601 non-null  uint8\n",
      " 59  lsc_t                                   260601 non-null  uint8\n",
      " 60  lsc_n                                   260601 non-null  uint8\n",
      " 61  lsc_o                                   260601 non-null  uint8\n",
      " 62  ft_r                                    260601 non-null  uint8\n",
      " 63  ft_w                                    260601 non-null  uint8\n",
      " 64  ft_u                                    260601 non-null  uint8\n",
      " 65  ft_i                                    260601 non-null  uint8\n",
      " 66  ft_h                                    260601 non-null  uint8\n",
      " 67  rt_n                                    260601 non-null  uint8\n",
      " 68  rt_q                                    260601 non-null  uint8\n",
      " 69  rt_x                                    260601 non-null  uint8\n",
      " 70  gft_f                                   260601 non-null  uint8\n",
      " 71  gft_x                                   260601 non-null  uint8\n",
      " 72  gft_v                                   260601 non-null  uint8\n",
      " 73  gft_z                                   260601 non-null  uint8\n",
      " 74  gft_m                                   260601 non-null  uint8\n",
      " 75  oft_q                                   260601 non-null  uint8\n",
      " 76  oft_x                                   260601 non-null  uint8\n",
      " 77  oft_j                                   260601 non-null  uint8\n",
      " 78  oft_s                                   260601 non-null  uint8\n",
      " 79  p_s                                     260601 non-null  uint8\n",
      " 80  p_t                                     260601 non-null  uint8\n",
      " 81  p_j                                     260601 non-null  uint8\n",
      " 82  p_o                                     260601 non-null  uint8\n",
      " 83  pc_d                                    260601 non-null  uint8\n",
      " 84  pc_q                                    260601 non-null  uint8\n",
      " 85  pq_u                                    260601 non-null  uint8\n",
      " 86  pc_s                                    260601 non-null  uint8\n",
      " 87  pc_c                                    260601 non-null  uint8\n",
      " 88  pc_a                                    260601 non-null  uint8\n",
      " 89  pc_o                                    260601 non-null  uint8\n",
      " 90  pc_m                                    260601 non-null  uint8\n",
      " 91  pc_n                                    260601 non-null  uint8\n",
      " 92  pc_f                                    260601 non-null  uint8\n",
      " 93  los_v                                   260601 non-null  uint8\n",
      " 94  los_a                                   260601 non-null  uint8\n",
      " 95  los_w                                   260601 non-null  uint8\n",
      " 96  los_r                                   260601 non-null  uint8\n",
      "dtypes: int64(28), uint8(69)\n",
      "memory usage: 72.8 MB\n"
     ]
    }
   ],
   "source": [
    "df_a_filtrar.info()"
   ]
  },
  {
   "cell_type": "markdown",
   "id": "94363474-8702-424f-a14a-414d1901fbc3",
   "metadata": {},
   "source": [
    "## DataFrame con primer encoding\n",
    "\n",
    "Usando One-hot Encoder"
   ]
  },
  {
   "cell_type": "code",
   "execution_count": 345,
   "id": "e1f33dde-9824-456f-b9a2-a902941852ba",
   "metadata": {},
   "outputs": [],
   "source": [
    "df_a_filtrar = df_a_filtrar.set_index(['building_id'])\n",
    "df_a_filtrar.to_csv(DESTINO)"
   ]
  },
  {
   "cell_type": "code",
   "execution_count": 346,
   "id": "2dfde51a-e8de-4427-92e7-43f19513ac9d",
   "metadata": {},
   "outputs": [
    {
     "name": "stdout",
     "output_type": "stream",
     "text": [
      "<class 'pandas.core.frame.DataFrame'>\n",
      "Int64Index: 260601 entries, 802906 to 747594\n",
      "Data columns (total 96 columns):\n",
      " #   Column                                  Non-Null Count   Dtype\n",
      "---  ------                                  --------------   -----\n",
      " 0   count_floors_pre_eq                     260601 non-null  int64\n",
      " 1   age                                     260601 non-null  int64\n",
      " 2   area_percentage                         260601 non-null  int64\n",
      " 3   height_percentage                       260601 non-null  int64\n",
      " 4   has_superstructure_adobe_mud            260601 non-null  int64\n",
      " 5   has_superstructure_mud_mortar_stone     260601 non-null  int64\n",
      " 6   has_superstructure_stone_flag           260601 non-null  int64\n",
      " 7   has_superstructure_cement_mortar_stone  260601 non-null  int64\n",
      " 8   has_superstructure_mud_mortar_brick     260601 non-null  int64\n",
      " 9   has_superstructure_cement_mortar_brick  260601 non-null  int64\n",
      " 10  has_superstructure_timber               260601 non-null  int64\n",
      " 11  has_superstructure_bamboo               260601 non-null  int64\n",
      " 12  has_superstructure_rc_non_engineered    260601 non-null  int64\n",
      " 13  has_superstructure_rc_engineered        260601 non-null  int64\n",
      " 14  has_superstructure_other                260601 non-null  int64\n",
      " 15  count_families                          260601 non-null  int64\n",
      " 16  has_secondary_use                       260601 non-null  int64\n",
      " 17  has_secondary_use_agriculture           260601 non-null  int64\n",
      " 18  has_secondary_use_hotel                 260601 non-null  int64\n",
      " 19  has_secondary_use_rental                260601 non-null  int64\n",
      " 20  has_secondary_use_institution           260601 non-null  int64\n",
      " 21  has_secondary_use_school                260601 non-null  int64\n",
      " 22  has_secondary_use_industry              260601 non-null  int64\n",
      " 23  has_secondary_use_health_post           260601 non-null  int64\n",
      " 24  has_secondary_use_gov_office            260601 non-null  int64\n",
      " 25  has_secondary_use_use_police            260601 non-null  int64\n",
      " 26  has_secondary_use_other                 260601 non-null  int64\n",
      " 27  gl0                                     260601 non-null  uint8\n",
      " 28  gl1                                     260601 non-null  uint8\n",
      " 29  gl2                                     260601 non-null  uint8\n",
      " 30  gl3                                     260601 non-null  uint8\n",
      " 31  gl4                                     260601 non-null  uint8\n",
      " 32  gl5                                     260601 non-null  uint8\n",
      " 33  gl6                                     260601 non-null  uint8\n",
      " 34  gl7                                     260601 non-null  uint8\n",
      " 35  gl8                                     260601 non-null  uint8\n",
      " 36  gl9                                     260601 non-null  uint8\n",
      " 37  gl10                                    260601 non-null  uint8\n",
      " 38  gl11                                    260601 non-null  uint8\n",
      " 39  gl12                                    260601 non-null  uint8\n",
      " 40  gl13                                    260601 non-null  uint8\n",
      " 41  gl14                                    260601 non-null  uint8\n",
      " 42  gl15                                    260601 non-null  uint8\n",
      " 43  gl16                                    260601 non-null  uint8\n",
      " 44  gl17                                    260601 non-null  uint8\n",
      " 45  gl18                                    260601 non-null  uint8\n",
      " 46  gl19                                    260601 non-null  uint8\n",
      " 47  gl20                                    260601 non-null  uint8\n",
      " 48  gl21                                    260601 non-null  uint8\n",
      " 49  gl22                                    260601 non-null  uint8\n",
      " 50  gl23                                    260601 non-null  uint8\n",
      " 51  gl24                                    260601 non-null  uint8\n",
      " 52  gl25                                    260601 non-null  uint8\n",
      " 53  gl26                                    260601 non-null  uint8\n",
      " 54  gl27                                    260601 non-null  uint8\n",
      " 55  gl28                                    260601 non-null  uint8\n",
      " 56  gl29                                    260601 non-null  uint8\n",
      " 57  gl30                                    260601 non-null  uint8\n",
      " 58  lsc_t                                   260601 non-null  uint8\n",
      " 59  lsc_n                                   260601 non-null  uint8\n",
      " 60  lsc_o                                   260601 non-null  uint8\n",
      " 61  ft_r                                    260601 non-null  uint8\n",
      " 62  ft_w                                    260601 non-null  uint8\n",
      " 63  ft_u                                    260601 non-null  uint8\n",
      " 64  ft_i                                    260601 non-null  uint8\n",
      " 65  ft_h                                    260601 non-null  uint8\n",
      " 66  rt_n                                    260601 non-null  uint8\n",
      " 67  rt_q                                    260601 non-null  uint8\n",
      " 68  rt_x                                    260601 non-null  uint8\n",
      " 69  gft_f                                   260601 non-null  uint8\n",
      " 70  gft_x                                   260601 non-null  uint8\n",
      " 71  gft_v                                   260601 non-null  uint8\n",
      " 72  gft_z                                   260601 non-null  uint8\n",
      " 73  gft_m                                   260601 non-null  uint8\n",
      " 74  oft_q                                   260601 non-null  uint8\n",
      " 75  oft_x                                   260601 non-null  uint8\n",
      " 76  oft_j                                   260601 non-null  uint8\n",
      " 77  oft_s                                   260601 non-null  uint8\n",
      " 78  p_s                                     260601 non-null  uint8\n",
      " 79  p_t                                     260601 non-null  uint8\n",
      " 80  p_j                                     260601 non-null  uint8\n",
      " 81  p_o                                     260601 non-null  uint8\n",
      " 82  pc_d                                    260601 non-null  uint8\n",
      " 83  pc_q                                    260601 non-null  uint8\n",
      " 84  pq_u                                    260601 non-null  uint8\n",
      " 85  pc_s                                    260601 non-null  uint8\n",
      " 86  pc_c                                    260601 non-null  uint8\n",
      " 87  pc_a                                    260601 non-null  uint8\n",
      " 88  pc_o                                    260601 non-null  uint8\n",
      " 89  pc_m                                    260601 non-null  uint8\n",
      " 90  pc_n                                    260601 non-null  uint8\n",
      " 91  pc_f                                    260601 non-null  uint8\n",
      " 92  los_v                                   260601 non-null  uint8\n",
      " 93  los_a                                   260601 non-null  uint8\n",
      " 94  los_w                                   260601 non-null  uint8\n",
      " 95  los_r                                   260601 non-null  uint8\n",
      "dtypes: int64(27), uint8(69)\n",
      "memory usage: 72.8 MB\n"
     ]
    }
   ],
   "source": [
    "df_a_filtrar.info()"
   ]
  },
  {
   "cell_type": "code",
   "execution_count": 219,
   "id": "906ede16-0a03-41a0-9dd9-a1e6230cefe6",
   "metadata": {},
   "outputs": [
    {
     "name": "stdout",
     "output_type": "stream",
     "text": [
      "<class 'pandas.core.frame.DataFrame'>\n",
      "RangeIndex: 260601 entries, 0 to 260600\n",
      "Data columns (total 2 columns):\n",
      " #   Column        Non-Null Count   Dtype\n",
      "---  ------        --------------   -----\n",
      " 0   building_id   260601 non-null  int64\n",
      " 1   damage_grade  260601 non-null  int64\n",
      "dtypes: int64(2)\n",
      "memory usage: 4.0 MB\n"
     ]
    }
   ],
   "source": [
    "df_train_labels.info()"
   ]
  },
  {
   "cell_type": "code",
   "execution_count": 367,
   "id": "1cf8b7b6-f84c-4de2-8ec7-503f62dd81f2",
   "metadata": {},
   "outputs": [
    {
     "name": "stderr",
     "output_type": "stream",
     "text": [
      "/home/nahuel/.local/lib/python3.8/site-packages/xgboost/sklearn.py:1146: UserWarning: The use of label encoder in XGBClassifier is deprecated and will be removed in a future release. To remove this warning, do the following: 1) Pass option use_label_encoder=False when constructing XGBClassifier object; and 2) Encode your labels (y) as integers starting with 0, i.e. 0, 1, 2, ..., [num_class - 1].\n",
      "  warnings.warn(label_encoder_deprecation_msg, UserWarning)\n",
      "/home/nahuel/.local/lib/python3.8/site-packages/sklearn/utils/validation.py:63: DataConversionWarning: A column-vector y was passed when a 1d array was expected. Please change the shape of y to (n_samples, ), for example using ravel().\n",
      "  return f(*args, **kwargs)\n"
     ]
    },
    {
     "name": "stdout",
     "output_type": "stream",
     "text": [
      "[16:26:03] WARNING: ../src/learner.cc:1095: Starting in XGBoost 1.3.0, the default evaluation metric used with the objective 'multi:softprob' was changed from 'merror' to 'mlogloss'. Explicitly set eval_metric if you'd like to restore the old behavior.\n",
      "[0]\tvalidation_0-mlogloss:1.03109\n",
      "[1]\tvalidation_0-mlogloss:0.97975\n",
      "[2]\tvalidation_0-mlogloss:0.93695\n",
      "[3]\tvalidation_0-mlogloss:0.89957\n",
      "[4]\tvalidation_0-mlogloss:0.86852\n",
      "[5]\tvalidation_0-mlogloss:0.84628\n",
      "[6]\tvalidation_0-mlogloss:0.82117\n",
      "[7]\tvalidation_0-mlogloss:0.80590\n",
      "[8]\tvalidation_0-mlogloss:0.79109\n",
      "[9]\tvalidation_0-mlogloss:0.77974\n",
      "[10]\tvalidation_0-mlogloss:0.76967\n",
      "[11]\tvalidation_0-mlogloss:0.76118\n",
      "[12]\tvalidation_0-mlogloss:0.75281\n",
      "[13]\tvalidation_0-mlogloss:0.74600\n",
      "[14]\tvalidation_0-mlogloss:0.73979\n",
      "[15]\tvalidation_0-mlogloss:0.73358\n",
      "[16]\tvalidation_0-mlogloss:0.72831\n",
      "[17]\tvalidation_0-mlogloss:0.72355\n",
      "[18]\tvalidation_0-mlogloss:0.71927\n",
      "[19]\tvalidation_0-mlogloss:0.71473\n",
      "[20]\tvalidation_0-mlogloss:0.71198\n",
      "[21]\tvalidation_0-mlogloss:0.70900\n",
      "[22]\tvalidation_0-mlogloss:0.70655\n",
      "[23]\tvalidation_0-mlogloss:0.70339\n",
      "[24]\tvalidation_0-mlogloss:0.70154\n",
      "[25]\tvalidation_0-mlogloss:0.69804\n",
      "[26]\tvalidation_0-mlogloss:0.69584\n",
      "[27]\tvalidation_0-mlogloss:0.69424\n",
      "[28]\tvalidation_0-mlogloss:0.69256\n",
      "[29]\tvalidation_0-mlogloss:0.69076\n",
      "[30]\tvalidation_0-mlogloss:0.68904\n",
      "[31]\tvalidation_0-mlogloss:0.68706\n",
      "[32]\tvalidation_0-mlogloss:0.68539\n",
      "[33]\tvalidation_0-mlogloss:0.68395\n",
      "[34]\tvalidation_0-mlogloss:0.68262\n",
      "[35]\tvalidation_0-mlogloss:0.68149\n",
      "[36]\tvalidation_0-mlogloss:0.68033\n",
      "[37]\tvalidation_0-mlogloss:0.67931\n",
      "[38]\tvalidation_0-mlogloss:0.67818\n",
      "[39]\tvalidation_0-mlogloss:0.67723\n",
      "[40]\tvalidation_0-mlogloss:0.67627\n",
      "[41]\tvalidation_0-mlogloss:0.67543\n",
      "[42]\tvalidation_0-mlogloss:0.67468\n",
      "[43]\tvalidation_0-mlogloss:0.67392\n",
      "[44]\tvalidation_0-mlogloss:0.67324\n",
      "[45]\tvalidation_0-mlogloss:0.67268\n",
      "[46]\tvalidation_0-mlogloss:0.67208\n",
      "[47]\tvalidation_0-mlogloss:0.67149\n",
      "[48]\tvalidation_0-mlogloss:0.67101\n",
      "[49]\tvalidation_0-mlogloss:0.67053\n",
      "[50]\tvalidation_0-mlogloss:0.67014\n",
      "[51]\tvalidation_0-mlogloss:0.66979\n",
      "[52]\tvalidation_0-mlogloss:0.66936\n",
      "[53]\tvalidation_0-mlogloss:0.66901\n",
      "[54]\tvalidation_0-mlogloss:0.66867\n",
      "[55]\tvalidation_0-mlogloss:0.66828\n",
      "[56]\tvalidation_0-mlogloss:0.66791\n",
      "[57]\tvalidation_0-mlogloss:0.66757\n",
      "[58]\tvalidation_0-mlogloss:0.66721\n",
      "[59]\tvalidation_0-mlogloss:0.66691\n",
      "[60]\tvalidation_0-mlogloss:0.66655\n",
      "[61]\tvalidation_0-mlogloss:0.66631\n",
      "[62]\tvalidation_0-mlogloss:0.66591\n",
      "[63]\tvalidation_0-mlogloss:0.66564\n",
      "[64]\tvalidation_0-mlogloss:0.66528\n",
      "[65]\tvalidation_0-mlogloss:0.66503\n",
      "[66]\tvalidation_0-mlogloss:0.66472\n",
      "[67]\tvalidation_0-mlogloss:0.66448\n",
      "[68]\tvalidation_0-mlogloss:0.66424\n",
      "[69]\tvalidation_0-mlogloss:0.66401\n",
      "[70]\tvalidation_0-mlogloss:0.66383\n",
      "[71]\tvalidation_0-mlogloss:0.66364\n",
      "[72]\tvalidation_0-mlogloss:0.66334\n",
      "[73]\tvalidation_0-mlogloss:0.66316\n",
      "[74]\tvalidation_0-mlogloss:0.66296\n",
      "[75]\tvalidation_0-mlogloss:0.66276\n",
      "[76]\tvalidation_0-mlogloss:0.66255\n",
      "[77]\tvalidation_0-mlogloss:0.66236\n",
      "[78]\tvalidation_0-mlogloss:0.66215\n",
      "[79]\tvalidation_0-mlogloss:0.66198\n",
      "[80]\tvalidation_0-mlogloss:0.66182\n",
      "[81]\tvalidation_0-mlogloss:0.66168\n",
      "[82]\tvalidation_0-mlogloss:0.66153\n",
      "[83]\tvalidation_0-mlogloss:0.66139\n",
      "[84]\tvalidation_0-mlogloss:0.66119\n",
      "[85]\tvalidation_0-mlogloss:0.66100\n",
      "[86]\tvalidation_0-mlogloss:0.66088\n",
      "[87]\tvalidation_0-mlogloss:0.66075\n",
      "[88]\tvalidation_0-mlogloss:0.66060\n",
      "[89]\tvalidation_0-mlogloss:0.66051\n",
      "[90]\tvalidation_0-mlogloss:0.66033\n",
      "[91]\tvalidation_0-mlogloss:0.66023\n",
      "[92]\tvalidation_0-mlogloss:0.66011\n",
      "[93]\tvalidation_0-mlogloss:0.65989\n",
      "[94]\tvalidation_0-mlogloss:0.65977\n",
      "[95]\tvalidation_0-mlogloss:0.65966\n",
      "[96]\tvalidation_0-mlogloss:0.65953\n",
      "[97]\tvalidation_0-mlogloss:0.65941\n",
      "[98]\tvalidation_0-mlogloss:0.65928\n",
      "[99]\tvalidation_0-mlogloss:0.65915\n",
      "[100]\tvalidation_0-mlogloss:0.65903\n",
      "[101]\tvalidation_0-mlogloss:0.65894\n",
      "[102]\tvalidation_0-mlogloss:0.65881\n",
      "[103]\tvalidation_0-mlogloss:0.65871\n",
      "[104]\tvalidation_0-mlogloss:0.65864\n",
      "[105]\tvalidation_0-mlogloss:0.65855\n",
      "[106]\tvalidation_0-mlogloss:0.65848\n",
      "[107]\tvalidation_0-mlogloss:0.65834\n",
      "[108]\tvalidation_0-mlogloss:0.65824\n",
      "[109]\tvalidation_0-mlogloss:0.65813\n",
      "[110]\tvalidation_0-mlogloss:0.65803\n",
      "[111]\tvalidation_0-mlogloss:0.65794\n",
      "[112]\tvalidation_0-mlogloss:0.65787\n",
      "[113]\tvalidation_0-mlogloss:0.65777\n",
      "[114]\tvalidation_0-mlogloss:0.65766\n",
      "[115]\tvalidation_0-mlogloss:0.65758\n",
      "[116]\tvalidation_0-mlogloss:0.65749\n",
      "[117]\tvalidation_0-mlogloss:0.65742\n",
      "[118]\tvalidation_0-mlogloss:0.65736\n",
      "[119]\tvalidation_0-mlogloss:0.65728\n",
      "[120]\tvalidation_0-mlogloss:0.65718\n",
      "[121]\tvalidation_0-mlogloss:0.65709\n",
      "[122]\tvalidation_0-mlogloss:0.65697\n",
      "[123]\tvalidation_0-mlogloss:0.65689\n",
      "[124]\tvalidation_0-mlogloss:0.65677\n",
      "[125]\tvalidation_0-mlogloss:0.65671\n",
      "[126]\tvalidation_0-mlogloss:0.65662\n",
      "[127]\tvalidation_0-mlogloss:0.65653\n",
      "[128]\tvalidation_0-mlogloss:0.65645\n",
      "[129]\tvalidation_0-mlogloss:0.65636\n",
      "[130]\tvalidation_0-mlogloss:0.65629\n",
      "[131]\tvalidation_0-mlogloss:0.65627\n",
      "[132]\tvalidation_0-mlogloss:0.65617\n",
      "[133]\tvalidation_0-mlogloss:0.65614\n",
      "[134]\tvalidation_0-mlogloss:0.65606\n",
      "[135]\tvalidation_0-mlogloss:0.65597\n",
      "[136]\tvalidation_0-mlogloss:0.65591\n",
      "[137]\tvalidation_0-mlogloss:0.65586\n",
      "[138]\tvalidation_0-mlogloss:0.65582\n",
      "[139]\tvalidation_0-mlogloss:0.65577\n",
      "[140]\tvalidation_0-mlogloss:0.65573\n",
      "[141]\tvalidation_0-mlogloss:0.65566\n",
      "[142]\tvalidation_0-mlogloss:0.65560\n",
      "[143]\tvalidation_0-mlogloss:0.65553\n",
      "[144]\tvalidation_0-mlogloss:0.65548\n",
      "[145]\tvalidation_0-mlogloss:0.65545\n",
      "[146]\tvalidation_0-mlogloss:0.65540\n",
      "[147]\tvalidation_0-mlogloss:0.65534\n",
      "[148]\tvalidation_0-mlogloss:0.65528\n",
      "[149]\tvalidation_0-mlogloss:0.65525\n",
      "[150]\tvalidation_0-mlogloss:0.65518\n",
      "[151]\tvalidation_0-mlogloss:0.65514\n",
      "[152]\tvalidation_0-mlogloss:0.65509\n",
      "[153]\tvalidation_0-mlogloss:0.65504\n",
      "[154]\tvalidation_0-mlogloss:0.65502\n",
      "[155]\tvalidation_0-mlogloss:0.65498\n",
      "[156]\tvalidation_0-mlogloss:0.65492\n",
      "[157]\tvalidation_0-mlogloss:0.65489\n",
      "[158]\tvalidation_0-mlogloss:0.65484\n",
      "[159]\tvalidation_0-mlogloss:0.65478\n",
      "[160]\tvalidation_0-mlogloss:0.65474\n",
      "[161]\tvalidation_0-mlogloss:0.65463\n",
      "[162]\tvalidation_0-mlogloss:0.65458\n",
      "[163]\tvalidation_0-mlogloss:0.65451\n",
      "[164]\tvalidation_0-mlogloss:0.65445\n",
      "[165]\tvalidation_0-mlogloss:0.65434\n",
      "[166]\tvalidation_0-mlogloss:0.65430\n",
      "[167]\tvalidation_0-mlogloss:0.65428\n",
      "[168]\tvalidation_0-mlogloss:0.65427\n",
      "[169]\tvalidation_0-mlogloss:0.65423\n",
      "[170]\tvalidation_0-mlogloss:0.65418\n",
      "[171]\tvalidation_0-mlogloss:0.65413\n",
      "[172]\tvalidation_0-mlogloss:0.65409\n",
      "[173]\tvalidation_0-mlogloss:0.65405\n",
      "[174]\tvalidation_0-mlogloss:0.65402\n",
      "[175]\tvalidation_0-mlogloss:0.65397\n",
      "[176]\tvalidation_0-mlogloss:0.65394\n",
      "[177]\tvalidation_0-mlogloss:0.65392\n",
      "[178]\tvalidation_0-mlogloss:0.65388\n",
      "[179]\tvalidation_0-mlogloss:0.65386\n",
      "[180]\tvalidation_0-mlogloss:0.65382\n",
      "[181]\tvalidation_0-mlogloss:0.65381\n",
      "[182]\tvalidation_0-mlogloss:0.65380\n",
      "[183]\tvalidation_0-mlogloss:0.65375\n",
      "[184]\tvalidation_0-mlogloss:0.65373\n",
      "[185]\tvalidation_0-mlogloss:0.65368\n",
      "[186]\tvalidation_0-mlogloss:0.65359\n",
      "[187]\tvalidation_0-mlogloss:0.65354\n",
      "[188]\tvalidation_0-mlogloss:0.65352\n",
      "[189]\tvalidation_0-mlogloss:0.65347\n",
      "[190]\tvalidation_0-mlogloss:0.65345\n",
      "[191]\tvalidation_0-mlogloss:0.65345\n",
      "[192]\tvalidation_0-mlogloss:0.65340\n",
      "[193]\tvalidation_0-mlogloss:0.65338\n",
      "[194]\tvalidation_0-mlogloss:0.65338\n",
      "[195]\tvalidation_0-mlogloss:0.65334\n",
      "[196]\tvalidation_0-mlogloss:0.65332\n",
      "[197]\tvalidation_0-mlogloss:0.65331\n",
      "[198]\tvalidation_0-mlogloss:0.65329\n",
      "[199]\tvalidation_0-mlogloss:0.65328\n",
      "[200]\tvalidation_0-mlogloss:0.65328\n",
      "[201]\tvalidation_0-mlogloss:0.65324\n",
      "[202]\tvalidation_0-mlogloss:0.65324\n",
      "[203]\tvalidation_0-mlogloss:0.65324\n",
      "[204]\tvalidation_0-mlogloss:0.65322\n",
      "[205]\tvalidation_0-mlogloss:0.65323\n",
      "[206]\tvalidation_0-mlogloss:0.65321\n",
      "[207]\tvalidation_0-mlogloss:0.65320\n",
      "[208]\tvalidation_0-mlogloss:0.65319\n",
      "[209]\tvalidation_0-mlogloss:0.65318\n",
      "[210]\tvalidation_0-mlogloss:0.65314\n",
      "[211]\tvalidation_0-mlogloss:0.65311\n",
      "[212]\tvalidation_0-mlogloss:0.65301\n",
      "[213]\tvalidation_0-mlogloss:0.65301\n",
      "[214]\tvalidation_0-mlogloss:0.65296\n",
      "[215]\tvalidation_0-mlogloss:0.65290\n",
      "[216]\tvalidation_0-mlogloss:0.65289\n",
      "[217]\tvalidation_0-mlogloss:0.65285\n",
      "[218]\tvalidation_0-mlogloss:0.65284\n",
      "[219]\tvalidation_0-mlogloss:0.65283\n",
      "[220]\tvalidation_0-mlogloss:0.65282\n",
      "[221]\tvalidation_0-mlogloss:0.65281\n",
      "[222]\tvalidation_0-mlogloss:0.65278\n",
      "[223]\tvalidation_0-mlogloss:0.65275\n",
      "[224]\tvalidation_0-mlogloss:0.65274\n",
      "[225]\tvalidation_0-mlogloss:0.65272\n",
      "[226]\tvalidation_0-mlogloss:0.65269\n",
      "[227]\tvalidation_0-mlogloss:0.65267\n",
      "[228]\tvalidation_0-mlogloss:0.65268\n",
      "[229]\tvalidation_0-mlogloss:0.65265\n",
      "[230]\tvalidation_0-mlogloss:0.65266\n",
      "[231]\tvalidation_0-mlogloss:0.65264\n",
      "[232]\tvalidation_0-mlogloss:0.65260\n",
      "[233]\tvalidation_0-mlogloss:0.65259\n",
      "[234]\tvalidation_0-mlogloss:0.65258\n",
      "[235]\tvalidation_0-mlogloss:0.65257\n",
      "[236]\tvalidation_0-mlogloss:0.65257\n",
      "[237]\tvalidation_0-mlogloss:0.65255\n",
      "[238]\tvalidation_0-mlogloss:0.65251\n",
      "[239]\tvalidation_0-mlogloss:0.65247\n",
      "[240]\tvalidation_0-mlogloss:0.65245\n",
      "[241]\tvalidation_0-mlogloss:0.65244\n",
      "[242]\tvalidation_0-mlogloss:0.65246\n",
      "[243]\tvalidation_0-mlogloss:0.65241\n",
      "[244]\tvalidation_0-mlogloss:0.65240\n",
      "[245]\tvalidation_0-mlogloss:0.65240\n",
      "[246]\tvalidation_0-mlogloss:0.65237\n",
      "[247]\tvalidation_0-mlogloss:0.65234\n",
      "[248]\tvalidation_0-mlogloss:0.65233\n",
      "[249]\tvalidation_0-mlogloss:0.65233\n",
      "[250]\tvalidation_0-mlogloss:0.65228\n",
      "[251]\tvalidation_0-mlogloss:0.65226\n",
      "[252]\tvalidation_0-mlogloss:0.65225\n",
      "[253]\tvalidation_0-mlogloss:0.65224\n",
      "[254]\tvalidation_0-mlogloss:0.65225\n",
      "[255]\tvalidation_0-mlogloss:0.65222\n",
      "[256]\tvalidation_0-mlogloss:0.65221\n",
      "[257]\tvalidation_0-mlogloss:0.65222\n",
      "[258]\tvalidation_0-mlogloss:0.65220\n",
      "[259]\tvalidation_0-mlogloss:0.65220\n",
      "[260]\tvalidation_0-mlogloss:0.65217\n",
      "[261]\tvalidation_0-mlogloss:0.65219\n",
      "[262]\tvalidation_0-mlogloss:0.65217\n",
      "[263]\tvalidation_0-mlogloss:0.65214\n",
      "[264]\tvalidation_0-mlogloss:0.65213\n",
      "[265]\tvalidation_0-mlogloss:0.65212\n",
      "[266]\tvalidation_0-mlogloss:0.65213\n",
      "[267]\tvalidation_0-mlogloss:0.65210\n",
      "[268]\tvalidation_0-mlogloss:0.65212\n",
      "[269]\tvalidation_0-mlogloss:0.65211\n",
      "[270]\tvalidation_0-mlogloss:0.65212\n",
      "[271]\tvalidation_0-mlogloss:0.65214\n",
      "[272]\tvalidation_0-mlogloss:0.65215\n",
      "[273]\tvalidation_0-mlogloss:0.65214\n",
      "[274]\tvalidation_0-mlogloss:0.65213\n",
      "[275]\tvalidation_0-mlogloss:0.65212\n",
      "[276]\tvalidation_0-mlogloss:0.65209\n",
      "[277]\tvalidation_0-mlogloss:0.65209\n",
      "[278]\tvalidation_0-mlogloss:0.65204\n",
      "[279]\tvalidation_0-mlogloss:0.65204\n",
      "[280]\tvalidation_0-mlogloss:0.65202\n",
      "[281]\tvalidation_0-mlogloss:0.65204\n",
      "[282]\tvalidation_0-mlogloss:0.65204\n",
      "[283]\tvalidation_0-mlogloss:0.65204\n",
      "[284]\tvalidation_0-mlogloss:0.65200\n",
      "[285]\tvalidation_0-mlogloss:0.65198\n",
      "[286]\tvalidation_0-mlogloss:0.65196\n",
      "[287]\tvalidation_0-mlogloss:0.65195\n",
      "[288]\tvalidation_0-mlogloss:0.65195\n",
      "[289]\tvalidation_0-mlogloss:0.65195\n",
      "[290]\tvalidation_0-mlogloss:0.65194\n",
      "[291]\tvalidation_0-mlogloss:0.65191\n",
      "[292]\tvalidation_0-mlogloss:0.65188\n",
      "[293]\tvalidation_0-mlogloss:0.65188\n",
      "[294]\tvalidation_0-mlogloss:0.65185\n",
      "[295]\tvalidation_0-mlogloss:0.65183\n",
      "[296]\tvalidation_0-mlogloss:0.65181\n",
      "[297]\tvalidation_0-mlogloss:0.65182\n",
      "[298]\tvalidation_0-mlogloss:0.65182\n",
      "[299]\tvalidation_0-mlogloss:0.65181\n",
      "[300]\tvalidation_0-mlogloss:0.65180\n",
      "[301]\tvalidation_0-mlogloss:0.65178\n",
      "[302]\tvalidation_0-mlogloss:0.65177\n",
      "[303]\tvalidation_0-mlogloss:0.65178\n",
      "[304]\tvalidation_0-mlogloss:0.65177\n",
      "[305]\tvalidation_0-mlogloss:0.65173\n",
      "[306]\tvalidation_0-mlogloss:0.65173\n",
      "[307]\tvalidation_0-mlogloss:0.65172\n",
      "[308]\tvalidation_0-mlogloss:0.65168\n",
      "[309]\tvalidation_0-mlogloss:0.65166\n",
      "[310]\tvalidation_0-mlogloss:0.65167\n",
      "[311]\tvalidation_0-mlogloss:0.65166\n",
      "[312]\tvalidation_0-mlogloss:0.65163\n",
      "[313]\tvalidation_0-mlogloss:0.65164\n",
      "[314]\tvalidation_0-mlogloss:0.65164\n",
      "[315]\tvalidation_0-mlogloss:0.65163\n",
      "[316]\tvalidation_0-mlogloss:0.65160\n",
      "[317]\tvalidation_0-mlogloss:0.65161\n",
      "[318]\tvalidation_0-mlogloss:0.65159\n",
      "[319]\tvalidation_0-mlogloss:0.65159\n",
      "[320]\tvalidation_0-mlogloss:0.65158\n",
      "[321]\tvalidation_0-mlogloss:0.65157\n",
      "[322]\tvalidation_0-mlogloss:0.65156\n",
      "[323]\tvalidation_0-mlogloss:0.65155\n",
      "[324]\tvalidation_0-mlogloss:0.65156\n",
      "[325]\tvalidation_0-mlogloss:0.65155\n",
      "[326]\tvalidation_0-mlogloss:0.65157\n",
      "[327]\tvalidation_0-mlogloss:0.65158\n",
      "[328]\tvalidation_0-mlogloss:0.65158\n",
      "[329]\tvalidation_0-mlogloss:0.65159\n",
      "[330]\tvalidation_0-mlogloss:0.65159\n",
      "[331]\tvalidation_0-mlogloss:0.65158\n",
      "[332]\tvalidation_0-mlogloss:0.65159\n",
      "[333]\tvalidation_0-mlogloss:0.65161\n",
      "[334]\tvalidation_0-mlogloss:0.65160\n"
     ]
    }
   ],
   "source": [
    "xgb_cl = xgb.XGBClassifier(\n",
    "    objective=\"multi:softprob\",\n",
    "    seed=42,\n",
    "    nthread=3,\n",
    "    subsample=0.8,\n",
    "    num_parallel_tree=2,\n",
    "    n_estimators=500,\n",
    "    max_depth=14,\n",
    "    learning_rate=0.1,\n",
    "    min_child_weight=30\n",
    ")\n",
    "\n",
    "df_train_labels_filtrados = df_train_labels.drop(['building_id'], axis=1)\n",
    "df_train_values_filtrados = df_a_filtrar.reset_index().drop(['building_id'], axis=1)\n",
    "\n",
    "X_train, X_test, y_train, y_test = train_test_split(\n",
    "    df_train_values_filtrados,\n",
    "    df_train_labels_filtrados,\n",
    "    test_size=0.3,\n",
    "    random_state=123\n",
    ")\n",
    "\n",
    "eval_set = [(X_test, y_test)]\n",
    "training = xgb_cl.fit(X_train, y_train, early_stopping_rounds=10, verbose=True, eval_set=eval_set)"
   ]
  },
  {
   "cell_type": "markdown",
   "id": "c5d0d91c-12b5-4041-9bce-cb415fdc9ef6",
   "metadata": {},
   "source": [
    "### Se hace la predicción"
   ]
  },
  {
   "cell_type": "code",
   "execution_count": 368,
   "id": "e84406b9-c623-4e95-9592-e0ede6a24080",
   "metadata": {},
   "outputs": [],
   "source": [
    "preds = training.predict(X_test)"
   ]
  },
  {
   "cell_type": "markdown",
   "id": "f31e3b1c-8cbf-40c3-b2e6-63729c7740e4",
   "metadata": {},
   "source": [
    "### Error de entrenamiento"
   ]
  },
  {
   "cell_type": "code",
   "execution_count": 369,
   "id": "932f790e-33c1-4673-bac1-f44374aabf22",
   "metadata": {},
   "outputs": [
    {
     "data": {
      "text/plain": [
       "0.7286810656726236"
      ]
     },
     "execution_count": 369,
     "metadata": {},
     "output_type": "execute_result"
    }
   ],
   "source": [
    "xgb_cl.score(X_train, y_train)"
   ]
  },
  {
   "cell_type": "markdown",
   "id": "9614e8c6-e234-4f1d-aa98-353dd31ac412",
   "metadata": {},
   "source": [
    "### Error de generalización o testing"
   ]
  },
  {
   "cell_type": "code",
   "execution_count": 370,
   "id": "ef48de81-3d17-45cc-9ec8-a57ed1395558",
   "metadata": {
    "tags": []
   },
   "outputs": [
    {
     "data": {
      "text/plain": [
       "0.7001189547332473"
      ]
     },
     "execution_count": 370,
     "metadata": {},
     "output_type": "execute_result"
    }
   ],
   "source": [
    "xgb_cl.score(X_test, y_test)"
   ]
  },
  {
   "cell_type": "markdown",
   "id": "006a0829-fe57-41e8-b253-0bca8ba5f718",
   "metadata": {},
   "source": [
    "### Se calcula el error"
   ]
  },
  {
   "cell_type": "code",
   "execution_count": 357,
   "id": "5b3d5d85-40ec-444d-83d7-86b67ff1ef92",
   "metadata": {},
   "outputs": [],
   "source": [
    "score = f1_score(y_test, preds, average='micro')"
   ]
  },
  {
   "cell_type": "code",
   "execution_count": 358,
   "id": "891ff57d-55b4-4fce-bce2-b42dc9f7f70f",
   "metadata": {},
   "outputs": [
    {
     "name": "stdout",
     "output_type": "stream",
     "text": [
      "El score es: 0.7026771210396388\n"
     ]
    }
   ],
   "source": [
    "print(\"El score es: \" + str(score))"
   ]
  },
  {
   "cell_type": "code",
   "execution_count": null,
   "id": "f485c35d-9258-437c-a72b-144ac8d02383",
   "metadata": {},
   "outputs": [],
   "source": []
  }
 ],
 "metadata": {
  "kernelspec": {
   "display_name": "Python 3",
   "language": "python",
   "name": "python3"
  },
  "language_info": {
   "codemirror_mode": {
    "name": "ipython",
    "version": 3
   },
   "file_extension": ".py",
   "mimetype": "text/x-python",
   "name": "python",
   "nbconvert_exporter": "python",
   "pygments_lexer": "ipython3",
   "version": "3.8.10"
  }
 },
 "nbformat": 4,
 "nbformat_minor": 5
}
