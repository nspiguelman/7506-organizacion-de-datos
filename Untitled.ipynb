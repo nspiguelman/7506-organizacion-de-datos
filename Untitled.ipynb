{
 "cells": [
  {
   "cell_type": "code",
   "execution_count": 27,
   "id": "61aa6ad3-07c7-473a-8bd2-17af12f8ba32",
   "metadata": {},
   "outputs": [],
   "source": [
    "from sklearn.ensemble import RandomForestRegressor\n",
    "from sklearn.metrics import mean_squared_error\n",
    "import pandas as pd\n",
    "import numpy as np\n",
    "%matplotlib inline\n",
    "import matplotlib.pyplot as plt\n",
    "from sklearn import tree"
   ]
  },
  {
   "cell_type": "code",
   "execution_count": 28,
   "id": "8dd9f1c2-daa9-4e61-b761-2fc68fef221d",
   "metadata": {},
   "outputs": [],
   "source": [
    "df_train_labels = pd.read_csv('./datasets/train_labels.csv')\n",
    "df_train_values = pd.read_csv('./datasets/train_values.csv')"
   ]
  },
  {
   "cell_type": "markdown",
   "id": "4eea5f48-ae76-4d09-b174-b461e42ceaf2",
   "metadata": {},
   "source": [
    "### Filtramos los datos"
   ]
  },
  {
   "cell_type": "code",
   "execution_count": 29,
   "id": "98910039-8372-43e3-a87d-851052a38d5c",
   "metadata": {},
   "outputs": [],
   "source": [
    "df_train_labels_filtrados = df_train_labels.drop(['building_id'], axis=1)"
   ]
  },
  {
   "cell_type": "code",
   "execution_count": 30,
   "id": "f3034c91-e0c1-426d-bfed-2250ef8a3942",
   "metadata": {},
   "outputs": [],
   "source": [
    "df_train_values_filtrados = df_train_values.drop(['building_id'], axis=1)\n",
    "df_train_values_filtrados = df_train_values.drop(['land_surface_condition','foundation_type','roof_type', 'ground_floor_type', 'other_floor_type', 'position', 'plan_configuration', 'legal_ownership_status'], axis=1)"
   ]
  },
  {
   "cell_type": "markdown",
   "id": "fa3a4956-f93a-4bca-a2fc-c0acffb29365",
   "metadata": {},
   "source": [
    "### Implementación del algoritmo"
   ]
  },
  {
   "cell_type": "code",
   "execution_count": 31,
   "id": "56ee5696-c137-4008-baea-51729225977b",
   "metadata": {},
   "outputs": [],
   "source": [
    "from sklearn.model_selection import train_test_split\n",
    "\n",
    "X_train, X_test, y_train, y_test = train_test_split(df_train_values_filtrados, df_train_labels_filtrados, test_size=0.2, random_state=123)"
   ]
  },
  {
   "cell_type": "code",
   "execution_count": null,
   "id": "a94b70ca-3aaa-4169-bf6d-38af40e0afce",
   "metadata": {},
   "outputs": [],
   "source": [
    "rf_model = RandomForestRegressor(random_state=1)\n",
    "rf_model.fit(X_train, y_train.values.ravel())\n",
    "preds = rf_model.predict(X_test)\n",
    "rmse = np.sqrt(mean_squared_error(y_test, preds))\n",
    "print(\"RMSE: %f\" % (rmse))"
   ]
  }
 ],
 "metadata": {
  "kernelspec": {
   "display_name": "Python 3",
   "language": "python",
   "name": "python3"
  },
  "language_info": {
   "codemirror_mode": {
    "name": "ipython",
    "version": 3
   },
   "file_extension": ".py",
   "mimetype": "text/x-python",
   "name": "python",
   "nbconvert_exporter": "python",
   "pygments_lexer": "ipython3",
   "version": "3.8.10"
  }
 },
 "nbformat": 4,
 "nbformat_minor": 5
}
