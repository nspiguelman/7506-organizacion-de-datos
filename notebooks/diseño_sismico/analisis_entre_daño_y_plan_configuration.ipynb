{
 "cells": [
  {
   "cell_type": "markdown",
   "id": "c755d118",
   "metadata": {},
   "source": [
    "### Importando las librerias"
   ]
  },
  {
   "cell_type": "code",
   "execution_count": 1,
   "id": "9c6b5dbf",
   "metadata": {},
   "outputs": [],
   "source": [
    "# importacion general de librerias y de visualizacion (matplotlib y seaborn)\n",
    "import pandas as pd\n",
    "import numpy as np\n",
    "import random as rd\n",
    "import matplotlib.pyplot as plt\n",
    "import seaborn as sns\n",
    "\n",
    "%matplotlib inline\n",
    "\n",
    "plt.style.use('default') # haciendo los graficos un poco mas bonitos en matplotlib\n",
    "plt.rcParams['figure.figsize'] = (20, 10)\n",
    "\n",
    "sns.set(style=\"whitegrid\") # seteando tipo de grid en seaborn\n",
    "\n",
    "pd.options.display.float_format = '{:20,.2f}'.format # suprimimos la notacion cientifica en los outputs\n",
    "\n",
    "import warnings\n",
    "warnings.filterwarnings('ignore')"
   ]
  },
  {
   "cell_type": "markdown",
   "id": "f91c888c",
   "metadata": {},
   "source": [
    "### Importando los datasets"
   ]
  },
  {
   "cell_type": "code",
   "execution_count": 2,
   "id": "02d20c70",
   "metadata": {
    "tags": []
   },
   "outputs": [],
   "source": [
    "df_train_values = pd.read_csv('../datasets/train_values.csv')\n",
    "df_train_labels = pd.read_csv('../datasets/train_labels.csv')"
   ]
  },
  {
   "cell_type": "markdown",
   "id": "f8395121",
   "metadata": {},
   "source": [
    "### Daño por diseño antisismico"
   ]
  },
  {
   "cell_type": "markdown",
   "id": "3ffd73df",
   "metadata": {},
   "source": [
    "Una hipótesis obvia, es que algunas construcciones antisismicas fueron mas efectivas que otras. Puede también influir otros factores como el año de construcción o la cantidad de pisos. Serán otros desarrollos.\n",
    "\n",
    "Como pregunta se podría hacer: Que diseño antisísmico fue mas efectivo?"
   ]
  },
  {
   "cell_type": "markdown",
   "id": "c6781318",
   "metadata": {},
   "source": [
    "#### Filtro los datos"
   ]
  },
  {
   "cell_type": "code",
   "execution_count": 3,
   "id": "ece8bc5d",
   "metadata": {},
   "outputs": [],
   "source": [
    "df_plan_configuration_filtered = df_train_values.loc[:, ['building_id', 'plan_configuration']]"
   ]
  },
  {
   "cell_type": "markdown",
   "id": "4fc3540e",
   "metadata": {},
   "source": [
    "#### Calculo el total por configuración"
   ]
  },
  {
   "cell_type": "code",
   "execution_count": 4,
   "id": "db904e8d",
   "metadata": {},
   "outputs": [],
   "source": [
    "total_buildings_by_plan_conf = df_plan_configuration_filtered.groupby('plan_configuration')\\\n",
    "    .count()\\\n",
    "    .reset_index()\\\n",
    "    .rename(columns = {'building_id': 'total_buildings_by_plan_configuration'})"
   ]
  },
  {
   "cell_type": "markdown",
   "id": "9d4478ae",
   "metadata": {},
   "source": [
    "#### Hago el merge de los datos"
   ]
  },
  {
   "cell_type": "code",
   "execution_count": 5,
   "id": "9a903816",
   "metadata": {},
   "outputs": [],
   "source": [
    "df_merged_with_plan_and_damage = df_train_labels\\\n",
    "    .merge(df_plan_configuration_filtered)\\\n",
    "    .merge(total_buildings_by_plan_conf)"
   ]
  },
  {
   "cell_type": "code",
   "execution_count": 6,
   "id": "de6b60db",
   "metadata": {},
   "outputs": [
    {
     "data": {
      "text/html": [
       "<div>\n",
       "<style scoped>\n",
       "    .dataframe tbody tr th:only-of-type {\n",
       "        vertical-align: middle;\n",
       "    }\n",
       "\n",
       "    .dataframe tbody tr th {\n",
       "        vertical-align: top;\n",
       "    }\n",
       "\n",
       "    .dataframe thead th {\n",
       "        text-align: right;\n",
       "    }\n",
       "</style>\n",
       "<table border=\"1\" class=\"dataframe\">\n",
       "  <thead>\n",
       "    <tr style=\"text-align: right;\">\n",
       "      <th></th>\n",
       "      <th></th>\n",
       "      <th></th>\n",
       "      <th>building_id</th>\n",
       "    </tr>\n",
       "    <tr>\n",
       "      <th>plan_configuration</th>\n",
       "      <th>damage_grade</th>\n",
       "      <th>total_buildings_by_plan_configuration</th>\n",
       "      <th></th>\n",
       "    </tr>\n",
       "  </thead>\n",
       "  <tbody>\n",
       "    <tr>\n",
       "      <th rowspan=\"3\" valign=\"top\">a</th>\n",
       "      <th>1</th>\n",
       "      <th>252</th>\n",
       "      <td>66</td>\n",
       "    </tr>\n",
       "    <tr>\n",
       "      <th>2</th>\n",
       "      <th>252</th>\n",
       "      <td>157</td>\n",
       "    </tr>\n",
       "    <tr>\n",
       "      <th>3</th>\n",
       "      <th>252</th>\n",
       "      <td>29</td>\n",
       "    </tr>\n",
       "    <tr>\n",
       "      <th rowspan=\"3\" valign=\"top\">c</th>\n",
       "      <th>1</th>\n",
       "      <th>325</th>\n",
       "      <td>86</td>\n",
       "    </tr>\n",
       "    <tr>\n",
       "      <th>2</th>\n",
       "      <th>325</th>\n",
       "      <td>206</td>\n",
       "    </tr>\n",
       "    <tr>\n",
       "      <th>3</th>\n",
       "      <th>325</th>\n",
       "      <td>33</td>\n",
       "    </tr>\n",
       "    <tr>\n",
       "      <th rowspan=\"3\" valign=\"top\">d</th>\n",
       "      <th>1</th>\n",
       "      <th>250072</th>\n",
       "      <td>23310</td>\n",
       "    </tr>\n",
       "    <tr>\n",
       "      <th>2</th>\n",
       "      <th>250072</th>\n",
       "      <td>142523</td>\n",
       "    </tr>\n",
       "    <tr>\n",
       "      <th>3</th>\n",
       "      <th>250072</th>\n",
       "      <td>84239</td>\n",
       "    </tr>\n",
       "    <tr>\n",
       "      <th rowspan=\"2\" valign=\"top\">f</th>\n",
       "      <th>2</th>\n",
       "      <th>22</th>\n",
       "      <td>16</td>\n",
       "    </tr>\n",
       "    <tr>\n",
       "      <th>3</th>\n",
       "      <th>22</th>\n",
       "      <td>6</td>\n",
       "    </tr>\n",
       "    <tr>\n",
       "      <th rowspan=\"3\" valign=\"top\">m</th>\n",
       "      <th>1</th>\n",
       "      <th>46</th>\n",
       "      <td>8</td>\n",
       "    </tr>\n",
       "    <tr>\n",
       "      <th>2</th>\n",
       "      <th>46</th>\n",
       "      <td>34</td>\n",
       "    </tr>\n",
       "    <tr>\n",
       "      <th>3</th>\n",
       "      <th>46</th>\n",
       "      <td>4</td>\n",
       "    </tr>\n",
       "    <tr>\n",
       "      <th rowspan=\"3\" valign=\"top\">n</th>\n",
       "      <th>1</th>\n",
       "      <th>38</th>\n",
       "      <td>6</td>\n",
       "    </tr>\n",
       "    <tr>\n",
       "      <th>2</th>\n",
       "      <th>38</th>\n",
       "      <td>20</td>\n",
       "    </tr>\n",
       "    <tr>\n",
       "      <th>3</th>\n",
       "      <th>38</th>\n",
       "      <td>12</td>\n",
       "    </tr>\n",
       "    <tr>\n",
       "      <th rowspan=\"3\" valign=\"top\">o</th>\n",
       "      <th>1</th>\n",
       "      <th>159</th>\n",
       "      <td>40</td>\n",
       "    </tr>\n",
       "    <tr>\n",
       "      <th>2</th>\n",
       "      <th>159</th>\n",
       "      <td>96</td>\n",
       "    </tr>\n",
       "    <tr>\n",
       "      <th>3</th>\n",
       "      <th>159</th>\n",
       "      <td>23</td>\n",
       "    </tr>\n",
       "    <tr>\n",
       "      <th rowspan=\"3\" valign=\"top\">q</th>\n",
       "      <th>1</th>\n",
       "      <th>5692</th>\n",
       "      <td>781</td>\n",
       "    </tr>\n",
       "    <tr>\n",
       "      <th>2</th>\n",
       "      <th>5692</th>\n",
       "      <td>2585</td>\n",
       "    </tr>\n",
       "    <tr>\n",
       "      <th>3</th>\n",
       "      <th>5692</th>\n",
       "      <td>2326</td>\n",
       "    </tr>\n",
       "    <tr>\n",
       "      <th rowspan=\"3\" valign=\"top\">s</th>\n",
       "      <th>1</th>\n",
       "      <th>346</th>\n",
       "      <td>53</td>\n",
       "    </tr>\n",
       "    <tr>\n",
       "      <th>2</th>\n",
       "      <th>346</th>\n",
       "      <td>223</td>\n",
       "    </tr>\n",
       "    <tr>\n",
       "      <th>3</th>\n",
       "      <th>346</th>\n",
       "      <td>70</td>\n",
       "    </tr>\n",
       "    <tr>\n",
       "      <th rowspan=\"3\" valign=\"top\">u</th>\n",
       "      <th>1</th>\n",
       "      <th>3649</th>\n",
       "      <td>774</td>\n",
       "    </tr>\n",
       "    <tr>\n",
       "      <th>2</th>\n",
       "      <th>3649</th>\n",
       "      <td>2399</td>\n",
       "    </tr>\n",
       "    <tr>\n",
       "      <th>3</th>\n",
       "      <th>3649</th>\n",
       "      <td>476</td>\n",
       "    </tr>\n",
       "  </tbody>\n",
       "</table>\n",
       "</div>"
      ],
      "text/plain": [
       "                                                                       building_id\n",
       "plan_configuration damage_grade total_buildings_by_plan_configuration             \n",
       "a                  1            252                                             66\n",
       "                   2            252                                            157\n",
       "                   3            252                                             29\n",
       "c                  1            325                                             86\n",
       "                   2            325                                            206\n",
       "                   3            325                                             33\n",
       "d                  1            250072                                       23310\n",
       "                   2            250072                                      142523\n",
       "                   3            250072                                       84239\n",
       "f                  2            22                                              16\n",
       "                   3            22                                               6\n",
       "m                  1            46                                               8\n",
       "                   2            46                                              34\n",
       "                   3            46                                               4\n",
       "n                  1            38                                               6\n",
       "                   2            38                                              20\n",
       "                   3            38                                              12\n",
       "o                  1            159                                             40\n",
       "                   2            159                                             96\n",
       "                   3            159                                             23\n",
       "q                  1            5692                                           781\n",
       "                   2            5692                                          2585\n",
       "                   3            5692                                          2326\n",
       "s                  1            346                                             53\n",
       "                   2            346                                            223\n",
       "                   3            346                                             70\n",
       "u                  1            3649                                           774\n",
       "                   2            3649                                          2399\n",
       "                   3            3649                                           476"
      ]
     },
     "execution_count": 6,
     "metadata": {},
     "output_type": "execute_result"
    }
   ],
   "source": [
    "df_merged_with_plan_and_damage\\\n",
    "    .groupby(['plan_configuration', 'damage_grade', 'total_buildings_by_plan_configuration'])\\\n",
    "    .count()"
   ]
  },
  {
   "cell_type": "code",
   "execution_count": 7,
   "id": "26876258",
   "metadata": {},
   "outputs": [],
   "source": [
    "df_plan_and_damage_with_percentage = df_merged_with_plan_and_damage\\\n",
    "    .groupby(['plan_configuration', 'damage_grade', 'total_buildings_by_plan_configuration'])\\\n",
    "    .count()\\\n",
    "    .reset_index()\\\n",
    "    .rename(columns = { 'building_id': 'total_buildings_by_plan_and_damage' })\n",
    "\n",
    "df_plan_and_damage_with_percentage['porcentaje'] = (df_plan_and_damage_with_percentage['total_buildings_by_plan_and_damage'] * 100) / df_plan_and_damage_with_percentage['total_buildings_by_plan_configuration']"
   ]
  },
  {
   "cell_type": "code",
   "execution_count": 9,
   "id": "fae281db",
   "metadata": {},
   "outputs": [
    {
     "data": {
      "text/html": [
       "<div>\n",
       "<style scoped>\n",
       "    .dataframe tbody tr th:only-of-type {\n",
       "        vertical-align: middle;\n",
       "    }\n",
       "\n",
       "    .dataframe tbody tr th {\n",
       "        vertical-align: top;\n",
       "    }\n",
       "\n",
       "    .dataframe thead th {\n",
       "        text-align: right;\n",
       "    }\n",
       "</style>\n",
       "<table border=\"1\" class=\"dataframe\">\n",
       "  <thead>\n",
       "    <tr style=\"text-align: right;\">\n",
       "      <th>damage_grade</th>\n",
       "      <th>1</th>\n",
       "      <th>2</th>\n",
       "      <th>3</th>\n",
       "    </tr>\n",
       "    <tr>\n",
       "      <th>plan_configuration</th>\n",
       "      <th></th>\n",
       "      <th></th>\n",
       "      <th></th>\n",
       "    </tr>\n",
       "  </thead>\n",
       "  <tbody>\n",
       "    <tr>\n",
       "      <th>a</th>\n",
       "      <td>26.19</td>\n",
       "      <td>62.30</td>\n",
       "      <td>11.51</td>\n",
       "    </tr>\n",
       "    <tr>\n",
       "      <th>c</th>\n",
       "      <td>26.46</td>\n",
       "      <td>63.38</td>\n",
       "      <td>10.15</td>\n",
       "    </tr>\n",
       "    <tr>\n",
       "      <th>d</th>\n",
       "      <td>9.32</td>\n",
       "      <td>56.99</td>\n",
       "      <td>33.69</td>\n",
       "    </tr>\n",
       "    <tr>\n",
       "      <th>f</th>\n",
       "      <td>NaN</td>\n",
       "      <td>72.73</td>\n",
       "      <td>27.27</td>\n",
       "    </tr>\n",
       "    <tr>\n",
       "      <th>m</th>\n",
       "      <td>17.39</td>\n",
       "      <td>73.91</td>\n",
       "      <td>8.70</td>\n",
       "    </tr>\n",
       "    <tr>\n",
       "      <th>n</th>\n",
       "      <td>15.79</td>\n",
       "      <td>52.63</td>\n",
       "      <td>31.58</td>\n",
       "    </tr>\n",
       "    <tr>\n",
       "      <th>o</th>\n",
       "      <td>25.16</td>\n",
       "      <td>60.38</td>\n",
       "      <td>14.47</td>\n",
       "    </tr>\n",
       "    <tr>\n",
       "      <th>q</th>\n",
       "      <td>13.72</td>\n",
       "      <td>45.41</td>\n",
       "      <td>40.86</td>\n",
       "    </tr>\n",
       "    <tr>\n",
       "      <th>s</th>\n",
       "      <td>15.32</td>\n",
       "      <td>64.45</td>\n",
       "      <td>20.23</td>\n",
       "    </tr>\n",
       "    <tr>\n",
       "      <th>u</th>\n",
       "      <td>21.21</td>\n",
       "      <td>65.74</td>\n",
       "      <td>13.04</td>\n",
       "    </tr>\n",
       "  </tbody>\n",
       "</table>\n",
       "</div>"
      ],
      "text/plain": [
       "damage_grade                          1                    2  \\\n",
       "plan_configuration                                             \n",
       "a                                 26.19                62.30   \n",
       "c                                 26.46                63.38   \n",
       "d                                  9.32                56.99   \n",
       "f                                   NaN                72.73   \n",
       "m                                 17.39                73.91   \n",
       "n                                 15.79                52.63   \n",
       "o                                 25.16                60.38   \n",
       "q                                 13.72                45.41   \n",
       "s                                 15.32                64.45   \n",
       "u                                 21.21                65.74   \n",
       "\n",
       "damage_grade                          3  \n",
       "plan_configuration                       \n",
       "a                                 11.51  \n",
       "c                                 10.15  \n",
       "d                                 33.69  \n",
       "f                                 27.27  \n",
       "m                                  8.70  \n",
       "n                                 31.58  \n",
       "o                                 14.47  \n",
       "q                                 40.86  \n",
       "s                                 20.23  \n",
       "u                                 13.04  "
      ]
     },
     "execution_count": 9,
     "metadata": {},
     "output_type": "execute_result"
    }
   ],
   "source": [
    "df_plan_and_damage_with_percentage_bar =  df_plan_and_damage_with_percentage.pivot(index='plan_configuration', columns='damage_grade',values='porcentaje')\n",
    "df_plan_and_damage_with_percentage_bar"
   ]
  },
  {
   "cell_type": "code",
   "execution_count": 10,
   "id": "24c0ac3b",
   "metadata": {},
   "outputs": [
    {
     "data": {
      "image/png": "[encoded data removed]",
      "text/plain": [
       "<Figure size 1000x1000 with 1 Axes>"
      ]
     },
     "metadata": {},
     "output_type": "display_data"
    }
   ],
   "source": [
    "df_plan_and_damage_with_percentage_bar.plot(kind='bar',figsize=(10,10), rot=0, \\\n",
    " title='Porcentaje de la cantidad de edificaciones con cada grado de daño segun el plan_configuration',\n",
    " color={ 1: '#f1c40f', 2: '#da732e', 3: '#ff1e23' })\n",
    "ax=plt.gca()\n",
    "ax.set_xlabel('plan_configuration')\n",
    "ax.set_ylabel('Porcentaje');"
   ]
  },
  {
   "cell_type": "markdown",
   "id": "d7582db0",
   "metadata": {},
   "source": [
    "Con estos resultados podríamos decir que las categorías a, c, m y o fueron menos perjudicadas. En terminos relativos han sufrido menor cantidad de daño que las demás categorías, las cuales, tienen cierta coherencia con el resto de los datos. "
   ]
  },
  {
   "cell_type": "markdown",
   "id": "09be9aa7",
   "metadata": {},
   "source": [
    "Podríamos analizar ahora, que es lo que pasará con esas categorías contemplando otras variables como la edad o la cantidad de pisos."
   ]
  },
  {
   "cell_type": "markdown",
   "id": "a9032c96",
   "metadata": {},
   "source": [
    "__Filtro los datos por plan de configuración a analizar__"
   ]
  },
  {
   "cell_type": "code",
   "execution_count": 20,
   "id": "21b76b6c",
   "metadata": {},
   "outputs": [
    {
     "data": {
      "text/html": [
       "<div>\n",
       "<style scoped>\n",
       "    .dataframe tbody tr th:only-of-type {\n",
       "        vertical-align: middle;\n",
       "    }\n",
       "\n",
       "    .dataframe tbody tr th {\n",
       "        vertical-align: top;\n",
       "    }\n",
       "\n",
       "    .dataframe thead th {\n",
       "        text-align: right;\n",
       "    }\n",
       "</style>\n",
       "<table border=\"1\" class=\"dataframe\">\n",
       "  <thead>\n",
       "    <tr style=\"text-align: right;\">\n",
       "      <th></th>\n",
       "      <th>building_id</th>\n",
       "      <th>age</th>\n",
       "    </tr>\n",
       "  </thead>\n",
       "  <tbody>\n",
       "    <tr>\n",
       "      <th>512</th>\n",
       "      <td>143285</td>\n",
       "      <td>90</td>\n",
       "    </tr>\n",
       "    <tr>\n",
       "      <th>615</th>\n",
       "      <td>200363</td>\n",
       "      <td>20</td>\n",
       "    </tr>\n",
       "    <tr>\n",
       "      <th>1389</th>\n",
       "      <td>434716</td>\n",
       "      <td>5</td>\n",
       "    </tr>\n",
       "    <tr>\n",
       "      <th>1762</th>\n",
       "      <td>708065</td>\n",
       "      <td>10</td>\n",
       "    </tr>\n",
       "    <tr>\n",
       "      <th>2331</th>\n",
       "      <td>546507</td>\n",
       "      <td>15</td>\n",
       "    </tr>\n",
       "    <tr>\n",
       "      <th>...</th>\n",
       "      <td>...</td>\n",
       "      <td>...</td>\n",
       "    </tr>\n",
       "    <tr>\n",
       "      <th>258813</th>\n",
       "      <td>95840</td>\n",
       "      <td>25</td>\n",
       "    </tr>\n",
       "    <tr>\n",
       "      <th>259076</th>\n",
       "      <td>1001943</td>\n",
       "      <td>10</td>\n",
       "    </tr>\n",
       "    <tr>\n",
       "      <th>259434</th>\n",
       "      <td>619498</td>\n",
       "      <td>15</td>\n",
       "    </tr>\n",
       "    <tr>\n",
       "      <th>259663</th>\n",
       "      <td>778378</td>\n",
       "      <td>20</td>\n",
       "    </tr>\n",
       "    <tr>\n",
       "      <th>260569</th>\n",
       "      <td>468437</td>\n",
       "      <td>20</td>\n",
       "    </tr>\n",
       "  </tbody>\n",
       "</table>\n",
       "<p>597 rows × 2 columns</p>\n",
       "</div>"
      ],
      "text/plain": [
       "        building_id  age\n",
       "512          143285   90\n",
       "615          200363   20\n",
       "1389         434716    5\n",
       "1762         708065   10\n",
       "2331         546507   15\n",
       "...             ...  ...\n",
       "258813        95840   25\n",
       "259076      1001943   10\n",
       "259434       619498   15\n",
       "259663       778378   20\n",
       "260569       468437   20\n",
       "\n",
       "[597 rows x 2 columns]"
      ]
     },
     "execution_count": 20,
     "metadata": {},
     "output_type": "execute_result"
    }
   ],
   "source": [
    "loc_configuratoin_filter = ((df_train_values['plan_configuration'] == 'a')\\\n",
    "                    | (df_train_values['plan_configuration'] == 'c')\\\n",
    "                    | (df_train_values['plan_configuration'] == 'm')\n",
    ")\n",
    "\n",
    "df_by_plan_segment_filtered = df_train_values.loc[loc_configuratoin_filter, ['building_id', 'age']]\n",
    "df_by_plan_segment_filtered = df_by_plan_segment_filtered.loc[df_by_plan_segment_filtered['age'] < 100, :]\n",
    "df_by_plan_segment_filtered"
   ]
  },
  {
   "cell_type": "markdown",
   "id": "0aa67ee8",
   "metadata": {},
   "source": [
    "__Calculo los totales de este segmento de edificios por antiguedad de construcción__"
   ]
  },
  {
   "cell_type": "code",
   "execution_count": 21,
   "id": "709cd4ba",
   "metadata": {},
   "outputs": [],
   "source": [
    "total_buildings_by_age = df_by_plan_segment_filtered.groupby('age')\\\n",
    "    .count()\\\n",
    "    .reset_index()\\\n",
    "    .rename(columns = {'building_id': 'total_buildings_by_age'})"
   ]
  },
  {
   "cell_type": "markdown",
   "id": "3ad7385f",
   "metadata": {},
   "source": [
    "__hago el merge__"
   ]
  },
  {
   "cell_type": "code",
   "execution_count": 22,
   "id": "bf7a7fc4",
   "metadata": {},
   "outputs": [],
   "source": [
    "df_by_plan_segment_merged = total_buildings_by_age\\\n",
    "    .merge(df_by_plan_segment_filtered)\\\n",
    "    .merge(df_train_labels)"
   ]
  },
  {
   "cell_type": "markdown",
   "id": "75a22baf",
   "metadata": {},
   "source": [
    "__Agrupo y calculo el porcentaje__"
   ]
  },
  {
   "cell_type": "code",
   "execution_count": 23,
   "id": "00e90945",
   "metadata": {},
   "outputs": [],
   "source": [
    "df_age_and_damage_with_percentage = df_by_plan_segment_merged\\\n",
    "    .groupby(['age', 'damage_grade', 'total_buildings_by_age'])\\\n",
    "    .count()\\\n",
    "    .reset_index()\\\n",
    "    .rename(columns = { 'building_id': 'total_buildings_by_age_and_damage' })\n",
    "\n",
    "df_age_and_damage_with_percentage['porcentaje'] = (df_age_and_damage_with_percentage['total_buildings_by_age_and_damage'] * 100) / df_age_and_damage_with_percentage['total_buildings_by_age']"
   ]
  },
  {
   "cell_type": "code",
   "execution_count": 24,
   "id": "3555fe50",
   "metadata": {},
   "outputs": [
    {
     "data": {
      "text/plain": [
       "Text(0, 0.5, 'Porcentaje')"
      ]
     },
     "execution_count": 24,
     "metadata": {},
     "output_type": "execute_result"
    },
    {
     "data": {
      "image/png": "[encoded data removed]",
      "text/plain": [
       "<Figure size 800x450 with 1 Axes>"
      ]
     },
     "metadata": {},
     "output_type": "display_data"
    }
   ],
   "source": [
    "f, ax = plt.subplots(figsize=(8, 4.5))\n",
    "sns.despine(f, left=True, bottom=True)\n",
    "damage = [1, 2, 3]\n",
    "plot = sns.scatterplot(\n",
    "    x=\"age\",\n",
    "    y=\"porcentaje\",\n",
    "    hue=\"damage_grade\",\n",
    "    palette={ 1: '#f1c40f', 2: '#da732e', 3: '#ff1e23' },\n",
    "    data=df_age_and_damage_with_percentage,\n",
    "    ax=ax\n",
    ")\n",
    "plt.title('Porcentaje de daño en edificios entre 0 y 100 años de antiguedad')\n",
    "plt.xlabel('age')\n",
    "plt.ylabel('Porcentaje')"
   ]
  },
  {
   "cell_type": "markdown",
   "id": "071f7542",
   "metadata": {},
   "source": [
    "Es interesante ver como los edificios de las categorías mencionadas a medida que pasa el tiempo es mas probable que sufran daños mas elevados, lo cual puede tener cierta lógica, pues el paso del tiempo puede ser un factor a tener en cuenta. \n",
    "\n",
    "Por otra parte, mientras mas nuevo es el edificio es mas probable que reciba daños menores o de grado 1 y el daño 3 es muy bajo en relación al gráfico que demuestra los daños con el paso del tiempo."
   ]
  },
  {
   "cell_type": "code",
   "execution_count": null,
   "id": "b5541450",
   "metadata": {},
   "outputs": [],
   "source": []
  }
 ],
 "metadata": {
  "kernelspec": {
   "display_name": "Python 3",
   "language": "python",
   "name": "python3"
  },
  "language_info": {
   "codemirror_mode": {
    "name": "ipython",
    "version": 3
   },
   "file_extension": ".py",
   "mimetype": "text/x-python",
   "name": "python",
   "nbconvert_exporter": "python",
   "pygments_lexer": "ipython3",
   "version": "3.8.5"
  }
 },
 "nbformat": 4,
 "nbformat_minor": 5
}
