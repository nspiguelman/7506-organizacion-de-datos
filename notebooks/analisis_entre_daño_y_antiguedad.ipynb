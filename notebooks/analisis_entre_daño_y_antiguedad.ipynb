{
 "cells": [
  {
   "cell_type": "markdown",
   "id": "51f770bc-515e-4b0a-ac00-4b51aa7ca269",
   "metadata": {},
   "source": [
    "### Importando las librerias"
   ]
  },
  {
   "cell_type": "code",
   "execution_count": 1,
   "id": "0383d737-ade6-489c-a309-b482d644482a",
   "metadata": {},
   "outputs": [],
   "source": [
    "# importacion general de librerias y de visualizacion (matplotlib y seaborn)\n",
    "import pandas as pd\n",
    "import numpy as np\n",
    "import random as rd\n",
    "import matplotlib.pyplot as plt\n",
    "import seaborn as sns\n",
    "\n",
    "%matplotlib inline\n",
    "\n",
    "plt.style.use('default') # haciendo los graficos un poco mas bonitos en matplotlib\n",
    "plt.rcParams['figure.figsize'] = (20, 10)\n",
    "\n",
    "sns.set(style=\"whitegrid\") # seteando tipo de grid en seaborn\n",
    "\n",
    "pd.options.display.float_format = '{:20,.2f}'.format # suprimimos la notacion cientifica en los outputs\n",
    "\n",
    "import warnings\n",
    "warnings.filterwarnings('ignore')"
   ]
  },
  {
   "cell_type": "markdown",
   "id": "f9401046-84b7-47d0-9708-5df80c9ea753",
   "metadata": {},
   "source": [
    "### Importando los datasets"
   ]
  },
  {
   "cell_type": "code",
   "execution_count": 2,
   "id": "afcc011a-6766-4e8c-88ff-5483ca057422",
   "metadata": {},
   "outputs": [],
   "source": [
    "df_train_values = pd.read_csv('../datasets/train_values.csv')\n",
    "df_train_labels = pd.read_csv('../datasets/train_labels.csv')"
   ]
  },
  {
   "cell_type": "markdown",
   "id": "3a1cc741-40b5-4dca-9f0f-d56db865150e",
   "metadata": {},
   "source": [
    "### Daños por antiguedad"
   ]
  },
  {
   "cell_type": "markdown",
   "id": "b25a7b96-876b-41dc-b378-d444d4d235ff",
   "metadata": {},
   "source": [
    "#### Hago el filtro de los datos"
   ]
  },
  {
   "cell_type": "code",
   "execution_count": 3,
   "id": "a083e5aa-2360-46d6-a948-b5d6a8bb1e59",
   "metadata": {},
   "outputs": [],
   "source": [
    "df_train_values_filtered = df_train_values.loc[:, ['building_id', 'age']]"
   ]
  },
  {
   "cell_type": "markdown",
   "id": "c7b537bd-080e-4178-bcb1-02cd1e77dee6",
   "metadata": {},
   "source": [
    "#### Calculo la cantidad de edificios por antiguedad"
   ]
  },
  {
   "cell_type": "code",
   "execution_count": 4,
   "id": "ae5f588a-ce6e-471c-b764-e919a189ec11",
   "metadata": {},
   "outputs": [],
   "source": [
    "df_buildings_by_age = df_train_values_filtered\\\n",
    "    .groupby(['age'])\\\n",
    "    .count()\\\n",
    "    .reset_index()\\\n",
    "    .rename(columns={'building_id':'total_buildings_by_age'})\n",
    "total_buildings_by_age = df_buildings_by_age[['total_buildings_by_age', 'age']]"
   ]
  },
  {
   "cell_type": "markdown",
   "id": "d615fc61-8139-4e55-9757-48fc03a0d01c",
   "metadata": {},
   "source": [
    "#### Hago el merge de los datos"
   ]
  },
  {
   "cell_type": "code",
   "execution_count": 5,
   "id": "d3b761bd-a547-4ecd-ac15-636b744b7d95",
   "metadata": {},
   "outputs": [],
   "source": [
    "df_ages_and_damage = df_train_labels.merge(df_train_values_filtered).merge(df_buildings_by_age)"
   ]
  },
  {
   "cell_type": "markdown",
   "id": "5305f13b-4aaa-4b2c-a562-fc0afb952196",
   "metadata": {},
   "source": [
    "#### Hago el calculo de los porcentajes de cantidad de edificios por daño y antiguedad"
   ]
  },
  {
   "cell_type": "code",
   "execution_count": 6,
   "id": "5d318fa3-b38d-4600-83c9-d5f68af998a3",
   "metadata": {},
   "outputs": [
    {
     "data": {
      "text/html": [
       "<div>\n",
       "<style scoped>\n",
       "    .dataframe tbody tr th:only-of-type {\n",
       "        vertical-align: middle;\n",
       "    }\n",
       "\n",
       "    .dataframe tbody tr th {\n",
       "        vertical-align: top;\n",
       "    }\n",
       "\n",
       "    .dataframe thead th {\n",
       "        text-align: right;\n",
       "    }\n",
       "</style>\n",
       "<table border=\"1\" class=\"dataframe\">\n",
       "  <thead>\n",
       "    <tr style=\"text-align: right;\">\n",
       "      <th></th>\n",
       "      <th>age</th>\n",
       "      <th>damage_grade</th>\n",
       "      <th>total_buildings_by_age</th>\n",
       "      <th>total_buildings_by_age_and_damage</th>\n",
       "      <th>percentage</th>\n",
       "    </tr>\n",
       "  </thead>\n",
       "  <tbody>\n",
       "    <tr>\n",
       "      <th>0</th>\n",
       "      <td>0</td>\n",
       "      <td>1</td>\n",
       "      <td>26041</td>\n",
       "      <td>7213</td>\n",
       "      <td>27.70</td>\n",
       "    </tr>\n",
       "    <tr>\n",
       "      <th>1</th>\n",
       "      <td>0</td>\n",
       "      <td>2</td>\n",
       "      <td>26041</td>\n",
       "      <td>12721</td>\n",
       "      <td>48.85</td>\n",
       "    </tr>\n",
       "  </tbody>\n",
       "</table>\n",
       "</div>"
      ],
      "text/plain": [
       "   age  damage_grade  total_buildings_by_age  \\\n",
       "0    0             1                   26041   \n",
       "1    0             2                   26041   \n",
       "\n",
       "   total_buildings_by_age_and_damage           percentage  \n",
       "0                               7213                27.70  \n",
       "1                              12721                48.85  "
      ]
     },
     "execution_count": 6,
     "metadata": {},
     "output_type": "execute_result"
    }
   ],
   "source": [
    "df_ages_and_damage_with_percentage = df_ages_and_damage\\\n",
    "    .groupby(['age', 'damage_grade', 'total_buildings_by_age'])\\\n",
    "    .count()\\\n",
    "    .rename(columns = { 'building_id': 'total_buildings_by_age_and_damage' })\\\n",
    "    .reset_index()\n",
    "df_ages_and_damage_with_percentage['percentage'] = (df_ages_and_damage_with_percentage['total_buildings_by_age_and_damage'] * 100) / df_ages_and_damage_with_percentage['total_buildings_by_age']\n",
    "df_ages_and_damage_with_percentage.iloc[0:2]"
   ]
  },
  {
   "cell_type": "code",
   "execution_count": 7,
   "id": "4783d03b-02a8-4847-8af8-76cf719d99bc",
   "metadata": {},
   "outputs": [
    {
     "data": {
      "image/png": "[encoded data removed]",
      "text/plain": [
       "<Figure size 500x500 with 1 Axes>"
      ]
     },
     "metadata": {},
     "output_type": "display_data"
    }
   ],
   "source": [
    "# library & dataset\n",
    "import seaborn as sns\n",
    "import matplotlib.pyplot as plt\n",
    "\n",
    "df_ages_and_damage_with_percentage_filtered = df_ages_and_damage_with_percentage.loc[df_ages_and_damage_with_percentage['age'] <= 100, :]\n",
    " \n",
    "# Use the 'hue' argument to provide a factor variable\n",
    "sns.lmplot( x=\"age\", y=\"percentage\", data=df_ages_and_damage_with_percentage_filtered, fit_reg=False, hue='damage_grade', legend=False)\n",
    " \n",
    "# Move the legend to an empty part of the plot\n",
    "plt.legend(loc='lower right')\n",
    "\n",
    "plt.show()"
   ]
  },
  {
   "cell_type": "markdown",
   "id": "651a887f-cdac-4766-8d1d-029ae9665409",
   "metadata": {},
   "source": [
    "El análisis puede tener o bien sesgo o bien poco peso por falta de datos. Pero puede verse como al ser mas cantidad de edificios de daño nivel 2, los porcentajes siempre son mas elevados. Utilizando el gráfico y la tabla que está debajo, podemos ver que los edificios de daños nivel 1 disminuyen con muestras de la misma cantidad. Esto puede tener que ver con la calidad de la construcción o de los materiales mas robustos. \n",
    "\n",
    "Pero es un dato relevante a seguir investigando. Por otra parte, se puede ver como los edificios de nivel 2 y 3 aumentan a medida que pasa el tiempo, apoyándose en que cada vez son menos edificios con daños de nivel 1. Luego se estabiliza en el tiempo hasta tener una divergencia, que imaginamos, se debe a la falta de datos. "
   ]
  },
  {
   "cell_type": "markdown",
   "id": "32efb00e-11b1-46a9-b23f-a8026c7617b0",
   "metadata": {},
   "source": [
    "### Datños por land_surface_condition"
   ]
  },
  {
   "cell_type": "code",
   "execution_count": null,
   "id": "5d0cd932-5e8e-49e2-99fd-5c29d81e2dc2",
   "metadata": {},
   "outputs": [],
   "source": [
    "df_train_values['land_surface_condition'].value_counts()"
   ]
  }
 ],
 "metadata": {
  "kernelspec": {
   "display_name": "Python 3",
   "language": "python",
   "name": "python3"
  },
  "language_info": {
   "codemirror_mode": {
    "name": "ipython",
    "version": 3
   },
   "file_extension": ".py",
   "mimetype": "text/x-python",
   "name": "python",
   "nbconvert_exporter": "python",
   "pygments_lexer": "ipython3",
   "version": "3.8.5"
  }
 },
 "nbformat": 4,
 "nbformat_minor": 5
}
