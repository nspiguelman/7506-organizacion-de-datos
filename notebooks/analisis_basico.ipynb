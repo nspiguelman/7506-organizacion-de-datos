{
 "cells": [
  {
   "cell_type": "markdown",
   "id": "2af4acc0-80dc-4407-9903-caa05f3ce307",
   "metadata": {},
   "source": [
    "## __TRABAJO PRÁCTICO 1__: *Análisis Exploratorio de Datos*"
   ]
  },
  {
   "cell_type": "markdown",
   "id": "d6fb171e-0919-4891-a3c9-8fa575b2a0cf",
   "metadata": {},
   "source": [
    "### Análisis realizado\n",
    "- [Exploración df_train_values](#link_1)\n",
    "- [Exploración df_train_labels](#link_2)\n",
    "- [Análisis de valores por columna](#link_3)\n",
    "- [Validación de datos booleanos](#link_4)"
   ]
  },
  {
   "cell_type": "markdown",
   "id": "4a1ffd58-6fd9-4050-9e9e-b4867713845f",
   "metadata": {},
   "source": [
    "#### __Importamos las librerías__"
   ]
  },
  {
   "cell_type": "code",
   "execution_count": 2,
   "id": "5f2fc9a8-9bd9-407b-a8d9-2f7bf4df190a",
   "metadata": {},
   "outputs": [],
   "source": [
    "# importacion general de librerias y de visualizacion (matplotlib y seaborn)\n",
    "import pandas as pd\n",
    "import numpy as np\n",
    "import random as rd\n",
    "import matplotlib.pyplot as plt\n",
    "import seaborn as sns\n",
    "\n",
    "%matplotlib inline\n",
    "\n",
    "plt.style.use('default') # haciendo los graficos un poco mas bonitos en matplotlib\n",
    "plt.rcParams['figure.figsize'] = (20, 10)\n",
    "\n",
    "sns.set(style=\"whitegrid\") # seteando tipo de grid en seaborn\n",
    "\n",
    "pd.options.display.float_format = '{:20,.2f}'.format # suprimimos la notacion cientifica en los outputs\n",
    "\n",
    "import warnings\n",
    "warnings.filterwarnings('ignore')"
   ]
  },
  {
   "cell_type": "markdown",
   "id": "d6c392a0-84a5-4842-8552-ce5410034265",
   "metadata": {},
   "source": [
    "#### __importamos los datasets__"
   ]
  },
  {
   "cell_type": "code",
   "execution_count": 3,
   "id": "0da9b8c6-1f62-43bd-b296-af74326eb288",
   "metadata": {},
   "outputs": [],
   "source": [
    "df_train_values = pd.read_csv('../datasets/train_values.csv')\n",
    "df_train_labels = pd.read_csv('../datasets/train_labels.csv')"
   ]
  },
  {
   "cell_type": "markdown",
   "id": "d19007c1-76d1-4e69-98ae-4d6aaa163d46",
   "metadata": {},
   "source": [
    "### df_train_values<a id='link_1'></a>"
   ]
  },
  {
   "cell_type": "code",
   "execution_count": 4,
   "id": "3eddea21-8fd2-44cd-a3a3-00f788720b71",
   "metadata": {},
   "outputs": [
    {
     "name": "stdout",
     "output_type": "stream",
     "text": [
      "<class 'pandas.core.frame.DataFrame'>\n",
      "RangeIndex: 260601 entries, 0 to 260600\n",
      "Data columns (total 39 columns):\n",
      " #   Column                                  Non-Null Count   Dtype \n",
      "---  ------                                  --------------   ----- \n",
      " 0   building_id                             260601 non-null  int64 \n",
      " 1   geo_level_1_id                          260601 non-null  int64 \n",
      " 2   geo_level_2_id                          260601 non-null  int64 \n",
      " 3   geo_level_3_id                          260601 non-null  int64 \n",
      " 4   count_floors_pre_eq                     260601 non-null  int64 \n",
      " 5   age                                     260601 non-null  int64 \n",
      " 6   area_percentage                         260601 non-null  int64 \n",
      " 7   height_percentage                       260601 non-null  int64 \n",
      " 8   land_surface_condition                  260601 non-null  object\n",
      " 9   foundation_type                         260601 non-null  object\n",
      " 10  roof_type                               260601 non-null  object\n",
      " 11  ground_floor_type                       260601 non-null  object\n",
      " 12  other_floor_type                        260601 non-null  object\n",
      " 13  position                                260601 non-null  object\n",
      " 14  plan_configuration                      260601 non-null  object\n",
      " 15  has_superstructure_adobe_mud            260601 non-null  int64 \n",
      " 16  has_superstructure_mud_mortar_stone     260601 non-null  int64 \n",
      " 17  has_superstructure_stone_flag           260601 non-null  int64 \n",
      " 18  has_superstructure_cement_mortar_stone  260601 non-null  int64 \n",
      " 19  has_superstructure_mud_mortar_brick     260601 non-null  int64 \n",
      " 20  has_superstructure_cement_mortar_brick  260601 non-null  int64 \n",
      " 21  has_superstructure_timber               260601 non-null  int64 \n",
      " 22  has_superstructure_bamboo               260601 non-null  int64 \n",
      " 23  has_superstructure_rc_non_engineered    260601 non-null  int64 \n",
      " 24  has_superstructure_rc_engineered        260601 non-null  int64 \n",
      " 25  has_superstructure_other                260601 non-null  int64 \n",
      " 26  legal_ownership_status                  260601 non-null  object\n",
      " 27  count_families                          260601 non-null  int64 \n",
      " 28  has_secondary_use                       260601 non-null  int64 \n",
      " 29  has_secondary_use_agriculture           260601 non-null  int64 \n",
      " 30  has_secondary_use_hotel                 260601 non-null  int64 \n",
      " 31  has_secondary_use_rental                260601 non-null  int64 \n",
      " 32  has_secondary_use_institution           260601 non-null  int64 \n",
      " 33  has_secondary_use_school                260601 non-null  int64 \n",
      " 34  has_secondary_use_industry              260601 non-null  int64 \n",
      " 35  has_secondary_use_health_post           260601 non-null  int64 \n",
      " 36  has_secondary_use_gov_office            260601 non-null  int64 \n",
      " 37  has_secondary_use_use_police            260601 non-null  int64 \n",
      " 38  has_secondary_use_other                 260601 non-null  int64 \n",
      "dtypes: int64(31), object(8)\n",
      "memory usage: 77.5+ MB\n"
     ]
    }
   ],
   "source": [
    "df_train_values.info()"
   ]
  },
  {
   "cell_type": "code",
   "execution_count": 8,
   "id": "7e494b19-6fe4-4673-af1b-3bac0a261dc9",
   "metadata": {},
   "outputs": [
    {
     "data": {
      "text/plain": [
       "0"
      ]
     },
     "execution_count": 8,
     "metadata": {},
     "output_type": "execute_result"
    }
   ],
   "source": [
    "df_train_values.isnull().sum().sum()"
   ]
  },
  {
   "cell_type": "markdown",
   "id": "346bddc0-3e4c-4de5-acc1-828f989a7296",
   "metadata": {},
   "source": [
    "El dataframe no tiene valores nulos."
   ]
  },
  {
   "cell_type": "code",
   "execution_count": null,
   "id": "98daa0ab-d277-4904-bcd3-52786acc16c9",
   "metadata": {},
   "outputs": [],
   "source": []
  },
  {
   "cell_type": "code",
   "execution_count": null,
   "id": "d0c3a065-55a3-4f19-8deb-69994b5ca67a",
   "metadata": {},
   "outputs": [],
   "source": []
  }
 ],
 "metadata": {
  "kernelspec": {
   "display_name": "Python 3",
   "language": "python",
   "name": "python3"
  },
  "language_info": {
   "codemirror_mode": {
    "name": "ipython",
    "version": 3
   },
   "file_extension": ".py",
   "mimetype": "text/x-python",
   "name": "python",
   "nbconvert_exporter": "python",
   "pygments_lexer": "ipython3",
   "version": "3.8.5"
  }
 },
 "nbformat": 4,
 "nbformat_minor": 5
}
