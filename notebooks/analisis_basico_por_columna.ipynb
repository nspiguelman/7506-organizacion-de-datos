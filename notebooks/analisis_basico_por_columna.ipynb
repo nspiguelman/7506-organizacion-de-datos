{
 "cells": [
  {
   "cell_type": "markdown",
   "id": "5f498385-7c11-4983-9102-12df193403d9",
   "metadata": {},
   "source": [
    "### Importamos las librerías"
   ]
  },
  {
   "cell_type": "code",
   "execution_count": 1,
   "id": "44c4bf15-de66-4def-b6a7-d70e2db795c1",
   "metadata": {},
   "outputs": [],
   "source": [
    "# importacion general de librerias y de visualizacion (matplotlib y seaborn)\n",
    "import pandas as pd\n",
    "import numpy as np\n",
    "import random as rd\n",
    "import matplotlib.pyplot as plt\n",
    "import seaborn as sns\n",
    "\n",
    "%matplotlib inline\n",
    "\n",
    "plt.style.use('default') # haciendo los graficos un poco mas bonitos en matplotlib\n",
    "plt.rcParams['figure.figsize'] = (20, 10)\n",
    "\n",
    "sns.set(style=\"whitegrid\") # seteando tipo de grid en seaborn\n",
    "\n",
    "pd.options.display.float_format = '{:20,.2f}'.format # suprimimos la notacion cientifica en los outputs\n",
    "\n",
    "import warnings\n",
    "warnings.filterwarnings('ignore')"
   ]
  },
  {
   "cell_type": "markdown",
   "id": "a34182ca-5397-4a0f-b370-b4aee1036122",
   "metadata": {},
   "source": [
    "### Importamos el dataset"
   ]
  },
  {
   "cell_type": "code",
   "execution_count": 2,
   "id": "a0fcbc70-a60d-462f-a48a-8c21e6278505",
   "metadata": {},
   "outputs": [],
   "source": [
    "df_train_values = pd.read_csv('../datasets/train_values.csv')\n",
    "df_train_labels = pd.read_csv('../datasets/train_labels.csv')"
   ]
  },
  {
   "cell_type": "markdown",
   "id": "354149c0-28da-4641-9edc-66e1cdce6a70",
   "metadata": {},
   "source": [
    "__building_id__"
   ]
  },
  {
   "cell_type": "code",
   "execution_count": 4,
   "id": "69ec0b43-2dbf-420e-a873-69bcd1fbef46",
   "metadata": {},
   "outputs": [
    {
     "data": {
      "text/plain": [
       "(260601, 260601)"
      ]
     },
     "execution_count": 4,
     "metadata": {},
     "output_type": "execute_result"
    }
   ],
   "source": [
    "total_buildings = df_train_values.count().building_id\n",
    "total_damage_by_building = df_train_labels.count().building_id\n",
    "(total_buildings, total_damage_by_building)"
   ]
  },
  {
   "cell_type": "markdown",
   "id": "bafba6e4-ea1a-4be7-a324-2f648050e026",
   "metadata": {},
   "source": [
    "Con esto podemos concluir que no hay id de edificios repetidos en los dataset y que la relación, a priori, es 1 a 1."
   ]
  },
  {
   "cell_type": "code",
   "execution_count": 6,
   "id": "843a5019-dc74-4078-8758-dc9337402de9",
   "metadata": {},
   "outputs": [
    {
     "data": {
      "text/plain": [
       "(1052934, 4)"
      ]
     },
     "execution_count": 6,
     "metadata": {},
     "output_type": "execute_result"
    }
   ],
   "source": [
    "max_building_id = df_train_values['building_id'].max()\n",
    "min_building_id = df_train_values['building_id'].min()\n",
    "(max_building_id, min_building_id)"
   ]
  },
  {
   "cell_type": "markdown",
   "id": "0094647f-28a9-47af-88c1-124a44f38e07",
   "metadata": {},
   "source": [
    "Teniendo en cuenta el primer id y el último, contamos con un poco mas de 20% del total de edificios construídos para analizar datos."
   ]
  },
  {
   "cell_type": "markdown",
   "id": "dd7d5bc6-3e8c-4e0f-b423-235addc09b96",
   "metadata": {},
   "source": [
    "__geo_level__"
   ]
  },
  {
   "cell_type": "code",
   "execution_count": 15,
   "id": "a40e7d09-73a8-46a3-8aa9-96d4ce51665d",
   "metadata": {},
   "outputs": [
    {
     "data": {
      "text/html": [
       "<div>\n",
       "<style scoped>\n",
       "    .dataframe tbody tr th:only-of-type {\n",
       "        vertical-align: middle;\n",
       "    }\n",
       "\n",
       "    .dataframe tbody tr th {\n",
       "        vertical-align: top;\n",
       "    }\n",
       "\n",
       "    .dataframe thead th {\n",
       "        text-align: right;\n",
       "    }\n",
       "</style>\n",
       "<table border=\"1\" class=\"dataframe\">\n",
       "  <thead>\n",
       "    <tr style=\"text-align: right;\">\n",
       "      <th></th>\n",
       "      <th>building_id</th>\n",
       "      <th>age</th>\n",
       "      <th>has_superstructure_adobe_mud</th>\n",
       "      <th>has_superstructure_mud_mortar_stone</th>\n",
       "      <th>has_superstructure_stone_flag</th>\n",
       "      <th>has_superstructure_cement_mortar_stone</th>\n",
       "      <th>has_superstructure_mud_mortar_brick</th>\n",
       "      <th>has_superstructure_cement_mortar_brick</th>\n",
       "      <th>has_superstructure_timber</th>\n",
       "      <th>has_superstructure_bamboo</th>\n",
       "      <th>has_superstructure_rc_non_engineered</th>\n",
       "      <th>has_superstructure_rc_engineered</th>\n",
       "      <th>has_superstructure_other</th>\n",
       "      <th>damage_grade</th>\n",
       "    </tr>\n",
       "  </thead>\n",
       "  <tbody>\n",
       "    <tr>\n",
       "      <th>0</th>\n",
       "      <td>613451</td>\n",
       "      <td>30</td>\n",
       "      <td>0</td>\n",
       "      <td>1</td>\n",
       "      <td>0</td>\n",
       "      <td>0</td>\n",
       "      <td>0</td>\n",
       "      <td>0</td>\n",
       "      <td>0</td>\n",
       "      <td>0</td>\n",
       "      <td>0</td>\n",
       "      <td>0</td>\n",
       "      <td>0</td>\n",
       "      <td>1</td>\n",
       "    </tr>\n",
       "    <tr>\n",
       "      <th>1</th>\n",
       "      <td>86297</td>\n",
       "      <td>10</td>\n",
       "      <td>0</td>\n",
       "      <td>0</td>\n",
       "      <td>0</td>\n",
       "      <td>0</td>\n",
       "      <td>0</td>\n",
       "      <td>1</td>\n",
       "      <td>0</td>\n",
       "      <td>0</td>\n",
       "      <td>0</td>\n",
       "      <td>0</td>\n",
       "      <td>0</td>\n",
       "      <td>1</td>\n",
       "    </tr>\n",
       "    <tr>\n",
       "      <th>2</th>\n",
       "      <td>1036597</td>\n",
       "      <td>20</td>\n",
       "      <td>0</td>\n",
       "      <td>1</td>\n",
       "      <td>0</td>\n",
       "      <td>0</td>\n",
       "      <td>0</td>\n",
       "      <td>0</td>\n",
       "      <td>0</td>\n",
       "      <td>0</td>\n",
       "      <td>0</td>\n",
       "      <td>0</td>\n",
       "      <td>0</td>\n",
       "      <td>1</td>\n",
       "    </tr>\n",
       "    <tr>\n",
       "      <th>3</th>\n",
       "      <td>995109</td>\n",
       "      <td>15</td>\n",
       "      <td>0</td>\n",
       "      <td>1</td>\n",
       "      <td>0</td>\n",
       "      <td>0</td>\n",
       "      <td>0</td>\n",
       "      <td>0</td>\n",
       "      <td>0</td>\n",
       "      <td>0</td>\n",
       "      <td>0</td>\n",
       "      <td>0</td>\n",
       "      <td>0</td>\n",
       "      <td>1</td>\n",
       "    </tr>\n",
       "    <tr>\n",
       "      <th>4</th>\n",
       "      <td>890060</td>\n",
       "      <td>0</td>\n",
       "      <td>0</td>\n",
       "      <td>1</td>\n",
       "      <td>0</td>\n",
       "      <td>0</td>\n",
       "      <td>0</td>\n",
       "      <td>0</td>\n",
       "      <td>0</td>\n",
       "      <td>0</td>\n",
       "      <td>0</td>\n",
       "      <td>0</td>\n",
       "      <td>0</td>\n",
       "      <td>1</td>\n",
       "    </tr>\n",
       "    <tr>\n",
       "      <th>5</th>\n",
       "      <td>597450</td>\n",
       "      <td>25</td>\n",
       "      <td>0</td>\n",
       "      <td>1</td>\n",
       "      <td>0</td>\n",
       "      <td>0</td>\n",
       "      <td>0</td>\n",
       "      <td>0</td>\n",
       "      <td>0</td>\n",
       "      <td>0</td>\n",
       "      <td>0</td>\n",
       "      <td>0</td>\n",
       "      <td>0</td>\n",
       "      <td>1</td>\n",
       "    </tr>\n",
       "    <tr>\n",
       "      <th>6</th>\n",
       "      <td>849799</td>\n",
       "      <td>55</td>\n",
       "      <td>0</td>\n",
       "      <td>1</td>\n",
       "      <td>0</td>\n",
       "      <td>0</td>\n",
       "      <td>0</td>\n",
       "      <td>0</td>\n",
       "      <td>0</td>\n",
       "      <td>0</td>\n",
       "      <td>0</td>\n",
       "      <td>0</td>\n",
       "      <td>0</td>\n",
       "      <td>1</td>\n",
       "    </tr>\n",
       "    <tr>\n",
       "      <th>7</th>\n",
       "      <td>195786</td>\n",
       "      <td>20</td>\n",
       "      <td>0</td>\n",
       "      <td>1</td>\n",
       "      <td>0</td>\n",
       "      <td>0</td>\n",
       "      <td>0</td>\n",
       "      <td>1</td>\n",
       "      <td>0</td>\n",
       "      <td>0</td>\n",
       "      <td>0</td>\n",
       "      <td>0</td>\n",
       "      <td>0</td>\n",
       "      <td>1</td>\n",
       "    </tr>\n",
       "    <tr>\n",
       "      <th>8</th>\n",
       "      <td>795199</td>\n",
       "      <td>25</td>\n",
       "      <td>0</td>\n",
       "      <td>1</td>\n",
       "      <td>0</td>\n",
       "      <td>0</td>\n",
       "      <td>0</td>\n",
       "      <td>0</td>\n",
       "      <td>0</td>\n",
       "      <td>0</td>\n",
       "      <td>0</td>\n",
       "      <td>0</td>\n",
       "      <td>0</td>\n",
       "      <td>2</td>\n",
       "    </tr>\n",
       "    <tr>\n",
       "      <th>9</th>\n",
       "      <td>714656</td>\n",
       "      <td>20</td>\n",
       "      <td>0</td>\n",
       "      <td>1</td>\n",
       "      <td>0</td>\n",
       "      <td>0</td>\n",
       "      <td>0</td>\n",
       "      <td>0</td>\n",
       "      <td>0</td>\n",
       "      <td>0</td>\n",
       "      <td>0</td>\n",
       "      <td>0</td>\n",
       "      <td>0</td>\n",
       "      <td>2</td>\n",
       "    </tr>\n",
       "    <tr>\n",
       "      <th>10</th>\n",
       "      <td>328488</td>\n",
       "      <td>10</td>\n",
       "      <td>0</td>\n",
       "      <td>1</td>\n",
       "      <td>0</td>\n",
       "      <td>0</td>\n",
       "      <td>0</td>\n",
       "      <td>0</td>\n",
       "      <td>0</td>\n",
       "      <td>0</td>\n",
       "      <td>0</td>\n",
       "      <td>0</td>\n",
       "      <td>0</td>\n",
       "      <td>2</td>\n",
       "    </tr>\n",
       "    <tr>\n",
       "      <th>11</th>\n",
       "      <td>897504</td>\n",
       "      <td>45</td>\n",
       "      <td>0</td>\n",
       "      <td>1</td>\n",
       "      <td>0</td>\n",
       "      <td>0</td>\n",
       "      <td>0</td>\n",
       "      <td>0</td>\n",
       "      <td>0</td>\n",
       "      <td>0</td>\n",
       "      <td>0</td>\n",
       "      <td>0</td>\n",
       "      <td>0</td>\n",
       "      <td>3</td>\n",
       "    </tr>\n",
       "    <tr>\n",
       "      <th>12</th>\n",
       "      <td>592348</td>\n",
       "      <td>10</td>\n",
       "      <td>0</td>\n",
       "      <td>1</td>\n",
       "      <td>0</td>\n",
       "      <td>0</td>\n",
       "      <td>0</td>\n",
       "      <td>0</td>\n",
       "      <td>0</td>\n",
       "      <td>0</td>\n",
       "      <td>0</td>\n",
       "      <td>0</td>\n",
       "      <td>0</td>\n",
       "      <td>1</td>\n",
       "    </tr>\n",
       "    <tr>\n",
       "      <th>13</th>\n",
       "      <td>294440</td>\n",
       "      <td>10</td>\n",
       "      <td>0</td>\n",
       "      <td>1</td>\n",
       "      <td>0</td>\n",
       "      <td>0</td>\n",
       "      <td>0</td>\n",
       "      <td>0</td>\n",
       "      <td>0</td>\n",
       "      <td>0</td>\n",
       "      <td>0</td>\n",
       "      <td>0</td>\n",
       "      <td>0</td>\n",
       "      <td>1</td>\n",
       "    </tr>\n",
       "    <tr>\n",
       "      <th>14</th>\n",
       "      <td>989408</td>\n",
       "      <td>10</td>\n",
       "      <td>0</td>\n",
       "      <td>1</td>\n",
       "      <td>0</td>\n",
       "      <td>0</td>\n",
       "      <td>0</td>\n",
       "      <td>0</td>\n",
       "      <td>0</td>\n",
       "      <td>0</td>\n",
       "      <td>0</td>\n",
       "      <td>0</td>\n",
       "      <td>0</td>\n",
       "      <td>2</td>\n",
       "    </tr>\n",
       "    <tr>\n",
       "      <th>15</th>\n",
       "      <td>644340</td>\n",
       "      <td>0</td>\n",
       "      <td>0</td>\n",
       "      <td>1</td>\n",
       "      <td>0</td>\n",
       "      <td>0</td>\n",
       "      <td>0</td>\n",
       "      <td>0</td>\n",
       "      <td>0</td>\n",
       "      <td>0</td>\n",
       "      <td>0</td>\n",
       "      <td>0</td>\n",
       "      <td>1</td>\n",
       "      <td>1</td>\n",
       "    </tr>\n",
       "    <tr>\n",
       "      <th>16</th>\n",
       "      <td>250656</td>\n",
       "      <td>10</td>\n",
       "      <td>0</td>\n",
       "      <td>0</td>\n",
       "      <td>0</td>\n",
       "      <td>0</td>\n",
       "      <td>0</td>\n",
       "      <td>1</td>\n",
       "      <td>0</td>\n",
       "      <td>0</td>\n",
       "      <td>0</td>\n",
       "      <td>0</td>\n",
       "      <td>0</td>\n",
       "      <td>2</td>\n",
       "    </tr>\n",
       "  </tbody>\n",
       "</table>\n",
       "</div>"
      ],
      "text/plain": [
       "    building_id  age  has_superstructure_adobe_mud  \\\n",
       "0        613451   30                             0   \n",
       "1         86297   10                             0   \n",
       "2       1036597   20                             0   \n",
       "3        995109   15                             0   \n",
       "4        890060    0                             0   \n",
       "5        597450   25                             0   \n",
       "6        849799   55                             0   \n",
       "7        195786   20                             0   \n",
       "8        795199   25                             0   \n",
       "9        714656   20                             0   \n",
       "10       328488   10                             0   \n",
       "11       897504   45                             0   \n",
       "12       592348   10                             0   \n",
       "13       294440   10                             0   \n",
       "14       989408   10                             0   \n",
       "15       644340    0                             0   \n",
       "16       250656   10                             0   \n",
       "\n",
       "    has_superstructure_mud_mortar_stone  has_superstructure_stone_flag  \\\n",
       "0                                     1                              0   \n",
       "1                                     0                              0   \n",
       "2                                     1                              0   \n",
       "3                                     1                              0   \n",
       "4                                     1                              0   \n",
       "5                                     1                              0   \n",
       "6                                     1                              0   \n",
       "7                                     1                              0   \n",
       "8                                     1                              0   \n",
       "9                                     1                              0   \n",
       "10                                    1                              0   \n",
       "11                                    1                              0   \n",
       "12                                    1                              0   \n",
       "13                                    1                              0   \n",
       "14                                    1                              0   \n",
       "15                                    1                              0   \n",
       "16                                    0                              0   \n",
       "\n",
       "    has_superstructure_cement_mortar_stone  \\\n",
       "0                                        0   \n",
       "1                                        0   \n",
       "2                                        0   \n",
       "3                                        0   \n",
       "4                                        0   \n",
       "5                                        0   \n",
       "6                                        0   \n",
       "7                                        0   \n",
       "8                                        0   \n",
       "9                                        0   \n",
       "10                                       0   \n",
       "11                                       0   \n",
       "12                                       0   \n",
       "13                                       0   \n",
       "14                                       0   \n",
       "15                                       0   \n",
       "16                                       0   \n",
       "\n",
       "    has_superstructure_mud_mortar_brick  \\\n",
       "0                                     0   \n",
       "1                                     0   \n",
       "2                                     0   \n",
       "3                                     0   \n",
       "4                                     0   \n",
       "5                                     0   \n",
       "6                                     0   \n",
       "7                                     0   \n",
       "8                                     0   \n",
       "9                                     0   \n",
       "10                                    0   \n",
       "11                                    0   \n",
       "12                                    0   \n",
       "13                                    0   \n",
       "14                                    0   \n",
       "15                                    0   \n",
       "16                                    0   \n",
       "\n",
       "    has_superstructure_cement_mortar_brick  has_superstructure_timber  \\\n",
       "0                                        0                          0   \n",
       "1                                        1                          0   \n",
       "2                                        0                          0   \n",
       "3                                        0                          0   \n",
       "4                                        0                          0   \n",
       "5                                        0                          0   \n",
       "6                                        0                          0   \n",
       "7                                        1                          0   \n",
       "8                                        0                          0   \n",
       "9                                        0                          0   \n",
       "10                                       0                          0   \n",
       "11                                       0                          0   \n",
       "12                                       0                          0   \n",
       "13                                       0                          0   \n",
       "14                                       0                          0   \n",
       "15                                       0                          0   \n",
       "16                                       1                          0   \n",
       "\n",
       "    has_superstructure_bamboo  has_superstructure_rc_non_engineered  \\\n",
       "0                           0                                     0   \n",
       "1                           0                                     0   \n",
       "2                           0                                     0   \n",
       "3                           0                                     0   \n",
       "4                           0                                     0   \n",
       "5                           0                                     0   \n",
       "6                           0                                     0   \n",
       "7                           0                                     0   \n",
       "8                           0                                     0   \n",
       "9                           0                                     0   \n",
       "10                          0                                     0   \n",
       "11                          0                                     0   \n",
       "12                          0                                     0   \n",
       "13                          0                                     0   \n",
       "14                          0                                     0   \n",
       "15                          0                                     0   \n",
       "16                          0                                     0   \n",
       "\n",
       "    has_superstructure_rc_engineered  has_superstructure_other  damage_grade  \n",
       "0                                  0                         0             1  \n",
       "1                                  0                         0             1  \n",
       "2                                  0                         0             1  \n",
       "3                                  0                         0             1  \n",
       "4                                  0                         0             1  \n",
       "5                                  0                         0             1  \n",
       "6                                  0                         0             1  \n",
       "7                                  0                         0             1  \n",
       "8                                  0                         0             2  \n",
       "9                                  0                         0             2  \n",
       "10                                 0                         0             2  \n",
       "11                                 0                         0             3  \n",
       "12                                 0                         0             1  \n",
       "13                                 0                         0             1  \n",
       "14                                 0                         0             2  \n",
       "15                                 0                         1             1  \n",
       "16                                 0                         0             2  "
      ]
     },
     "execution_count": 15,
     "metadata": {},
     "output_type": "execute_result"
    }
   ],
   "source": [
    "df_train_values.loc[df_train_values['geo_level_3_id'] == 12424, [\n",
    "    'building_id',\n",
    "    'age',\n",
    "    'has_superstructure_adobe_mud',\n",
    "    'has_superstructure_mud_mortar_stone',\n",
    "    'has_superstructure_stone_flag',\n",
    "    'has_superstructure_cement_mortar_stone',\n",
    "    'has_superstructure_mud_mortar_brick',\n",
    "    'has_superstructure_cement_mortar_brick',\n",
    "    'has_superstructure_timber',\n",
    "    'has_superstructure_bamboo',\n",
    "    'has_superstructure_rc_non_engineered',\n",
    "    'has_superstructure_rc_engineered',\n",
    "    'has_superstructure_other']].merge(df_train_labels)"
   ]
  },
  {
   "cell_type": "markdown",
   "id": "a958c34e-60c5-4939-8bda-d884de407814",
   "metadata": {},
   "source": [
    "__count_floors_pre_eq__"
   ]
  },
  {
   "cell_type": "markdown",
   "id": "fc3cd3ec-ae46-4e69-ba39-6bac1b12f19e",
   "metadata": {},
   "source": [
    "__age__"
   ]
  },
  {
   "cell_type": "markdown",
   "id": "41ec1ea0-3d71-4c02-8837-23d2fb23426a",
   "metadata": {},
   "source": [
    "__area_percentage__"
   ]
  },
  {
   "cell_type": "markdown",
   "id": "72863fbc-33a1-41c6-a9fb-21f98abb538c",
   "metadata": {},
   "source": [
    "__height_percentage__"
   ]
  },
  {
   "cell_type": "markdown",
   "id": "32c80363-85fe-4a71-867f-82c06073a5e0",
   "metadata": {},
   "source": [
    "__land_surface_condition__"
   ]
  },
  {
   "cell_type": "markdown",
   "id": "88b6ee1f-01a9-4014-9164-d426630dead7",
   "metadata": {},
   "source": [
    "__foundation_type__"
   ]
  },
  {
   "cell_type": "markdown",
   "id": "97a41eed-c619-4b9d-94e3-ca0e9391f4ee",
   "metadata": {},
   "source": [
    "__roof_type__"
   ]
  },
  {
   "cell_type": "markdown",
   "id": "263fdf08-991c-4338-ac10-25b3854035d1",
   "metadata": {},
   "source": [
    "__ground_floor_type__"
   ]
  },
  {
   "cell_type": "markdown",
   "id": "1cd131ff-142f-4fe8-973e-b75c52d0e638",
   "metadata": {},
   "source": [
    "__other_floor_type__"
   ]
  },
  {
   "cell_type": "markdown",
   "id": "a983dd32-d0ac-40cc-94fa-a3ec3d670109",
   "metadata": {},
   "source": [
    "__position__"
   ]
  },
  {
   "cell_type": "markdown",
   "id": "f444c229-a49f-41d4-95dc-5be57ad9572e",
   "metadata": {},
   "source": [
    "__plan_configuration__"
   ]
  },
  {
   "cell_type": "markdown",
   "id": "512ef2ef-5917-4fe4-b43a-90c8a6ae3b96",
   "metadata": {},
   "source": [
    "__plan_configuration__"
   ]
  },
  {
   "cell_type": "markdown",
   "id": "373a48d8-09d3-4914-814b-160fedbd7f78",
   "metadata": {},
   "source": [
    "__plan_configuration__"
   ]
  },
  {
   "cell_type": "markdown",
   "id": "cf76e2a8-e3c3-4e19-92c6-5f19456e80f9",
   "metadata": {},
   "source": [
    "__plan_configuration__"
   ]
  },
  {
   "cell_type": "markdown",
   "id": "a4f00cc9-8f23-48cd-acbb-cf6a8ef8f365",
   "metadata": {},
   "source": [
    "__plan_configuration__"
   ]
  },
  {
   "cell_type": "markdown",
   "id": "add3e6f1-a368-4009-a1d4-7e0feedb709b",
   "metadata": {},
   "source": [
    "__plan_configuration__"
   ]
  },
  {
   "cell_type": "markdown",
   "id": "6a36ed9e-dedf-45f5-9b18-a26aead4e304",
   "metadata": {},
   "source": [
    "__plan_configuration__"
   ]
  },
  {
   "cell_type": "markdown",
   "id": "8855155f-d04d-4014-9db7-43cbba750fde",
   "metadata": {},
   "source": [
    "__plan_configuration__"
   ]
  },
  {
   "cell_type": "markdown",
   "id": "e4559bf3-e10d-4823-a8e3-35452ea4f52b",
   "metadata": {},
   "source": [
    "__plan_configuration__"
   ]
  },
  {
   "cell_type": "markdown",
   "id": "4f210144-b6de-4241-9d54-8d34655c1820",
   "metadata": {},
   "source": [
    "__plan_configuration__"
   ]
  },
  {
   "cell_type": "markdown",
   "id": "c304160e-7316-410b-98c5-bd358fd4c9f2",
   "metadata": {},
   "source": [
    "__plan_configuration__"
   ]
  },
  {
   "cell_type": "markdown",
   "id": "0af35cdd-e53c-4023-a284-2b3ba95955fb",
   "metadata": {},
   "source": [
    "__plan_configuration__"
   ]
  },
  {
   "cell_type": "markdown",
   "id": "0090064e-5ef2-47f2-a26f-7e702a7c4364",
   "metadata": {},
   "source": [
    "__plan_configuration__"
   ]
  },
  {
   "cell_type": "markdown",
   "id": "97e7d259-365d-43d6-a76d-06b39b463f4e",
   "metadata": {},
   "source": [
    "__plan_configuration__"
   ]
  },
  {
   "cell_type": "markdown",
   "id": "2a6e1259-12df-438d-a442-558738d02ce8",
   "metadata": {},
   "source": [
    "__plan_configuration__"
   ]
  },
  {
   "cell_type": "markdown",
   "id": "b6977ed4-f97c-49cd-8b3c-866557fb2b84",
   "metadata": {},
   "source": [
    "__plan_configuration__"
   ]
  },
  {
   "cell_type": "markdown",
   "id": "527a23a7-f92e-41e8-b746-36c8a595ca10",
   "metadata": {},
   "source": [
    "__plan_configuration__"
   ]
  },
  {
   "cell_type": "markdown",
   "id": "14902912-3a4c-42a0-82df-037e2f67bebd",
   "metadata": {},
   "source": [
    "__plan_configuration__"
   ]
  },
  {
   "cell_type": "markdown",
   "id": "0d84560a-6546-4036-82a0-ad211c7c7772",
   "metadata": {},
   "source": [
    "__plan_configuration__"
   ]
  },
  {
   "cell_type": "markdown",
   "id": "100d9160-6b6a-414e-a151-90d98209331c",
   "metadata": {},
   "source": [
    "__plan_configuration__"
   ]
  },
  {
   "cell_type": "markdown",
   "id": "453010e4-f416-4bea-a498-8cbf621ba269",
   "metadata": {},
   "source": [
    "__plan_configuration__"
   ]
  },
  {
   "cell_type": "markdown",
   "id": "3e1e7517-49c3-4b92-8db7-21ea19af68aa",
   "metadata": {},
   "source": [
    "__plan_configuration__"
   ]
  },
  {
   "cell_type": "markdown",
   "id": "43888fbb-b101-4858-9711-f2e22b819c33",
   "metadata": {},
   "source": [
    "__plan_configuration__"
   ]
  },
  {
   "cell_type": "code",
   "execution_count": null,
   "id": "f6bbbe85-de43-47d1-8236-cc7b4cd920c5",
   "metadata": {},
   "outputs": [],
   "source": []
  },
  {
   "cell_type": "code",
   "execution_count": null,
   "id": "6371b12f-35ce-4723-97df-0378ad6d28ba",
   "metadata": {},
   "outputs": [],
   "source": []
  },
  {
   "cell_type": "code",
   "execution_count": null,
   "id": "7c786258-ad21-42e0-9fac-33a20e9c0f46",
   "metadata": {},
   "outputs": [],
   "source": []
  },
  {
   "cell_type": "code",
   "execution_count": null,
   "id": "89c618b8-7902-4e3f-90a2-fda079e513c5",
   "metadata": {},
   "outputs": [],
   "source": []
  },
  {
   "cell_type": "code",
   "execution_count": null,
   "id": "4335ed40-9f6e-49e8-898c-b53984868076",
   "metadata": {},
   "outputs": [],
   "source": []
  },
  {
   "cell_type": "code",
   "execution_count": null,
   "id": "9512d928-71ce-4b95-ba38-326b92fb6a43",
   "metadata": {},
   "outputs": [],
   "source": []
  },
  {
   "cell_type": "code",
   "execution_count": null,
   "id": "2cb09664-7f52-4579-b508-a93f8097420f",
   "metadata": {},
   "outputs": [],
   "source": []
  },
  {
   "cell_type": "code",
   "execution_count": null,
   "id": "fca7d1b3-695d-4d27-9038-9326ccf08341",
   "metadata": {},
   "outputs": [],
   "source": []
  }
 ],
 "metadata": {
  "kernelspec": {
   "display_name": "Python 3",
   "language": "python",
   "name": "python3"
  },
  "language_info": {
   "codemirror_mode": {
    "name": "ipython",
    "version": 3
   },
   "file_extension": ".py",
   "mimetype": "text/x-python",
   "name": "python",
   "nbconvert_exporter": "python",
   "pygments_lexer": "ipython3",
   "version": "3.8.5"
  }
 },
 "nbformat": 4,
 "nbformat_minor": 5
}
