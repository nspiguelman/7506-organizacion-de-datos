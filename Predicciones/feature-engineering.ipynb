{
 "cells": [
  {
   "cell_type": "markdown",
   "id": "9b651e6d-9b70-478b-8632-24f481118883",
   "metadata": {},
   "source": [
    "## Feature Engineering"
   ]
  },
  {
   "cell_type": "code",
   "execution_count": 170,
   "id": "5797ebcd-8ab2-4265-8191-dd5b3fd85bf2",
   "metadata": {},
   "outputs": [],
   "source": [
    "from sklearn.ensemble import RandomForestClassifier\n",
    "from sklearn.datasets import make_classification\n",
    "from sklearn.metrics import mean_squared_error\n",
    "from sklearn.metrics import f1_score\n",
    "import pandas as pd\n",
    "import numpy as np\n",
    "%matplotlib inline\n",
    "import matplotlib.pyplot as plt\n",
    "from sklearn import tree\n",
    "\n",
    "from sklearn.preprocessing import OneHotEncoder"
   ]
  },
  {
   "cell_type": "markdown",
   "id": "ff96c343-b8b8-4bc8-a91c-55ba8113c7ed",
   "metadata": {},
   "source": [
    "### Importamos las features originales"
   ]
  },
  {
   "cell_type": "code",
   "execution_count": 171,
   "id": "ac69a91a-1346-4e64-a280-c7f933925dc2",
   "metadata": {},
   "outputs": [],
   "source": [
    "df_train_values = pd.read_csv('./../datasets/train_values.csv')"
   ]
  },
  {
   "cell_type": "code",
   "execution_count": 172,
   "id": "5f72a3fa-0baa-4645-bb3d-af075cfece04",
   "metadata": {},
   "outputs": [],
   "source": [
    "df_a_filtrar = df_train_values"
   ]
  },
  {
   "cell_type": "code",
   "execution_count": 173,
   "id": "93435508-ab7a-4e23-9157-d4ef05b37c46",
   "metadata": {},
   "outputs": [
    {
     "data": {
      "text/html": [
       "<div>\n",
       "<style scoped>\n",
       "    .dataframe tbody tr th:only-of-type {\n",
       "        vertical-align: middle;\n",
       "    }\n",
       "\n",
       "    .dataframe tbody tr th {\n",
       "        vertical-align: top;\n",
       "    }\n",
       "\n",
       "    .dataframe thead th {\n",
       "        text-align: right;\n",
       "    }\n",
       "</style>\n",
       "<table border=\"1\" class=\"dataframe\">\n",
       "  <thead>\n",
       "    <tr style=\"text-align: right;\">\n",
       "      <th></th>\n",
       "      <th>building_id</th>\n",
       "      <th>geo_level_1_id</th>\n",
       "      <th>geo_level_2_id</th>\n",
       "      <th>geo_level_3_id</th>\n",
       "      <th>count_floors_pre_eq</th>\n",
       "      <th>age</th>\n",
       "      <th>area_percentage</th>\n",
       "      <th>height_percentage</th>\n",
       "      <th>land_surface_condition</th>\n",
       "      <th>foundation_type</th>\n",
       "      <th>...</th>\n",
       "      <th>has_secondary_use_agriculture</th>\n",
       "      <th>has_secondary_use_hotel</th>\n",
       "      <th>has_secondary_use_rental</th>\n",
       "      <th>has_secondary_use_institution</th>\n",
       "      <th>has_secondary_use_school</th>\n",
       "      <th>has_secondary_use_industry</th>\n",
       "      <th>has_secondary_use_health_post</th>\n",
       "      <th>has_secondary_use_gov_office</th>\n",
       "      <th>has_secondary_use_use_police</th>\n",
       "      <th>has_secondary_use_other</th>\n",
       "    </tr>\n",
       "  </thead>\n",
       "  <tbody>\n",
       "    <tr>\n",
       "      <th>0</th>\n",
       "      <td>802906</td>\n",
       "      <td>6</td>\n",
       "      <td>487</td>\n",
       "      <td>12198</td>\n",
       "      <td>2</td>\n",
       "      <td>30</td>\n",
       "      <td>6</td>\n",
       "      <td>5</td>\n",
       "      <td>t</td>\n",
       "      <td>r</td>\n",
       "      <td>...</td>\n",
       "      <td>0</td>\n",
       "      <td>0</td>\n",
       "      <td>0</td>\n",
       "      <td>0</td>\n",
       "      <td>0</td>\n",
       "      <td>0</td>\n",
       "      <td>0</td>\n",
       "      <td>0</td>\n",
       "      <td>0</td>\n",
       "      <td>0</td>\n",
       "    </tr>\n",
       "  </tbody>\n",
       "</table>\n",
       "<p>1 rows × 39 columns</p>\n",
       "</div>"
      ],
      "text/plain": [
       "   building_id  geo_level_1_id  geo_level_2_id  geo_level_3_id  \\\n",
       "0       802906               6             487           12198   \n",
       "\n",
       "   count_floors_pre_eq  age  area_percentage  height_percentage  \\\n",
       "0                    2   30                6                  5   \n",
       "\n",
       "  land_surface_condition foundation_type  ... has_secondary_use_agriculture  \\\n",
       "0                      t               r  ...                             0   \n",
       "\n",
       "  has_secondary_use_hotel has_secondary_use_rental  \\\n",
       "0                       0                        0   \n",
       "\n",
       "  has_secondary_use_institution has_secondary_use_school  \\\n",
       "0                             0                        0   \n",
       "\n",
       "   has_secondary_use_industry  has_secondary_use_health_post  \\\n",
       "0                           0                              0   \n",
       "\n",
       "   has_secondary_use_gov_office  has_secondary_use_use_police  \\\n",
       "0                             0                             0   \n",
       "\n",
       "   has_secondary_use_other  \n",
       "0                        0  \n",
       "\n",
       "[1 rows x 39 columns]"
      ]
     },
     "execution_count": 173,
     "metadata": {},
     "output_type": "execute_result"
    }
   ],
   "source": [
    "df_a_filtrar.head(1)"
   ]
  },
  {
   "cell_type": "markdown",
   "id": "ef483920-3113-45f7-acfc-4a7b13ad35ad",
   "metadata": {},
   "source": [
    "### Building_id"
   ]
  },
  {
   "cell_type": "code",
   "execution_count": 174,
   "id": "8f2b9ab8-5961-4b98-b6df-eccf9b085a62",
   "metadata": {},
   "outputs": [],
   "source": [
    "#df_a_filtrar = df_a_filtrar.drop(['building_id'], axis=1)"
   ]
  },
  {
   "cell_type": "markdown",
   "id": "2a5feb3b-61c6-4480-ba59-384efdefb592",
   "metadata": {},
   "source": [
    "### Geo Level 1 id \n",
    "\n",
    "Como geolevel no tiene una relación de orden entre cada uno de sus elementos, debemos hacer un encoding para poder predecir.geo_level_1_idgeo_level_1_id"
   ]
  },
  {
   "cell_type": "code",
   "execution_count": 175,
   "id": "8cffc3b4-cf4b-4ea0-aab9-479bb174cde8",
   "metadata": {},
   "outputs": [],
   "source": [
    "encoder = OneHotEncoder()"
   ]
  },
  {
   "cell_type": "code",
   "execution_count": 176,
   "id": "6d96dd9a-2e0d-4f5c-a0e3-5e1a88813f77",
   "metadata": {},
   "outputs": [],
   "source": [
    "df_a_filtrar['geo_level_1_id'] = pd.Categorical(df_a_filtrar['geo_level_1_id'])\n",
    "df_a_filtrar[['gl0', 'gl1', 'gl2', 'gl3', 'gl4', 'gl5', 'gl6', 'gl7', 'gl8', 'gl9', 'gl10', 'gl11', 'gl12', 'gl13', 'gl14', 'gl15', 'gl16', 'gl17', 'gl18', 'gl19', 'gl20', 'gl21', 'gl22', 'gl23', 'gl24', 'gl25', 'gl26', 'gl27', 'gl28', 'gl29', 'gl30']] = pd.get_dummies(df_a_filtrar['geo_level_1_id'])"
   ]
  },
  {
   "cell_type": "code",
   "execution_count": 177,
   "id": "c7a325b8-7e26-464e-a4cf-44c90d06313e",
   "metadata": {},
   "outputs": [],
   "source": [
    "df_a_filtrar = df_a_filtrar.drop(['geo_level_1_id', 'geo_level_2_id', 'geo_level_3_id'], axis=1)"
   ]
  },
  {
   "cell_type": "markdown",
   "id": "678b7d23-0f01-48c8-80f8-7442bdd52a7a",
   "metadata": {},
   "source": [
    "## count_floors_pre_eq\n",
    "\n",
    "Al tener una relación de orden, no es necesario hacer un encoding de los datos.\n",
    "\n",
    "### corregir si es necesario, sacando los datos que tienen pocas muestras."
   ]
  },
  {
   "cell_type": "code",
   "execution_count": 178,
   "id": "a2263935-c076-4bc0-8abe-ccdb32b6fecc",
   "metadata": {},
   "outputs": [
    {
     "data": {
      "text/plain": [
       "2    156623\n",
       "3     55617\n",
       "1     40441\n",
       "4      5424\n",
       "5      2246\n",
       "6       209\n",
       "7        39\n",
       "8         1\n",
       "9         1\n",
       "Name: count_floors_pre_eq, dtype: int64"
      ]
     },
     "execution_count": 178,
     "metadata": {},
     "output_type": "execute_result"
    }
   ],
   "source": [
    "df_a_filtrar['count_floors_pre_eq'].value_counts()"
   ]
  },
  {
   "cell_type": "markdown",
   "id": "7ae3a539-4baf-47bc-938f-6f50fb6d2342",
   "metadata": {},
   "source": [
    "## Age"
   ]
  },
  {
   "cell_type": "code",
   "execution_count": 179,
   "id": "f12d7cbc-c881-454f-994b-3a6e57410ac2",
   "metadata": {},
   "outputs": [
    {
     "data": {
      "text/plain": [
       "10    38896\n",
       "15    36010\n",
       "5     33697\n",
       "20    32182\n",
       "0     26041\n",
       "25    24366\n",
       "30    18028\n",
       "35    10710\n",
       "40    10559\n",
       "50     7257\n",
       "Name: age, dtype: int64"
      ]
     },
     "execution_count": 179,
     "metadata": {},
     "output_type": "execute_result"
    }
   ],
   "source": [
    "df_a_filtrar['age'].value_counts().head(10)"
   ]
  },
  {
   "cell_type": "markdown",
   "id": "dbfabfbd-2dd1-47df-9023-808f6d351829",
   "metadata": {},
   "source": [
    "## area_percentage"
   ]
  },
  {
   "cell_type": "code",
   "execution_count": 180,
   "id": "6df9b2ff-c7ad-474f-ba9b-45ac99328568",
   "metadata": {},
   "outputs": [
    {
     "data": {
      "text/plain": [
       "6      42013\n",
       "7      36752\n",
       "5      32724\n",
       "8      28445\n",
       "9      22199\n",
       "       ...  \n",
       "82         1\n",
       "80         1\n",
       "78         1\n",
       "75         1\n",
       "100        1\n",
       "Name: area_percentage, Length: 84, dtype: int64"
      ]
     },
     "execution_count": 180,
     "metadata": {},
     "output_type": "execute_result"
    }
   ],
   "source": [
    "df_a_filtrar['area_percentage'].value_counts()"
   ]
  },
  {
   "cell_type": "markdown",
   "id": "3ff36c11-b8e7-4af5-aec7-12642351394e",
   "metadata": {},
   "source": [
    "## Categóricos "
   ]
  },
  {
   "cell_type": "markdown",
   "id": "e0598206-6102-4267-9021-78babbdb5749",
   "metadata": {},
   "source": [
    "### land_surface_condition"
   ]
  },
  {
   "cell_type": "code",
   "execution_count": 181,
   "id": "797a2faa-ac5f-41dd-9cad-0b271f64da73",
   "metadata": {},
   "outputs": [
    {
     "data": {
      "text/plain": [
       "t    216757\n",
       "n     35528\n",
       "o      8316\n",
       "Name: land_surface_condition, dtype: int64"
      ]
     },
     "execution_count": 181,
     "metadata": {},
     "output_type": "execute_result"
    }
   ],
   "source": [
    "df_a_filtrar['land_surface_condition'].value_counts()"
   ]
  },
  {
   "cell_type": "code",
   "execution_count": 182,
   "id": "72ebf663-cd53-4306-afd4-af1802c09b89",
   "metadata": {},
   "outputs": [],
   "source": [
    "df_a_filtrar[['lsc_t', 'lsc_n', 'lsc_o']] = pd.get_dummies(df_a_filtrar['land_surface_condition'])"
   ]
  },
  {
   "cell_type": "code",
   "execution_count": 183,
   "id": "514c00b5-47a7-46b7-a2ce-f31d71a59270",
   "metadata": {},
   "outputs": [],
   "source": [
    "df_a_filtrar = df_a_filtrar.drop(['land_surface_condition'], axis=1)"
   ]
  },
  {
   "cell_type": "markdown",
   "id": "f1ef946c-bd80-4ce0-93fd-58e919612a2a",
   "metadata": {},
   "source": [
    "### foundation_type"
   ]
  },
  {
   "cell_type": "code",
   "execution_count": 184,
   "id": "3a637453-e44e-4f96-8456-59f564ff3dc7",
   "metadata": {},
   "outputs": [
    {
     "data": {
      "text/plain": [
       "r    219196\n",
       "w     15118\n",
       "u     14260\n",
       "i     10579\n",
       "h      1448\n",
       "Name: foundation_type, dtype: int64"
      ]
     },
     "execution_count": 184,
     "metadata": {},
     "output_type": "execute_result"
    }
   ],
   "source": [
    "df_a_filtrar['foundation_type'].value_counts()"
   ]
  },
  {
   "cell_type": "code",
   "execution_count": 185,
   "id": "7678bb18-9c56-42bd-b7db-fb13c900c7cd",
   "metadata": {
    "tags": []
   },
   "outputs": [],
   "source": [
    "df_a_filtrar[['ft_r', 'ft_w', 'ft_u', 'ft_i', 'ft_h']] = pd.get_dummies(df_a_filtrar['foundation_type'])"
   ]
  },
  {
   "cell_type": "code",
   "execution_count": 186,
   "id": "84259786-177a-470e-a2c1-2b77f4977977",
   "metadata": {},
   "outputs": [],
   "source": [
    "df_a_filtrar = df_a_filtrar.drop(['foundation_type'], axis=1)"
   ]
  },
  {
   "cell_type": "markdown",
   "id": "abe0dd45-128f-454b-a091-e2ee3d9c33e9",
   "metadata": {},
   "source": [
    "### roof_type"
   ]
  },
  {
   "cell_type": "code",
   "execution_count": 187,
   "id": "381a1a78-9a3b-4fc2-ad2b-9ff705439b0c",
   "metadata": {},
   "outputs": [
    {
     "data": {
      "text/plain": [
       "n    182842\n",
       "q     61576\n",
       "x     16183\n",
       "Name: roof_type, dtype: int64"
      ]
     },
     "execution_count": 187,
     "metadata": {},
     "output_type": "execute_result"
    }
   ],
   "source": [
    "df_a_filtrar['roof_type'].value_counts()"
   ]
  },
  {
   "cell_type": "code",
   "execution_count": 188,
   "id": "ed9fe053-9891-4441-b77b-5ea0bf629439",
   "metadata": {},
   "outputs": [],
   "source": [
    "df_a_filtrar[['rt_n', 'rt_q', 'rt_x']] = pd.get_dummies(df_a_filtrar['roof_type'])"
   ]
  },
  {
   "cell_type": "code",
   "execution_count": 189,
   "id": "a61fc985-f2b4-4bba-8380-436340cbcbd9",
   "metadata": {},
   "outputs": [],
   "source": [
    "df_a_filtrar = df_a_filtrar.drop(['roof_type'], axis=1)"
   ]
  },
  {
   "cell_type": "markdown",
   "id": "e8de7e2a-b714-4dbb-a7fc-dd940ddd0170",
   "metadata": {},
   "source": [
    "### ground_floor_type"
   ]
  },
  {
   "cell_type": "code",
   "execution_count": 190,
   "id": "1b76982f-0aef-4c2f-ac09-cf72bc0b7f30",
   "metadata": {},
   "outputs": [
    {
     "data": {
      "text/plain": [
       "f    209619\n",
       "x     24877\n",
       "v     24593\n",
       "z      1004\n",
       "m       508\n",
       "Name: ground_floor_type, dtype: int64"
      ]
     },
     "execution_count": 190,
     "metadata": {},
     "output_type": "execute_result"
    }
   ],
   "source": [
    "df_a_filtrar['ground_floor_type'].value_counts()"
   ]
  },
  {
   "cell_type": "code",
   "execution_count": 191,
   "id": "96127777-3cee-4394-b255-8e0e4ec260b1",
   "metadata": {},
   "outputs": [],
   "source": [
    "df_a_filtrar[['gft_f', 'gft_x', 'gft_v', 'gft_z', 'gft_m']] = pd.get_dummies(df_a_filtrar['ground_floor_type'])"
   ]
  },
  {
   "cell_type": "code",
   "execution_count": 192,
   "id": "2bfe65c8-f58f-4d65-a23f-121ffffd8425",
   "metadata": {},
   "outputs": [],
   "source": [
    "df_a_filtrar = df_a_filtrar.drop(['ground_floor_type'], axis=1)"
   ]
  },
  {
   "cell_type": "markdown",
   "id": "bf542b1e-870f-48ed-8d63-bb37223ae5cb",
   "metadata": {},
   "source": [
    "### other_floor_type\n",
    "\n",
    "Quiza conviene combinarlo con floor type"
   ]
  },
  {
   "cell_type": "code",
   "execution_count": 193,
   "id": "45e6560d-7df3-4596-8589-cee9e91eb5df",
   "metadata": {},
   "outputs": [
    {
     "data": {
      "text/plain": [
       "q    165282\n",
       "x     43448\n",
       "j     39843\n",
       "s     12028\n",
       "Name: other_floor_type, dtype: int64"
      ]
     },
     "execution_count": 193,
     "metadata": {},
     "output_type": "execute_result"
    }
   ],
   "source": [
    "df_a_filtrar['other_floor_type'].value_counts()"
   ]
  },
  {
   "cell_type": "code",
   "execution_count": 194,
   "id": "02bb81f8-5074-4f83-87b8-6658ccecfb54",
   "metadata": {},
   "outputs": [],
   "source": [
    "df_a_filtrar[['oft_q', 'oft_x', 'oft_j', 'oft_s']] = pd.get_dummies(df_a_filtrar['other_floor_type'])"
   ]
  },
  {
   "cell_type": "code",
   "execution_count": 195,
   "id": "338f377b-c113-41c8-93d8-a6330838a60c",
   "metadata": {},
   "outputs": [],
   "source": [
    "df_a_filtrar = df_a_filtrar.drop(['other_floor_type'], axis=1)"
   ]
  },
  {
   "cell_type": "markdown",
   "id": "1e79a345-cd5c-44b7-9cd4-627e2eefc94a",
   "metadata": {},
   "source": [
    "### position"
   ]
  },
  {
   "cell_type": "code",
   "execution_count": 196,
   "id": "758c8fa1-c984-4341-8af4-6d33e61dbe7d",
   "metadata": {},
   "outputs": [
    {
     "data": {
      "text/plain": [
       "s    202090\n",
       "t     42896\n",
       "j     13282\n",
       "o      2333\n",
       "Name: position, dtype: int64"
      ]
     },
     "execution_count": 196,
     "metadata": {},
     "output_type": "execute_result"
    }
   ],
   "source": [
    "df_a_filtrar['position'].value_counts()"
   ]
  },
  {
   "cell_type": "code",
   "execution_count": 197,
   "id": "e7912dcf-8373-40ac-813f-8049ebd98cc5",
   "metadata": {},
   "outputs": [],
   "source": [
    "df_a_filtrar[['p_s', 'p_t', 'p_j', 'p_o']] = pd.get_dummies(df_a_filtrar['position'])"
   ]
  },
  {
   "cell_type": "code",
   "execution_count": 198,
   "id": "dfd51574-4fec-471d-8022-6d2bbb6e3f2a",
   "metadata": {},
   "outputs": [],
   "source": [
    "df_a_filtrar = df_a_filtrar.drop(['position'], axis=1)"
   ]
  },
  {
   "cell_type": "markdown",
   "id": "6f2e37a0-56cb-4317-a07c-edd53cdae2c3",
   "metadata": {},
   "source": [
    "### plan_configuration"
   ]
  },
  {
   "cell_type": "code",
   "execution_count": 199,
   "id": "76a20fac-d335-45b8-a874-502b799d172a",
   "metadata": {},
   "outputs": [
    {
     "data": {
      "text/plain": [
       "d    250072\n",
       "q      5692\n",
       "u      3649\n",
       "s       346\n",
       "c       325\n",
       "a       252\n",
       "o       159\n",
       "m        46\n",
       "n        38\n",
       "f        22\n",
       "Name: plan_configuration, dtype: int64"
      ]
     },
     "execution_count": 199,
     "metadata": {},
     "output_type": "execute_result"
    }
   ],
   "source": [
    "df_a_filtrar['plan_configuration'].value_counts()"
   ]
  },
  {
   "cell_type": "code",
   "execution_count": 200,
   "id": "7120928b-3f75-433d-aa53-f8e6159d9947",
   "metadata": {},
   "outputs": [],
   "source": [
    "df_a_filtrar[['pc_d', 'pc_q', 'pq_u', 'pc_s', 'pc_c', 'pc_a', 'pc_o', 'pc_m', 'pc_n', 'pc_f']] = pd.get_dummies(df_a_filtrar['plan_configuration'])"
   ]
  },
  {
   "cell_type": "code",
   "execution_count": 201,
   "id": "c0784a3c-2de2-4dc1-a017-4f658957438c",
   "metadata": {},
   "outputs": [],
   "source": [
    "df_a_filtrar = df_a_filtrar.drop(['plan_configuration'], axis=1)"
   ]
  },
  {
   "cell_type": "markdown",
   "id": "137d5a10-dc83-4881-ba23-c53db39bfb9c",
   "metadata": {},
   "source": [
    "## legal_ownership_status"
   ]
  },
  {
   "cell_type": "code",
   "execution_count": 202,
   "id": "c915b6b5-5776-408e-a8b3-d061488536b1",
   "metadata": {},
   "outputs": [
    {
     "data": {
      "text/plain": [
       "v    250939\n",
       "a      5512\n",
       "w      2677\n",
       "r      1473\n",
       "Name: legal_ownership_status, dtype: int64"
      ]
     },
     "execution_count": 202,
     "metadata": {},
     "output_type": "execute_result"
    }
   ],
   "source": [
    "df_a_filtrar['legal_ownership_status'].value_counts()"
   ]
  },
  {
   "cell_type": "code",
   "execution_count": 203,
   "id": "13e3d2ee-871f-44e5-bcc3-7d7179fc9e9a",
   "metadata": {},
   "outputs": [],
   "source": [
    "df_a_filtrar[['los_v', 'los_a', 'los_w', 'los_r']] = pd.get_dummies(df_a_filtrar['legal_ownership_status'])"
   ]
  },
  {
   "cell_type": "code",
   "execution_count": 204,
   "id": "66051bab-8d1d-451a-86c4-4a675a91004e",
   "metadata": {},
   "outputs": [],
   "source": [
    "df_a_filtrar = df_a_filtrar.drop(['legal_ownership_status'], axis=1)"
   ]
  },
  {
   "cell_type": "markdown",
   "id": "94363474-8702-424f-a14a-414d1901fbc3",
   "metadata": {},
   "source": [
    "## DataFrame con primer encoding\n",
    "\n",
    "Usando One-hot Encoder"
   ]
  },
  {
   "cell_type": "code",
   "execution_count": 209,
   "id": "e1f33dde-9824-456f-b9a2-a902941852ba",
   "metadata": {},
   "outputs": [],
   "source": [
    "df_a_filtrar = df_a_filtrar.set_index(['building_id'])\n",
    "df_a_filtrar.to_csv('./../datasets/train_values_FE.csv')"
   ]
  }
 ],
 "metadata": {
  "kernelspec": {
   "display_name": "Python 3",
   "language": "python",
   "name": "python3"
  },
  "language_info": {
   "codemirror_mode": {
    "name": "ipython",
    "version": 3
   },
   "file_extension": ".py",
   "mimetype": "text/x-python",
   "name": "python",
   "nbconvert_exporter": "python",
   "pygments_lexer": "ipython3",
   "version": "3.8.10"
  }
 },
 "nbformat": 4,
 "nbformat_minor": 5
}
