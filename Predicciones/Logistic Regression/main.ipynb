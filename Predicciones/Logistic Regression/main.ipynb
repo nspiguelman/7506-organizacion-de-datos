{
 "cells": [
  {
   "cell_type": "markdown",
   "id": "045fdcf7-a85b-4744-ad52-cfae1d05191e",
   "metadata": {},
   "source": [
    "## Logistic Regression"
   ]
  },
  {
   "cell_type": "markdown",
   "id": "a43d339b-303d-43a5-b9c0-8771f8c72a7a",
   "metadata": {},
   "source": [
    "### Se importan las librerías usadas"
   ]
  },
  {
   "cell_type": "code",
   "execution_count": 23,
   "id": "d86d6392-1f5c-4ef1-8edb-7d2c9a8b0fd7",
   "metadata": {},
   "outputs": [],
   "source": [
    "from sklearn.linear_model import LogisticRegression\n",
    "from sklearn.model_selection import train_test_split\n",
    "from sklearn.metrics import f1_score\n",
    "\n",
    "import numpy as np\n",
    "import matplotlib.pyplot as plt\n",
    "\n",
    "import pandas as pd"
   ]
  },
  {
   "cell_type": "markdown",
   "id": "92cee0ff-c0c9-4b78-9808-a9ccdf9b03c2",
   "metadata": {},
   "source": [
    "### Leemos los archivos"
   ]
  },
  {
   "cell_type": "code",
   "execution_count": 6,
   "id": "aece30f7-a470-497f-ac87-f1c80f14f8d3",
   "metadata": {},
   "outputs": [],
   "source": [
    "df_train_labels = pd.read_csv('./../../datasets/train_labels.csv')\n",
    "df_train_values = pd.read_csv('./../../datasets/train_values_FE.csv')"
   ]
  },
  {
   "cell_type": "markdown",
   "id": "9e2c2342-fe5c-4e03-9be6-a5ae017b1bdf",
   "metadata": {},
   "source": [
    "#### Eliminamos el building id para pdoer hacer las predicciones"
   ]
  },
  {
   "cell_type": "code",
   "execution_count": 7,
   "id": "8397f8e9-5fe1-4ab3-a1dd-db7c025e4322",
   "metadata": {},
   "outputs": [],
   "source": [
    "df_train_labels_filtrados = df_train_labels.drop(['building_id'], axis=1)\n",
    "df_train_values_filtrados = df_train_values.drop(['building_id'], axis=1)"
   ]
  },
  {
   "cell_type": "code",
   "execution_count": 10,
   "id": "a0b503a7-d7ae-43d3-b3b4-8be8971ca76f",
   "metadata": {},
   "outputs": [],
   "source": [
    "X_train, X_test, y_train, y_test = train_test_split(df_train_values_filtrados, df_train_labels_filtrados, test_size=0.3, random_state=123)"
   ]
  },
  {
   "cell_type": "markdown",
   "id": "3e3ae835-0dec-4606-9991-95030af4498e",
   "metadata": {},
   "source": [
    "### Se implementa el algoritmo"
   ]
  },
  {
   "cell_type": "code",
   "execution_count": 14,
   "id": "43650e09-f1a9-4f94-a85f-828ee59ccd6c",
   "metadata": {},
   "outputs": [
    {
     "name": "stderr",
     "output_type": "stream",
     "text": [
      "/home/nahuel/.local/lib/python3.8/site-packages/sklearn/utils/validation.py:63: DataConversionWarning: A column-vector y was passed when a 1d array was expected. Please change the shape of y to (n_samples, ), for example using ravel().\n",
      "  return f(*args, **kwargs)\n",
      "/home/nahuel/.local/lib/python3.8/site-packages/sklearn/linear_model/_logistic.py:763: ConvergenceWarning: lbfgs failed to converge (status=1):\n",
      "STOP: TOTAL NO. of ITERATIONS REACHED LIMIT.\n",
      "\n",
      "Increase the number of iterations (max_iter) or scale the data as shown in:\n",
      "    https://scikit-learn.org/stable/modules/preprocessing.html\n",
      "Please also refer to the documentation for alternative solver options:\n",
      "    https://scikit-learn.org/stable/modules/linear_model.html#logistic-regression\n",
      "  n_iter_i = _check_optimize_result(\n"
     ]
    }
   ],
   "source": [
    "lr = LogisticRegression(random_state=0).fit(X_train, y_train)"
   ]
  },
  {
   "cell_type": "markdown",
   "id": "1c2873f7-171b-4a28-a238-89fbbbb6fdfc",
   "metadata": {},
   "source": [
    "### Se hace la predicción"
   ]
  },
  {
   "cell_type": "code",
   "execution_count": 15,
   "id": "eff4a26c-2857-415c-98da-f6c8d446e219",
   "metadata": {},
   "outputs": [],
   "source": [
    "preds = lr.predict(X_test)"
   ]
  },
  {
   "cell_type": "markdown",
   "id": "8495eb02-a466-4b42-82e5-325a0512534d",
   "metadata": {},
   "source": [
    "### Se calcula el error"
   ]
  },
  {
   "cell_type": "code",
   "execution_count": 20,
   "id": "e32b909d-0b25-4341-8854-83f843b5e322",
   "metadata": {},
   "outputs": [],
   "source": [
    "score = f1_score(y_test, preds, average='micro')"
   ]
  },
  {
   "cell_type": "code",
   "execution_count": 22,
   "id": "0b735118-89a0-4430-9da1-36bc118fa936",
   "metadata": {},
   "outputs": [
    {
     "name": "stdout",
     "output_type": "stream",
     "text": [
      "El score es: 0.6547498752893925\n"
     ]
    }
   ],
   "source": [
    "print(\"El score es: \" + str(score))"
   ]
  },
  {
   "cell_type": "markdown",
   "id": "0235b77c-a204-4c54-a8a7-f61380094438",
   "metadata": {},
   "source": [
    "gráfica"
   ]
  },
  {
   "cell_type": "code",
   "execution_count": 30,
   "id": "1eab8182-6cf7-4673-bf41-60c87ca2978e",
   "metadata": {},
   "outputs": [
    {
     "data": {
      "text/plain": [
       "2"
      ]
     },
     "execution_count": 30,
     "metadata": {},
     "output_type": "execute_result"
    }
   ],
   "source": []
  }
 ],
 "metadata": {
  "kernelspec": {
   "display_name": "Python 3",
   "language": "python",
   "name": "python3"
  },
  "language_info": {
   "codemirror_mode": {
    "name": "ipython",
    "version": 3
   },
   "file_extension": ".py",
   "mimetype": "text/x-python",
   "name": "python",
   "nbconvert_exporter": "python",
   "pygments_lexer": "ipython3",
   "version": "3.8.10"
  }
 },
 "nbformat": 4,
 "nbformat_minor": 5
}
