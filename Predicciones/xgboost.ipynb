{
 "cells": [
  {
   "cell_type": "markdown",
   "id": "0311b512-27e6-4d94-8070-3865a4bcd399",
   "metadata": {},
   "source": [
    "# XGBoost"
   ]
  },
  {
   "cell_type": "markdown",
   "id": "38c241c2-db7e-443a-a05a-628401e02819",
   "metadata": {},
   "source": [
    "### Importamos las librerías"
   ]
  },
  {
   "cell_type": "code",
   "execution_count": 134,
   "id": "149e7a9c-e517-4eb2-8856-3722f75441bd",
   "metadata": {},
   "outputs": [],
   "source": [
    "from sklearn.ensemble import RandomForestClassifier\n",
    "from sklearn.datasets import make_classification\n",
    "from sklearn.metrics import f1_score\n",
    "\n",
    "from sklearn.model_selection import GridSearchCV\n",
    "from sklearn.model_selection import RandomizedSearchCV\n",
    "\n",
    "import pandas as pd\n",
    "import numpy as np\n",
    "%matplotlib inline\n",
    "import matplotlib.pyplot as plt\n",
    "from sklearn import tree\n",
    "import xgboost as xgb"
   ]
  },
  {
   "cell_type": "markdown",
   "id": "93441595-0558-4801-974f-e60345c7f480",
   "metadata": {},
   "source": [
    "### Leemos los archivos"
   ]
  },
  {
   "cell_type": "code",
   "execution_count": 5,
   "id": "3216cca6-8e8a-4709-82ce-b5a25276143b",
   "metadata": {},
   "outputs": [],
   "source": [
    "df_train_labels = pd.read_csv('./../datasets/train_labels.csv')\n",
    "df_train_values = pd.read_csv('./../datasets/train_values_FE.csv')"
   ]
  },
  {
   "cell_type": "markdown",
   "id": "422cddfd-cddf-41f2-9676-1be1ab10cb3d",
   "metadata": {},
   "source": [
    "#### Eliminamos el building id para pdoer hacer las predicciones"
   ]
  },
  {
   "cell_type": "code",
   "execution_count": 71,
   "id": "63f93ff0-0dd8-4190-8465-17125b81257c",
   "metadata": {},
   "outputs": [
    {
     "data": {
      "text/html": [
       "<div>\n",
       "<style scoped>\n",
       "    .dataframe tbody tr th:only-of-type {\n",
       "        vertical-align: middle;\n",
       "    }\n",
       "\n",
       "    .dataframe tbody tr th {\n",
       "        vertical-align: top;\n",
       "    }\n",
       "\n",
       "    .dataframe thead th {\n",
       "        text-align: right;\n",
       "    }\n",
       "</style>\n",
       "<table border=\"1\" class=\"dataframe\">\n",
       "  <thead>\n",
       "    <tr style=\"text-align: right;\">\n",
       "      <th></th>\n",
       "      <th>damage_grade</th>\n",
       "    </tr>\n",
       "  </thead>\n",
       "  <tbody>\n",
       "    <tr>\n",
       "      <th>0</th>\n",
       "      <td>2</td>\n",
       "    </tr>\n",
       "    <tr>\n",
       "      <th>1</th>\n",
       "      <td>1</td>\n",
       "    </tr>\n",
       "    <tr>\n",
       "      <th>2</th>\n",
       "      <td>2</td>\n",
       "    </tr>\n",
       "    <tr>\n",
       "      <th>3</th>\n",
       "      <td>1</td>\n",
       "    </tr>\n",
       "    <tr>\n",
       "      <th>4</th>\n",
       "      <td>2</td>\n",
       "    </tr>\n",
       "    <tr>\n",
       "      <th>...</th>\n",
       "      <td>...</td>\n",
       "    </tr>\n",
       "    <tr>\n",
       "      <th>260596</th>\n",
       "      <td>1</td>\n",
       "    </tr>\n",
       "    <tr>\n",
       "      <th>260597</th>\n",
       "      <td>2</td>\n",
       "    </tr>\n",
       "    <tr>\n",
       "      <th>260598</th>\n",
       "      <td>2</td>\n",
       "    </tr>\n",
       "    <tr>\n",
       "      <th>260599</th>\n",
       "      <td>1</td>\n",
       "    </tr>\n",
       "    <tr>\n",
       "      <th>260600</th>\n",
       "      <td>2</td>\n",
       "    </tr>\n",
       "  </tbody>\n",
       "</table>\n",
       "<p>260601 rows × 1 columns</p>\n",
       "</div>"
      ],
      "text/plain": [
       "        damage_grade\n",
       "0                  2\n",
       "1                  1\n",
       "2                  2\n",
       "3                  1\n",
       "4                  2\n",
       "...              ...\n",
       "260596             1\n",
       "260597             2\n",
       "260598             2\n",
       "260599             1\n",
       "260600             2\n",
       "\n",
       "[260601 rows x 1 columns]"
      ]
     },
     "execution_count": 71,
     "metadata": {},
     "output_type": "execute_result"
    }
   ],
   "source": [
    "df_train_labels_filtrados = df_train_labels.drop(['building_id'], axis=1)\n",
    "df_train_values_filtrados = df_train_values.drop(['building_id'], axis=1)\n",
    "df_train_labels_filtrados['damage_grade'] = df_train_labels_filtrados['damage_grade'] - 1\n",
    "df_train_labels_filtrados"
   ]
  },
  {
   "cell_type": "markdown",
   "id": "93a51d17-d69b-4e68-a78e-cc25024744a0",
   "metadata": {},
   "source": [
    "#### Implementamos el algoritmo"
   ]
  },
  {
   "cell_type": "code",
   "execution_count": 160,
   "id": "5c490cf7-a007-459b-9221-4313340b393e",
   "metadata": {},
   "outputs": [],
   "source": [
    "from sklearn.model_selection import train_test_split\n",
    "\n",
    "X_train, X_test, y_train, y_test = train_test_split(df_train_values_filtrados, df_train_labels_filtrados, test_size=0.3, random_state=123)"
   ]
  },
  {
   "cell_type": "code",
   "execution_count": 180,
   "id": "92a548fe-462e-48b0-8835-edaaa807ba30",
   "metadata": {},
   "outputs": [],
   "source": [
    "xg_reg = xgb.XGBClassifier(objective ='multi:softprob')"
   ]
  },
  {
   "cell_type": "code",
   "execution_count": 181,
   "id": "b62ef38a-5eb6-483c-945c-e7a3cfe97872",
   "metadata": {},
   "outputs": [
    {
     "name": "stderr",
     "output_type": "stream",
     "text": [
      "/home/nahuel/.local/lib/python3.8/site-packages/xgboost/sklearn.py:1146: UserWarning: The use of label encoder in XGBClassifier is deprecated and will be removed in a future release. To remove this warning, do the following: 1) Pass option use_label_encoder=False when constructing XGBClassifier object; and 2) Encode your labels (y) as integers starting with 0, i.e. 0, 1, 2, ..., [num_class - 1].\n",
      "  warnings.warn(label_encoder_deprecation_msg, UserWarning)\n",
      "/home/nahuel/.local/lib/python3.8/site-packages/sklearn/utils/validation.py:63: DataConversionWarning: A column-vector y was passed when a 1d array was expected. Please change the shape of y to (n_samples, ), for example using ravel().\n",
      "  return f(*args, **kwargs)\n"
     ]
    },
    {
     "name": "stdout",
     "output_type": "stream",
     "text": [
      "[0]\tvalidation_0-merror:0.33222\tvalidation_0-mlogloss:0.97162\tvalidation_1-merror:0.33324\tvalidation_1-mlogloss:0.97203\n",
      "[1]\tvalidation_0-merror:0.33046\tvalidation_0-mlogloss:0.89336\tvalidation_1-merror:0.33167\tvalidation_1-mlogloss:0.89392\n",
      "[2]\tvalidation_0-merror:0.32887\tvalidation_0-mlogloss:0.84264\tvalidation_1-merror:0.33012\tvalidation_1-mlogloss:0.84363\n",
      "[3]\tvalidation_0-merror:0.32810\tvalidation_0-mlogloss:0.80652\tvalidation_1-merror:0.32913\tvalidation_1-mlogloss:0.80809\n",
      "[4]\tvalidation_0-merror:0.33111\tvalidation_0-mlogloss:0.78106\tvalidation_1-merror:0.33254\tvalidation_1-mlogloss:0.78280\n",
      "[5]\tvalidation_0-merror:0.33007\tvalidation_0-mlogloss:0.76133\tvalidation_1-merror:0.33227\tvalidation_1-mlogloss:0.76358\n",
      "[6]\tvalidation_0-merror:0.32588\tvalidation_0-mlogloss:0.74650\tvalidation_1-merror:0.32709\tvalidation_1-mlogloss:0.74921\n",
      "[7]\tvalidation_0-merror:0.32522\tvalidation_0-mlogloss:0.73501\tvalidation_1-merror:0.32651\tvalidation_1-mlogloss:0.73803\n",
      "[8]\tvalidation_0-merror:0.32482\tvalidation_0-mlogloss:0.72552\tvalidation_1-merror:0.32660\tvalidation_1-mlogloss:0.72889\n",
      "[9]\tvalidation_0-merror:0.32388\tvalidation_0-mlogloss:0.71778\tvalidation_1-merror:0.32587\tvalidation_1-mlogloss:0.72156\n",
      "[10]\tvalidation_0-merror:0.32272\tvalidation_0-mlogloss:0.71106\tvalidation_1-merror:0.32526\tvalidation_1-mlogloss:0.71539\n",
      "[11]\tvalidation_0-merror:0.32068\tvalidation_0-mlogloss:0.70524\tvalidation_1-merror:0.32434\tvalidation_1-mlogloss:0.71002\n",
      "[12]\tvalidation_0-merror:0.31972\tvalidation_0-mlogloss:0.70049\tvalidation_1-merror:0.32339\tvalidation_1-mlogloss:0.70565\n",
      "[13]\tvalidation_0-merror:0.31928\tvalidation_0-mlogloss:0.69646\tvalidation_1-merror:0.32278\tvalidation_1-mlogloss:0.70205\n",
      "[14]\tvalidation_0-merror:0.31872\tvalidation_0-mlogloss:0.69304\tvalidation_1-merror:0.32238\tvalidation_1-mlogloss:0.69901\n",
      "[15]\tvalidation_0-merror:0.31812\tvalidation_0-mlogloss:0.68964\tvalidation_1-merror:0.32192\tvalidation_1-mlogloss:0.69603\n",
      "[16]\tvalidation_0-merror:0.31710\tvalidation_0-mlogloss:0.68654\tvalidation_1-merror:0.32068\tvalidation_1-mlogloss:0.69326\n",
      "[17]\tvalidation_0-merror:0.31680\tvalidation_0-mlogloss:0.68446\tvalidation_1-merror:0.32060\tvalidation_1-mlogloss:0.69151\n",
      "[18]\tvalidation_0-merror:0.31605\tvalidation_0-mlogloss:0.68223\tvalidation_1-merror:0.32016\tvalidation_1-mlogloss:0.68970\n",
      "[19]\tvalidation_0-merror:0.31367\tvalidation_0-mlogloss:0.67982\tvalidation_1-merror:0.31826\tvalidation_1-mlogloss:0.68781\n",
      "[20]\tvalidation_0-merror:0.31304\tvalidation_0-mlogloss:0.67809\tvalidation_1-merror:0.31788\tvalidation_1-mlogloss:0.68646\n",
      "[21]\tvalidation_0-merror:0.31274\tvalidation_0-mlogloss:0.67619\tvalidation_1-merror:0.31761\tvalidation_1-mlogloss:0.68485\n",
      "[22]\tvalidation_0-merror:0.31207\tvalidation_0-mlogloss:0.67470\tvalidation_1-merror:0.31724\tvalidation_1-mlogloss:0.68365\n",
      "[23]\tvalidation_0-merror:0.31164\tvalidation_0-mlogloss:0.67311\tvalidation_1-merror:0.31683\tvalidation_1-mlogloss:0.68248\n",
      "[24]\tvalidation_0-merror:0.31130\tvalidation_0-mlogloss:0.67169\tvalidation_1-merror:0.31650\tvalidation_1-mlogloss:0.68140\n",
      "[25]\tvalidation_0-merror:0.31101\tvalidation_0-mlogloss:0.67029\tvalidation_1-merror:0.31664\tvalidation_1-mlogloss:0.68033\n",
      "[26]\tvalidation_0-merror:0.31000\tvalidation_0-mlogloss:0.66890\tvalidation_1-merror:0.31625\tvalidation_1-mlogloss:0.67930\n",
      "[27]\tvalidation_0-merror:0.30937\tvalidation_0-mlogloss:0.66788\tvalidation_1-merror:0.31573\tvalidation_1-mlogloss:0.67855\n",
      "[28]\tvalidation_0-merror:0.30817\tvalidation_0-mlogloss:0.66637\tvalidation_1-merror:0.31549\tvalidation_1-mlogloss:0.67751\n",
      "[29]\tvalidation_0-merror:0.30785\tvalidation_0-mlogloss:0.66538\tvalidation_1-merror:0.31479\tvalidation_1-mlogloss:0.67677\n",
      "[30]\tvalidation_0-merror:0.30736\tvalidation_0-mlogloss:0.66449\tvalidation_1-merror:0.31448\tvalidation_1-mlogloss:0.67621\n",
      "[31]\tvalidation_0-merror:0.30713\tvalidation_0-mlogloss:0.66348\tvalidation_1-merror:0.31400\tvalidation_1-mlogloss:0.67551\n",
      "[32]\tvalidation_0-merror:0.30670\tvalidation_0-mlogloss:0.66249\tvalidation_1-merror:0.31385\tvalidation_1-mlogloss:0.67495\n",
      "[33]\tvalidation_0-merror:0.30628\tvalidation_0-mlogloss:0.66160\tvalidation_1-merror:0.31373\tvalidation_1-mlogloss:0.67437\n",
      "[34]\tvalidation_0-merror:0.30653\tvalidation_0-mlogloss:0.66036\tvalidation_1-merror:0.31373\tvalidation_1-mlogloss:0.67346\n",
      "[35]\tvalidation_0-merror:0.30594\tvalidation_0-mlogloss:0.65963\tvalidation_1-merror:0.31358\tvalidation_1-mlogloss:0.67301\n",
      "[36]\tvalidation_0-merror:0.30583\tvalidation_0-mlogloss:0.65903\tvalidation_1-merror:0.31371\tvalidation_1-mlogloss:0.67268\n",
      "[37]\tvalidation_0-merror:0.30517\tvalidation_0-mlogloss:0.65801\tvalidation_1-merror:0.31275\tvalidation_1-mlogloss:0.67196\n",
      "[38]\tvalidation_0-merror:0.30487\tvalidation_0-mlogloss:0.65723\tvalidation_1-merror:0.31267\tvalidation_1-mlogloss:0.67148\n",
      "[39]\tvalidation_0-merror:0.30429\tvalidation_0-mlogloss:0.65623\tvalidation_1-merror:0.31208\tvalidation_1-mlogloss:0.67078\n",
      "[40]\tvalidation_0-merror:0.30399\tvalidation_0-mlogloss:0.65546\tvalidation_1-merror:0.31198\tvalidation_1-mlogloss:0.67046\n",
      "[41]\tvalidation_0-merror:0.30375\tvalidation_0-mlogloss:0.65494\tvalidation_1-merror:0.31170\tvalidation_1-mlogloss:0.67016\n",
      "[42]\tvalidation_0-merror:0.30317\tvalidation_0-mlogloss:0.65429\tvalidation_1-merror:0.31144\tvalidation_1-mlogloss:0.66984\n",
      "[43]\tvalidation_0-merror:0.30303\tvalidation_0-mlogloss:0.65370\tvalidation_1-merror:0.31143\tvalidation_1-mlogloss:0.66948\n",
      "[44]\tvalidation_0-merror:0.30231\tvalidation_0-mlogloss:0.65279\tvalidation_1-merror:0.31128\tvalidation_1-mlogloss:0.66896\n",
      "[45]\tvalidation_0-merror:0.30222\tvalidation_0-mlogloss:0.65230\tvalidation_1-merror:0.31143\tvalidation_1-mlogloss:0.66865\n",
      "[46]\tvalidation_0-merror:0.30198\tvalidation_0-mlogloss:0.65164\tvalidation_1-merror:0.31127\tvalidation_1-mlogloss:0.66833\n",
      "[47]\tvalidation_0-merror:0.30155\tvalidation_0-mlogloss:0.65099\tvalidation_1-merror:0.31119\tvalidation_1-mlogloss:0.66795\n",
      "[48]\tvalidation_0-merror:0.30125\tvalidation_0-mlogloss:0.65043\tvalidation_1-merror:0.31104\tvalidation_1-mlogloss:0.66768\n",
      "[49]\tvalidation_0-merror:0.30118\tvalidation_0-mlogloss:0.65007\tvalidation_1-merror:0.31089\tvalidation_1-mlogloss:0.66753\n",
      "[50]\tvalidation_0-merror:0.30067\tvalidation_0-mlogloss:0.64937\tvalidation_1-merror:0.31037\tvalidation_1-mlogloss:0.66715\n",
      "[51]\tvalidation_0-merror:0.30061\tvalidation_0-mlogloss:0.64886\tvalidation_1-merror:0.31028\tvalidation_1-mlogloss:0.66698\n",
      "[52]\tvalidation_0-merror:0.30028\tvalidation_0-mlogloss:0.64831\tvalidation_1-merror:0.31033\tvalidation_1-mlogloss:0.66676\n",
      "[53]\tvalidation_0-merror:0.30000\tvalidation_0-mlogloss:0.64769\tvalidation_1-merror:0.31002\tvalidation_1-mlogloss:0.66641\n",
      "[54]\tvalidation_0-merror:0.29959\tvalidation_0-mlogloss:0.64689\tvalidation_1-merror:0.30981\tvalidation_1-mlogloss:0.66586\n",
      "[55]\tvalidation_0-merror:0.29937\tvalidation_0-mlogloss:0.64620\tvalidation_1-merror:0.30964\tvalidation_1-mlogloss:0.66547\n",
      "[56]\tvalidation_0-merror:0.29912\tvalidation_0-mlogloss:0.64546\tvalidation_1-merror:0.30944\tvalidation_1-mlogloss:0.66513\n",
      "[57]\tvalidation_0-merror:0.29894\tvalidation_0-mlogloss:0.64501\tvalidation_1-merror:0.30921\tvalidation_1-mlogloss:0.66495\n",
      "[58]\tvalidation_0-merror:0.29868\tvalidation_0-mlogloss:0.64468\tvalidation_1-merror:0.30924\tvalidation_1-mlogloss:0.66481\n",
      "[59]\tvalidation_0-merror:0.29827\tvalidation_0-mlogloss:0.64416\tvalidation_1-merror:0.30906\tvalidation_1-mlogloss:0.66459\n",
      "[60]\tvalidation_0-merror:0.29804\tvalidation_0-mlogloss:0.64385\tvalidation_1-merror:0.30901\tvalidation_1-mlogloss:0.66448\n",
      "[61]\tvalidation_0-merror:0.29793\tvalidation_0-mlogloss:0.64354\tvalidation_1-merror:0.30903\tvalidation_1-mlogloss:0.66434\n",
      "[62]\tvalidation_0-merror:0.29787\tvalidation_0-mlogloss:0.64311\tvalidation_1-merror:0.30909\tvalidation_1-mlogloss:0.66414\n",
      "[63]\tvalidation_0-merror:0.29760\tvalidation_0-mlogloss:0.64272\tvalidation_1-merror:0.30904\tvalidation_1-mlogloss:0.66401\n",
      "[64]\tvalidation_0-merror:0.29724\tvalidation_0-mlogloss:0.64212\tvalidation_1-merror:0.30891\tvalidation_1-mlogloss:0.66383\n",
      "[65]\tvalidation_0-merror:0.29716\tvalidation_0-mlogloss:0.64163\tvalidation_1-merror:0.30874\tvalidation_1-mlogloss:0.66360\n",
      "[66]\tvalidation_0-merror:0.29703\tvalidation_0-mlogloss:0.64133\tvalidation_1-merror:0.30894\tvalidation_1-mlogloss:0.66355\n",
      "[67]\tvalidation_0-merror:0.29667\tvalidation_0-mlogloss:0.64082\tvalidation_1-merror:0.30854\tvalidation_1-mlogloss:0.66330\n",
      "[68]\tvalidation_0-merror:0.29649\tvalidation_0-mlogloss:0.64049\tvalidation_1-merror:0.30862\tvalidation_1-mlogloss:0.66318\n",
      "[69]\tvalidation_0-merror:0.29635\tvalidation_0-mlogloss:0.64000\tvalidation_1-merror:0.30862\tvalidation_1-mlogloss:0.66298\n",
      "[70]\tvalidation_0-merror:0.29611\tvalidation_0-mlogloss:0.63935\tvalidation_1-merror:0.30828\tvalidation_1-mlogloss:0.66264\n",
      "[71]\tvalidation_0-merror:0.29568\tvalidation_0-mlogloss:0.63872\tvalidation_1-merror:0.30816\tvalidation_1-mlogloss:0.66228\n",
      "[72]\tvalidation_0-merror:0.29532\tvalidation_0-mlogloss:0.63834\tvalidation_1-merror:0.30822\tvalidation_1-mlogloss:0.66221\n",
      "[73]\tvalidation_0-merror:0.29531\tvalidation_0-mlogloss:0.63799\tvalidation_1-merror:0.30795\tvalidation_1-mlogloss:0.66209\n",
      "[74]\tvalidation_0-merror:0.29516\tvalidation_0-mlogloss:0.63767\tvalidation_1-merror:0.30784\tvalidation_1-mlogloss:0.66199\n",
      "[75]\tvalidation_0-merror:0.29506\tvalidation_0-mlogloss:0.63747\tvalidation_1-merror:0.30791\tvalidation_1-mlogloss:0.66193\n",
      "[76]\tvalidation_0-merror:0.29494\tvalidation_0-mlogloss:0.63712\tvalidation_1-merror:0.30788\tvalidation_1-mlogloss:0.66177\n",
      "[77]\tvalidation_0-merror:0.29480\tvalidation_0-mlogloss:0.63660\tvalidation_1-merror:0.30773\tvalidation_1-mlogloss:0.66147\n",
      "[78]\tvalidation_0-merror:0.29444\tvalidation_0-mlogloss:0.63627\tvalidation_1-merror:0.30771\tvalidation_1-mlogloss:0.66136\n",
      "[79]\tvalidation_0-merror:0.29427\tvalidation_0-mlogloss:0.63593\tvalidation_1-merror:0.30765\tvalidation_1-mlogloss:0.66123\n",
      "[80]\tvalidation_0-merror:0.29430\tvalidation_0-mlogloss:0.63561\tvalidation_1-merror:0.30771\tvalidation_1-mlogloss:0.66110\n",
      "[81]\tvalidation_0-merror:0.29419\tvalidation_0-mlogloss:0.63540\tvalidation_1-merror:0.30762\tvalidation_1-mlogloss:0.66108\n",
      "[82]\tvalidation_0-merror:0.29385\tvalidation_0-mlogloss:0.63490\tvalidation_1-merror:0.30775\tvalidation_1-mlogloss:0.66099\n",
      "[83]\tvalidation_0-merror:0.29350\tvalidation_0-mlogloss:0.63445\tvalidation_1-merror:0.30771\tvalidation_1-mlogloss:0.66084\n",
      "[84]\tvalidation_0-merror:0.29334\tvalidation_0-mlogloss:0.63415\tvalidation_1-merror:0.30710\tvalidation_1-mlogloss:0.66070\n",
      "[85]\tvalidation_0-merror:0.29317\tvalidation_0-mlogloss:0.63386\tvalidation_1-merror:0.30692\tvalidation_1-mlogloss:0.66064\n",
      "[86]\tvalidation_0-merror:0.29292\tvalidation_0-mlogloss:0.63337\tvalidation_1-merror:0.30684\tvalidation_1-mlogloss:0.66044\n",
      "[87]\tvalidation_0-merror:0.29253\tvalidation_0-mlogloss:0.63294\tvalidation_1-merror:0.30678\tvalidation_1-mlogloss:0.66030\n",
      "[88]\tvalidation_0-merror:0.29234\tvalidation_0-mlogloss:0.63259\tvalidation_1-merror:0.30679\tvalidation_1-mlogloss:0.66019\n",
      "[89]\tvalidation_0-merror:0.29203\tvalidation_0-mlogloss:0.63187\tvalidation_1-merror:0.30660\tvalidation_1-mlogloss:0.65985\n",
      "[90]\tvalidation_0-merror:0.29205\tvalidation_0-mlogloss:0.63165\tvalidation_1-merror:0.30653\tvalidation_1-mlogloss:0.65985\n",
      "[91]\tvalidation_0-merror:0.29171\tvalidation_0-mlogloss:0.63131\tvalidation_1-merror:0.30629\tvalidation_1-mlogloss:0.65978\n",
      "[92]\tvalidation_0-merror:0.29155\tvalidation_0-mlogloss:0.63079\tvalidation_1-merror:0.30623\tvalidation_1-mlogloss:0.65959\n",
      "[93]\tvalidation_0-merror:0.29143\tvalidation_0-mlogloss:0.63040\tvalidation_1-merror:0.30607\tvalidation_1-mlogloss:0.65942\n",
      "[94]\tvalidation_0-merror:0.29113\tvalidation_0-mlogloss:0.63003\tvalidation_1-merror:0.30606\tvalidation_1-mlogloss:0.65921\n",
      "[95]\tvalidation_0-merror:0.29083\tvalidation_0-mlogloss:0.62965\tvalidation_1-merror:0.30598\tvalidation_1-mlogloss:0.65909\n",
      "[96]\tvalidation_0-merror:0.29073\tvalidation_0-mlogloss:0.62948\tvalidation_1-merror:0.30594\tvalidation_1-mlogloss:0.65907\n",
      "[97]\tvalidation_0-merror:0.29068\tvalidation_0-mlogloss:0.62934\tvalidation_1-merror:0.30598\tvalidation_1-mlogloss:0.65902\n",
      "[98]\tvalidation_0-merror:0.29057\tvalidation_0-mlogloss:0.62899\tvalidation_1-merror:0.30574\tvalidation_1-mlogloss:0.65888\n",
      "[99]\tvalidation_0-merror:0.29034\tvalidation_0-mlogloss:0.62873\tvalidation_1-merror:0.30564\tvalidation_1-mlogloss:0.65875\n"
     ]
    },
    {
     "data": {
      "text/plain": [
       "XGBClassifier(base_score=0.5, booster='gbtree', colsample_bylevel=1,\n",
       "              colsample_bynode=1, colsample_bytree=1, gamma=0, gpu_id=-1,\n",
       "              importance_type='gain', interaction_constraints='',\n",
       "              learning_rate=0.300000012, max_delta_step=0, max_depth=6,\n",
       "              min_child_weight=1, missing=nan, monotone_constraints='()',\n",
       "              n_estimators=100, n_jobs=4, num_parallel_tree=1,\n",
       "              objective='multi:softprob', random_state=0, reg_alpha=0,\n",
       "              reg_lambda=1, scale_pos_weight=None, subsample=1,\n",
       "              tree_method='exact', validate_parameters=1, verbosity=None)"
      ]
     },
     "execution_count": 181,
     "metadata": {},
     "output_type": "execute_result"
    }
   ],
   "source": [
    "eval_set = [(X_train, y_train), (X_test, y_test)]\n",
    "xg_reg.fit(X_train, y_train, early_stopping_rounds=80, eval_metric=[\"merror\", \"mlogloss\"], eval_set=eval_set, verbose=True)"
   ]
  },
  {
   "cell_type": "code",
   "execution_count": 182,
   "id": "2e02ee99-1de4-485e-b63a-fa4ac7801ad1",
   "metadata": {},
   "outputs": [],
   "source": [
    "preds = xg_reg.predict(X_test)"
   ]
  },
  {
   "cell_type": "code",
   "execution_count": 183,
   "id": "07015618-77c0-41cc-9e07-0e9c5e40840a",
   "metadata": {},
   "outputs": [
    {
     "data": {
      "image/png": "[encoded data removed]",
      "text/plain": [
       "<Figure size 432x288 with 1 Axes>"
      ]
     },
     "metadata": {
      "needs_background": "light"
     },
     "output_type": "display_data"
    },
    {
     "data": {
      "image/png": "[encoded data removed]",
      "text/plain": [
       "<Figure size 432x288 with 1 Axes>"
      ]
     },
     "metadata": {
      "needs_background": "light"
     },
     "output_type": "display_data"
    }
   ],
   "source": [
    "# retrieve performance metrics\n",
    "results = xg_reg.evals_result()\n",
    "epochs = len(results['validation_0']['merror'])\n",
    "x_axis = range(0, epochs)\n",
    "\n",
    "# plot log loss\n",
    "fig, ax = plt.subplots()\n",
    "ax.plot(x_axis, results['validation_0']['mlogloss'], label='Train')\n",
    "ax.plot(x_axis, results['validation_1']['mlogloss'], label='Test')\n",
    "ax.legend()\n",
    "plt.ylabel('Log Loss')\n",
    "plt.title('XGBoost Log Loss')\n",
    "plt.show()\n",
    "\n",
    "# plot classification error\n",
    "fig, ax = plt.subplots()\n",
    "ax.plot(x_axis, results['validation_0']['merror'], label='Train')\n",
    "ax.plot(x_axis, results['validation_1']['merror'], label='Test')\n",
    "ax.legend()\n",
    "plt.ylabel('Classification Error')\n",
    "plt.title('XGBoost Classification Error')\n",
    "plt.show()"
   ]
  },
  {
   "cell_type": "code",
   "execution_count": null,
   "id": "75695e81-59d5-4c59-9552-710375d146e5",
   "metadata": {},
   "outputs": [],
   "source": []
  },
  {
   "cell_type": "code",
   "execution_count": 184,
   "id": "f733f865-0320-4731-8a77-e86eea91b7cf",
   "metadata": {},
   "outputs": [
    {
     "data": {
      "text/plain": [
       "0.6943630805438662"
      ]
     },
     "execution_count": 184,
     "metadata": {},
     "output_type": "execute_result"
    }
   ],
   "source": [
    "error = f1_score(y_test, preds, average='micro')\n",
    "error"
   ]
  },
  {
   "cell_type": "markdown",
   "id": "67cad95d-b1bd-49b8-849a-e8572f3ab4f7",
   "metadata": {},
   "source": [
    "### Error de entrenamiento"
   ]
  },
  {
   "cell_type": "code",
   "execution_count": 98,
   "id": "a63fc7ba-ab38-4e72-b346-54a858b0e393",
   "metadata": {},
   "outputs": [
    {
     "data": {
      "text/plain": [
       "0.686804489639294"
      ]
     },
     "execution_count": 98,
     "metadata": {},
     "output_type": "execute_result"
    }
   ],
   "source": [
    "xg_reg.score(X_train, y_train)"
   ]
  },
  {
   "cell_type": "markdown",
   "id": "3de0ebbe-57bd-400c-a39e-c4adf2c28327",
   "metadata": {},
   "source": [
    "### Error de generalización o testing"
   ]
  },
  {
   "cell_type": "code",
   "execution_count": 99,
   "id": "3e7b4dbc-8294-4341-b050-4fb728ea9668",
   "metadata": {
    "tags": []
   },
   "outputs": [
    {
     "data": {
      "text/plain": [
       "0.6812033537345792"
      ]
     },
     "execution_count": 99,
     "metadata": {},
     "output_type": "execute_result"
    }
   ],
   "source": [
    "xg_reg.score(X_test, y_test)"
   ]
  }
 ],
 "metadata": {
  "kernelspec": {
   "display_name": "Python 3",
   "language": "python",
   "name": "python3"
  },
  "language_info": {
   "codemirror_mode": {
    "name": "ipython",
    "version": 3
   },
   "file_extension": ".py",
   "mimetype": "text/x-python",
   "name": "python",
   "nbconvert_exporter": "python",
   "pygments_lexer": "ipython3",
   "version": "3.8.10"
  }
 },
 "nbformat": 4,
 "nbformat_minor": 5
}
