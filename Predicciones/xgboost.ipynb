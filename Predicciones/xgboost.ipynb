{
 "cells": [
  {
   "cell_type": "markdown",
   "id": "0311b512-27e6-4d94-8070-3865a4bcd399",
   "metadata": {},
   "source": [
    "# XGBoost"
   ]
  },
  {
   "cell_type": "markdown",
   "id": "38c241c2-db7e-443a-a05a-628401e02819",
   "metadata": {},
   "source": [
    "### Importamos las librerías"
   ]
  },
  {
   "cell_type": "code",
   "execution_count": 134,
   "id": "149e7a9c-e517-4eb2-8856-3722f75441bd",
   "metadata": {},
   "outputs": [],
   "source": [
    "from sklearn.ensemble import RandomForestClassifier\n",
    "from sklearn.datasets import make_classification\n",
    "from sklearn.metrics import f1_score\n",
    "\n",
    "from sklearn.model_selection import GridSearchCV\n",
    "from sklearn.model_selection import RandomizedSearchCV\n",
    "\n",
    "import pandas as pd\n",
    "import numpy as np\n",
    "%matplotlib inline\n",
    "import matplotlib.pyplot as plt\n",
    "from sklearn import tree\n",
    "import xgboost as xgb"
   ]
  },
  {
   "cell_type": "markdown",
   "id": "93441595-0558-4801-974f-e60345c7f480",
   "metadata": {},
   "source": [
    "### Leemos los archivos"
   ]
  },
  {
   "cell_type": "code",
   "execution_count": 5,
   "id": "3216cca6-8e8a-4709-82ce-b5a25276143b",
   "metadata": {},
   "outputs": [],
   "source": [
    "df_train_labels = pd.read_csv('./../datasets/train_labels.csv')\n",
    "df_train_values = pd.read_csv('./../datasets/train_values_FE.csv')"
   ]
  },
  {
   "cell_type": "markdown",
   "id": "422cddfd-cddf-41f2-9676-1be1ab10cb3d",
   "metadata": {},
   "source": [
    "#### Eliminamos el building id para pdoer hacer las predicciones"
   ]
  },
  {
   "cell_type": "code",
   "execution_count": 71,
   "id": "63f93ff0-0dd8-4190-8465-17125b81257c",
   "metadata": {},
   "outputs": [
    {
     "data": {
      "text/html": [
       "<div>\n",
       "<style scoped>\n",
       "    .dataframe tbody tr th:only-of-type {\n",
       "        vertical-align: middle;\n",
       "    }\n",
       "\n",
       "    .dataframe tbody tr th {\n",
       "        vertical-align: top;\n",
       "    }\n",
       "\n",
       "    .dataframe thead th {\n",
       "        text-align: right;\n",
       "    }\n",
       "</style>\n",
       "<table border=\"1\" class=\"dataframe\">\n",
       "  <thead>\n",
       "    <tr style=\"text-align: right;\">\n",
       "      <th></th>\n",
       "      <th>damage_grade</th>\n",
       "    </tr>\n",
       "  </thead>\n",
       "  <tbody>\n",
       "    <tr>\n",
       "      <th>0</th>\n",
       "      <td>2</td>\n",
       "    </tr>\n",
       "    <tr>\n",
       "      <th>1</th>\n",
       "      <td>1</td>\n",
       "    </tr>\n",
       "    <tr>\n",
       "      <th>2</th>\n",
       "      <td>2</td>\n",
       "    </tr>\n",
       "    <tr>\n",
       "      <th>3</th>\n",
       "      <td>1</td>\n",
       "    </tr>\n",
       "    <tr>\n",
       "      <th>4</th>\n",
       "      <td>2</td>\n",
       "    </tr>\n",
       "    <tr>\n",
       "      <th>...</th>\n",
       "      <td>...</td>\n",
       "    </tr>\n",
       "    <tr>\n",
       "      <th>260596</th>\n",
       "      <td>1</td>\n",
       "    </tr>\n",
       "    <tr>\n",
       "      <th>260597</th>\n",
       "      <td>2</td>\n",
       "    </tr>\n",
       "    <tr>\n",
       "      <th>260598</th>\n",
       "      <td>2</td>\n",
       "    </tr>\n",
       "    <tr>\n",
       "      <th>260599</th>\n",
       "      <td>1</td>\n",
       "    </tr>\n",
       "    <tr>\n",
       "      <th>260600</th>\n",
       "      <td>2</td>\n",
       "    </tr>\n",
       "  </tbody>\n",
       "</table>\n",
       "<p>260601 rows × 1 columns</p>\n",
       "</div>"
      ],
      "text/plain": [
       "        damage_grade\n",
       "0                  2\n",
       "1                  1\n",
       "2                  2\n",
       "3                  1\n",
       "4                  2\n",
       "...              ...\n",
       "260596             1\n",
       "260597             2\n",
       "260598             2\n",
       "260599             1\n",
       "260600             2\n",
       "\n",
       "[260601 rows x 1 columns]"
      ]
     },
     "execution_count": 71,
     "metadata": {},
     "output_type": "execute_result"
    }
   ],
   "source": [
    "df_train_labels_filtrados = df_train_labels.drop(['building_id'], axis=1)\n",
    "df_train_values_filtrados = df_train_values.drop(['building_id'], axis=1)\n",
    "df_train_labels_filtrados['damage_grade'] = df_train_labels_filtrados['damage_grade'] - 1\n",
    "df_train_labels_filtrados"
   ]
  },
  {
   "cell_type": "markdown",
   "id": "93a51d17-d69b-4e68-a78e-cc25024744a0",
   "metadata": {},
   "source": [
    "#### Implementamos el algoritmo"
   ]
  },
  {
   "cell_type": "code",
   "execution_count": 72,
   "id": "5c490cf7-a007-459b-9221-4313340b393e",
   "metadata": {},
   "outputs": [],
   "source": [
    "from sklearn.model_selection import train_test_split\n",
    "\n",
    "X_train, X_test, y_train, y_test = train_test_split(df_train_values_filtrados, df_train_labels_filtrados, test_size=0.2, random_state=123)"
   ]
  },
  {
   "cell_type": "code",
   "execution_count": 137,
   "id": "92a548fe-462e-48b0-8835-edaaa807ba30",
   "metadata": {},
   "outputs": [],
   "source": [
    "xg_reg = xgb.XGBClassifier(\n",
    "    objective ='multi:softprob', \n",
    "    colsample_bytree = 0.4, \n",
    "    learning_rate = 0.01, \n",
    "    max_depth = 10, \n",
    "    alpha = 10,\n",
    "    gamma = 3,\n",
    "    n_estimators = 50,\n",
    "    use_label_encoder=False\n",
    ")"
   ]
  },
  {
   "cell_type": "code",
   "execution_count": 126,
   "id": "b62ef38a-5eb6-483c-945c-e7a3cfe97872",
   "metadata": {},
   "outputs": [
    {
     "name": "stdout",
     "output_type": "stream",
     "text": [
      "[18:36:08] WARNING: ../src/learner.cc:1095: Starting in XGBoost 1.3.0, the default evaluation metric used with the objective 'multi:softprob' was changed from 'merror' to 'mlogloss'. Explicitly set eval_metric if you'd like to restore the old behavior.\n"
     ]
    },
    {
     "data": {
      "text/plain": [
       "XGBClassifier(alpha=10, base_score=0.5, booster='gbtree', colsample_bylevel=1,\n",
       "              colsample_bynode=1, colsample_bytree=0.4, gamma=3, gpu_id=-1,\n",
       "              importance_type='gain', interaction_constraints='',\n",
       "              learning_rate=0.01, max_delta_step=0, max_depth=10,\n",
       "              min_child_weight=1, missing=nan, monotone_constraints='()',\n",
       "              n_estimators=50, n_jobs=4, num_parallel_tree=1,\n",
       "              objective='multi:softprob', random_state=0, reg_alpha=10,\n",
       "              reg_lambda=1, scale_pos_weight=None, subsample=1,\n",
       "              tree_method='exact', use_label_encoder=False,\n",
       "              validate_parameters=1, verbosity=None)"
      ]
     },
     "execution_count": 126,
     "metadata": {},
     "output_type": "execute_result"
    }
   ],
   "source": [
    "xg_reg.fit(X_train,y_train)"
   ]
  },
  {
   "cell_type": "code",
   "execution_count": 127,
   "id": "2e02ee99-1de4-485e-b63a-fa4ac7801ad1",
   "metadata": {},
   "outputs": [],
   "source": [
    "preds = xg_reg.predict(X_test)"
   ]
  },
  {
   "cell_type": "code",
   "execution_count": 128,
   "id": "f733f865-0320-4731-8a77-e86eea91b7cf",
   "metadata": {},
   "outputs": [
    {
     "data": {
      "text/plain": [
       "0.6571247673682393"
      ]
     },
     "execution_count": 128,
     "metadata": {},
     "output_type": "execute_result"
    }
   ],
   "source": [
    "error = f1_score(y_test, preds, average='micro')\n",
    "error"
   ]
  },
  {
   "cell_type": "markdown",
   "id": "67cad95d-b1bd-49b8-849a-e8572f3ab4f7",
   "metadata": {},
   "source": [
    "### Error de entrenamiento"
   ]
  },
  {
   "cell_type": "code",
   "execution_count": 98,
   "id": "a63fc7ba-ab38-4e72-b346-54a858b0e393",
   "metadata": {},
   "outputs": [
    {
     "data": {
      "text/plain": [
       "0.686804489639294"
      ]
     },
     "execution_count": 98,
     "metadata": {},
     "output_type": "execute_result"
    }
   ],
   "source": [
    "xg_reg.score(X_train, y_train)"
   ]
  },
  {
   "cell_type": "markdown",
   "id": "3de0ebbe-57bd-400c-a39e-c4adf2c28327",
   "metadata": {},
   "source": [
    "### Error de generalización o testing"
   ]
  },
  {
   "cell_type": "code",
   "execution_count": 99,
   "id": "3e7b4dbc-8294-4341-b050-4fb728ea9668",
   "metadata": {
    "tags": []
   },
   "outputs": [
    {
     "data": {
      "text/plain": [
       "0.6812033537345792"
      ]
     },
     "execution_count": 99,
     "metadata": {},
     "output_type": "execute_result"
    }
   ],
   "source": [
    "xg_reg.score(X_test, y_test)"
   ]
  }
 ],
 "metadata": {
  "kernelspec": {
   "display_name": "Python 3",
   "language": "python",
   "name": "python3"
  },
  "language_info": {
   "codemirror_mode": {
    "name": "ipython",
    "version": 3
   },
   "file_extension": ".py",
   "mimetype": "text/x-python",
   "name": "python",
   "nbconvert_exporter": "python",
   "pygments_lexer": "ipython3",
   "version": "3.8.10"
  }
 },
 "nbformat": 4,
 "nbformat_minor": 5
}
