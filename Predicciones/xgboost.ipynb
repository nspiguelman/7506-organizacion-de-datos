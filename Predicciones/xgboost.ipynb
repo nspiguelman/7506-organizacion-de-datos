{
 "cells": [
  {
   "cell_type": "code",
   "execution_count": null,
   "id": "40fc507a-b8d6-453f-b34c-5a1e2c4e7402",
   "metadata": {},
   "outputs": [],
   "source": []
  }
 ],
 "metadata": {
  "kernelspec": {
   "display_name": "Python 3",
   "language": "python",
   "name": "python3"
  },
  "language_info": {
   "codemirror_mode": {
    "name": "ipython",
    "version": 3
   },
   "file_extension": ".py",
   "mimetype": "text/x-python",
   "name": "python",
   "nbconvert_exporter": "python",
   "pygments_lexer": "ipython3",
   "version": "3.8.10"
  }
 },
 "nbformat": 4,
 "nbformat_minor": 5
}
