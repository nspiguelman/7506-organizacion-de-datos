{
 "cells": [
  {
   "cell_type": "markdown",
   "metadata": {},
   "source": [
    "## Gradient boosting Classifier"
   ]
  },
  {
   "cell_type": "markdown",
   "metadata": {},
   "source": [
    "### Se importan las librerías usadas"
   ]
  },
  {
   "cell_type": "code",
   "execution_count": 1,
   "metadata": {},
   "outputs": [],
   "source": [
    "from sklearn.ensemble import GradientBoostingClassifier\n",
    "\n",
    "from sklearn.model_selection import train_test_split\n",
    "from sklearn.model_selection import RandomizedSearchCV\n",
    "\n",
    "from sklearn.metrics import f1_score\n",
    "\n",
    "import numpy as np\n",
    "import matplotlib.pyplot as plt\n",
    "\n",
    "import pandas as pd"
   ]
  },
  {
   "cell_type": "markdown",
   "metadata": {},
   "source": [
    "### Leemos los archivos"
   ]
  },
  {
   "cell_type": "code",
   "execution_count": 2,
   "metadata": {},
   "outputs": [],
   "source": [
    "df_train_labels = pd.read_csv('./../../datasets/train_labels.csv')\n",
    "df_train_values = pd.read_csv('./../../datasets/train_values_FE.csv')"
   ]
  },
  {
   "cell_type": "markdown",
   "metadata": {},
   "source": [
    "#### Eliminamos el building id para pdoer hacer las predicciones"
   ]
  },
  {
   "cell_type": "code",
   "execution_count": 3,
   "metadata": {},
   "outputs": [],
   "source": [
    "df_train_labels_filtrados = df_train_labels.drop(['building_id'], axis=1)\n",
    "df_train_values_filtrados = df_train_values.drop(['building_id'], axis=1)"
   ]
  },
  {
   "cell_type": "code",
   "execution_count": 4,
   "metadata": {},
   "outputs": [],
   "source": [
    "X_train, X_test, y_train, y_test = train_test_split(df_train_values_filtrados, df_train_labels_filtrados, test_size=0.2, random_state=123)"
   ]
  },
  {
   "cell_type": "markdown",
   "metadata": {},
   "source": [
    "### Optimización de Hiper Parámetros"
   ]
  },
  {
   "cell_type": "code",
   "execution_count": 17,
   "metadata": {},
   "outputs": [],
   "source": [
    "\"\"\"params = {\n",
    "    \"n_estimators\": [400, 600, 700],\n",
    "    \"learning_rate\": [0.01, 0.1, 0.5, 1],\n",
    "    \"max_depth\": [1, 2, 3, 4, 5, 6, 7],\n",
    "    \"subsample\": [0.1, 0.3, 0.5, 1.0],\n",
    "    \"loss\": [\"deviance\", \"exponential\"]\n",
    "}\"\"\"\n",
    "\n",
    "params = {\n",
    "    \"n_estimators\": [10, 200],\n",
    "    \"max_depth\": [7, 10],\n",
    "    \"learning_rate\": [0.01, 1, 0.2],\n",
    "    \"subsample\": [0.01, 1.0, 1.5],\n",
    "    \"max_depth\": [2, 3, 5],\n",
    "    \"verbose\": [1],\n",
    "    \"n_iter_no_change\":[5],\n",
    "    \"tol\":[0.01],\n",
    "    \"validation_fraction\":[0.2]\n",
    "}\n",
    "model = GradientBoostingClassifier()\n",
    "clf = RandomizedSearchCV(\n",
    "    model,\n",
    "    params,\n",
    "    n_iter=10,\n",
    "    verbose=1,\n",
    "    random_state=42,\n",
    "    scoring=\"f1_micro\"\n",
    ")"
   ]
  },
  {
   "cell_type": "markdown",
   "metadata": {},
   "source": [
    "### Se entrena el algoritmo"
   ]
  },
  {
   "cell_type": "code",
   "execution_count": 6,
   "metadata": {},
   "outputs": [
    {
     "name": "stdout",
     "output_type": "stream",
     "text": [
      "Fitting 5 folds for each of 10 candidates, totalling 50 fits\n"
     ]
    },
    {
     "name": "stderr",
     "output_type": "stream",
     "text": [
      "/home/nahuel/.local/lib/python3.8/site-packages/sklearn/utils/validation.py:63: DataConversionWarning: A column-vector y was passed when a 1d array was expected. Please change the shape of y to (n_samples, ), for example using ravel().\n",
      "  return f(*args, **kwargs)\n"
     ]
    },
    {
     "name": "stdout",
     "output_type": "stream",
     "text": [
      "      Iter       Train Loss   Remaining Time \n",
      "         1           0.7976           11.68s\n",
      "         2           0.7683           10.06s\n",
      "         3           0.7488            8.66s\n",
      "         4           0.7389            7.36s\n",
      "         5           0.7308            6.10s\n",
      "         6           0.7248            4.89s\n",
      "         7           0.7201            3.66s\n",
      "         8           0.7166            2.43s\n",
      "         9           0.7128            1.21s\n",
      "        10           0.7078            0.00s\n"
     ]
    },
    {
     "name": "stderr",
     "output_type": "stream",
     "text": [
      "/home/nahuel/.local/lib/python3.8/site-packages/sklearn/utils/validation.py:63: DataConversionWarning: A column-vector y was passed when a 1d array was expected. Please change the shape of y to (n_samples, ), for example using ravel().\n",
      "  return f(*args, **kwargs)\n"
     ]
    },
    {
     "name": "stdout",
     "output_type": "stream",
     "text": [
      "      Iter       Train Loss   Remaining Time \n",
      "         1           0.7974           10.53s\n",
      "         2           0.7684            9.39s\n",
      "         3           0.7493            8.20s\n",
      "         4           0.7401            7.03s\n",
      "         5           0.7332            5.89s\n",
      "         6           0.7264            4.73s\n",
      "         7           0.7206            3.55s\n",
      "         8           0.7179            2.37s\n",
      "         9           0.7137            1.19s\n",
      "        10           0.7114            0.00s\n"
     ]
    },
    {
     "name": "stderr",
     "output_type": "stream",
     "text": [
      "/home/nahuel/.local/lib/python3.8/site-packages/sklearn/utils/validation.py:63: DataConversionWarning: A column-vector y was passed when a 1d array was expected. Please change the shape of y to (n_samples, ), for example using ravel().\n",
      "  return f(*args, **kwargs)\n"
     ]
    },
    {
     "name": "stdout",
     "output_type": "stream",
     "text": [
      "      Iter       Train Loss   Remaining Time \n",
      "         1           0.7960           10.64s\n",
      "         2           0.7673            9.44s\n",
      "         3           0.7483            8.26s\n",
      "         4           0.7397            7.06s\n",
      "         5           0.7320            5.91s\n",
      "         6           0.7243            4.73s\n",
      "         7           0.7200            3.54s\n",
      "         8           0.7159            2.36s\n",
      "         9           0.7122            1.18s\n",
      "        10           0.7086            0.00s\n"
     ]
    },
    {
     "name": "stderr",
     "output_type": "stream",
     "text": [
      "/home/nahuel/.local/lib/python3.8/site-packages/sklearn/utils/validation.py:63: DataConversionWarning: A column-vector y was passed when a 1d array was expected. Please change the shape of y to (n_samples, ), for example using ravel().\n",
      "  return f(*args, **kwargs)\n"
     ]
    },
    {
     "name": "stdout",
     "output_type": "stream",
     "text": [
      "      Iter       Train Loss   Remaining Time \n",
      "         1           0.7961           11.10s\n",
      "         2           0.7677            9.90s\n",
      "         3           0.7486            8.57s\n",
      "         4           0.7401            7.28s\n",
      "         5           0.7323            6.17s\n",
      "         6           0.7242            4.97s\n",
      "         7           0.7192            3.76s\n",
      "         8           0.7155            2.49s\n",
      "         9           0.7117            1.24s\n",
      "        10           0.7089            0.00s\n"
     ]
    },
    {
     "name": "stderr",
     "output_type": "stream",
     "text": [
      "/home/nahuel/.local/lib/python3.8/site-packages/sklearn/utils/validation.py:63: DataConversionWarning: A column-vector y was passed when a 1d array was expected. Please change the shape of y to (n_samples, ), for example using ravel().\n",
      "  return f(*args, **kwargs)\n"
     ]
    },
    {
     "name": "stdout",
     "output_type": "stream",
     "text": [
      "      Iter       Train Loss   Remaining Time \n",
      "         1           0.7976           10.55s\n",
      "         2           0.7683            9.41s\n",
      "         3           0.7484            8.23s\n",
      "         4           0.7399            7.19s\n",
      "         5           0.7319            6.00s\n",
      "         6           0.7254            4.83s\n",
      "         7           0.7208            3.68s\n",
      "         8           0.7158            2.44s\n",
      "         9           0.7129            1.22s\n",
      "        10           0.7102            0.00s\n"
     ]
    },
    {
     "name": "stderr",
     "output_type": "stream",
     "text": [
      "/home/nahuel/.local/lib/python3.8/site-packages/sklearn/utils/validation.py:63: DataConversionWarning: A column-vector y was passed when a 1d array was expected. Please change the shape of y to (n_samples, ), for example using ravel().\n",
      "  return f(*args, **kwargs)\n"
     ]
    },
    {
     "name": "stdout",
     "output_type": "stream",
     "text": [
      "      Iter       Train Loss   Remaining Time \n",
      "         1           0.8431           23.33s\n",
      "         2           0.8070           21.19s\n",
      "         3           0.7835           18.46s\n",
      "         4           0.7659           15.82s\n",
      "         5           0.7537           13.14s\n",
      "         6           0.7438           10.48s\n",
      "         7           0.7363            7.85s\n",
      "         8           0.7298            5.23s\n",
      "         9           0.7239            2.62s\n",
      "        10           0.7189            0.00s\n"
     ]
    },
    {
     "name": "stderr",
     "output_type": "stream",
     "text": [
      "/home/nahuel/.local/lib/python3.8/site-packages/sklearn/utils/validation.py:63: DataConversionWarning: A column-vector y was passed when a 1d array was expected. Please change the shape of y to (n_samples, ), for example using ravel().\n",
      "  return f(*args, **kwargs)\n"
     ]
    },
    {
     "name": "stdout",
     "output_type": "stream",
     "text": [
      "      Iter       Train Loss   Remaining Time \n",
      "         1           0.8434           23.23s\n",
      "         2           0.8074           20.58s\n",
      "         3           0.7840           18.30s\n",
      "         4           0.7666           15.75s\n",
      "         5           0.7541           13.10s\n",
      "         6           0.7445           10.46s\n",
      "         7           0.7363            7.82s\n",
      "         8           0.7297            5.24s\n",
      "         9           0.7240            2.62s\n",
      "        10           0.7193            0.00s\n"
     ]
    },
    {
     "name": "stderr",
     "output_type": "stream",
     "text": [
      "/home/nahuel/.local/lib/python3.8/site-packages/sklearn/utils/validation.py:63: DataConversionWarning: A column-vector y was passed when a 1d array was expected. Please change the shape of y to (n_samples, ), for example using ravel().\n",
      "  return f(*args, **kwargs)\n"
     ]
    },
    {
     "name": "stdout",
     "output_type": "stream",
     "text": [
      "      Iter       Train Loss   Remaining Time \n",
      "         1           0.8433           23.05s\n",
      "         2           0.8065           20.55s\n",
      "         3           0.7828           18.08s\n",
      "         4           0.7648           15.57s\n",
      "         5           0.7524           13.01s\n",
      "         6           0.7426           10.39s\n",
      "         7           0.7345            7.81s\n",
      "         8           0.7282            5.20s\n",
      "         9           0.7224            2.60s\n",
      "        10           0.7176            0.00s\n"
     ]
    },
    {
     "name": "stderr",
     "output_type": "stream",
     "text": [
      "/home/nahuel/.local/lib/python3.8/site-packages/sklearn/utils/validation.py:63: DataConversionWarning: A column-vector y was passed when a 1d array was expected. Please change the shape of y to (n_samples, ), for example using ravel().\n",
      "  return f(*args, **kwargs)\n"
     ]
    },
    {
     "name": "stdout",
     "output_type": "stream",
     "text": [
      "      Iter       Train Loss   Remaining Time \n",
      "         1           0.8431           22.98s\n",
      "         2           0.8066           20.72s\n",
      "         3           0.7833           18.12s\n",
      "         4           0.7656           15.59s\n",
      "         5           0.7529           12.97s\n",
      "         6           0.7432           10.37s\n",
      "         7           0.7352            7.79s\n",
      "         8           0.7287            5.19s\n",
      "         9           0.7226            2.60s\n",
      "        10           0.7180            0.00s\n"
     ]
    },
    {
     "name": "stderr",
     "output_type": "stream",
     "text": [
      "/home/nahuel/.local/lib/python3.8/site-packages/sklearn/utils/validation.py:63: DataConversionWarning: A column-vector y was passed when a 1d array was expected. Please change the shape of y to (n_samples, ), for example using ravel().\n",
      "  return f(*args, **kwargs)\n"
     ]
    },
    {
     "name": "stdout",
     "output_type": "stream",
     "text": [
      "      Iter       Train Loss   Remaining Time \n",
      "         1           0.8436           23.72s\n",
      "         2           0.8076           20.76s\n",
      "         3           0.7843           18.30s\n",
      "         4           0.7667           15.59s\n",
      "         5           0.7542           12.99s\n",
      "         6           0.7444           10.37s\n",
      "         7           0.7364            7.78s\n",
      "         8           0.7298            5.19s\n",
      "         9           0.7239            2.60s\n",
      "        10           0.7189            0.00s\n"
     ]
    },
    {
     "name": "stderr",
     "output_type": "stream",
     "text": [
      "/home/nahuel/.local/lib/python3.8/site-packages/sklearn/utils/validation.py:63: DataConversionWarning: A column-vector y was passed when a 1d array was expected. Please change the shape of y to (n_samples, ), for example using ravel().\n",
      "  return f(*args, **kwargs)\n"
     ]
    },
    {
     "name": "stdout",
     "output_type": "stream",
     "text": [
      "      Iter       Train Loss      OOB Improve   Remaining Time \n",
      "         1           0.8083           0.0689            1.54s\n",
      "         2           0.7768           0.0308            1.28s\n",
      "         3           0.7440           0.0212            1.06s\n",
      "         4           0.7663           0.0135            0.91s\n",
      "         5           0.7397           0.0106            0.74s\n",
      "         6           0.7174           0.0078            0.58s\n",
      "         7           0.7220           0.0065            0.43s\n",
      "         8           0.7175           0.0043            0.29s\n",
      "         9           0.6953           0.0046            0.15s\n",
      "        10           0.6953           0.0042            0.00s\n"
     ]
    },
    {
     "name": "stderr",
     "output_type": "stream",
     "text": [
      "/home/nahuel/.local/lib/python3.8/site-packages/sklearn/utils/validation.py:63: DataConversionWarning: A column-vector y was passed when a 1d array was expected. Please change the shape of y to (n_samples, ), for example using ravel().\n",
      "  return f(*args, **kwargs)\n"
     ]
    },
    {
     "name": "stdout",
     "output_type": "stream",
     "text": [
      "      Iter       Train Loss      OOB Improve   Remaining Time \n",
      "         1           0.8159           0.0672            1.39s\n",
      "         2           0.7867           0.0386            1.27s\n",
      "         3           0.7825           0.0195            1.08s\n",
      "         4           0.7574           0.0162            0.91s\n",
      "         5           0.7528           0.0090            0.77s\n",
      "         6           0.7263           0.0079            0.61s\n",
      "         7           0.7139           0.0064            0.46s\n",
      "         8           0.7239           0.0047            0.31s\n",
      "         9           0.7114           0.0025            0.15s\n",
      "        10           0.7009           0.0029            0.00s\n"
     ]
    },
    {
     "name": "stderr",
     "output_type": "stream",
     "text": [
      "/home/nahuel/.local/lib/python3.8/site-packages/sklearn/utils/validation.py:63: DataConversionWarning: A column-vector y was passed when a 1d array was expected. Please change the shape of y to (n_samples, ), for example using ravel().\n",
      "  return f(*args, **kwargs)\n"
     ]
    },
    {
     "name": "stdout",
     "output_type": "stream",
     "text": [
      "      Iter       Train Loss      OOB Improve   Remaining Time \n",
      "         1           0.8162           0.0635            1.32s\n",
      "         2           0.7769           0.0335            1.23s\n",
      "         3           0.7607           0.0212            1.03s\n",
      "         4           0.7860           0.0145            0.87s\n",
      "         5           0.7318           0.0092            0.71s\n",
      "         6           0.7367           0.0089            0.57s\n",
      "         7           0.7244           0.0046            0.42s\n",
      "         8           0.7084           0.0053            0.28s\n",
      "         9           0.7189           0.0055            0.14s\n",
      "        10           0.7317           0.0011            0.00s\n"
     ]
    },
    {
     "name": "stderr",
     "output_type": "stream",
     "text": [
      "/home/nahuel/.local/lib/python3.8/site-packages/sklearn/utils/validation.py:63: DataConversionWarning: A column-vector y was passed when a 1d array was expected. Please change the shape of y to (n_samples, ), for example using ravel().\n",
      "  return f(*args, **kwargs)\n"
     ]
    },
    {
     "name": "stdout",
     "output_type": "stream",
     "text": [
      "      Iter       Train Loss      OOB Improve   Remaining Time \n",
      "         1           0.8015           0.0644            1.51s\n",
      "         2           0.7731           0.0331            1.33s\n",
      "         3           0.7694           0.0244            1.10s\n",
      "         4           0.7545           0.0162            0.95s\n",
      "         5           0.7283           0.0086            0.80s\n",
      "         6           0.7239           0.0050            0.63s\n",
      "         7           0.7233           0.0061            0.46s\n",
      "         8           0.7361           0.0029            0.31s\n",
      "         9           0.7109          -0.0012            0.15s\n",
      "        10           0.7236           0.0038            0.00s\n"
     ]
    },
    {
     "name": "stderr",
     "output_type": "stream",
     "text": [
      "/home/nahuel/.local/lib/python3.8/site-packages/sklearn/utils/validation.py:63: DataConversionWarning: A column-vector y was passed when a 1d array was expected. Please change the shape of y to (n_samples, ), for example using ravel().\n",
      "  return f(*args, **kwargs)\n"
     ]
    },
    {
     "name": "stdout",
     "output_type": "stream",
     "text": [
      "      Iter       Train Loss      OOB Improve   Remaining Time \n",
      "         1           0.8351           0.0606            1.20s\n",
      "         2           0.8047           0.0269            1.11s\n",
      "         3           0.7757           0.0270            0.96s\n",
      "         4           0.7435           0.0168            0.83s\n",
      "         5           0.7110           0.0126            0.72s\n",
      "         6           0.7362           0.0057            0.59s\n",
      "         7           0.7214           0.0088            0.44s\n",
      "         8           0.7131           0.0061            0.29s\n",
      "         9           0.7004           0.0024            0.14s\n",
      "        10           0.7580           0.0015            0.00s\n"
     ]
    },
    {
     "name": "stderr",
     "output_type": "stream",
     "text": [
      "/home/nahuel/.local/lib/python3.8/site-packages/sklearn/utils/validation.py:63: DataConversionWarning: A column-vector y was passed when a 1d array was expected. Please change the shape of y to (n_samples, ), for example using ravel().\n",
      "  return f(*args, **kwargs)\n"
     ]
    },
    {
     "name": "stdout",
     "output_type": "stream",
     "text": [
      "      Iter       Train Loss      OOB Improve   Remaining Time \n",
      "         1           0.9107           0.0032            1.36s\n",
      "         2           0.9211           0.0039            1.22s\n",
      "         3           0.8869           0.0035            1.02s\n",
      "         4           0.8734           0.0034            0.86s\n",
      "         5           0.9020           0.0035            0.70s\n",
      "         6           0.8745           0.0034            0.56s\n",
      "         7           0.8818           0.0032            0.42s\n",
      "         8           0.8636           0.0029            0.28s\n",
      "         9           0.9015           0.0030            0.14s\n",
      "        10           0.8676           0.0027            0.00s\n"
     ]
    },
    {
     "name": "stderr",
     "output_type": "stream",
     "text": [
      "/home/nahuel/.local/lib/python3.8/site-packages/sklearn/utils/validation.py:63: DataConversionWarning: A column-vector y was passed when a 1d array was expected. Please change the shape of y to (n_samples, ), for example using ravel().\n",
      "  return f(*args, **kwargs)\n"
     ]
    },
    {
     "name": "stdout",
     "output_type": "stream",
     "text": [
      "      Iter       Train Loss      OOB Improve   Remaining Time \n",
      "         1           0.8995           0.0040            1.16s\n",
      "         2           0.8981           0.0036            1.10s\n",
      "         3           0.9032           0.0036            0.95s\n",
      "         4           0.8828           0.0030            0.82s\n",
      "         5           0.8981           0.0036            0.68s\n",
      "         6           0.8757           0.0032            0.54s\n",
      "         7           0.8935           0.0031            0.41s\n",
      "         8           0.8895           0.0029            0.27s\n",
      "         9           0.8971           0.0031            0.14s\n",
      "        10           0.8850           0.0026            0.00s\n"
     ]
    },
    {
     "name": "stderr",
     "output_type": "stream",
     "text": [
      "/home/nahuel/.local/lib/python3.8/site-packages/sklearn/utils/validation.py:63: DataConversionWarning: A column-vector y was passed when a 1d array was expected. Please change the shape of y to (n_samples, ), for example using ravel().\n",
      "  return f(*args, **kwargs)\n"
     ]
    },
    {
     "name": "stdout",
     "output_type": "stream",
     "text": [
      "      Iter       Train Loss      OOB Improve   Remaining Time \n",
      "         1           0.9066           0.0034            1.14s\n",
      "         2           0.9004           0.0034            1.17s\n",
      "         3           0.9039           0.0034            1.05s\n",
      "         4           0.8837           0.0031            0.91s\n",
      "         5           0.8812           0.0029            0.75s\n",
      "         6           0.9048           0.0032            0.59s\n",
      "         7           0.8742           0.0032            0.44s\n",
      "         8           0.8851           0.0032            0.29s\n",
      "         9           0.8921           0.0029            0.14s\n",
      "        10           0.8650           0.0027            0.00s\n"
     ]
    },
    {
     "name": "stderr",
     "output_type": "stream",
     "text": [
      "/home/nahuel/.local/lib/python3.8/site-packages/sklearn/utils/validation.py:63: DataConversionWarning: A column-vector y was passed when a 1d array was expected. Please change the shape of y to (n_samples, ), for example using ravel().\n",
      "  return f(*args, **kwargs)\n"
     ]
    },
    {
     "name": "stdout",
     "output_type": "stream",
     "text": [
      "      Iter       Train Loss      OOB Improve   Remaining Time \n",
      "         1           0.8726           0.0038            1.39s\n",
      "         2           0.9004           0.0034            1.26s\n",
      "         3           0.8849           0.0036            1.04s\n",
      "         4           0.8838           0.0035            0.87s\n",
      "         5           0.8881           0.0034            0.71s\n",
      "         6           0.8881           0.0032            0.57s\n",
      "         7           0.9100           0.0029            0.42s\n",
      "         8           0.8806           0.0030            0.28s\n",
      "         9           0.8545           0.0029            0.14s\n",
      "        10           0.8668           0.0028            0.00s\n"
     ]
    },
    {
     "name": "stderr",
     "output_type": "stream",
     "text": [
      "/home/nahuel/.local/lib/python3.8/site-packages/sklearn/utils/validation.py:63: DataConversionWarning: A column-vector y was passed when a 1d array was expected. Please change the shape of y to (n_samples, ), for example using ravel().\n",
      "  return f(*args, **kwargs)\n"
     ]
    },
    {
     "name": "stdout",
     "output_type": "stream",
     "text": [
      "      Iter       Train Loss      OOB Improve   Remaining Time \n",
      "         1           0.9294           0.0037            1.45s\n",
      "         2           0.8983           0.0038            1.29s\n",
      "         3           0.8934           0.0032            1.08s\n",
      "         4           0.8904           0.0033            0.91s\n",
      "         5           0.9106           0.0033            0.75s\n",
      "         6           0.8865           0.0029            0.63s\n",
      "         7           0.8664           0.0031            0.47s\n",
      "         8           0.8951           0.0030            0.31s\n",
      "         9           0.8693           0.0029            0.15s\n",
      "        10           0.8904           0.0027            0.00s\n"
     ]
    },
    {
     "name": "stderr",
     "output_type": "stream",
     "text": [
      "/home/nahuel/.local/lib/python3.8/site-packages/sklearn/utils/validation.py:63: DataConversionWarning: A column-vector y was passed when a 1d array was expected. Please change the shape of y to (n_samples, ), for example using ravel().\n",
      "  return f(*args, **kwargs)\n",
      "/home/nahuel/.local/lib/python3.8/site-packages/sklearn/model_selection/_validation.py:615: FitFailedWarning: Estimator fit failed. The score on this train-test partition for these parameters will be set to nan. Details: \n",
      "Traceback (most recent call last):\n",
      "  File \"/home/nahuel/.local/lib/python3.8/site-packages/sklearn/model_selection/_validation.py\", line 598, in _fit_and_score\n",
      "    estimator.fit(X_train, y_train, **fit_params)\n",
      "  File \"/home/nahuel/.local/lib/python3.8/site-packages/sklearn/ensemble/_gb.py\", line 448, in fit\n",
      "    self._check_params()\n",
      "  File \"/home/nahuel/.local/lib/python3.8/site-packages/sklearn/ensemble/_gb.py\", line 256, in _check_params\n",
      "    raise ValueError(\"subsample must be in (0,1] but \"\n",
      "ValueError: subsample must be in (0,1] but was 1.5\n",
      "\n",
      "  warnings.warn(\"Estimator fit failed. The score on this train-test\"\n",
      "/home/nahuel/.local/lib/python3.8/site-packages/sklearn/utils/validation.py:63: DataConversionWarning: A column-vector y was passed when a 1d array was expected. Please change the shape of y to (n_samples, ), for example using ravel().\n",
      "  return f(*args, **kwargs)\n",
      "/home/nahuel/.local/lib/python3.8/site-packages/sklearn/model_selection/_validation.py:615: FitFailedWarning: Estimator fit failed. The score on this train-test partition for these parameters will be set to nan. Details: \n",
      "Traceback (most recent call last):\n",
      "  File \"/home/nahuel/.local/lib/python3.8/site-packages/sklearn/model_selection/_validation.py\", line 598, in _fit_and_score\n",
      "    estimator.fit(X_train, y_train, **fit_params)\n",
      "  File \"/home/nahuel/.local/lib/python3.8/site-packages/sklearn/ensemble/_gb.py\", line 448, in fit\n",
      "    self._check_params()\n",
      "  File \"/home/nahuel/.local/lib/python3.8/site-packages/sklearn/ensemble/_gb.py\", line 256, in _check_params\n",
      "    raise ValueError(\"subsample must be in (0,1] but \"\n",
      "ValueError: subsample must be in (0,1] but was 1.5\n",
      "\n",
      "  warnings.warn(\"Estimator fit failed. The score on this train-test\"\n",
      "/home/nahuel/.local/lib/python3.8/site-packages/sklearn/utils/validation.py:63: DataConversionWarning: A column-vector y was passed when a 1d array was expected. Please change the shape of y to (n_samples, ), for example using ravel().\n",
      "  return f(*args, **kwargs)\n",
      "/home/nahuel/.local/lib/python3.8/site-packages/sklearn/model_selection/_validation.py:615: FitFailedWarning: Estimator fit failed. The score on this train-test partition for these parameters will be set to nan. Details: \n",
      "Traceback (most recent call last):\n",
      "  File \"/home/nahuel/.local/lib/python3.8/site-packages/sklearn/model_selection/_validation.py\", line 598, in _fit_and_score\n",
      "    estimator.fit(X_train, y_train, **fit_params)\n",
      "  File \"/home/nahuel/.local/lib/python3.8/site-packages/sklearn/ensemble/_gb.py\", line 448, in fit\n",
      "    self._check_params()\n",
      "  File \"/home/nahuel/.local/lib/python3.8/site-packages/sklearn/ensemble/_gb.py\", line 256, in _check_params\n",
      "    raise ValueError(\"subsample must be in (0,1] but \"\n",
      "ValueError: subsample must be in (0,1] but was 1.5\n",
      "\n",
      "  warnings.warn(\"Estimator fit failed. The score on this train-test\"\n",
      "/home/nahuel/.local/lib/python3.8/site-packages/sklearn/utils/validation.py:63: DataConversionWarning: A column-vector y was passed when a 1d array was expected. Please change the shape of y to (n_samples, ), for example using ravel().\n",
      "  return f(*args, **kwargs)\n",
      "/home/nahuel/.local/lib/python3.8/site-packages/sklearn/model_selection/_validation.py:615: FitFailedWarning: Estimator fit failed. The score on this train-test partition for these parameters will be set to nan. Details: \n",
      "Traceback (most recent call last):\n",
      "  File \"/home/nahuel/.local/lib/python3.8/site-packages/sklearn/model_selection/_validation.py\", line 598, in _fit_and_score\n",
      "    estimator.fit(X_train, y_train, **fit_params)\n",
      "  File \"/home/nahuel/.local/lib/python3.8/site-packages/sklearn/ensemble/_gb.py\", line 448, in fit\n",
      "    self._check_params()\n",
      "  File \"/home/nahuel/.local/lib/python3.8/site-packages/sklearn/ensemble/_gb.py\", line 256, in _check_params\n",
      "    raise ValueError(\"subsample must be in (0,1] but \"\n",
      "ValueError: subsample must be in (0,1] but was 1.5\n",
      "\n",
      "  warnings.warn(\"Estimator fit failed. The score on this train-test\"\n",
      "/home/nahuel/.local/lib/python3.8/site-packages/sklearn/utils/validation.py:63: DataConversionWarning: A column-vector y was passed when a 1d array was expected. Please change the shape of y to (n_samples, ), for example using ravel().\n",
      "  return f(*args, **kwargs)\n",
      "/home/nahuel/.local/lib/python3.8/site-packages/sklearn/model_selection/_validation.py:615: FitFailedWarning: Estimator fit failed. The score on this train-test partition for these parameters will be set to nan. Details: \n",
      "Traceback (most recent call last):\n",
      "  File \"/home/nahuel/.local/lib/python3.8/site-packages/sklearn/model_selection/_validation.py\", line 598, in _fit_and_score\n",
      "    estimator.fit(X_train, y_train, **fit_params)\n",
      "  File \"/home/nahuel/.local/lib/python3.8/site-packages/sklearn/ensemble/_gb.py\", line 448, in fit\n",
      "    self._check_params()\n",
      "  File \"/home/nahuel/.local/lib/python3.8/site-packages/sklearn/ensemble/_gb.py\", line 256, in _check_params\n",
      "    raise ValueError(\"subsample must be in (0,1] but \"\n",
      "ValueError: subsample must be in (0,1] but was 1.5\n",
      "\n",
      "  warnings.warn(\"Estimator fit failed. The score on this train-test\"\n",
      "/home/nahuel/.local/lib/python3.8/site-packages/sklearn/utils/validation.py:63: DataConversionWarning: A column-vector y was passed when a 1d array was expected. Please change the shape of y to (n_samples, ), for example using ravel().\n",
      "  return f(*args, **kwargs)\n",
      "/home/nahuel/.local/lib/python3.8/site-packages/sklearn/model_selection/_validation.py:615: FitFailedWarning: Estimator fit failed. The score on this train-test partition for these parameters will be set to nan. Details: \n",
      "Traceback (most recent call last):\n",
      "  File \"/home/nahuel/.local/lib/python3.8/site-packages/sklearn/model_selection/_validation.py\", line 598, in _fit_and_score\n",
      "    estimator.fit(X_train, y_train, **fit_params)\n",
      "  File \"/home/nahuel/.local/lib/python3.8/site-packages/sklearn/ensemble/_gb.py\", line 448, in fit\n",
      "    self._check_params()\n",
      "  File \"/home/nahuel/.local/lib/python3.8/site-packages/sklearn/ensemble/_gb.py\", line 256, in _check_params\n",
      "    raise ValueError(\"subsample must be in (0,1] but \"\n",
      "ValueError: subsample must be in (0,1] but was 1.5\n",
      "\n",
      "  warnings.warn(\"Estimator fit failed. The score on this train-test\"\n",
      "/home/nahuel/.local/lib/python3.8/site-packages/sklearn/utils/validation.py:63: DataConversionWarning: A column-vector y was passed when a 1d array was expected. Please change the shape of y to (n_samples, ), for example using ravel().\n",
      "  return f(*args, **kwargs)\n",
      "/home/nahuel/.local/lib/python3.8/site-packages/sklearn/model_selection/_validation.py:615: FitFailedWarning: Estimator fit failed. The score on this train-test partition for these parameters will be set to nan. Details: \n",
      "Traceback (most recent call last):\n",
      "  File \"/home/nahuel/.local/lib/python3.8/site-packages/sklearn/model_selection/_validation.py\", line 598, in _fit_and_score\n",
      "    estimator.fit(X_train, y_train, **fit_params)\n",
      "  File \"/home/nahuel/.local/lib/python3.8/site-packages/sklearn/ensemble/_gb.py\", line 448, in fit\n",
      "    self._check_params()\n",
      "  File \"/home/nahuel/.local/lib/python3.8/site-packages/sklearn/ensemble/_gb.py\", line 256, in _check_params\n",
      "    raise ValueError(\"subsample must be in (0,1] but \"\n",
      "ValueError: subsample must be in (0,1] but was 1.5\n",
      "\n",
      "  warnings.warn(\"Estimator fit failed. The score on this train-test\"\n",
      "/home/nahuel/.local/lib/python3.8/site-packages/sklearn/utils/validation.py:63: DataConversionWarning: A column-vector y was passed when a 1d array was expected. Please change the shape of y to (n_samples, ), for example using ravel().\n",
      "  return f(*args, **kwargs)\n",
      "/home/nahuel/.local/lib/python3.8/site-packages/sklearn/model_selection/_validation.py:615: FitFailedWarning: Estimator fit failed. The score on this train-test partition for these parameters will be set to nan. Details: \n",
      "Traceback (most recent call last):\n",
      "  File \"/home/nahuel/.local/lib/python3.8/site-packages/sklearn/model_selection/_validation.py\", line 598, in _fit_and_score\n",
      "    estimator.fit(X_train, y_train, **fit_params)\n",
      "  File \"/home/nahuel/.local/lib/python3.8/site-packages/sklearn/ensemble/_gb.py\", line 448, in fit\n",
      "    self._check_params()\n",
      "  File \"/home/nahuel/.local/lib/python3.8/site-packages/sklearn/ensemble/_gb.py\", line 256, in _check_params\n",
      "    raise ValueError(\"subsample must be in (0,1] but \"\n",
      "ValueError: subsample must be in (0,1] but was 1.5\n",
      "\n",
      "  warnings.warn(\"Estimator fit failed. The score on this train-test\"\n",
      "/home/nahuel/.local/lib/python3.8/site-packages/sklearn/utils/validation.py:63: DataConversionWarning: A column-vector y was passed when a 1d array was expected. Please change the shape of y to (n_samples, ), for example using ravel().\n",
      "  return f(*args, **kwargs)\n",
      "/home/nahuel/.local/lib/python3.8/site-packages/sklearn/model_selection/_validation.py:615: FitFailedWarning: Estimator fit failed. The score on this train-test partition for these parameters will be set to nan. Details: \n",
      "Traceback (most recent call last):\n",
      "  File \"/home/nahuel/.local/lib/python3.8/site-packages/sklearn/model_selection/_validation.py\", line 598, in _fit_and_score\n",
      "    estimator.fit(X_train, y_train, **fit_params)\n",
      "  File \"/home/nahuel/.local/lib/python3.8/site-packages/sklearn/ensemble/_gb.py\", line 448, in fit\n",
      "    self._check_params()\n",
      "  File \"/home/nahuel/.local/lib/python3.8/site-packages/sklearn/ensemble/_gb.py\", line 256, in _check_params\n",
      "    raise ValueError(\"subsample must be in (0,1] but \"\n",
      "ValueError: subsample must be in (0,1] but was 1.5\n",
      "\n",
      "  warnings.warn(\"Estimator fit failed. The score on this train-test\"\n",
      "/home/nahuel/.local/lib/python3.8/site-packages/sklearn/utils/validation.py:63: DataConversionWarning: A column-vector y was passed when a 1d array was expected. Please change the shape of y to (n_samples, ), for example using ravel().\n",
      "  return f(*args, **kwargs)\n",
      "/home/nahuel/.local/lib/python3.8/site-packages/sklearn/model_selection/_validation.py:615: FitFailedWarning: Estimator fit failed. The score on this train-test partition for these parameters will be set to nan. Details: \n",
      "Traceback (most recent call last):\n",
      "  File \"/home/nahuel/.local/lib/python3.8/site-packages/sklearn/model_selection/_validation.py\", line 598, in _fit_and_score\n",
      "    estimator.fit(X_train, y_train, **fit_params)\n",
      "  File \"/home/nahuel/.local/lib/python3.8/site-packages/sklearn/ensemble/_gb.py\", line 448, in fit\n",
      "    self._check_params()\n",
      "  File \"/home/nahuel/.local/lib/python3.8/site-packages/sklearn/ensemble/_gb.py\", line 256, in _check_params\n",
      "    raise ValueError(\"subsample must be in (0,1] but \"\n",
      "ValueError: subsample must be in (0,1] but was 1.5\n",
      "\n",
      "  warnings.warn(\"Estimator fit failed. The score on this train-test\"\n",
      "/home/nahuel/.local/lib/python3.8/site-packages/sklearn/utils/validation.py:63: DataConversionWarning: A column-vector y was passed when a 1d array was expected. Please change the shape of y to (n_samples, ), for example using ravel().\n",
      "  return f(*args, **kwargs)\n",
      "/home/nahuel/.local/lib/python3.8/site-packages/sklearn/model_selection/_validation.py:615: FitFailedWarning: Estimator fit failed. The score on this train-test partition for these parameters will be set to nan. Details: \n",
      "Traceback (most recent call last):\n",
      "  File \"/home/nahuel/.local/lib/python3.8/site-packages/sklearn/model_selection/_validation.py\", line 598, in _fit_and_score\n",
      "    estimator.fit(X_train, y_train, **fit_params)\n",
      "  File \"/home/nahuel/.local/lib/python3.8/site-packages/sklearn/ensemble/_gb.py\", line 448, in fit\n",
      "    self._check_params()\n",
      "  File \"/home/nahuel/.local/lib/python3.8/site-packages/sklearn/ensemble/_gb.py\", line 256, in _check_params\n",
      "    raise ValueError(\"subsample must be in (0,1] but \"\n",
      "ValueError: subsample must be in (0,1] but was 1.5\n",
      "\n",
      "  warnings.warn(\"Estimator fit failed. The score on this train-test\"\n",
      "/home/nahuel/.local/lib/python3.8/site-packages/sklearn/utils/validation.py:63: DataConversionWarning: A column-vector y was passed when a 1d array was expected. Please change the shape of y to (n_samples, ), for example using ravel().\n",
      "  return f(*args, **kwargs)\n",
      "/home/nahuel/.local/lib/python3.8/site-packages/sklearn/model_selection/_validation.py:615: FitFailedWarning: Estimator fit failed. The score on this train-test partition for these parameters will be set to nan. Details: \n",
      "Traceback (most recent call last):\n",
      "  File \"/home/nahuel/.local/lib/python3.8/site-packages/sklearn/model_selection/_validation.py\", line 598, in _fit_and_score\n",
      "    estimator.fit(X_train, y_train, **fit_params)\n",
      "  File \"/home/nahuel/.local/lib/python3.8/site-packages/sklearn/ensemble/_gb.py\", line 448, in fit\n",
      "    self._check_params()\n",
      "  File \"/home/nahuel/.local/lib/python3.8/site-packages/sklearn/ensemble/_gb.py\", line 256, in _check_params\n",
      "    raise ValueError(\"subsample must be in (0,1] but \"\n",
      "ValueError: subsample must be in (0,1] but was 1.5\n",
      "\n",
      "  warnings.warn(\"Estimator fit failed. The score on this train-test\"\n",
      "/home/nahuel/.local/lib/python3.8/site-packages/sklearn/utils/validation.py:63: DataConversionWarning: A column-vector y was passed when a 1d array was expected. Please change the shape of y to (n_samples, ), for example using ravel().\n",
      "  return f(*args, **kwargs)\n",
      "/home/nahuel/.local/lib/python3.8/site-packages/sklearn/model_selection/_validation.py:615: FitFailedWarning: Estimator fit failed. The score on this train-test partition for these parameters will be set to nan. Details: \n",
      "Traceback (most recent call last):\n",
      "  File \"/home/nahuel/.local/lib/python3.8/site-packages/sklearn/model_selection/_validation.py\", line 598, in _fit_and_score\n",
      "    estimator.fit(X_train, y_train, **fit_params)\n",
      "  File \"/home/nahuel/.local/lib/python3.8/site-packages/sklearn/ensemble/_gb.py\", line 448, in fit\n",
      "    self._check_params()\n",
      "  File \"/home/nahuel/.local/lib/python3.8/site-packages/sklearn/ensemble/_gb.py\", line 256, in _check_params\n",
      "    raise ValueError(\"subsample must be in (0,1] but \"\n",
      "ValueError: subsample must be in (0,1] but was 1.5\n",
      "\n",
      "  warnings.warn(\"Estimator fit failed. The score on this train-test\"\n",
      "/home/nahuel/.local/lib/python3.8/site-packages/sklearn/utils/validation.py:63: DataConversionWarning: A column-vector y was passed when a 1d array was expected. Please change the shape of y to (n_samples, ), for example using ravel().\n",
      "  return f(*args, **kwargs)\n",
      "/home/nahuel/.local/lib/python3.8/site-packages/sklearn/model_selection/_validation.py:615: FitFailedWarning: Estimator fit failed. The score on this train-test partition for these parameters will be set to nan. Details: \n",
      "Traceback (most recent call last):\n",
      "  File \"/home/nahuel/.local/lib/python3.8/site-packages/sklearn/model_selection/_validation.py\", line 598, in _fit_and_score\n",
      "    estimator.fit(X_train, y_train, **fit_params)\n",
      "  File \"/home/nahuel/.local/lib/python3.8/site-packages/sklearn/ensemble/_gb.py\", line 448, in fit\n",
      "    self._check_params()\n",
      "  File \"/home/nahuel/.local/lib/python3.8/site-packages/sklearn/ensemble/_gb.py\", line 256, in _check_params\n",
      "    raise ValueError(\"subsample must be in (0,1] but \"\n",
      "ValueError: subsample must be in (0,1] but was 1.5\n",
      "\n",
      "  warnings.warn(\"Estimator fit failed. The score on this train-test\"\n",
      "/home/nahuel/.local/lib/python3.8/site-packages/sklearn/utils/validation.py:63: DataConversionWarning: A column-vector y was passed when a 1d array was expected. Please change the shape of y to (n_samples, ), for example using ravel().\n",
      "  return f(*args, **kwargs)\n",
      "/home/nahuel/.local/lib/python3.8/site-packages/sklearn/model_selection/_validation.py:615: FitFailedWarning: Estimator fit failed. The score on this train-test partition for these parameters will be set to nan. Details: \n",
      "Traceback (most recent call last):\n",
      "  File \"/home/nahuel/.local/lib/python3.8/site-packages/sklearn/model_selection/_validation.py\", line 598, in _fit_and_score\n",
      "    estimator.fit(X_train, y_train, **fit_params)\n",
      "  File \"/home/nahuel/.local/lib/python3.8/site-packages/sklearn/ensemble/_gb.py\", line 448, in fit\n",
      "    self._check_params()\n",
      "  File \"/home/nahuel/.local/lib/python3.8/site-packages/sklearn/ensemble/_gb.py\", line 256, in _check_params\n",
      "    raise ValueError(\"subsample must be in (0,1] but \"\n",
      "ValueError: subsample must be in (0,1] but was 1.5\n",
      "\n",
      "  warnings.warn(\"Estimator fit failed. The score on this train-test\"\n",
      "/home/nahuel/.local/lib/python3.8/site-packages/sklearn/utils/validation.py:63: DataConversionWarning: A column-vector y was passed when a 1d array was expected. Please change the shape of y to (n_samples, ), for example using ravel().\n",
      "  return f(*args, **kwargs)\n"
     ]
    },
    {
     "name": "stdout",
     "output_type": "stream",
     "text": [
      "      Iter       Train Loss   Remaining Time \n",
      "         1           0.8433            9.77m\n",
      "         2           0.8069            9.74m\n",
      "         3           0.7834            9.40m\n",
      "         4           0.7661            9.14m\n",
      "         5           0.7536            9.00m\n",
      "         6           0.7440            8.94m\n",
      "         7           0.7360            8.84m\n",
      "         8           0.7296            8.86m\n",
      "         9           0.7237            8.83m\n",
      "        10           0.7188            8.80m\n",
      "        20           0.6897            8.38m\n"
     ]
    },
    {
     "name": "stderr",
     "output_type": "stream",
     "text": [
      "/home/nahuel/.local/lib/python3.8/site-packages/sklearn/utils/validation.py:63: DataConversionWarning: A column-vector y was passed when a 1d array was expected. Please change the shape of y to (n_samples, ), for example using ravel().\n",
      "  return f(*args, **kwargs)\n"
     ]
    },
    {
     "name": "stdout",
     "output_type": "stream",
     "text": [
      "      Iter       Train Loss   Remaining Time \n",
      "         1           0.8431            8.50m\n",
      "         2           0.8068            8.54m\n",
      "         3           0.7835            8.51m\n",
      "         4           0.7662            8.47m\n",
      "         5           0.7531            8.43m\n",
      "         6           0.7436            8.39m\n",
      "         7           0.7351            8.34m\n",
      "         8           0.7288            8.30m\n",
      "         9           0.7231            8.28m\n",
      "        10           0.7179            8.24m\n"
     ]
    },
    {
     "name": "stderr",
     "output_type": "stream",
     "text": [
      "/home/nahuel/.local/lib/python3.8/site-packages/sklearn/utils/validation.py:63: DataConversionWarning: A column-vector y was passed when a 1d array was expected. Please change the shape of y to (n_samples, ), for example using ravel().\n",
      "  return f(*args, **kwargs)\n"
     ]
    },
    {
     "name": "stdout",
     "output_type": "stream",
     "text": [
      "      Iter       Train Loss   Remaining Time \n",
      "         1           0.8430            8.57m\n",
      "         2           0.8064            8.96m\n",
      "         3           0.7827            8.94m\n",
      "         4           0.7655            9.04m\n",
      "         5           0.7530            8.90m\n",
      "         6           0.7433            8.78m\n",
      "         7           0.7352            8.67m\n",
      "         8           0.7282            8.61m\n",
      "         9           0.7228            8.53m\n",
      "        10           0.7176            8.44m\n",
      "        20           0.6895            7.96m\n"
     ]
    },
    {
     "name": "stderr",
     "output_type": "stream",
     "text": [
      "/home/nahuel/.local/lib/python3.8/site-packages/sklearn/utils/validation.py:63: DataConversionWarning: A column-vector y was passed when a 1d array was expected. Please change the shape of y to (n_samples, ), for example using ravel().\n",
      "  return f(*args, **kwargs)\n"
     ]
    },
    {
     "name": "stdout",
     "output_type": "stream",
     "text": [
      "      Iter       Train Loss   Remaining Time \n",
      "         1           0.8432            8.54m\n",
      "         2           0.8066            8.77m\n",
      "         3           0.7831            8.75m\n",
      "         4           0.7656            8.73m\n",
      "         5           0.7524            8.65m\n",
      "         6           0.7427            8.56m\n",
      "         7           0.7348            8.49m\n",
      "         8           0.7282            8.44m\n",
      "         9           0.7231            8.41m\n",
      "        10           0.7182            8.34m\n",
      "        20           0.6885            7.93m\n"
     ]
    },
    {
     "name": "stderr",
     "output_type": "stream",
     "text": [
      "/home/nahuel/.local/lib/python3.8/site-packages/sklearn/utils/validation.py:63: DataConversionWarning: A column-vector y was passed when a 1d array was expected. Please change the shape of y to (n_samples, ), for example using ravel().\n",
      "  return f(*args, **kwargs)\n"
     ]
    },
    {
     "name": "stdout",
     "output_type": "stream",
     "text": [
      "      Iter       Train Loss   Remaining Time \n",
      "         1           0.8430            8.50m\n",
      "         2           0.8063            8.55m\n",
      "         3           0.7828            8.50m\n",
      "         4           0.7654            8.50m\n",
      "         5           0.7527            8.45m\n",
      "         6           0.7430            8.39m\n",
      "         7           0.7355            8.36m\n",
      "         8           0.7292            8.34m\n",
      "         9           0.7230            8.30m\n",
      "        10           0.7184            8.25m\n",
      "        20           0.6892            7.89m\n"
     ]
    },
    {
     "name": "stderr",
     "output_type": "stream",
     "text": [
      "/home/nahuel/.local/lib/python3.8/site-packages/sklearn/utils/validation.py:63: DataConversionWarning: A column-vector y was passed when a 1d array was expected. Please change the shape of y to (n_samples, ), for example using ravel().\n",
      "  return f(*args, **kwargs)\n"
     ]
    },
    {
     "name": "stdout",
     "output_type": "stream",
     "text": [
      "      Iter       Train Loss      OOB Improve   Remaining Time \n",
      "         1           0.8999           0.0025           22.52s\n",
      "         2           0.8974           0.0027           23.91s\n",
      "         3           0.8941           0.0023           23.36s\n",
      "         4           0.9073           0.0024           23.75s\n",
      "         5           0.9142           0.0023           23.36s\n",
      "         6           0.9170           0.0023           23.17s\n",
      "         7           0.8873           0.0022           22.92s\n",
      "         8           0.8952           0.0019           22.79s\n",
      "         9           0.8893           0.0020           22.60s\n",
      "        10           0.8629           0.0021           22.49s\n"
     ]
    },
    {
     "name": "stderr",
     "output_type": "stream",
     "text": [
      "/home/nahuel/.local/lib/python3.8/site-packages/sklearn/utils/validation.py:63: DataConversionWarning: A column-vector y was passed when a 1d array was expected. Please change the shape of y to (n_samples, ), for example using ravel().\n",
      "  return f(*args, **kwargs)\n"
     ]
    },
    {
     "name": "stdout",
     "output_type": "stream",
     "text": [
      "      Iter       Train Loss      OOB Improve   Remaining Time \n",
      "         1           0.8896           0.0026           22.69s\n",
      "         2           0.9154           0.0027           24.87s\n",
      "         3           0.9042           0.0025           26.04s\n",
      "         4           0.8910           0.0026           26.51s\n",
      "         5           0.9044           0.0025           26.08s\n",
      "         6           0.8860           0.0022           25.99s\n",
      "         7           0.9032           0.0018           25.42s\n",
      "         8           0.8899           0.0022           25.05s\n",
      "         9           0.9034           0.0021           24.69s\n",
      "        10           0.8769           0.0020           24.51s\n"
     ]
    },
    {
     "name": "stderr",
     "output_type": "stream",
     "text": [
      "/home/nahuel/.local/lib/python3.8/site-packages/sklearn/utils/validation.py:63: DataConversionWarning: A column-vector y was passed when a 1d array was expected. Please change the shape of y to (n_samples, ), for example using ravel().\n",
      "  return f(*args, **kwargs)\n"
     ]
    },
    {
     "name": "stdout",
     "output_type": "stream",
     "text": [
      "      Iter       Train Loss      OOB Improve   Remaining Time \n",
      "         1           0.9014           0.0028           26.02s\n",
      "         2           0.9010           0.0025           27.24s\n",
      "         3           0.8870           0.0026           26.77s\n",
      "         4           0.8912           0.0023           25.82s\n",
      "         5           0.9016           0.0024           25.06s\n",
      "         6           0.8785           0.0022           24.71s\n",
      "         7           0.8867           0.0023           24.36s\n",
      "         8           0.8859           0.0020           24.40s\n",
      "         9           0.8818           0.0021           24.81s\n",
      "        10           0.9013           0.0020           24.99s\n"
     ]
    },
    {
     "name": "stderr",
     "output_type": "stream",
     "text": [
      "/home/nahuel/.local/lib/python3.8/site-packages/sklearn/utils/validation.py:63: DataConversionWarning: A column-vector y was passed when a 1d array was expected. Please change the shape of y to (n_samples, ), for example using ravel().\n",
      "  return f(*args, **kwargs)\n"
     ]
    },
    {
     "name": "stdout",
     "output_type": "stream",
     "text": [
      "      Iter       Train Loss      OOB Improve   Remaining Time \n",
      "         1           0.9042           0.0026           25.67s\n",
      "         2           0.9163           0.0025           25.26s\n",
      "         3           0.9080           0.0025           24.32s\n",
      "         4           0.8740           0.0024           23.95s\n",
      "         5           0.9086           0.0025           23.62s\n",
      "         6           0.9133           0.0025           23.44s\n",
      "         7           0.8931           0.0023           23.18s\n",
      "         8           0.9014           0.0023           23.11s\n",
      "         9           0.8983           0.0022           22.99s\n",
      "        10           0.9002           0.0021           23.26s\n"
     ]
    },
    {
     "name": "stderr",
     "output_type": "stream",
     "text": [
      "/home/nahuel/.local/lib/python3.8/site-packages/sklearn/utils/validation.py:63: DataConversionWarning: A column-vector y was passed when a 1d array was expected. Please change the shape of y to (n_samples, ), for example using ravel().\n",
      "  return f(*args, **kwargs)\n"
     ]
    },
    {
     "name": "stdout",
     "output_type": "stream",
     "text": [
      "      Iter       Train Loss      OOB Improve   Remaining Time \n",
      "         1           0.9125           0.0025           22.88s\n",
      "         2           0.9276           0.0025           24.16s\n",
      "         3           0.8982           0.0025           24.99s\n",
      "         4           0.9230           0.0025           25.73s\n",
      "         5           0.9029           0.0021           25.45s\n",
      "         6           0.8899           0.0023           25.17s\n",
      "         7           0.9187           0.0026           24.69s\n",
      "         8           0.9108           0.0022           24.40s\n",
      "         9           0.8805           0.0022           24.15s\n",
      "        10           0.8945           0.0019           23.92s\n"
     ]
    },
    {
     "name": "stderr",
     "output_type": "stream",
     "text": [
      "/home/nahuel/.local/lib/python3.8/site-packages/sklearn/utils/validation.py:63: DataConversionWarning: A column-vector y was passed when a 1d array was expected. Please change the shape of y to (n_samples, ), for example using ravel().\n",
      "  return f(*args, **kwargs)\n",
      "/home/nahuel/.local/lib/python3.8/site-packages/sklearn/model_selection/_validation.py:615: FitFailedWarning: Estimator fit failed. The score on this train-test partition for these parameters will be set to nan. Details: \n",
      "Traceback (most recent call last):\n",
      "  File \"/home/nahuel/.local/lib/python3.8/site-packages/sklearn/model_selection/_validation.py\", line 598, in _fit_and_score\n",
      "    estimator.fit(X_train, y_train, **fit_params)\n",
      "  File \"/home/nahuel/.local/lib/python3.8/site-packages/sklearn/ensemble/_gb.py\", line 448, in fit\n",
      "    self._check_params()\n",
      "  File \"/home/nahuel/.local/lib/python3.8/site-packages/sklearn/ensemble/_gb.py\", line 256, in _check_params\n",
      "    raise ValueError(\"subsample must be in (0,1] but \"\n",
      "ValueError: subsample must be in (0,1] but was 1.5\n",
      "\n",
      "  warnings.warn(\"Estimator fit failed. The score on this train-test\"\n",
      "/home/nahuel/.local/lib/python3.8/site-packages/sklearn/utils/validation.py:63: DataConversionWarning: A column-vector y was passed when a 1d array was expected. Please change the shape of y to (n_samples, ), for example using ravel().\n",
      "  return f(*args, **kwargs)\n",
      "/home/nahuel/.local/lib/python3.8/site-packages/sklearn/model_selection/_validation.py:615: FitFailedWarning: Estimator fit failed. The score on this train-test partition for these parameters will be set to nan. Details: \n",
      "Traceback (most recent call last):\n",
      "  File \"/home/nahuel/.local/lib/python3.8/site-packages/sklearn/model_selection/_validation.py\", line 598, in _fit_and_score\n",
      "    estimator.fit(X_train, y_train, **fit_params)\n",
      "  File \"/home/nahuel/.local/lib/python3.8/site-packages/sklearn/ensemble/_gb.py\", line 448, in fit\n",
      "    self._check_params()\n",
      "  File \"/home/nahuel/.local/lib/python3.8/site-packages/sklearn/ensemble/_gb.py\", line 256, in _check_params\n",
      "    raise ValueError(\"subsample must be in (0,1] but \"\n",
      "ValueError: subsample must be in (0,1] but was 1.5\n",
      "\n",
      "  warnings.warn(\"Estimator fit failed. The score on this train-test\"\n",
      "/home/nahuel/.local/lib/python3.8/site-packages/sklearn/utils/validation.py:63: DataConversionWarning: A column-vector y was passed when a 1d array was expected. Please change the shape of y to (n_samples, ), for example using ravel().\n",
      "  return f(*args, **kwargs)\n",
      "/home/nahuel/.local/lib/python3.8/site-packages/sklearn/model_selection/_validation.py:615: FitFailedWarning: Estimator fit failed. The score on this train-test partition for these parameters will be set to nan. Details: \n",
      "Traceback (most recent call last):\n",
      "  File \"/home/nahuel/.local/lib/python3.8/site-packages/sklearn/model_selection/_validation.py\", line 598, in _fit_and_score\n",
      "    estimator.fit(X_train, y_train, **fit_params)\n",
      "  File \"/home/nahuel/.local/lib/python3.8/site-packages/sklearn/ensemble/_gb.py\", line 448, in fit\n",
      "    self._check_params()\n",
      "  File \"/home/nahuel/.local/lib/python3.8/site-packages/sklearn/ensemble/_gb.py\", line 256, in _check_params\n",
      "    raise ValueError(\"subsample must be in (0,1] but \"\n",
      "ValueError: subsample must be in (0,1] but was 1.5\n",
      "\n",
      "  warnings.warn(\"Estimator fit failed. The score on this train-test\"\n",
      "/home/nahuel/.local/lib/python3.8/site-packages/sklearn/utils/validation.py:63: DataConversionWarning: A column-vector y was passed when a 1d array was expected. Please change the shape of y to (n_samples, ), for example using ravel().\n",
      "  return f(*args, **kwargs)\n",
      "/home/nahuel/.local/lib/python3.8/site-packages/sklearn/model_selection/_validation.py:615: FitFailedWarning: Estimator fit failed. The score on this train-test partition for these parameters will be set to nan. Details: \n",
      "Traceback (most recent call last):\n",
      "  File \"/home/nahuel/.local/lib/python3.8/site-packages/sklearn/model_selection/_validation.py\", line 598, in _fit_and_score\n",
      "    estimator.fit(X_train, y_train, **fit_params)\n",
      "  File \"/home/nahuel/.local/lib/python3.8/site-packages/sklearn/ensemble/_gb.py\", line 448, in fit\n",
      "    self._check_params()\n",
      "  File \"/home/nahuel/.local/lib/python3.8/site-packages/sklearn/ensemble/_gb.py\", line 256, in _check_params\n",
      "    raise ValueError(\"subsample must be in (0,1] but \"\n",
      "ValueError: subsample must be in (0,1] but was 1.5\n",
      "\n",
      "  warnings.warn(\"Estimator fit failed. The score on this train-test\"\n",
      "/home/nahuel/.local/lib/python3.8/site-packages/sklearn/utils/validation.py:63: DataConversionWarning: A column-vector y was passed when a 1d array was expected. Please change the shape of y to (n_samples, ), for example using ravel().\n",
      "  return f(*args, **kwargs)\n",
      "/home/nahuel/.local/lib/python3.8/site-packages/sklearn/model_selection/_validation.py:615: FitFailedWarning: Estimator fit failed. The score on this train-test partition for these parameters will be set to nan. Details: \n",
      "Traceback (most recent call last):\n",
      "  File \"/home/nahuel/.local/lib/python3.8/site-packages/sklearn/model_selection/_validation.py\", line 598, in _fit_and_score\n",
      "    estimator.fit(X_train, y_train, **fit_params)\n",
      "  File \"/home/nahuel/.local/lib/python3.8/site-packages/sklearn/ensemble/_gb.py\", line 448, in fit\n",
      "    self._check_params()\n",
      "  File \"/home/nahuel/.local/lib/python3.8/site-packages/sklearn/ensemble/_gb.py\", line 256, in _check_params\n",
      "    raise ValueError(\"subsample must be in (0,1] but \"\n",
      "ValueError: subsample must be in (0,1] but was 1.5\n",
      "\n",
      "  warnings.warn(\"Estimator fit failed. The score on this train-test\"\n",
      "/home/nahuel/.local/lib/python3.8/site-packages/sklearn/model_selection/_search.py:922: UserWarning: One or more of the test scores are non-finite: [0.66982924 0.66938795 0.65761224 0.56941673        nan        nan\n",
      "        nan 0.67920184 0.56941673        nan]\n",
      "  warnings.warn(\n",
      "/home/nahuel/.local/lib/python3.8/site-packages/sklearn/utils/validation.py:63: DataConversionWarning: A column-vector y was passed when a 1d array was expected. Please change the shape of y to (n_samples, ), for example using ravel().\n",
      "  return f(*args, **kwargs)\n"
     ]
    },
    {
     "name": "stdout",
     "output_type": "stream",
     "text": [
      "      Iter       Train Loss   Remaining Time \n",
      "         1           0.8436           11.75m\n",
      "         2           0.8075           11.65m\n",
      "         3           0.7842           11.40m\n",
      "         4           0.7668           11.23m\n",
      "         5           0.7543           11.08m\n",
      "         6           0.7445           10.99m\n",
      "         7           0.7367           10.91m\n",
      "         8           0.7304           10.83m\n",
      "         9           0.7244           10.76m\n",
      "        10           0.7199           10.68m\n",
      "        20           0.6914           10.10m\n",
      "CPU times: user 9min 21s, sys: 2.14 s, total: 9min 23s\n",
      "Wall time: 9min 24s\n"
     ]
    }
   ],
   "source": [
    "%%time\n",
    "a = clf.fit(X_train, y_train)"
   ]
  },
  {
   "cell_type": "code",
   "execution_count": 16,
   "metadata": {},
   "outputs": [
    {
     "ename": "AttributeError",
     "evalue": "'RandomizedSearchCV' object has no attribute 'n_features_'",
     "output_type": "error",
     "traceback": [
      "\u001b[0;31m---------------------------------------------------------------------------\u001b[0m",
      "\u001b[0;31mAttributeError\u001b[0m                            Traceback (most recent call last)",
      "\u001b[0;32m<ipython-input-16-7c5723d438bc>\u001b[0m in \u001b[0;36m<module>\u001b[0;34m\u001b[0m\n\u001b[0;32m----> 1\u001b[0;31m \u001b[0mclf\u001b[0m\u001b[0;34m.\u001b[0m\u001b[0mn_features_\u001b[0m\u001b[0;34m\u001b[0m\u001b[0;34m\u001b[0m\u001b[0m\n\u001b[0m",
      "\u001b[0;31mAttributeError\u001b[0m: 'RandomizedSearchCV' object has no attribute 'n_features_'"
     ]
    }
   ],
   "source": [
    "clf.n_features_"
   ]
  },
  {
   "cell_type": "markdown",
   "metadata": {},
   "source": [
    "### Se hace la predicción"
   ]
  },
  {
   "cell_type": "code",
   "execution_count": 8,
   "metadata": {},
   "outputs": [],
   "source": [
    "preds = a.predict(X_test)"
   ]
  },
  {
   "cell_type": "markdown",
   "metadata": {},
   "source": [
    "### Se calcula el error"
   ]
  },
  {
   "cell_type": "code",
   "execution_count": 9,
   "metadata": {},
   "outputs": [],
   "source": [
    "score = f1_score(y_test, preds, average='micro')"
   ]
  },
  {
   "cell_type": "code",
   "execution_count": 10,
   "metadata": {},
   "outputs": [
    {
     "name": "stdout",
     "output_type": "stream",
     "text": [
      "El score es: 0.6750062354904933\n"
     ]
    }
   ],
   "source": [
    "print(\"El score es: \" + str(score))"
   ]
  },
  {
   "cell_type": "markdown",
   "metadata": {},
   "source": [
    "gráfica"
   ]
  },
  {
   "cell_type": "code",
   "execution_count": 11,
   "metadata": {},
   "outputs": [
    {
     "data": {
      "text/plain": [
       "{'verbose': 1,\n",
       " 'validation_fraction': 0.2,\n",
       " 'tol': 0.01,\n",
       " 'subsample': 1.0,\n",
       " 'n_iter_no_change': 5,\n",
       " 'n_estimators': 200,\n",
       " 'max_depth': 5,\n",
       " 'learning_rate': 0.2}"
      ]
     },
     "execution_count": 11,
     "metadata": {},
     "output_type": "execute_result"
    }
   ],
   "source": [
    "clf.best_params_"
   ]
  },
  {
   "cell_type": "code",
   "execution_count": 12,
   "metadata": {},
   "outputs": [
    {
     "data": {
      "text/plain": [
       "0.6792018419033"
      ]
     },
     "execution_count": 12,
     "metadata": {},
     "output_type": "execute_result"
    }
   ],
   "source": [
    "clf.best_score_"
   ]
  },
  {
   "cell_type": "code",
   "execution_count": 13,
   "metadata": {},
   "outputs": [
    {
     "data": {
      "text/plain": [
       "GradientBoostingClassifier(learning_rate=0.2, max_depth=5, n_estimators=200,\n",
       "                           n_iter_no_change=5, tol=0.01,\n",
       "                           validation_fraction=0.2, verbose=1)"
      ]
     },
     "execution_count": 13,
     "metadata": {},
     "output_type": "execute_result"
    }
   ],
   "source": [
    "clf.best_estimator_"
   ]
  },
  {
   "cell_type": "markdown",
   "metadata": {},
   "source": [
    "## Segunda prueba"
   ]
  },
  {
   "cell_type": "code",
   "execution_count": 33,
   "metadata": {},
   "outputs": [],
   "source": [
    "\"\"\"params = {\n",
    "    \"n_estimators\": [400, 600, 700],\n",
    "    \"learning_rate\": [0.01, 0.1, 0.5, 1],\n",
    "    \"max_depth\": [1, 2, 3, 4, 5, 6, 7],\n",
    "    \"subsample\": [0.1, 0.3, 0.5, 1.0],\n",
    "    \"loss\": [\"deviance\", \"exponential\"]\n",
    "}\"\"\"\n",
    "\n",
    "params_dos = {\n",
    "    \"n_estimators\": [200, 400],\n",
    "    \"max_depth\": [5, 7],\n",
    "    \"learning_rate\": [1, 0.2, 0.3],\n",
    "    \"subsample\": [0.01, 1.0, 1.5],\n",
    "    \"max_depth\": [5, 7],\n",
    "    \"verbose\": [1],\n",
    "    \"n_iter_no_change\":[5],\n",
    "    \"tol\":[0.01],\n",
    "    \"validation_fraction\":[0.2]\n",
    "}\n",
    "model_dos = GradientBoostingClassifier()\n",
    "clf_dos = RandomizedSearchCV(\n",
    "    model,\n",
    "    params,\n",
    "    n_iter=15,\n",
    "    verbose=1,\n",
    "    random_state=42,\n",
    "    scoring=\"f1_micro\"\n",
    ")"
   ]
  },
  {
   "cell_type": "markdown",
   "metadata": {},
   "source": [
    "### Se entrena el algoritmo"
   ]
  },
  {
   "cell_type": "code",
   "execution_count": 34,
   "metadata": {},
   "outputs": [
    {
     "name": "stdout",
     "output_type": "stream",
     "text": [
      "Fitting 5 folds for each of 15 candidates, totalling 75 fits\n"
     ]
    },
    {
     "name": "stderr",
     "output_type": "stream",
     "text": [
      "/home/nahuel/.local/lib/python3.8/site-packages/sklearn/utils/validation.py:63: DataConversionWarning: A column-vector y was passed when a 1d array was expected. Please change the shape of y to (n_samples, ), for example using ravel().\n",
      "  return f(*args, **kwargs)\n"
     ]
    },
    {
     "name": "stdout",
     "output_type": "stream",
     "text": [
      "      Iter       Train Loss   Remaining Time \n",
      "         1           0.7991           11.25s\n",
      "         2           0.7757            9.82s\n",
      "         3           0.7576            8.55s\n",
      "         4           0.7423            7.27s\n",
      "         5           0.7346            6.04s\n",
      "         6           0.7284            4.82s\n",
      "         7           0.7214            3.63s\n",
      "         8           0.7174            2.45s\n",
      "         9           0.7136            1.23s\n",
      "        10           0.7099            0.00s\n"
     ]
    },
    {
     "name": "stderr",
     "output_type": "stream",
     "text": [
      "/home/nahuel/.local/lib/python3.8/site-packages/sklearn/utils/validation.py:63: DataConversionWarning: A column-vector y was passed when a 1d array was expected. Please change the shape of y to (n_samples, ), for example using ravel().\n",
      "  return f(*args, **kwargs)\n"
     ]
    },
    {
     "name": "stdout",
     "output_type": "stream",
     "text": [
      "      Iter       Train Loss   Remaining Time \n",
      "         1           0.7972           12.22s\n",
      "         2           0.7674           10.44s\n",
      "         3           0.7483            8.97s\n",
      "         4           0.7388            7.65s\n",
      "         5           0.7333            6.41s\n",
      "         6           0.7277            5.11s\n",
      "         7           0.7239            3.86s\n",
      "         8           0.7194            2.57s\n",
      "         9           0.7160            1.28s\n",
      "        10           0.7134            0.00s\n"
     ]
    },
    {
     "name": "stderr",
     "output_type": "stream",
     "text": [
      "/home/nahuel/.local/lib/python3.8/site-packages/sklearn/utils/validation.py:63: DataConversionWarning: A column-vector y was passed when a 1d array was expected. Please change the shape of y to (n_samples, ), for example using ravel().\n",
      "  return f(*args, **kwargs)\n"
     ]
    },
    {
     "name": "stdout",
     "output_type": "stream",
     "text": [
      "      Iter       Train Loss   Remaining Time \n",
      "         1           0.7984           10.73s\n",
      "         2           0.7746            9.77s\n",
      "         3           0.7518            8.51s\n",
      "         4           0.7378            7.23s\n",
      "         5           0.7303            6.03s\n",
      "         6           0.7236            4.86s\n",
      "         7           0.7185            3.70s\n",
      "         8           0.7141            2.46s\n",
      "         9           0.7116            1.23s\n",
      "        10           0.7086            0.00s\n"
     ]
    },
    {
     "name": "stderr",
     "output_type": "stream",
     "text": [
      "/home/nahuel/.local/lib/python3.8/site-packages/sklearn/utils/validation.py:63: DataConversionWarning: A column-vector y was passed when a 1d array was expected. Please change the shape of y to (n_samples, ), for example using ravel().\n",
      "  return f(*args, **kwargs)\n"
     ]
    },
    {
     "name": "stdout",
     "output_type": "stream",
     "text": [
      "      Iter       Train Loss   Remaining Time \n",
      "         1           0.7965           11.18s\n",
      "         2           0.7677            9.83s\n",
      "         3           0.7482            8.53s\n",
      "         4           0.7392            7.26s\n",
      "         5           0.7314            6.02s\n",
      "         6           0.7231            4.81s\n",
      "         7           0.7184            3.61s\n",
      "         8           0.7152            2.40s\n",
      "         9           0.7124            1.20s\n",
      "        10           0.7087            0.00s\n"
     ]
    },
    {
     "name": "stderr",
     "output_type": "stream",
     "text": [
      "/home/nahuel/.local/lib/python3.8/site-packages/sklearn/utils/validation.py:63: DataConversionWarning: A column-vector y was passed when a 1d array was expected. Please change the shape of y to (n_samples, ), for example using ravel().\n",
      "  return f(*args, **kwargs)\n"
     ]
    },
    {
     "name": "stdout",
     "output_type": "stream",
     "text": [
      "      Iter       Train Loss   Remaining Time \n",
      "         1           0.7992           10.82s\n",
      "         2           0.7710            9.64s\n",
      "         3           0.7446            8.38s\n",
      "         4           0.7343            7.16s\n",
      "         5           0.7267            5.95s\n",
      "         6           0.7202            4.78s\n",
      "         7           0.7159            3.58s\n",
      "         8           0.7124            2.38s\n",
      "         9           0.7087            1.19s\n",
      "        10           0.7060            0.00s\n"
     ]
    },
    {
     "name": "stderr",
     "output_type": "stream",
     "text": [
      "/home/nahuel/.local/lib/python3.8/site-packages/sklearn/utils/validation.py:63: DataConversionWarning: A column-vector y was passed when a 1d array was expected. Please change the shape of y to (n_samples, ), for example using ravel().\n",
      "  return f(*args, **kwargs)\n"
     ]
    },
    {
     "name": "stdout",
     "output_type": "stream",
     "text": [
      "      Iter       Train Loss   Remaining Time \n",
      "         1           0.8435           23.50s\n",
      "         2           0.8072           20.85s\n",
      "         3           0.7838           18.28s\n",
      "         4           0.7663           15.63s\n",
      "         5           0.7536           13.02s\n",
      "         6           0.7438           10.41s\n",
      "         7           0.7359            7.81s\n",
      "         8           0.7294            5.23s\n",
      "         9           0.7240            2.62s\n",
      "        10           0.7191            0.00s\n"
     ]
    },
    {
     "name": "stderr",
     "output_type": "stream",
     "text": [
      "/home/nahuel/.local/lib/python3.8/site-packages/sklearn/utils/validation.py:63: DataConversionWarning: A column-vector y was passed when a 1d array was expected. Please change the shape of y to (n_samples, ), for example using ravel().\n",
      "  return f(*args, **kwargs)\n"
     ]
    },
    {
     "name": "stdout",
     "output_type": "stream",
     "text": [
      "      Iter       Train Loss   Remaining Time \n",
      "         1           0.8436           23.06s\n",
      "         2           0.8075           20.69s\n",
      "         3           0.7842           18.16s\n",
      "         4           0.7673           15.62s\n",
      "         5           0.7548           13.02s\n",
      "         6           0.7449           10.41s\n",
      "         7           0.7370            7.81s\n",
      "         8           0.7296            5.21s\n",
      "         9           0.7241            2.61s\n",
      "        10           0.7192            0.00s\n"
     ]
    },
    {
     "name": "stderr",
     "output_type": "stream",
     "text": [
      "/home/nahuel/.local/lib/python3.8/site-packages/sklearn/utils/validation.py:63: DataConversionWarning: A column-vector y was passed when a 1d array was expected. Please change the shape of y to (n_samples, ), for example using ravel().\n",
      "  return f(*args, **kwargs)\n"
     ]
    },
    {
     "name": "stdout",
     "output_type": "stream",
     "text": [
      "      Iter       Train Loss   Remaining Time \n",
      "         1           0.8427           26.80s\n",
      "         2           0.8061           22.63s\n",
      "         3           0.7824           19.31s\n",
      "         4           0.7649           16.33s\n",
      "         5           0.7521           13.51s\n",
      "         6           0.7423           10.75s\n",
      "         7           0.7347            8.03s\n",
      "         8           0.7275            5.34s\n",
      "         9           0.7218            2.66s\n",
      "        10           0.7169            0.00s\n"
     ]
    },
    {
     "name": "stderr",
     "output_type": "stream",
     "text": [
      "/home/nahuel/.local/lib/python3.8/site-packages/sklearn/utils/validation.py:63: DataConversionWarning: A column-vector y was passed when a 1d array was expected. Please change the shape of y to (n_samples, ), for example using ravel().\n",
      "  return f(*args, **kwargs)\n"
     ]
    },
    {
     "name": "stdout",
     "output_type": "stream",
     "text": [
      "      Iter       Train Loss   Remaining Time \n",
      "         1           0.8435           23.30s\n",
      "         2           0.8071           20.85s\n",
      "         3           0.7834           18.28s\n",
      "         4           0.7664           15.66s\n",
      "         5           0.7538           13.05s\n",
      "         6           0.7440           10.45s\n",
      "         7           0.7361            7.86s\n",
      "         8           0.7295            5.25s\n",
      "         9           0.7234            2.63s\n",
      "        10           0.7187            0.00s\n"
     ]
    },
    {
     "name": "stderr",
     "output_type": "stream",
     "text": [
      "/home/nahuel/.local/lib/python3.8/site-packages/sklearn/utils/validation.py:63: DataConversionWarning: A column-vector y was passed when a 1d array was expected. Please change the shape of y to (n_samples, ), for example using ravel().\n",
      "  return f(*args, **kwargs)\n"
     ]
    },
    {
     "name": "stdout",
     "output_type": "stream",
     "text": [
      "      Iter       Train Loss   Remaining Time \n",
      "         1           0.8429           23.69s\n",
      "         2           0.8065           20.97s\n",
      "         3           0.7831           18.31s\n",
      "         4           0.7657           15.72s\n",
      "         5           0.7531           13.07s\n",
      "         6           0.7427           10.46s\n",
      "         7           0.7350            7.84s\n",
      "         8           0.7289            5.24s\n",
      "         9           0.7233            2.62s\n",
      "        10           0.7181            0.00s\n"
     ]
    },
    {
     "name": "stderr",
     "output_type": "stream",
     "text": [
      "/home/nahuel/.local/lib/python3.8/site-packages/sklearn/utils/validation.py:63: DataConversionWarning: A column-vector y was passed when a 1d array was expected. Please change the shape of y to (n_samples, ), for example using ravel().\n",
      "  return f(*args, **kwargs)\n"
     ]
    },
    {
     "name": "stdout",
     "output_type": "stream",
     "text": [
      "      Iter       Train Loss      OOB Improve   Remaining Time \n",
      "         1           0.7959           0.0590            1.24s\n",
      "         2           0.8048           0.0351            1.16s\n",
      "         3           0.7445           0.0224            1.00s\n",
      "         4           0.7385           0.0152            0.88s\n",
      "         5           0.7382           0.0118            0.73s\n",
      "         6           0.7424           0.0103            0.58s\n",
      "         7           0.7202           0.0063            0.44s\n",
      "         8           0.6930           0.0063            0.30s\n",
      "         9           0.7328           0.0007            0.15s\n",
      "        10           0.7426           0.0027            0.00s\n"
     ]
    },
    {
     "name": "stderr",
     "output_type": "stream",
     "text": [
      "/home/nahuel/.local/lib/python3.8/site-packages/sklearn/utils/validation.py:63: DataConversionWarning: A column-vector y was passed when a 1d array was expected. Please change the shape of y to (n_samples, ), for example using ravel().\n",
      "  return f(*args, **kwargs)\n"
     ]
    },
    {
     "name": "stdout",
     "output_type": "stream",
     "text": [
      "      Iter       Train Loss      OOB Improve   Remaining Time \n",
      "         1           0.7890           0.0677            1.12s\n",
      "         2           0.7699           0.0311            1.07s\n",
      "         3           0.7602           0.0202            0.93s\n",
      "         4           0.7423           0.0134            0.80s\n",
      "         5           0.7274           0.0145            0.67s\n",
      "         6           0.7455           0.0053            0.54s\n",
      "         7           0.7352           0.0067            0.40s\n",
      "         8           0.7162           0.0041            0.27s\n",
      "         9           0.6975           0.0034            0.13s\n",
      "        10           0.6899           0.0010            0.00s\n"
     ]
    },
    {
     "name": "stderr",
     "output_type": "stream",
     "text": [
      "/home/nahuel/.local/lib/python3.8/site-packages/sklearn/utils/validation.py:63: DataConversionWarning: A column-vector y was passed when a 1d array was expected. Please change the shape of y to (n_samples, ), for example using ravel().\n",
      "  return f(*args, **kwargs)\n"
     ]
    },
    {
     "name": "stdout",
     "output_type": "stream",
     "text": [
      "      Iter       Train Loss      OOB Improve   Remaining Time \n",
      "         1           0.7864           0.0631            1.14s\n",
      "         2           0.7520           0.0385            1.10s\n",
      "         3           0.7637           0.0166            0.95s\n",
      "         4           0.7499           0.0151            0.82s\n",
      "         5           0.7444           0.0112            0.68s\n",
      "         6           0.7239           0.0104            0.54s\n",
      "         7           0.7043           0.0087            0.41s\n",
      "         8           0.7183           0.0048            0.27s\n",
      "         9           0.6823           0.0017            0.14s\n",
      "        10           0.7130           0.0038            0.00s\n"
     ]
    },
    {
     "name": "stderr",
     "output_type": "stream",
     "text": [
      "/home/nahuel/.local/lib/python3.8/site-packages/sklearn/utils/validation.py:63: DataConversionWarning: A column-vector y was passed when a 1d array was expected. Please change the shape of y to (n_samples, ), for example using ravel().\n",
      "  return f(*args, **kwargs)\n"
     ]
    },
    {
     "name": "stdout",
     "output_type": "stream",
     "text": [
      "      Iter       Train Loss      OOB Improve   Remaining Time \n",
      "         1           0.7979           0.0654            1.13s\n",
      "         2           0.7832           0.0362            1.08s\n",
      "         3           0.7589           0.0233            0.94s\n",
      "         4           0.7294           0.0130            0.80s\n",
      "         5           0.7279           0.0104            0.68s\n",
      "         6           0.7384           0.0061            0.56s\n",
      "         7           0.7092           0.0059            0.42s\n",
      "         8           0.7319           0.0048            0.28s\n",
      "         9           0.7046           0.0042            0.14s\n",
      "        10           0.7179           0.0032            0.00s\n"
     ]
    },
    {
     "name": "stderr",
     "output_type": "stream",
     "text": [
      "/home/nahuel/.local/lib/python3.8/site-packages/sklearn/utils/validation.py:63: DataConversionWarning: A column-vector y was passed when a 1d array was expected. Please change the shape of y to (n_samples, ), for example using ravel().\n",
      "  return f(*args, **kwargs)\n"
     ]
    },
    {
     "name": "stdout",
     "output_type": "stream",
     "text": [
      "      Iter       Train Loss      OOB Improve   Remaining Time \n",
      "         1           0.8314           0.0622            1.12s\n",
      "         2           0.7833           0.0351            1.06s\n",
      "         3           0.7360           0.0209            0.92s\n",
      "         4           0.7503           0.0160            0.79s\n",
      "         5           0.7316           0.0110            0.66s\n",
      "         6           0.7314           0.0059            0.53s\n",
      "         7           0.7360           0.0069            0.40s\n",
      "         8           0.7365           0.0045            0.27s\n",
      "         9           0.7114           0.0029            0.13s\n",
      "        10           0.7065           0.0047            0.00s\n"
     ]
    },
    {
     "name": "stderr",
     "output_type": "stream",
     "text": [
      "/home/nahuel/.local/lib/python3.8/site-packages/sklearn/utils/validation.py:63: DataConversionWarning: A column-vector y was passed when a 1d array was expected. Please change the shape of y to (n_samples, ), for example using ravel().\n",
      "  return f(*args, **kwargs)\n"
     ]
    },
    {
     "name": "stdout",
     "output_type": "stream",
     "text": [
      "      Iter       Train Loss      OOB Improve   Remaining Time \n",
      "         1           0.8986           0.0035            1.13s\n",
      "         2           0.9208           0.0036            1.08s\n",
      "         3           0.8859           0.0033            0.93s\n",
      "         4           0.8816           0.0034            0.81s\n",
      "         5           0.8944           0.0029            0.67s\n",
      "         6           0.8859           0.0032            0.54s\n",
      "         7           0.9016           0.0031            0.40s\n",
      "         8           0.8896           0.0031            0.27s\n",
      "         9           0.8854           0.0027            0.13s\n",
      "        10           0.8772           0.0028            0.00s\n"
     ]
    },
    {
     "name": "stderr",
     "output_type": "stream",
     "text": [
      "/home/nahuel/.local/lib/python3.8/site-packages/sklearn/utils/validation.py:63: DataConversionWarning: A column-vector y was passed when a 1d array was expected. Please change the shape of y to (n_samples, ), for example using ravel().\n",
      "  return f(*args, **kwargs)\n"
     ]
    },
    {
     "name": "stdout",
     "output_type": "stream",
     "text": [
      "      Iter       Train Loss      OOB Improve   Remaining Time \n",
      "         1           0.9055           0.0035            1.13s\n",
      "         2           0.9164           0.0035            1.09s\n",
      "         3           0.9096           0.0036            0.94s\n",
      "         4           0.8910           0.0030            0.81s\n",
      "         5           0.8859           0.0035            0.67s\n",
      "         6           0.8925           0.0028            0.54s\n",
      "         7           0.8538           0.0030            0.40s\n",
      "         8           0.8785           0.0029            0.27s\n",
      "         9           0.9106           0.0028            0.13s\n",
      "        10           0.8754           0.0028            0.00s\n"
     ]
    },
    {
     "name": "stderr",
     "output_type": "stream",
     "text": [
      "/home/nahuel/.local/lib/python3.8/site-packages/sklearn/utils/validation.py:63: DataConversionWarning: A column-vector y was passed when a 1d array was expected. Please change the shape of y to (n_samples, ), for example using ravel().\n",
      "  return f(*args, **kwargs)\n"
     ]
    },
    {
     "name": "stdout",
     "output_type": "stream",
     "text": [
      "      Iter       Train Loss      OOB Improve   Remaining Time \n",
      "         1           0.8978           0.0038            1.27s\n",
      "         2           0.8977           0.0036            1.24s\n",
      "         3           0.9127           0.0034            1.03s\n",
      "         4           0.8982           0.0032            0.87s\n",
      "         5           0.9026           0.0036            0.73s\n",
      "         6           0.8830           0.0032            0.58s\n",
      "         7           0.8877           0.0028            0.43s\n",
      "         8           0.8625           0.0032            0.28s\n",
      "         9           0.8904           0.0030            0.14s\n",
      "        10           0.8708           0.0031            0.00s\n"
     ]
    },
    {
     "name": "stderr",
     "output_type": "stream",
     "text": [
      "/home/nahuel/.local/lib/python3.8/site-packages/sklearn/utils/validation.py:63: DataConversionWarning: A column-vector y was passed when a 1d array was expected. Please change the shape of y to (n_samples, ), for example using ravel().\n",
      "  return f(*args, **kwargs)\n"
     ]
    },
    {
     "name": "stdout",
     "output_type": "stream",
     "text": [
      "      Iter       Train Loss      OOB Improve   Remaining Time \n",
      "         1           0.9097           0.0040            1.13s\n",
      "         2           0.9284           0.0037            1.06s\n",
      "         3           0.8760           0.0033            0.93s\n",
      "         4           0.9283           0.0035            0.80s\n",
      "         5           0.8911           0.0035            0.66s\n",
      "         6           0.8898           0.0032            0.53s\n",
      "         7           0.8995           0.0032            0.40s\n",
      "         8           0.9021           0.0032            0.27s\n",
      "         9           0.8827           0.0031            0.13s\n",
      "        10           0.8822           0.0029            0.00s\n"
     ]
    },
    {
     "name": "stderr",
     "output_type": "stream",
     "text": [
      "/home/nahuel/.local/lib/python3.8/site-packages/sklearn/utils/validation.py:63: DataConversionWarning: A column-vector y was passed when a 1d array was expected. Please change the shape of y to (n_samples, ), for example using ravel().\n",
      "  return f(*args, **kwargs)\n"
     ]
    },
    {
     "name": "stdout",
     "output_type": "stream",
     "text": [
      "      Iter       Train Loss      OOB Improve   Remaining Time \n",
      "         1           0.9227           0.0038            1.15s\n",
      "         2           0.9279           0.0037            1.07s\n",
      "         3           0.8885           0.0030            0.93s\n",
      "         4           0.8950           0.0033            0.80s\n",
      "         5           0.8927           0.0036            0.66s\n",
      "         6           0.8753           0.0033            0.53s\n",
      "         7           0.9005           0.0031            0.40s\n",
      "         8           0.8760           0.0027            0.27s\n",
      "         9           0.8904           0.0031            0.13s\n",
      "        10           0.8674           0.0030            0.00s\n"
     ]
    },
    {
     "name": "stderr",
     "output_type": "stream",
     "text": [
      "/home/nahuel/.local/lib/python3.8/site-packages/sklearn/utils/validation.py:63: DataConversionWarning: A column-vector y was passed when a 1d array was expected. Please change the shape of y to (n_samples, ), for example using ravel().\n",
      "  return f(*args, **kwargs)\n",
      "/home/nahuel/.local/lib/python3.8/site-packages/sklearn/model_selection/_validation.py:615: FitFailedWarning: Estimator fit failed. The score on this train-test partition for these parameters will be set to nan. Details: \n",
      "Traceback (most recent call last):\n",
      "  File \"/home/nahuel/.local/lib/python3.8/site-packages/sklearn/model_selection/_validation.py\", line 598, in _fit_and_score\n",
      "    estimator.fit(X_train, y_train, **fit_params)\n",
      "  File \"/home/nahuel/.local/lib/python3.8/site-packages/sklearn/ensemble/_gb.py\", line 448, in fit\n",
      "    self._check_params()\n",
      "  File \"/home/nahuel/.local/lib/python3.8/site-packages/sklearn/ensemble/_gb.py\", line 256, in _check_params\n",
      "    raise ValueError(\"subsample must be in (0,1] but \"\n",
      "ValueError: subsample must be in (0,1] but was 1.5\n",
      "\n",
      "  warnings.warn(\"Estimator fit failed. The score on this train-test\"\n",
      "/home/nahuel/.local/lib/python3.8/site-packages/sklearn/utils/validation.py:63: DataConversionWarning: A column-vector y was passed when a 1d array was expected. Please change the shape of y to (n_samples, ), for example using ravel().\n",
      "  return f(*args, **kwargs)\n",
      "/home/nahuel/.local/lib/python3.8/site-packages/sklearn/model_selection/_validation.py:615: FitFailedWarning: Estimator fit failed. The score on this train-test partition for these parameters will be set to nan. Details: \n",
      "Traceback (most recent call last):\n",
      "  File \"/home/nahuel/.local/lib/python3.8/site-packages/sklearn/model_selection/_validation.py\", line 598, in _fit_and_score\n",
      "    estimator.fit(X_train, y_train, **fit_params)\n",
      "  File \"/home/nahuel/.local/lib/python3.8/site-packages/sklearn/ensemble/_gb.py\", line 448, in fit\n",
      "    self._check_params()\n",
      "  File \"/home/nahuel/.local/lib/python3.8/site-packages/sklearn/ensemble/_gb.py\", line 256, in _check_params\n",
      "    raise ValueError(\"subsample must be in (0,1] but \"\n",
      "ValueError: subsample must be in (0,1] but was 1.5\n",
      "\n",
      "  warnings.warn(\"Estimator fit failed. The score on this train-test\"\n",
      "/home/nahuel/.local/lib/python3.8/site-packages/sklearn/utils/validation.py:63: DataConversionWarning: A column-vector y was passed when a 1d array was expected. Please change the shape of y to (n_samples, ), for example using ravel().\n",
      "  return f(*args, **kwargs)\n",
      "/home/nahuel/.local/lib/python3.8/site-packages/sklearn/model_selection/_validation.py:615: FitFailedWarning: Estimator fit failed. The score on this train-test partition for these parameters will be set to nan. Details: \n",
      "Traceback (most recent call last):\n",
      "  File \"/home/nahuel/.local/lib/python3.8/site-packages/sklearn/model_selection/_validation.py\", line 598, in _fit_and_score\n",
      "    estimator.fit(X_train, y_train, **fit_params)\n",
      "  File \"/home/nahuel/.local/lib/python3.8/site-packages/sklearn/ensemble/_gb.py\", line 448, in fit\n",
      "    self._check_params()\n",
      "  File \"/home/nahuel/.local/lib/python3.8/site-packages/sklearn/ensemble/_gb.py\", line 256, in _check_params\n",
      "    raise ValueError(\"subsample must be in (0,1] but \"\n",
      "ValueError: subsample must be in (0,1] but was 1.5\n",
      "\n",
      "  warnings.warn(\"Estimator fit failed. The score on this train-test\"\n",
      "/home/nahuel/.local/lib/python3.8/site-packages/sklearn/utils/validation.py:63: DataConversionWarning: A column-vector y was passed when a 1d array was expected. Please change the shape of y to (n_samples, ), for example using ravel().\n",
      "  return f(*args, **kwargs)\n",
      "/home/nahuel/.local/lib/python3.8/site-packages/sklearn/model_selection/_validation.py:615: FitFailedWarning: Estimator fit failed. The score on this train-test partition for these parameters will be set to nan. Details: \n",
      "Traceback (most recent call last):\n",
      "  File \"/home/nahuel/.local/lib/python3.8/site-packages/sklearn/model_selection/_validation.py\", line 598, in _fit_and_score\n",
      "    estimator.fit(X_train, y_train, **fit_params)\n",
      "  File \"/home/nahuel/.local/lib/python3.8/site-packages/sklearn/ensemble/_gb.py\", line 448, in fit\n",
      "    self._check_params()\n",
      "  File \"/home/nahuel/.local/lib/python3.8/site-packages/sklearn/ensemble/_gb.py\", line 256, in _check_params\n",
      "    raise ValueError(\"subsample must be in (0,1] but \"\n",
      "ValueError: subsample must be in (0,1] but was 1.5\n",
      "\n",
      "  warnings.warn(\"Estimator fit failed. The score on this train-test\"\n",
      "/home/nahuel/.local/lib/python3.8/site-packages/sklearn/utils/validation.py:63: DataConversionWarning: A column-vector y was passed when a 1d array was expected. Please change the shape of y to (n_samples, ), for example using ravel().\n",
      "  return f(*args, **kwargs)\n",
      "/home/nahuel/.local/lib/python3.8/site-packages/sklearn/model_selection/_validation.py:615: FitFailedWarning: Estimator fit failed. The score on this train-test partition for these parameters will be set to nan. Details: \n",
      "Traceback (most recent call last):\n",
      "  File \"/home/nahuel/.local/lib/python3.8/site-packages/sklearn/model_selection/_validation.py\", line 598, in _fit_and_score\n",
      "    estimator.fit(X_train, y_train, **fit_params)\n",
      "  File \"/home/nahuel/.local/lib/python3.8/site-packages/sklearn/ensemble/_gb.py\", line 448, in fit\n",
      "    self._check_params()\n",
      "  File \"/home/nahuel/.local/lib/python3.8/site-packages/sklearn/ensemble/_gb.py\", line 256, in _check_params\n",
      "    raise ValueError(\"subsample must be in (0,1] but \"\n",
      "ValueError: subsample must be in (0,1] but was 1.5\n",
      "\n",
      "  warnings.warn(\"Estimator fit failed. The score on this train-test\"\n",
      "/home/nahuel/.local/lib/python3.8/site-packages/sklearn/utils/validation.py:63: DataConversionWarning: A column-vector y was passed when a 1d array was expected. Please change the shape of y to (n_samples, ), for example using ravel().\n",
      "  return f(*args, **kwargs)\n",
      "/home/nahuel/.local/lib/python3.8/site-packages/sklearn/model_selection/_validation.py:615: FitFailedWarning: Estimator fit failed. The score on this train-test partition for these parameters will be set to nan. Details: \n",
      "Traceback (most recent call last):\n",
      "  File \"/home/nahuel/.local/lib/python3.8/site-packages/sklearn/model_selection/_validation.py\", line 598, in _fit_and_score\n",
      "    estimator.fit(X_train, y_train, **fit_params)\n",
      "  File \"/home/nahuel/.local/lib/python3.8/site-packages/sklearn/ensemble/_gb.py\", line 448, in fit\n",
      "    self._check_params()\n",
      "  File \"/home/nahuel/.local/lib/python3.8/site-packages/sklearn/ensemble/_gb.py\", line 256, in _check_params\n",
      "    raise ValueError(\"subsample must be in (0,1] but \"\n",
      "ValueError: subsample must be in (0,1] but was 1.5\n",
      "\n",
      "  warnings.warn(\"Estimator fit failed. The score on this train-test\"\n",
      "/home/nahuel/.local/lib/python3.8/site-packages/sklearn/utils/validation.py:63: DataConversionWarning: A column-vector y was passed when a 1d array was expected. Please change the shape of y to (n_samples, ), for example using ravel().\n",
      "  return f(*args, **kwargs)\n",
      "/home/nahuel/.local/lib/python3.8/site-packages/sklearn/model_selection/_validation.py:615: FitFailedWarning: Estimator fit failed. The score on this train-test partition for these parameters will be set to nan. Details: \n",
      "Traceback (most recent call last):\n",
      "  File \"/home/nahuel/.local/lib/python3.8/site-packages/sklearn/model_selection/_validation.py\", line 598, in _fit_and_score\n",
      "    estimator.fit(X_train, y_train, **fit_params)\n",
      "  File \"/home/nahuel/.local/lib/python3.8/site-packages/sklearn/ensemble/_gb.py\", line 448, in fit\n",
      "    self._check_params()\n",
      "  File \"/home/nahuel/.local/lib/python3.8/site-packages/sklearn/ensemble/_gb.py\", line 256, in _check_params\n",
      "    raise ValueError(\"subsample must be in (0,1] but \"\n",
      "ValueError: subsample must be in (0,1] but was 1.5\n",
      "\n",
      "  warnings.warn(\"Estimator fit failed. The score on this train-test\"\n",
      "/home/nahuel/.local/lib/python3.8/site-packages/sklearn/utils/validation.py:63: DataConversionWarning: A column-vector y was passed when a 1d array was expected. Please change the shape of y to (n_samples, ), for example using ravel().\n",
      "  return f(*args, **kwargs)\n",
      "/home/nahuel/.local/lib/python3.8/site-packages/sklearn/model_selection/_validation.py:615: FitFailedWarning: Estimator fit failed. The score on this train-test partition for these parameters will be set to nan. Details: \n",
      "Traceback (most recent call last):\n",
      "  File \"/home/nahuel/.local/lib/python3.8/site-packages/sklearn/model_selection/_validation.py\", line 598, in _fit_and_score\n",
      "    estimator.fit(X_train, y_train, **fit_params)\n",
      "  File \"/home/nahuel/.local/lib/python3.8/site-packages/sklearn/ensemble/_gb.py\", line 448, in fit\n",
      "    self._check_params()\n",
      "  File \"/home/nahuel/.local/lib/python3.8/site-packages/sklearn/ensemble/_gb.py\", line 256, in _check_params\n",
      "    raise ValueError(\"subsample must be in (0,1] but \"\n",
      "ValueError: subsample must be in (0,1] but was 1.5\n",
      "\n",
      "  warnings.warn(\"Estimator fit failed. The score on this train-test\"\n",
      "/home/nahuel/.local/lib/python3.8/site-packages/sklearn/utils/validation.py:63: DataConversionWarning: A column-vector y was passed when a 1d array was expected. Please change the shape of y to (n_samples, ), for example using ravel().\n",
      "  return f(*args, **kwargs)\n",
      "/home/nahuel/.local/lib/python3.8/site-packages/sklearn/model_selection/_validation.py:615: FitFailedWarning: Estimator fit failed. The score on this train-test partition for these parameters will be set to nan. Details: \n",
      "Traceback (most recent call last):\n",
      "  File \"/home/nahuel/.local/lib/python3.8/site-packages/sklearn/model_selection/_validation.py\", line 598, in _fit_and_score\n",
      "    estimator.fit(X_train, y_train, **fit_params)\n",
      "  File \"/home/nahuel/.local/lib/python3.8/site-packages/sklearn/ensemble/_gb.py\", line 448, in fit\n",
      "    self._check_params()\n",
      "  File \"/home/nahuel/.local/lib/python3.8/site-packages/sklearn/ensemble/_gb.py\", line 256, in _check_params\n",
      "    raise ValueError(\"subsample must be in (0,1] but \"\n",
      "ValueError: subsample must be in (0,1] but was 1.5\n",
      "\n",
      "  warnings.warn(\"Estimator fit failed. The score on this train-test\"\n",
      "/home/nahuel/.local/lib/python3.8/site-packages/sklearn/utils/validation.py:63: DataConversionWarning: A column-vector y was passed when a 1d array was expected. Please change the shape of y to (n_samples, ), for example using ravel().\n",
      "  return f(*args, **kwargs)\n",
      "/home/nahuel/.local/lib/python3.8/site-packages/sklearn/model_selection/_validation.py:615: FitFailedWarning: Estimator fit failed. The score on this train-test partition for these parameters will be set to nan. Details: \n",
      "Traceback (most recent call last):\n",
      "  File \"/home/nahuel/.local/lib/python3.8/site-packages/sklearn/model_selection/_validation.py\", line 598, in _fit_and_score\n",
      "    estimator.fit(X_train, y_train, **fit_params)\n",
      "  File \"/home/nahuel/.local/lib/python3.8/site-packages/sklearn/ensemble/_gb.py\", line 448, in fit\n",
      "    self._check_params()\n",
      "  File \"/home/nahuel/.local/lib/python3.8/site-packages/sklearn/ensemble/_gb.py\", line 256, in _check_params\n",
      "    raise ValueError(\"subsample must be in (0,1] but \"\n",
      "ValueError: subsample must be in (0,1] but was 1.5\n",
      "\n",
      "  warnings.warn(\"Estimator fit failed. The score on this train-test\"\n",
      "/home/nahuel/.local/lib/python3.8/site-packages/sklearn/utils/validation.py:63: DataConversionWarning: A column-vector y was passed when a 1d array was expected. Please change the shape of y to (n_samples, ), for example using ravel().\n",
      "  return f(*args, **kwargs)\n",
      "/home/nahuel/.local/lib/python3.8/site-packages/sklearn/model_selection/_validation.py:615: FitFailedWarning: Estimator fit failed. The score on this train-test partition for these parameters will be set to nan. Details: \n",
      "Traceback (most recent call last):\n",
      "  File \"/home/nahuel/.local/lib/python3.8/site-packages/sklearn/model_selection/_validation.py\", line 598, in _fit_and_score\n",
      "    estimator.fit(X_train, y_train, **fit_params)\n",
      "  File \"/home/nahuel/.local/lib/python3.8/site-packages/sklearn/ensemble/_gb.py\", line 448, in fit\n",
      "    self._check_params()\n",
      "  File \"/home/nahuel/.local/lib/python3.8/site-packages/sklearn/ensemble/_gb.py\", line 256, in _check_params\n",
      "    raise ValueError(\"subsample must be in (0,1] but \"\n",
      "ValueError: subsample must be in (0,1] but was 1.5\n",
      "\n",
      "  warnings.warn(\"Estimator fit failed. The score on this train-test\"\n",
      "/home/nahuel/.local/lib/python3.8/site-packages/sklearn/utils/validation.py:63: DataConversionWarning: A column-vector y was passed when a 1d array was expected. Please change the shape of y to (n_samples, ), for example using ravel().\n",
      "  return f(*args, **kwargs)\n",
      "/home/nahuel/.local/lib/python3.8/site-packages/sklearn/model_selection/_validation.py:615: FitFailedWarning: Estimator fit failed. The score on this train-test partition for these parameters will be set to nan. Details: \n",
      "Traceback (most recent call last):\n",
      "  File \"/home/nahuel/.local/lib/python3.8/site-packages/sklearn/model_selection/_validation.py\", line 598, in _fit_and_score\n",
      "    estimator.fit(X_train, y_train, **fit_params)\n",
      "  File \"/home/nahuel/.local/lib/python3.8/site-packages/sklearn/ensemble/_gb.py\", line 448, in fit\n",
      "    self._check_params()\n",
      "  File \"/home/nahuel/.local/lib/python3.8/site-packages/sklearn/ensemble/_gb.py\", line 256, in _check_params\n",
      "    raise ValueError(\"subsample must be in (0,1] but \"\n",
      "ValueError: subsample must be in (0,1] but was 1.5\n",
      "\n",
      "  warnings.warn(\"Estimator fit failed. The score on this train-test\"\n",
      "/home/nahuel/.local/lib/python3.8/site-packages/sklearn/utils/validation.py:63: DataConversionWarning: A column-vector y was passed when a 1d array was expected. Please change the shape of y to (n_samples, ), for example using ravel().\n",
      "  return f(*args, **kwargs)\n",
      "/home/nahuel/.local/lib/python3.8/site-packages/sklearn/model_selection/_validation.py:615: FitFailedWarning: Estimator fit failed. The score on this train-test partition for these parameters will be set to nan. Details: \n",
      "Traceback (most recent call last):\n",
      "  File \"/home/nahuel/.local/lib/python3.8/site-packages/sklearn/model_selection/_validation.py\", line 598, in _fit_and_score\n",
      "    estimator.fit(X_train, y_train, **fit_params)\n",
      "  File \"/home/nahuel/.local/lib/python3.8/site-packages/sklearn/ensemble/_gb.py\", line 448, in fit\n",
      "    self._check_params()\n",
      "  File \"/home/nahuel/.local/lib/python3.8/site-packages/sklearn/ensemble/_gb.py\", line 256, in _check_params\n",
      "    raise ValueError(\"subsample must be in (0,1] but \"\n",
      "ValueError: subsample must be in (0,1] but was 1.5\n",
      "\n",
      "  warnings.warn(\"Estimator fit failed. The score on this train-test\"\n",
      "/home/nahuel/.local/lib/python3.8/site-packages/sklearn/utils/validation.py:63: DataConversionWarning: A column-vector y was passed when a 1d array was expected. Please change the shape of y to (n_samples, ), for example using ravel().\n",
      "  return f(*args, **kwargs)\n",
      "/home/nahuel/.local/lib/python3.8/site-packages/sklearn/model_selection/_validation.py:615: FitFailedWarning: Estimator fit failed. The score on this train-test partition for these parameters will be set to nan. Details: \n",
      "Traceback (most recent call last):\n",
      "  File \"/home/nahuel/.local/lib/python3.8/site-packages/sklearn/model_selection/_validation.py\", line 598, in _fit_and_score\n",
      "    estimator.fit(X_train, y_train, **fit_params)\n",
      "  File \"/home/nahuel/.local/lib/python3.8/site-packages/sklearn/ensemble/_gb.py\", line 448, in fit\n",
      "    self._check_params()\n",
      "  File \"/home/nahuel/.local/lib/python3.8/site-packages/sklearn/ensemble/_gb.py\", line 256, in _check_params\n",
      "    raise ValueError(\"subsample must be in (0,1] but \"\n",
      "ValueError: subsample must be in (0,1] but was 1.5\n",
      "\n",
      "  warnings.warn(\"Estimator fit failed. The score on this train-test\"\n",
      "/home/nahuel/.local/lib/python3.8/site-packages/sklearn/utils/validation.py:63: DataConversionWarning: A column-vector y was passed when a 1d array was expected. Please change the shape of y to (n_samples, ), for example using ravel().\n",
      "  return f(*args, **kwargs)\n",
      "/home/nahuel/.local/lib/python3.8/site-packages/sklearn/model_selection/_validation.py:615: FitFailedWarning: Estimator fit failed. The score on this train-test partition for these parameters will be set to nan. Details: \n",
      "Traceback (most recent call last):\n",
      "  File \"/home/nahuel/.local/lib/python3.8/site-packages/sklearn/model_selection/_validation.py\", line 598, in _fit_and_score\n",
      "    estimator.fit(X_train, y_train, **fit_params)\n",
      "  File \"/home/nahuel/.local/lib/python3.8/site-packages/sklearn/ensemble/_gb.py\", line 448, in fit\n",
      "    self._check_params()\n",
      "  File \"/home/nahuel/.local/lib/python3.8/site-packages/sklearn/ensemble/_gb.py\", line 256, in _check_params\n",
      "    raise ValueError(\"subsample must be in (0,1] but \"\n",
      "ValueError: subsample must be in (0,1] but was 1.5\n",
      "\n",
      "  warnings.warn(\"Estimator fit failed. The score on this train-test\"\n",
      "/home/nahuel/.local/lib/python3.8/site-packages/sklearn/utils/validation.py:63: DataConversionWarning: A column-vector y was passed when a 1d array was expected. Please change the shape of y to (n_samples, ), for example using ravel().\n",
      "  return f(*args, **kwargs)\n"
     ]
    },
    {
     "name": "stdout",
     "output_type": "stream",
     "text": [
      "      Iter       Train Loss   Remaining Time \n",
      "         1           0.8432            8.77m\n",
      "         2           0.8069            8.72m\n",
      "         3           0.7834            8.63m\n",
      "         4           0.7660            8.60m\n",
      "         5           0.7536            8.55m\n",
      "         6           0.7438            8.51m\n",
      "         7           0.7357            8.45m\n",
      "         8           0.7286            8.43m\n",
      "         9           0.7232            8.38m\n",
      "        10           0.7182            8.32m\n"
     ]
    },
    {
     "name": "stderr",
     "output_type": "stream",
     "text": [
      "/home/nahuel/.local/lib/python3.8/site-packages/sklearn/utils/validation.py:63: DataConversionWarning: A column-vector y was passed when a 1d array was expected. Please change the shape of y to (n_samples, ), for example using ravel().\n",
      "  return f(*args, **kwargs)\n"
     ]
    },
    {
     "name": "stdout",
     "output_type": "stream",
     "text": [
      "      Iter       Train Loss   Remaining Time \n",
      "         1           0.8430            8.73m\n",
      "         2           0.8065            8.64m\n",
      "         3           0.7828            8.62m\n",
      "         4           0.7656            8.56m\n",
      "         5           0.7531            8.75m\n",
      "         6           0.7428            8.65m\n",
      "         7           0.7351            8.83m\n",
      "         8           0.7282            8.86m\n",
      "         9           0.7228            8.79m\n",
      "        10           0.7177            8.74m\n",
      "        20           0.6889            8.16m\n"
     ]
    },
    {
     "name": "stderr",
     "output_type": "stream",
     "text": [
      "/home/nahuel/.local/lib/python3.8/site-packages/sklearn/utils/validation.py:63: DataConversionWarning: A column-vector y was passed when a 1d array was expected. Please change the shape of y to (n_samples, ), for example using ravel().\n",
      "  return f(*args, **kwargs)\n"
     ]
    },
    {
     "name": "stdout",
     "output_type": "stream",
     "text": [
      "      Iter       Train Loss   Remaining Time \n",
      "         1           0.8431            8.75m\n",
      "         2           0.8066            8.66m\n",
      "         3           0.7830            8.63m\n",
      "         4           0.7655            8.57m\n",
      "         5           0.7525            8.57m\n",
      "         6           0.7430            8.51m\n",
      "         7           0.7349            8.47m\n",
      "         8           0.7286            8.43m\n",
      "         9           0.7230            8.37m\n",
      "        10           0.7176            8.32m\n",
      "        20           0.6892            7.96m\n"
     ]
    },
    {
     "name": "stderr",
     "output_type": "stream",
     "text": [
      "/home/nahuel/.local/lib/python3.8/site-packages/sklearn/utils/validation.py:63: DataConversionWarning: A column-vector y was passed when a 1d array was expected. Please change the shape of y to (n_samples, ), for example using ravel().\n",
      "  return f(*args, **kwargs)\n"
     ]
    },
    {
     "name": "stdout",
     "output_type": "stream",
     "text": [
      "      Iter       Train Loss   Remaining Time \n",
      "         1           0.8435            8.85m\n",
      "         2           0.8067            8.75m\n",
      "         3           0.7831            8.67m\n",
      "         4           0.7655            8.59m\n",
      "         5           0.7528            8.55m\n",
      "         6           0.7430            8.49m\n",
      "         7           0.7351            8.43m\n",
      "         8           0.7286            8.41m\n",
      "         9           0.7229            8.36m\n",
      "        10           0.7181            8.31m\n",
      "        20           0.6887            7.87m\n"
     ]
    },
    {
     "name": "stderr",
     "output_type": "stream",
     "text": [
      "/home/nahuel/.local/lib/python3.8/site-packages/sklearn/utils/validation.py:63: DataConversionWarning: A column-vector y was passed when a 1d array was expected. Please change the shape of y to (n_samples, ), for example using ravel().\n",
      "  return f(*args, **kwargs)\n"
     ]
    },
    {
     "name": "stdout",
     "output_type": "stream",
     "text": [
      "      Iter       Train Loss   Remaining Time \n",
      "         1           0.8428            8.44m\n",
      "         2           0.8063            8.41m\n",
      "         3           0.7827            8.49m\n",
      "         4           0.7654            8.43m\n",
      "         5           0.7526            8.39m\n",
      "         6           0.7429            8.34m\n",
      "         7           0.7354            8.32m\n",
      "         8           0.7285            8.30m\n",
      "         9           0.7226            8.25m\n",
      "        10           0.7178            8.22m\n",
      "        20           0.6881            7.83m\n"
     ]
    },
    {
     "name": "stderr",
     "output_type": "stream",
     "text": [
      "/home/nahuel/.local/lib/python3.8/site-packages/sklearn/utils/validation.py:63: DataConversionWarning: A column-vector y was passed when a 1d array was expected. Please change the shape of y to (n_samples, ), for example using ravel().\n",
      "  return f(*args, **kwargs)\n"
     ]
    },
    {
     "name": "stdout",
     "output_type": "stream",
     "text": [
      "      Iter       Train Loss      OOB Improve   Remaining Time \n",
      "         1           0.9074           0.0025           23.80s\n",
      "         2           0.9015           0.0026           28.55s\n",
      "         3           0.8999           0.0024           29.63s\n",
      "         4           0.8945           0.0021           29.45s\n",
      "         5           0.8982           0.0023           29.02s\n",
      "         6           0.9027           0.0023           28.25s\n",
      "         7           0.9134           0.0024           27.28s\n",
      "         8           0.8960           0.0024           26.68s\n",
      "         9           0.8694           0.0020           26.31s\n",
      "        10           0.8712           0.0020           26.08s\n"
     ]
    },
    {
     "name": "stderr",
     "output_type": "stream",
     "text": [
      "/home/nahuel/.local/lib/python3.8/site-packages/sklearn/utils/validation.py:63: DataConversionWarning: A column-vector y was passed when a 1d array was expected. Please change the shape of y to (n_samples, ), for example using ravel().\n",
      "  return f(*args, **kwargs)\n"
     ]
    },
    {
     "name": "stdout",
     "output_type": "stream",
     "text": [
      "      Iter       Train Loss      OOB Improve   Remaining Time \n",
      "         1           0.9181           0.0026           22.08s\n",
      "         2           0.9002           0.0024           23.73s\n",
      "         3           0.9038           0.0024           23.59s\n",
      "         4           0.9201           0.0023           23.91s\n",
      "         5           0.8989           0.0024           23.51s\n",
      "         6           0.9126           0.0024           23.35s\n",
      "         7           0.8563           0.0022           23.07s\n",
      "         8           0.8987           0.0022           22.92s\n",
      "         9           0.8676           0.0020           22.70s\n",
      "        10           0.9008           0.0020           22.56s\n"
     ]
    },
    {
     "name": "stderr",
     "output_type": "stream",
     "text": [
      "/home/nahuel/.local/lib/python3.8/site-packages/sklearn/utils/validation.py:63: DataConversionWarning: A column-vector y was passed when a 1d array was expected. Please change the shape of y to (n_samples, ), for example using ravel().\n",
      "  return f(*args, **kwargs)\n"
     ]
    },
    {
     "name": "stdout",
     "output_type": "stream",
     "text": [
      "      Iter       Train Loss      OOB Improve   Remaining Time \n",
      "         1           0.8902           0.0027           22.00s\n",
      "         2           0.8892           0.0023           23.98s\n",
      "         3           0.8995           0.0025           24.75s\n",
      "         4           0.9138           0.0025           25.49s\n",
      "         5           0.8982           0.0025           25.07s\n",
      "         6           0.9018           0.0024           25.36s\n",
      "         7           0.8814           0.0023           25.06s\n",
      "         8           0.8981           0.0024           24.76s\n",
      "         9           0.8948           0.0020           24.49s\n",
      "        10           0.8637           0.0021           24.81s\n"
     ]
    },
    {
     "name": "stderr",
     "output_type": "stream",
     "text": [
      "/home/nahuel/.local/lib/python3.8/site-packages/sklearn/utils/validation.py:63: DataConversionWarning: A column-vector y was passed when a 1d array was expected. Please change the shape of y to (n_samples, ), for example using ravel().\n",
      "  return f(*args, **kwargs)\n"
     ]
    },
    {
     "name": "stdout",
     "output_type": "stream",
     "text": [
      "      Iter       Train Loss      OOB Improve   Remaining Time \n",
      "         1           0.9119           0.0027           24.04s\n",
      "         2           0.8928           0.0025           25.32s\n",
      "         3           0.8999           0.0026           24.68s\n",
      "         4           0.9134           0.0026           24.51s\n",
      "         5           0.9248           0.0026           24.02s\n",
      "         6           0.9055           0.0024           23.90s\n",
      "         7           0.9141           0.0024           23.64s\n",
      "         8           0.8734           0.0020           23.92s\n",
      "         9           0.9119           0.0021           24.47s\n",
      "        10           0.9061           0.0021           24.38s\n"
     ]
    },
    {
     "name": "stderr",
     "output_type": "stream",
     "text": [
      "/home/nahuel/.local/lib/python3.8/site-packages/sklearn/utils/validation.py:63: DataConversionWarning: A column-vector y was passed when a 1d array was expected. Please change the shape of y to (n_samples, ), for example using ravel().\n",
      "  return f(*args, **kwargs)\n"
     ]
    },
    {
     "name": "stdout",
     "output_type": "stream",
     "text": [
      "      Iter       Train Loss      OOB Improve   Remaining Time \n",
      "         1           0.9393           0.0026           23.01s\n",
      "         2           0.9052           0.0024           25.38s\n",
      "         3           0.8996           0.0024           27.43s\n",
      "         4           0.9010           0.0025           26.87s\n",
      "         5           0.8887           0.0021           26.30s\n",
      "         6           0.8995           0.0022           26.37s\n",
      "         7           0.8941           0.0020           26.40s\n",
      "         8           0.8923           0.0021           26.00s\n",
      "         9           0.8957           0.0021           25.45s\n",
      "        10           0.8851           0.0020           25.03s\n"
     ]
    },
    {
     "name": "stderr",
     "output_type": "stream",
     "text": [
      "/home/nahuel/.local/lib/python3.8/site-packages/sklearn/utils/validation.py:63: DataConversionWarning: A column-vector y was passed when a 1d array was expected. Please change the shape of y to (n_samples, ), for example using ravel().\n",
      "  return f(*args, **kwargs)\n",
      "/home/nahuel/.local/lib/python3.8/site-packages/sklearn/model_selection/_validation.py:615: FitFailedWarning: Estimator fit failed. The score on this train-test partition for these parameters will be set to nan. Details: \n",
      "Traceback (most recent call last):\n",
      "  File \"/home/nahuel/.local/lib/python3.8/site-packages/sklearn/model_selection/_validation.py\", line 598, in _fit_and_score\n",
      "    estimator.fit(X_train, y_train, **fit_params)\n",
      "  File \"/home/nahuel/.local/lib/python3.8/site-packages/sklearn/ensemble/_gb.py\", line 448, in fit\n",
      "    self._check_params()\n",
      "  File \"/home/nahuel/.local/lib/python3.8/site-packages/sklearn/ensemble/_gb.py\", line 256, in _check_params\n",
      "    raise ValueError(\"subsample must be in (0,1] but \"\n",
      "ValueError: subsample must be in (0,1] but was 1.5\n",
      "\n",
      "  warnings.warn(\"Estimator fit failed. The score on this train-test\"\n",
      "/home/nahuel/.local/lib/python3.8/site-packages/sklearn/utils/validation.py:63: DataConversionWarning: A column-vector y was passed when a 1d array was expected. Please change the shape of y to (n_samples, ), for example using ravel().\n",
      "  return f(*args, **kwargs)\n",
      "/home/nahuel/.local/lib/python3.8/site-packages/sklearn/model_selection/_validation.py:615: FitFailedWarning: Estimator fit failed. The score on this train-test partition for these parameters will be set to nan. Details: \n",
      "Traceback (most recent call last):\n",
      "  File \"/home/nahuel/.local/lib/python3.8/site-packages/sklearn/model_selection/_validation.py\", line 598, in _fit_and_score\n",
      "    estimator.fit(X_train, y_train, **fit_params)\n",
      "  File \"/home/nahuel/.local/lib/python3.8/site-packages/sklearn/ensemble/_gb.py\", line 448, in fit\n",
      "    self._check_params()\n",
      "  File \"/home/nahuel/.local/lib/python3.8/site-packages/sklearn/ensemble/_gb.py\", line 256, in _check_params\n",
      "    raise ValueError(\"subsample must be in (0,1] but \"\n",
      "ValueError: subsample must be in (0,1] but was 1.5\n",
      "\n",
      "  warnings.warn(\"Estimator fit failed. The score on this train-test\"\n",
      "/home/nahuel/.local/lib/python3.8/site-packages/sklearn/utils/validation.py:63: DataConversionWarning: A column-vector y was passed when a 1d array was expected. Please change the shape of y to (n_samples, ), for example using ravel().\n",
      "  return f(*args, **kwargs)\n",
      "/home/nahuel/.local/lib/python3.8/site-packages/sklearn/model_selection/_validation.py:615: FitFailedWarning: Estimator fit failed. The score on this train-test partition for these parameters will be set to nan. Details: \n",
      "Traceback (most recent call last):\n",
      "  File \"/home/nahuel/.local/lib/python3.8/site-packages/sklearn/model_selection/_validation.py\", line 598, in _fit_and_score\n",
      "    estimator.fit(X_train, y_train, **fit_params)\n",
      "  File \"/home/nahuel/.local/lib/python3.8/site-packages/sklearn/ensemble/_gb.py\", line 448, in fit\n",
      "    self._check_params()\n",
      "  File \"/home/nahuel/.local/lib/python3.8/site-packages/sklearn/ensemble/_gb.py\", line 256, in _check_params\n",
      "    raise ValueError(\"subsample must be in (0,1] but \"\n",
      "ValueError: subsample must be in (0,1] but was 1.5\n",
      "\n",
      "  warnings.warn(\"Estimator fit failed. The score on this train-test\"\n",
      "/home/nahuel/.local/lib/python3.8/site-packages/sklearn/utils/validation.py:63: DataConversionWarning: A column-vector y was passed when a 1d array was expected. Please change the shape of y to (n_samples, ), for example using ravel().\n",
      "  return f(*args, **kwargs)\n",
      "/home/nahuel/.local/lib/python3.8/site-packages/sklearn/model_selection/_validation.py:615: FitFailedWarning: Estimator fit failed. The score on this train-test partition for these parameters will be set to nan. Details: \n",
      "Traceback (most recent call last):\n",
      "  File \"/home/nahuel/.local/lib/python3.8/site-packages/sklearn/model_selection/_validation.py\", line 598, in _fit_and_score\n",
      "    estimator.fit(X_train, y_train, **fit_params)\n",
      "  File \"/home/nahuel/.local/lib/python3.8/site-packages/sklearn/ensemble/_gb.py\", line 448, in fit\n",
      "    self._check_params()\n",
      "  File \"/home/nahuel/.local/lib/python3.8/site-packages/sklearn/ensemble/_gb.py\", line 256, in _check_params\n",
      "    raise ValueError(\"subsample must be in (0,1] but \"\n",
      "ValueError: subsample must be in (0,1] but was 1.5\n",
      "\n",
      "  warnings.warn(\"Estimator fit failed. The score on this train-test\"\n",
      "/home/nahuel/.local/lib/python3.8/site-packages/sklearn/utils/validation.py:63: DataConversionWarning: A column-vector y was passed when a 1d array was expected. Please change the shape of y to (n_samples, ), for example using ravel().\n",
      "  return f(*args, **kwargs)\n",
      "/home/nahuel/.local/lib/python3.8/site-packages/sklearn/model_selection/_validation.py:615: FitFailedWarning: Estimator fit failed. The score on this train-test partition for these parameters will be set to nan. Details: \n",
      "Traceback (most recent call last):\n",
      "  File \"/home/nahuel/.local/lib/python3.8/site-packages/sklearn/model_selection/_validation.py\", line 598, in _fit_and_score\n",
      "    estimator.fit(X_train, y_train, **fit_params)\n",
      "  File \"/home/nahuel/.local/lib/python3.8/site-packages/sklearn/ensemble/_gb.py\", line 448, in fit\n",
      "    self._check_params()\n",
      "  File \"/home/nahuel/.local/lib/python3.8/site-packages/sklearn/ensemble/_gb.py\", line 256, in _check_params\n",
      "    raise ValueError(\"subsample must be in (0,1] but \"\n",
      "ValueError: subsample must be in (0,1] but was 1.5\n",
      "\n",
      "  warnings.warn(\"Estimator fit failed. The score on this train-test\"\n",
      "/home/nahuel/.local/lib/python3.8/site-packages/sklearn/utils/validation.py:63: DataConversionWarning: A column-vector y was passed when a 1d array was expected. Please change the shape of y to (n_samples, ), for example using ravel().\n",
      "  return f(*args, **kwargs)\n"
     ]
    },
    {
     "name": "stdout",
     "output_type": "stream",
     "text": [
      "      Iter       Train Loss   Remaining Time \n",
      "         1           0.9083           25.86s\n",
      "         2           0.9046           22.02s\n",
      "         3           0.9011           18.89s\n",
      "         4           0.8976           15.99s\n",
      "         5           0.8943           13.25s\n",
      "         6           0.8910           10.56s\n",
      "         7           0.8878            7.88s\n",
      "         8           0.8848            5.24s\n",
      "         9           0.8818            2.62s\n",
      "        10           0.8789            0.00s\n"
     ]
    },
    {
     "name": "stderr",
     "output_type": "stream",
     "text": [
      "/home/nahuel/.local/lib/python3.8/site-packages/sklearn/utils/validation.py:63: DataConversionWarning: A column-vector y was passed when a 1d array was expected. Please change the shape of y to (n_samples, ), for example using ravel().\n",
      "  return f(*args, **kwargs)\n"
     ]
    },
    {
     "name": "stdout",
     "output_type": "stream",
     "text": [
      "      Iter       Train Loss   Remaining Time \n",
      "         1           0.9083           22.99s\n",
      "         2           0.9046           20.53s\n",
      "         3           0.9010           18.04s\n",
      "         4           0.8975           15.43s\n",
      "         5           0.8941           12.87s\n",
      "         6           0.8908           10.29s\n",
      "         7           0.8877            7.72s\n",
      "         8           0.8846            5.14s\n",
      "         9           0.8815            2.57s\n",
      "        10           0.8786            0.00s\n"
     ]
    },
    {
     "name": "stderr",
     "output_type": "stream",
     "text": [
      "/home/nahuel/.local/lib/python3.8/site-packages/sklearn/utils/validation.py:63: DataConversionWarning: A column-vector y was passed when a 1d array was expected. Please change the shape of y to (n_samples, ), for example using ravel().\n",
      "  return f(*args, **kwargs)\n"
     ]
    },
    {
     "name": "stdout",
     "output_type": "stream",
     "text": [
      "      Iter       Train Loss   Remaining Time \n",
      "         1           0.9083           23.03s\n",
      "         2           0.9046           20.45s\n",
      "         3           0.9011           17.87s\n",
      "         4           0.8976           15.36s\n",
      "         5           0.8943           12.78s\n",
      "         6           0.8910           10.23s\n",
      "         7           0.8878            7.68s\n",
      "         8           0.8848            5.12s\n",
      "         9           0.8818            2.56s\n",
      "        10           0.8789            0.00s\n"
     ]
    },
    {
     "name": "stderr",
     "output_type": "stream",
     "text": [
      "/home/nahuel/.local/lib/python3.8/site-packages/sklearn/utils/validation.py:63: DataConversionWarning: A column-vector y was passed when a 1d array was expected. Please change the shape of y to (n_samples, ), for example using ravel().\n",
      "  return f(*args, **kwargs)\n"
     ]
    },
    {
     "name": "stdout",
     "output_type": "stream",
     "text": [
      "      Iter       Train Loss   Remaining Time \n",
      "         1           0.9083           23.16s\n",
      "         2           0.9046           20.66s\n",
      "         3           0.9011           18.03s\n",
      "         4           0.8976           15.40s\n",
      "         5           0.8943           12.82s\n",
      "         6           0.8910           10.29s\n",
      "         7           0.8879            7.71s\n",
      "         8           0.8848            5.15s\n",
      "         9           0.8818            2.57s\n",
      "        10           0.8789            0.00s\n"
     ]
    },
    {
     "name": "stderr",
     "output_type": "stream",
     "text": [
      "/home/nahuel/.local/lib/python3.8/site-packages/sklearn/utils/validation.py:63: DataConversionWarning: A column-vector y was passed when a 1d array was expected. Please change the shape of y to (n_samples, ), for example using ravel().\n",
      "  return f(*args, **kwargs)\n"
     ]
    },
    {
     "name": "stdout",
     "output_type": "stream",
     "text": [
      "      Iter       Train Loss   Remaining Time \n",
      "         1           0.9083           22.94s\n",
      "         2           0.9046           20.42s\n",
      "         3           0.9011           17.95s\n",
      "         4           0.8976           15.36s\n",
      "         5           0.8943           12.79s\n",
      "         6           0.8910           10.23s\n",
      "         7           0.8878            7.67s\n",
      "         8           0.8847            5.11s\n",
      "         9           0.8818            2.56s\n",
      "        10           0.8788            0.00s\n"
     ]
    },
    {
     "name": "stderr",
     "output_type": "stream",
     "text": [
      "/home/nahuel/.local/lib/python3.8/site-packages/sklearn/utils/validation.py:63: DataConversionWarning: A column-vector y was passed when a 1d array was expected. Please change the shape of y to (n_samples, ), for example using ravel().\n",
      "  return f(*args, **kwargs)\n",
      "/home/nahuel/.local/lib/python3.8/site-packages/sklearn/model_selection/_validation.py:615: FitFailedWarning: Estimator fit failed. The score on this train-test partition for these parameters will be set to nan. Details: \n",
      "Traceback (most recent call last):\n",
      "  File \"/home/nahuel/.local/lib/python3.8/site-packages/sklearn/model_selection/_validation.py\", line 598, in _fit_and_score\n",
      "    estimator.fit(X_train, y_train, **fit_params)\n",
      "  File \"/home/nahuel/.local/lib/python3.8/site-packages/sklearn/ensemble/_gb.py\", line 448, in fit\n",
      "    self._check_params()\n",
      "  File \"/home/nahuel/.local/lib/python3.8/site-packages/sklearn/ensemble/_gb.py\", line 256, in _check_params\n",
      "    raise ValueError(\"subsample must be in (0,1] but \"\n",
      "ValueError: subsample must be in (0,1] but was 1.5\n",
      "\n",
      "  warnings.warn(\"Estimator fit failed. The score on this train-test\"\n",
      "/home/nahuel/.local/lib/python3.8/site-packages/sklearn/utils/validation.py:63: DataConversionWarning: A column-vector y was passed when a 1d array was expected. Please change the shape of y to (n_samples, ), for example using ravel().\n",
      "  return f(*args, **kwargs)\n",
      "/home/nahuel/.local/lib/python3.8/site-packages/sklearn/model_selection/_validation.py:615: FitFailedWarning: Estimator fit failed. The score on this train-test partition for these parameters will be set to nan. Details: \n",
      "Traceback (most recent call last):\n",
      "  File \"/home/nahuel/.local/lib/python3.8/site-packages/sklearn/model_selection/_validation.py\", line 598, in _fit_and_score\n",
      "    estimator.fit(X_train, y_train, **fit_params)\n",
      "  File \"/home/nahuel/.local/lib/python3.8/site-packages/sklearn/ensemble/_gb.py\", line 448, in fit\n",
      "    self._check_params()\n",
      "  File \"/home/nahuel/.local/lib/python3.8/site-packages/sklearn/ensemble/_gb.py\", line 256, in _check_params\n",
      "    raise ValueError(\"subsample must be in (0,1] but \"\n",
      "ValueError: subsample must be in (0,1] but was 1.5\n",
      "\n",
      "  warnings.warn(\"Estimator fit failed. The score on this train-test\"\n",
      "/home/nahuel/.local/lib/python3.8/site-packages/sklearn/utils/validation.py:63: DataConversionWarning: A column-vector y was passed when a 1d array was expected. Please change the shape of y to (n_samples, ), for example using ravel().\n",
      "  return f(*args, **kwargs)\n",
      "/home/nahuel/.local/lib/python3.8/site-packages/sklearn/model_selection/_validation.py:615: FitFailedWarning: Estimator fit failed. The score on this train-test partition for these parameters will be set to nan. Details: \n",
      "Traceback (most recent call last):\n",
      "  File \"/home/nahuel/.local/lib/python3.8/site-packages/sklearn/model_selection/_validation.py\", line 598, in _fit_and_score\n",
      "    estimator.fit(X_train, y_train, **fit_params)\n",
      "  File \"/home/nahuel/.local/lib/python3.8/site-packages/sklearn/ensemble/_gb.py\", line 448, in fit\n",
      "    self._check_params()\n",
      "  File \"/home/nahuel/.local/lib/python3.8/site-packages/sklearn/ensemble/_gb.py\", line 256, in _check_params\n",
      "    raise ValueError(\"subsample must be in (0,1] but \"\n",
      "ValueError: subsample must be in (0,1] but was 1.5\n",
      "\n",
      "  warnings.warn(\"Estimator fit failed. The score on this train-test\"\n",
      "/home/nahuel/.local/lib/python3.8/site-packages/sklearn/utils/validation.py:63: DataConversionWarning: A column-vector y was passed when a 1d array was expected. Please change the shape of y to (n_samples, ), for example using ravel().\n",
      "  return f(*args, **kwargs)\n",
      "/home/nahuel/.local/lib/python3.8/site-packages/sklearn/model_selection/_validation.py:615: FitFailedWarning: Estimator fit failed. The score on this train-test partition for these parameters will be set to nan. Details: \n",
      "Traceback (most recent call last):\n",
      "  File \"/home/nahuel/.local/lib/python3.8/site-packages/sklearn/model_selection/_validation.py\", line 598, in _fit_and_score\n",
      "    estimator.fit(X_train, y_train, **fit_params)\n",
      "  File \"/home/nahuel/.local/lib/python3.8/site-packages/sklearn/ensemble/_gb.py\", line 448, in fit\n",
      "    self._check_params()\n",
      "  File \"/home/nahuel/.local/lib/python3.8/site-packages/sklearn/ensemble/_gb.py\", line 256, in _check_params\n",
      "    raise ValueError(\"subsample must be in (0,1] but \"\n",
      "ValueError: subsample must be in (0,1] but was 1.5\n",
      "\n",
      "  warnings.warn(\"Estimator fit failed. The score on this train-test\"\n",
      "/home/nahuel/.local/lib/python3.8/site-packages/sklearn/utils/validation.py:63: DataConversionWarning: A column-vector y was passed when a 1d array was expected. Please change the shape of y to (n_samples, ), for example using ravel().\n",
      "  return f(*args, **kwargs)\n",
      "/home/nahuel/.local/lib/python3.8/site-packages/sklearn/model_selection/_validation.py:615: FitFailedWarning: Estimator fit failed. The score on this train-test partition for these parameters will be set to nan. Details: \n",
      "Traceback (most recent call last):\n",
      "  File \"/home/nahuel/.local/lib/python3.8/site-packages/sklearn/model_selection/_validation.py\", line 598, in _fit_and_score\n",
      "    estimator.fit(X_train, y_train, **fit_params)\n",
      "  File \"/home/nahuel/.local/lib/python3.8/site-packages/sklearn/ensemble/_gb.py\", line 448, in fit\n",
      "    self._check_params()\n",
      "  File \"/home/nahuel/.local/lib/python3.8/site-packages/sklearn/ensemble/_gb.py\", line 256, in _check_params\n",
      "    raise ValueError(\"subsample must be in (0,1] but \"\n",
      "ValueError: subsample must be in (0,1] but was 1.5\n",
      "\n",
      "  warnings.warn(\"Estimator fit failed. The score on this train-test\"\n",
      "/home/nahuel/.local/lib/python3.8/site-packages/sklearn/utils/validation.py:63: DataConversionWarning: A column-vector y was passed when a 1d array was expected. Please change the shape of y to (n_samples, ), for example using ravel().\n",
      "  return f(*args, **kwargs)\n",
      "/home/nahuel/.local/lib/python3.8/site-packages/sklearn/model_selection/_validation.py:615: FitFailedWarning: Estimator fit failed. The score on this train-test partition for these parameters will be set to nan. Details: \n",
      "Traceback (most recent call last):\n",
      "  File \"/home/nahuel/.local/lib/python3.8/site-packages/sklearn/model_selection/_validation.py\", line 598, in _fit_and_score\n",
      "    estimator.fit(X_train, y_train, **fit_params)\n",
      "  File \"/home/nahuel/.local/lib/python3.8/site-packages/sklearn/ensemble/_gb.py\", line 448, in fit\n",
      "    self._check_params()\n",
      "  File \"/home/nahuel/.local/lib/python3.8/site-packages/sklearn/ensemble/_gb.py\", line 256, in _check_params\n",
      "    raise ValueError(\"subsample must be in (0,1] but \"\n",
      "ValueError: subsample must be in (0,1] but was 1.5\n",
      "\n",
      "  warnings.warn(\"Estimator fit failed. The score on this train-test\"\n",
      "/home/nahuel/.local/lib/python3.8/site-packages/sklearn/utils/validation.py:63: DataConversionWarning: A column-vector y was passed when a 1d array was expected. Please change the shape of y to (n_samples, ), for example using ravel().\n",
      "  return f(*args, **kwargs)\n",
      "/home/nahuel/.local/lib/python3.8/site-packages/sklearn/model_selection/_validation.py:615: FitFailedWarning: Estimator fit failed. The score on this train-test partition for these parameters will be set to nan. Details: \n",
      "Traceback (most recent call last):\n",
      "  File \"/home/nahuel/.local/lib/python3.8/site-packages/sklearn/model_selection/_validation.py\", line 598, in _fit_and_score\n",
      "    estimator.fit(X_train, y_train, **fit_params)\n",
      "  File \"/home/nahuel/.local/lib/python3.8/site-packages/sklearn/ensemble/_gb.py\", line 448, in fit\n",
      "    self._check_params()\n",
      "  File \"/home/nahuel/.local/lib/python3.8/site-packages/sklearn/ensemble/_gb.py\", line 256, in _check_params\n",
      "    raise ValueError(\"subsample must be in (0,1] but \"\n",
      "ValueError: subsample must be in (0,1] but was 1.5\n",
      "\n",
      "  warnings.warn(\"Estimator fit failed. The score on this train-test\"\n",
      "/home/nahuel/.local/lib/python3.8/site-packages/sklearn/utils/validation.py:63: DataConversionWarning: A column-vector y was passed when a 1d array was expected. Please change the shape of y to (n_samples, ), for example using ravel().\n",
      "  return f(*args, **kwargs)\n",
      "/home/nahuel/.local/lib/python3.8/site-packages/sklearn/model_selection/_validation.py:615: FitFailedWarning: Estimator fit failed. The score on this train-test partition for these parameters will be set to nan. Details: \n",
      "Traceback (most recent call last):\n",
      "  File \"/home/nahuel/.local/lib/python3.8/site-packages/sklearn/model_selection/_validation.py\", line 598, in _fit_and_score\n",
      "    estimator.fit(X_train, y_train, **fit_params)\n",
      "  File \"/home/nahuel/.local/lib/python3.8/site-packages/sklearn/ensemble/_gb.py\", line 448, in fit\n",
      "    self._check_params()\n",
      "  File \"/home/nahuel/.local/lib/python3.8/site-packages/sklearn/ensemble/_gb.py\", line 256, in _check_params\n",
      "    raise ValueError(\"subsample must be in (0,1] but \"\n",
      "ValueError: subsample must be in (0,1] but was 1.5\n",
      "\n",
      "  warnings.warn(\"Estimator fit failed. The score on this train-test\"\n",
      "/home/nahuel/.local/lib/python3.8/site-packages/sklearn/utils/validation.py:63: DataConversionWarning: A column-vector y was passed when a 1d array was expected. Please change the shape of y to (n_samples, ), for example using ravel().\n",
      "  return f(*args, **kwargs)\n",
      "/home/nahuel/.local/lib/python3.8/site-packages/sklearn/model_selection/_validation.py:615: FitFailedWarning: Estimator fit failed. The score on this train-test partition for these parameters will be set to nan. Details: \n",
      "Traceback (most recent call last):\n",
      "  File \"/home/nahuel/.local/lib/python3.8/site-packages/sklearn/model_selection/_validation.py\", line 598, in _fit_and_score\n",
      "    estimator.fit(X_train, y_train, **fit_params)\n",
      "  File \"/home/nahuel/.local/lib/python3.8/site-packages/sklearn/ensemble/_gb.py\", line 448, in fit\n",
      "    self._check_params()\n",
      "  File \"/home/nahuel/.local/lib/python3.8/site-packages/sklearn/ensemble/_gb.py\", line 256, in _check_params\n",
      "    raise ValueError(\"subsample must be in (0,1] but \"\n",
      "ValueError: subsample must be in (0,1] but was 1.5\n",
      "\n",
      "  warnings.warn(\"Estimator fit failed. The score on this train-test\"\n",
      "/home/nahuel/.local/lib/python3.8/site-packages/sklearn/utils/validation.py:63: DataConversionWarning: A column-vector y was passed when a 1d array was expected. Please change the shape of y to (n_samples, ), for example using ravel().\n",
      "  return f(*args, **kwargs)\n",
      "/home/nahuel/.local/lib/python3.8/site-packages/sklearn/model_selection/_validation.py:615: FitFailedWarning: Estimator fit failed. The score on this train-test partition for these parameters will be set to nan. Details: \n",
      "Traceback (most recent call last):\n",
      "  File \"/home/nahuel/.local/lib/python3.8/site-packages/sklearn/model_selection/_validation.py\", line 598, in _fit_and_score\n",
      "    estimator.fit(X_train, y_train, **fit_params)\n",
      "  File \"/home/nahuel/.local/lib/python3.8/site-packages/sklearn/ensemble/_gb.py\", line 448, in fit\n",
      "    self._check_params()\n",
      "  File \"/home/nahuel/.local/lib/python3.8/site-packages/sklearn/ensemble/_gb.py\", line 256, in _check_params\n",
      "    raise ValueError(\"subsample must be in (0,1] but \"\n",
      "ValueError: subsample must be in (0,1] but was 1.5\n",
      "\n",
      "  warnings.warn(\"Estimator fit failed. The score on this train-test\"\n",
      "/home/nahuel/.local/lib/python3.8/site-packages/sklearn/utils/validation.py:63: DataConversionWarning: A column-vector y was passed when a 1d array was expected. Please change the shape of y to (n_samples, ), for example using ravel().\n",
      "  return f(*args, **kwargs)\n"
     ]
    },
    {
     "name": "stdout",
     "output_type": "stream",
     "text": [
      "      Iter       Train Loss      OOB Improve   Remaining Time \n",
      "         1           0.8878           0.0027            1.11s\n",
      "         2           0.9065           0.0029            1.04s\n",
      "         3           0.8911           0.0025            0.90s\n",
      "         4           0.9154           0.0028            0.77s\n",
      "         5           0.8984           0.0029            0.69s\n",
      "         6           0.8774           0.0028            0.55s\n",
      "         7           0.9121           0.0028            0.40s\n",
      "         8           0.8962           0.0026            0.27s\n",
      "         9           0.8997           0.0025            0.13s\n",
      "        10           0.8738           0.0026            0.00s\n"
     ]
    },
    {
     "name": "stderr",
     "output_type": "stream",
     "text": [
      "/home/nahuel/.local/lib/python3.8/site-packages/sklearn/utils/validation.py:63: DataConversionWarning: A column-vector y was passed when a 1d array was expected. Please change the shape of y to (n_samples, ), for example using ravel().\n",
      "  return f(*args, **kwargs)\n"
     ]
    },
    {
     "name": "stdout",
     "output_type": "stream",
     "text": [
      "      Iter       Train Loss      OOB Improve   Remaining Time \n",
      "         1           0.9095           0.0030            1.04s\n",
      "         2           0.9191           0.0030            0.98s\n",
      "         3           0.8718           0.0030            0.85s\n",
      "         4           0.9115           0.0029            0.73s\n",
      "         5           0.8989           0.0027            0.61s\n",
      "         6           0.9045           0.0028            0.49s\n",
      "         7           0.8831           0.0024            0.37s\n",
      "         8           0.8536           0.0022            0.24s\n",
      "         9           0.8725           0.0023            0.12s\n",
      "        10           0.8844           0.0022            0.00s\n"
     ]
    },
    {
     "name": "stderr",
     "output_type": "stream",
     "text": [
      "/home/nahuel/.local/lib/python3.8/site-packages/sklearn/utils/validation.py:63: DataConversionWarning: A column-vector y was passed when a 1d array was expected. Please change the shape of y to (n_samples, ), for example using ravel().\n",
      "  return f(*args, **kwargs)\n"
     ]
    },
    {
     "name": "stdout",
     "output_type": "stream",
     "text": [
      "      Iter       Train Loss      OOB Improve   Remaining Time \n",
      "         1           0.9128           0.0031            1.04s\n",
      "         2           0.9179           0.0030            0.98s\n",
      "         3           0.9003           0.0029            0.86s\n",
      "         4           0.8875           0.0029            0.73s\n",
      "         5           0.8974           0.0025            0.61s\n",
      "         6           0.8955           0.0024            0.49s\n",
      "         7           0.8929           0.0024            0.38s\n",
      "         8           0.8805           0.0025            0.26s\n",
      "         9           0.9069           0.0028            0.13s\n",
      "        10           0.8860           0.0024            0.00s\n"
     ]
    },
    {
     "name": "stderr",
     "output_type": "stream",
     "text": [
      "/home/nahuel/.local/lib/python3.8/site-packages/sklearn/utils/validation.py:63: DataConversionWarning: A column-vector y was passed when a 1d array was expected. Please change the shape of y to (n_samples, ), for example using ravel().\n",
      "  return f(*args, **kwargs)\n"
     ]
    },
    {
     "name": "stdout",
     "output_type": "stream",
     "text": [
      "      Iter       Train Loss      OOB Improve   Remaining Time \n",
      "         1           0.9005           0.0030            1.27s\n",
      "         2           0.8753           0.0029            1.24s\n",
      "         3           0.9255           0.0028            1.08s\n",
      "         4           0.9191           0.0030            0.89s\n",
      "         5           0.9061           0.0026            0.72s\n",
      "         6           0.8898           0.0025            0.56s\n",
      "         7           0.8816           0.0024            0.42s\n",
      "         8           0.8911           0.0028            0.28s\n",
      "         9           0.8831           0.0025            0.14s\n",
      "        10           0.8690           0.0024            0.00s\n"
     ]
    },
    {
     "name": "stderr",
     "output_type": "stream",
     "text": [
      "/home/nahuel/.local/lib/python3.8/site-packages/sklearn/utils/validation.py:63: DataConversionWarning: A column-vector y was passed when a 1d array was expected. Please change the shape of y to (n_samples, ), for example using ravel().\n",
      "  return f(*args, **kwargs)\n"
     ]
    },
    {
     "name": "stdout",
     "output_type": "stream",
     "text": [
      "      Iter       Train Loss      OOB Improve   Remaining Time \n",
      "         1           0.9221           0.0032            1.27s\n",
      "         2           0.9085           0.0034            1.22s\n",
      "         3           0.8909           0.0027            1.05s\n",
      "         4           0.9017           0.0026            0.91s\n",
      "         5           0.8986           0.0031            0.74s\n",
      "         6           0.8942           0.0027            0.58s\n",
      "         7           0.8910           0.0027            0.44s\n",
      "         8           0.8817           0.0025            0.29s\n",
      "         9           0.8874           0.0025            0.15s\n",
      "        10           0.8896           0.0027            0.00s\n"
     ]
    },
    {
     "name": "stderr",
     "output_type": "stream",
     "text": [
      "/home/nahuel/.local/lib/python3.8/site-packages/sklearn/utils/validation.py:63: DataConversionWarning: A column-vector y was passed when a 1d array was expected. Please change the shape of y to (n_samples, ), for example using ravel().\n",
      "  return f(*args, **kwargs)\n"
     ]
    },
    {
     "name": "stdout",
     "output_type": "stream",
     "text": [
      "      Iter       Train Loss   Remaining Time \n",
      "         1           0.7633            9.63m\n",
      "         2           0.7343            9.43m\n",
      "         3           0.7767            9.12m\n",
      "         4           0.7666            8.97m\n",
      "         5           0.8830            8.85m\n",
      "         6 127668832339982740669960854437888.0000            8.93m\n"
     ]
    },
    {
     "name": "stderr",
     "output_type": "stream",
     "text": [
      "/home/nahuel/.local/lib/python3.8/site-packages/sklearn/utils/validation.py:63: DataConversionWarning: A column-vector y was passed when a 1d array was expected. Please change the shape of y to (n_samples, ), for example using ravel().\n",
      "  return f(*args, **kwargs)\n"
     ]
    },
    {
     "name": "stdout",
     "output_type": "stream",
     "text": [
      "      Iter       Train Loss   Remaining Time \n",
      "         1           0.7624            8.81m\n",
      "         2           0.7428            9.08m\n",
      "         3           0.8075            8.94m\n",
      "         4 95205669209062242550417487418097664.0000            8.80m\n",
      "         5 95205669209062242550417487418097664.0000            8.74m\n",
      "         6 95205682910188468801920022001745920.0000            8.69m\n"
     ]
    },
    {
     "name": "stderr",
     "output_type": "stream",
     "text": [
      "/home/nahuel/.local/lib/python3.8/site-packages/sklearn/utils/validation.py:63: DataConversionWarning: A column-vector y was passed when a 1d array was expected. Please change the shape of y to (n_samples, ), for example using ravel().\n",
      "  return f(*args, **kwargs)\n"
     ]
    },
    {
     "name": "stdout",
     "output_type": "stream",
     "text": [
      "      Iter       Train Loss   Remaining Time \n",
      "         1           0.7639            8.49m\n",
      "         2           0.7539            8.55m\n",
      "         3           2.1517            8.57m\n",
      "         4           2.1361            8.50m\n",
      "         5 42534883967711303169875982657586417964861301456896.0000            8.49m\n",
      "         6 42534883967711303169875982657586417964861301456896.0000            8.48m\n"
     ]
    },
    {
     "name": "stderr",
     "output_type": "stream",
     "text": [
      "/home/nahuel/.local/lib/python3.8/site-packages/sklearn/utils/validation.py:63: DataConversionWarning: A column-vector y was passed when a 1d array was expected. Please change the shape of y to (n_samples, ), for example using ravel().\n",
      "  return f(*args, **kwargs)\n"
     ]
    },
    {
     "name": "stdout",
     "output_type": "stream",
     "text": [
      "      Iter       Train Loss   Remaining Time \n",
      "         1           0.7615            8.56m\n",
      "         2           0.7368            8.56m\n",
      "         3           0.7195            8.56m\n",
      "         4           0.7078            8.54m\n",
      "         5    10821721.1195            8.48m\n",
      "         6    10821721.1159            8.47m\n"
     ]
    },
    {
     "name": "stderr",
     "output_type": "stream",
     "text": [
      "/home/nahuel/.local/lib/python3.8/site-packages/sklearn/utils/validation.py:63: DataConversionWarning: A column-vector y was passed when a 1d array was expected. Please change the shape of y to (n_samples, ), for example using ravel().\n",
      "  return f(*args, **kwargs)\n"
     ]
    },
    {
     "name": "stdout",
     "output_type": "stream",
     "text": [
      "      Iter       Train Loss   Remaining Time \n",
      "         1           0.7608            8.48m\n",
      "         2           0.7401            8.59m\n",
      "         3           0.7566            8.59m\n",
      "         4      130457.2065            8.54m\n",
      "         5      130457.8759            8.68m\n",
      "         6 7765452165547788871690878976.0000            8.70m\n"
     ]
    },
    {
     "name": "stderr",
     "output_type": "stream",
     "text": [
      "/home/nahuel/.local/lib/python3.8/site-packages/sklearn/model_selection/_search.py:922: UserWarning: One or more of the test scores are non-finite: [0.67051036 0.66833269 0.65702705 0.56941673        nan        nan\n",
      "        nan 0.67842479 0.56941673        nan 0.56941673        nan\n",
      "        nan 0.56941673 0.6758538 ]\n",
      "  warnings.warn(\n",
      "/home/nahuel/.local/lib/python3.8/site-packages/sklearn/utils/validation.py:63: DataConversionWarning: A column-vector y was passed when a 1d array was expected. Please change the shape of y to (n_samples, ), for example using ravel().\n",
      "  return f(*args, **kwargs)\n"
     ]
    },
    {
     "name": "stdout",
     "output_type": "stream",
     "text": [
      "      Iter       Train Loss   Remaining Time \n",
      "         1           0.8428           12.03m\n",
      "         2           0.8063           11.77m\n",
      "         3           0.7830           11.43m\n",
      "         4           0.7654           11.37m\n",
      "         5           0.7527           11.41m\n",
      "         6           0.7430           11.28m\n",
      "         7           0.7354           11.15m\n",
      "         8           0.7292           11.04m\n",
      "         9           0.7234           10.95m\n",
      "        10           0.7184           10.84m\n",
      "        20           0.6899           10.19m\n",
      "CPU times: user 13min 8s, sys: 1.78 s, total: 13min 10s\n",
      "Wall time: 13min 11s\n"
     ]
    }
   ],
   "source": [
    "%%time\n",
    "a_dos = clf_dos.fit(X_train, y_train)"
   ]
  },
  {
   "cell_type": "markdown",
   "metadata": {},
   "source": [
    "### Se hace la predicción"
   ]
  },
  {
   "cell_type": "code",
   "execution_count": 41,
   "metadata": {},
   "outputs": [],
   "source": [
    "preds_dos = a_dos.predict(X_test)"
   ]
  },
  {
   "cell_type": "markdown",
   "metadata": {},
   "source": [
    "### Se calcula el error"
   ]
  },
  {
   "cell_type": "code",
   "execution_count": 49,
   "metadata": {},
   "outputs": [],
   "source": [
    "score_dos = f1_score(y_test, preds_dos, average='micro')"
   ]
  },
  {
   "cell_type": "code",
   "execution_count": 47,
   "metadata": {},
   "outputs": [
    {
     "name": "stdout",
     "output_type": "stream",
     "text": [
      "El score es: 0.6748719326183305\n"
     ]
    }
   ],
   "source": [
    "print(\"El score es: \" + str(score_dos))"
   ]
  },
  {
   "cell_type": "markdown",
   "metadata": {},
   "source": [
    "gráfica"
   ]
  },
  {
   "cell_type": "code",
   "execution_count": 38,
   "metadata": {},
   "outputs": [
    {
     "data": {
      "text/plain": [
       "{'verbose': 1,\n",
       " 'validation_fraction': 0.2,\n",
       " 'tol': 0.01,\n",
       " 'subsample': 1.0,\n",
       " 'n_iter_no_change': 5,\n",
       " 'n_estimators': 200,\n",
       " 'max_depth': 5,\n",
       " 'learning_rate': 0.2}"
      ]
     },
     "execution_count": 38,
     "metadata": {},
     "output_type": "execute_result"
    }
   ],
   "source": [
    "clf_dos.best_params_"
   ]
  },
  {
   "cell_type": "code",
   "execution_count": 43,
   "metadata": {},
   "outputs": [
    {
     "data": {
      "text/plain": [
       "0.6784247889485802"
      ]
     },
     "execution_count": 43,
     "metadata": {},
     "output_type": "execute_result"
    }
   ],
   "source": [
    "clf_dos.best_score_"
   ]
  },
  {
   "cell_type": "code",
   "execution_count": 32,
   "metadata": {},
   "outputs": [
    {
     "data": {
      "text/plain": [
       "GradientBoostingClassifier(learning_rate=0.2, max_depth=5, n_estimators=200,\n",
       "                           n_iter_no_change=5, tol=0.01,\n",
       "                           validation_fraction=0.2, verbose=1)"
      ]
     },
     "execution_count": 32,
     "metadata": {},
     "output_type": "execute_result"
    }
   ],
   "source": [
    "clf_dos.best_estimator_"
   ]
  },
  {
   "cell_type": "code",
   "execution_count": null,
   "metadata": {},
   "outputs": [],
   "source": []
  }
 ],
 "metadata": {
  "kernelspec": {
   "display_name": "Python 3",
   "language": "python",
   "name": "python3"
  },
  "language_info": {
   "codemirror_mode": {
    "name": "ipython",
    "version": 3
   },
   "file_extension": ".py",
   "mimetype": "text/x-python",
   "name": "python",
   "nbconvert_exporter": "python",
   "pygments_lexer": "ipython3",
   "version": "3.8.5"
  }
 },
 "nbformat": 4,
 "nbformat_minor": 5
}
