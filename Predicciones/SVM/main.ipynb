{
 "cells": [
  {
   "cell_type": "markdown",
   "id": "29d54cf5-f175-46e4-9106-327039961ec9",
   "metadata": {},
   "source": [
    "## SVM \n",
    "\n",
    "(https://www.youtube.com/watch?v=efR1C6CvhmE)"
   ]
  },
  {
   "cell_type": "markdown",
   "id": "a1cff2fb-c830-4f23-8a7d-80a99545b974",
   "metadata": {},
   "source": [
    "### Se importan las librerías usadas"
   ]
  },
  {
   "cell_type": "code",
   "execution_count": 1,
   "id": "b13c2e58-d516-4b99-bfd5-79645178f591",
   "metadata": {},
   "outputs": [],
   "source": [
    "from sklearn import svm\n",
    "\n",
    "from sklearn.model_selection import train_test_split\n",
    "from sklearn.metrics import f1_score\n",
    "\n",
    "import numpy as np\n",
    "import matplotlib.pyplot as plt\n",
    "\n",
    "import pandas as pd"
   ]
  },
  {
   "cell_type": "markdown",
   "id": "4a86843d-131d-424a-b82e-f52cec00ce10",
   "metadata": {},
   "source": [
    "### Leemos los archivos"
   ]
  },
  {
   "cell_type": "code",
   "execution_count": 2,
   "id": "efc78396-c7ca-4395-a827-eb9c49de22ad",
   "metadata": {},
   "outputs": [],
   "source": [
    "df_train_labels = pd.read_csv('./../../datasets/train_labels.csv')\n",
    "df_train_values = pd.read_csv('./../../datasets/train_values_FE.csv')"
   ]
  },
  {
   "cell_type": "markdown",
   "id": "f34f33e0-5f18-4d03-a48b-49a68bcf1c5d",
   "metadata": {},
   "source": [
    "#### Eliminamos el building id para pdoer hacer las predicciones"
   ]
  },
  {
   "cell_type": "code",
   "execution_count": 3,
   "id": "3ae9dc9c-0788-4e64-9725-77386dacec2d",
   "metadata": {},
   "outputs": [],
   "source": [
    "df_train_labels_filtrados = df_train_labels.drop(['building_id'], axis=1)\n",
    "df_train_values_filtrados = df_train_values.drop(['building_id'], axis=1)"
   ]
  },
  {
   "cell_type": "code",
   "execution_count": 4,
   "id": "b6bd6f26-fb39-4a71-95ea-6f4e4a722755",
   "metadata": {},
   "outputs": [],
   "source": [
    "X_train, X_test, y_train, y_test = train_test_split(df_train_values_filtrados, df_train_labels_filtrados, test_size=0.3, random_state=123)"
   ]
  },
  {
   "cell_type": "markdown",
   "id": "5d02c7d3-d58f-48c9-becb-bad582774c3a",
   "metadata": {},
   "source": [
    "### Se implementa el algoritmo"
   ]
  },
  {
   "cell_type": "code",
   "execution_count": null,
   "id": "183b541d-a211-4c9c-ba2e-dafd5c0f0581",
   "metadata": {},
   "outputs": [
    {
     "name": "stderr",
     "output_type": "stream",
     "text": [
      "/home/nahuel/.local/lib/python3.8/site-packages/sklearn/utils/validation.py:63: DataConversionWarning: A column-vector y was passed when a 1d array was expected. Please change the shape of y to (n_samples, ), for example using ravel().\n",
      "  return f(*args, **kwargs)\n"
     ]
    }
   ],
   "source": [
    "clf = svm.SVC(random_state=0).fit(X_train, y_train)"
   ]
  },
  {
   "cell_type": "markdown",
   "id": "eeff77d7-d8db-434f-ab61-7441a6ead5a8",
   "metadata": {},
   "source": [
    "### Se hace la predicción"
   ]
  },
  {
   "cell_type": "code",
   "execution_count": 15,
   "id": "be896f9e-5c43-4254-b9e0-7d7809a10f3f",
   "metadata": {},
   "outputs": [],
   "source": [
    "preds = clf.predict(X_test)"
   ]
  },
  {
   "cell_type": "markdown",
   "id": "89a59aae-8886-4889-8494-fd4b3bb21e74",
   "metadata": {},
   "source": [
    "### Se calcula el error"
   ]
  },
  {
   "cell_type": "code",
   "execution_count": 20,
   "id": "a895710a-1c11-40b6-b61e-a39649e5fff0",
   "metadata": {},
   "outputs": [],
   "source": [
    "score = f1_score(y_test, preds, average='micro')"
   ]
  },
  {
   "cell_type": "code",
   "execution_count": 22,
   "id": "f89b4765-b765-4c5f-8105-f5d3caf5e54f",
   "metadata": {},
   "outputs": [
    {
     "name": "stdout",
     "output_type": "stream",
     "text": [
      "El score es: 0.6547498752893925\n"
     ]
    }
   ],
   "source": [
    "print(\"El score es: \" + str(score))"
   ]
  },
  {
   "cell_type": "markdown",
   "id": "3aaeadf7-bc4c-4f59-9282-5fcfac0e5306",
   "metadata": {},
   "source": [
    "gráfica"
   ]
  },
  {
   "cell_type": "code",
   "execution_count": 30,
   "id": "15031c32-7d82-464b-ad28-9f77ff0b77ae",
   "metadata": {},
   "outputs": [
    {
     "data": {
      "text/plain": [
       "2"
      ]
     },
     "execution_count": 30,
     "metadata": {},
     "output_type": "execute_result"
    }
   ],
   "source": []
  }
 ],
 "metadata": {
  "kernelspec": {
   "display_name": "Python 3",
   "language": "python",
   "name": "python3"
  },
  "language_info": {
   "codemirror_mode": {
    "name": "ipython",
    "version": 3
   },
   "file_extension": ".py",
   "mimetype": "text/x-python",
   "name": "python",
   "nbconvert_exporter": "python",
   "pygments_lexer": "ipython3",
   "version": "3.8.10"
  }
 },
 "nbformat": 4,
 "nbformat_minor": 5
}
